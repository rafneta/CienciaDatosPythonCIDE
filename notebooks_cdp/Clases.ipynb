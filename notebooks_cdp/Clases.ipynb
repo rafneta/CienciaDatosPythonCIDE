{
 "cells": [
  {
   "cell_type": "markdown",
   "metadata": {},
   "source": [
    "# Clases"
   ]
  },
  {
   "cell_type": "markdown",
   "metadata": {},
   "source": [
    "La implementación del paradigma orientado a objetos en Python, intersecta con la implementación de otros lenguajes. Pero en general exiten pequeños detalles que lo hacen diferente, la implemetación no deja de ser mamogable si la comparamos con la de otros lenhuajes de programación.\n",
    "\n",
    "Cuando se tiene experiencia en programación imperativa, y si la aplicación de esta programación esta enfocada en determinadas áreas. Parece poco intuitiva la necesidad de implementar programación orientada a objetos. Sin embargo, hay problemas en ciertas áreas donde la necesidad surge de forma natural.\n",
    "\n",
    "Varios modulos explotan la ventajas que ofrece la programación orientada a objetos. Una primer motivación para aprender este paradigma, es que si no lo sabnemos no podemos utilizar los módulos XD \n",
    "\n",
    "En el siguiente Figura se muestra la idea de la implementación. "
   ]
  },
  {
   "cell_type": "code",
   "execution_count": 2,
   "metadata": {
    "colab": {
     "base_uri": "https://localhost:8080/",
     "height": 922
    },
    "executionInfo": {
     "elapsed": 514,
     "status": "ok",
     "timestamp": 1610875476549,
     "user": {
      "displayName": "Mate y así",
      "photoUrl": "https://lh3.googleusercontent.com/a-/AOh14Ggq-gCPp3wqt6q-G2_OOPeLibkLLAqqJRfH5_xL=s64",
      "userId": "05535385238245659677"
     },
     "user_tz": 360
    },
    "id": "JM4zU8Cbia06",
    "outputId": "98fbfe0d-bb7c-437c-bd48-53cecd88024f"
   },
   "outputs": [
    {
     "data": {
      "text/html": [
       "\n",
       "        <iframe\n",
       "            width=\"1000\"\n",
       "            height=\"700\"\n",
       "            src=\"https://pythontutor.com/iframe-embed.html#code=%23%20Object-oriented%20programming%20intro%0A%23%20Adapted%20from%20MIT%206.01%20course%20notes%20%28Section%203.5%29%0A%23%20http%3A//mit.edu/6.01/mercurial/spring10/www/handouts/readings.pdf%0A%0Aclass%20Staff601%3A%0A%20%20%20%20course%20%3D%20'6.01'%0A%20%20%20%20building%20%3D%2034%0A%20%20%20%20room%20%3D%20501%0A%0A%20%20%20%20def%20salutation%28self%29%3A%0A%20%20%20%20%20%20%20%20return%20self.role%20%2B%20'%20'%20%2B%20self.name%0A%0Apat%20%3D%20Staff601%28%29%0Aprint%28pat.course%29%0A%0Apat.name%20%3D%20'Pat'%0Apat.age%20%3D%2060%0Apat.role%20%3D%20'Professor'%0A%0Aprint%28pat.building%29%0Apat.building%20%3D%2032%0Aprint%28pat.building%29%0A%0Aprint%28pat.salutation%28%29%29%0Aprint%28Staff601.salutation%28pat%29%29&codeDivHeight=400&codeDivWidth=350&cumulative=false&curInstr=0&heapPrimitives=nevernest&origin=opt-frontend.js&py=3&rawInputLstJSON=%5B%5D&textReferences=false\"\n",
       "            frameborder=\"0\"\n",
       "            allowfullscreen\n",
       "        ></iframe>\n",
       "        "
      ],
      "text/plain": [
       "<IPython.lib.display.IFrame at 0x7f8d01e35f90>"
      ]
     },
     "execution_count": 2,
     "metadata": {},
     "output_type": "execute_result"
    }
   ],
   "source": [
    "\n",
    "\n",
    "from IPython.display import IFrame, HTML, display\n",
    "IFrame(\"https://pythontutor.com/iframe-embed.html#code=%23%20Object-oriented%20programming%20intro%0A%23%20Adapted%20from%20MIT%206.01%20course%20notes%20%28Section%203.5%29%0A%23%20http%3A//mit.edu/6.01/mercurial/spring10/www/handouts/readings.pdf%0A%0Aclass%20Staff601%3A%0A%20%20%20%20course%20%3D%20'6.01'%0A%20%20%20%20building%20%3D%2034%0A%20%20%20%20room%20%3D%20501%0A%0A%20%20%20%20def%20salutation%28self%29%3A%0A%20%20%20%20%20%20%20%20return%20self.role%20%2B%20'%20'%20%2B%20self.name%0A%0Apat%20%3D%20Staff601%28%29%0Aprint%28pat.course%29%0A%0Apat.name%20%3D%20'Pat'%0Apat.age%20%3D%2060%0Apat.role%20%3D%20'Professor'%0A%0Aprint%28pat.building%29%0Apat.building%20%3D%2032%0Aprint%28pat.building%29%0A%0Aprint%28pat.salutation%28%29%29%0Aprint%28Staff601.salutation%28pat%29%29&codeDivHeight=400&codeDivWidth=350&cumulative=false&curInstr=0&heapPrimitives=nevernest&origin=opt-frontend.js&py=3&rawInputLstJSON=%5B%5D&textReferences=false\",\n",
    "       width =1000, height=700)\n"
   ]
  },
  {
   "cell_type": "code",
   "execution_count": null,
   "metadata": {
    "id": "zOAvD5lbkE9W"
   },
   "outputs": [],
   "source": []
  }
 ],
 "metadata": {
  "colab": {
   "authorship_tag": "ABX9TyPMowd896aqg/8OjR510TPD",
   "name": "Clases.ipynb",
   "provenance": []
  },
  "kernelspec": {
   "display_name": "Python 3",
   "language": "python",
   "name": "python3"
  },
  "language_info": {
   "codemirror_mode": {
    "name": "ipython",
    "version": 3
   },
   "file_extension": ".py",
   "mimetype": "text/x-python",
   "name": "python",
   "nbconvert_exporter": "python",
   "pygments_lexer": "ipython3",
   "version": "3.7.9"
  }
 },
 "nbformat": 4,
 "nbformat_minor": 4
}
