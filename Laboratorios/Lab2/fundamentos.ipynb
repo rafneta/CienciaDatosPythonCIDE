{
 "cells": [
  {
   "cell_type": "markdown",
   "id": "aggregate-feeding",
   "metadata": {},
   "source": [
    "![](https://raw.githubusercontent.com/rafneta/CienciaDatosPythonCIDE/master/imagenes/banner.png)\n",
    "\n",
    "```{contents}\n",
    ":depth: 4\n",
    "```\n",
    "\n",
    "# Operaciones con tipos de datos básicos\n",
    "\n",
    "\n",
    "La asignación `=` es fundamental. Se puede pensar como _guardar_ información en una variable. \n"
   ]
  },
  {
   "cell_type": "code",
   "execution_count": null,
   "id": "executive-store",
   "metadata": {},
   "outputs": [],
   "source": [
    "x = 3.4\n",
    "x = x + 1 # asignammos a la variable x el valor anterior más 1, se opera de derecha a izquierda.\n",
    "print(x)"
   ]
  },
  {
   "cell_type": "markdown",
   "id": "burning-bradley",
   "metadata": {},
   "source": [
    "Al nombre de las variables se les denomina **identificadores**. Estos siguen algunas reglas para que sean válidos. La reglas son relativamente flexibles, una simplificación muy burda es:\n",
    "\n",
    "- No comenzar con número o caracteres especiales (?, =, !, -, &, etc.)\n",
    "- No tener caracteres especiales despues del inicio, los numeros despues del inicio están permitidos\n",
    "- El guion bajo está permitido en cualquier posición\n",
    "- Se distingue entre mayúsculas y minúsculas, estas pueden utilizarse en cualquier posición del identificador \n",
    "\n",
    "Para precisar las reglas de construcción de los identificadores se puede consultar el sigueinte [enlace](https://docs.python.org/es/3.9/reference/lexical_analysis.html#identifiers)"
   ]
  },
  {
   "cell_type": "code",
   "execution_count": 28,
   "id": "floral-emperor",
   "metadata": {},
   "outputs": [],
   "source": [
    "1casa = 1\n",
    "&casa = 2\n",
    "_ = 3\n",
    "beto  = 34\n",
    "Beto = 56"
   ]
  },
  {
   "cell_type": "markdown",
   "id": "unique-value",
   "metadata": {},
   "source": [
    "Podría coincidir que el identificador que se elige, es una palabra clave de Python (Keywords), estas no pueden utilizarse como identificadores. En ese caso debe de elegirse otro identificador \n",
    "\n",
    "\n",
    "```{admonition} Palabras clave\n",
    ":class: note\n",
    "False   -   await   -   else    -   import  -   pass - None -      break  -    except   -  in     -    raise\n",
    "\n",
    "True   -    class   -   finally  -  is     -    return - and    -    continue  - for    -    lambda  -   try\n",
    "\n",
    "as   -      def    -    from   -    nonlocal   while - assert  -   del     -   global  -   not  -      with\n",
    "\n",
    "async   -   elif    -   if   -      or    -     yield\n",
    "```"
   ]
  },
  {
   "cell_type": "code",
   "execution_count": 21,
   "id": "valid-proportion",
   "metadata": {},
   "outputs": [
    {
     "ename": "SyntaxError",
     "evalue": "invalid syntax (<ipython-input-21-f3aad9a9458b>, line 1)",
     "output_type": "error",
     "traceback": [
      "\u001b[0;36m  File \u001b[0;32m\"<ipython-input-21-f3aad9a9458b>\"\u001b[0;36m, line \u001b[0;32m1\u001b[0m\n\u001b[0;31m    import = 6\u001b[0m\n\u001b[0m           ^\u001b[0m\n\u001b[0;31mSyntaxError\u001b[0m\u001b[0;31m:\u001b[0m invalid syntax\n"
     ]
    }
   ],
   "source": [
    "import = 6"
   ]
  },
  {
   "cell_type": "markdown",
   "id": "elementary-mineral",
   "metadata": {},
   "source": [
    "## Tipos numéricos\n",
    "\n",
    "| Operación      | Resultado                                                                            | \n",
    "|:------------------|:----------------------------------------------------------------------------------|\n",
    "| `x + y`           | suma  *x* con *y*                                                                |     \n",
    "| `x - y`           | diferencia *x* con *y*                                                         |    \n",
    "| `x * y`           | producto *x* con *y*                                                            |      \n",
    "| `x / y`           | cociente *x* con *y*                                                           |       \n",
    "| `x // y`          | cociente (parte entera) *x* con *y*                                            | \n",
    "| `x % y`           | residuo de `x / y`                                                              | \n",
    "| `-x`              | *x* negativa                                                                       |        \n",
    "| `+x`              | *x*                                                                               |       \n",
    "| `abs(x)`          | valor absoluto o magnitud de *x*                                                |     \n",
    "| `int(x)`          | *x* conversión a entero                                                      | \n",
    "| `float(x)`        | *x* conversión a flotante                                           | \n",
    "| `complex(re, im)` | numero complejo con parte real *re*, parte imaginaria *im*. *im* default es cero. | \n",
    "| `x ** y`          | x elevado a y                                                                     |\n"
   ]
  },
  {
   "cell_type": "code",
   "execution_count": 6,
   "id": "intellectual-column",
   "metadata": {},
   "outputs": [
    {
     "name": "stdout",
     "output_type": "stream",
     "text": [
      "(1+8j)\n",
      "<class 'complex'>\n"
     ]
    }
   ],
   "source": [
    "z = complex(2, 4)\n",
    "w = complex(-1, 4)\n",
    "x = z + w\n",
    "print(x)\n",
    "print(type(x))"
   ]
  },
  {
   "cell_type": "markdown",
   "id": "sudden-label",
   "metadata": {},
   "source": [
    "\n",
    "Las siguientes operaciones se denominan **comparaciones**, los resultados son `True` o `False`\n",
    "\n",
    "| Operacion| Significado                 |\n",
    "|-----------|-------------------------|\n",
    "| `<`       | estrictamente menor que     |\n",
    "| `<=`      | menor o igual que     |\n",
    "| `>`       | estrictamente mayor que  |\n",
    "| `>=`      | mayor o igual que  |\n",
    "| `==`      |igual que                 |\n",
    "| `!=`      | diferente que             |\n",
    "| `is`      | igualdad a nivel de identidad (Son el mismo objeto)       |\n",
    "| `is not`  | desigualdad a nivel de identidad (no son el mismo objeto) |"
   ]
  },
  {
   "cell_type": "code",
   "execution_count": 29,
   "id": "valued-atmosphere",
   "metadata": {},
   "outputs": [
    {
     "name": "stdout",
     "output_type": "stream",
     "text": [
      "False\n",
      "True\n",
      "True\n",
      "True\n",
      "False\n",
      "True\n"
     ]
    }
   ],
   "source": [
    "a = 4\n",
    "b = 9\n",
    "c = 9\n",
    "d = 9.0\n",
    "\n",
    "print(a == b)\n",
    "print(b == c)\n",
    "print(a != b)\n",
    "print(b is c)\n",
    "print(c is d)\n",
    "print(4 < b <  d + 9)"
   ]
  },
  {
   "cell_type": "markdown",
   "id": "raising-maximum",
   "metadata": {},
   "source": [
    "## Operaciones booleanas\n",
    "\n",
    "Los elementos innvolucrados deben ser `True` o `False`, en ese caso, el resultado es `True` o `False`. Si se invilucran otrso enteros el resulatado puede no ser útil\n",
    "\n",
    "| Operación | Resultado                                     | Nota |\n",
    "|-----------|--------------------------------------------|-------|\n",
    "| `x or y`  | Si *x* es falso, el resultado es *y*, de otro modo es *x* | El resultado es verdadero a menos que los dos sean falsos |\n",
    "| `x and y` | Si *x* es falso, el resutado *x*, de otro modo *y*        | El resultado solo es verdadero si ambos son verdaderos |\n",
    "| `not x`   | Si *x* es falso, el resultado es `True`, de otro modo  es `False` | negación|\n"
   ]
  },
  {
   "cell_type": "code",
   "execution_count": 36,
   "id": "vital-server",
   "metadata": {},
   "outputs": [
    {
     "name": "stdout",
     "output_type": "stream",
     "text": [
      "True\n",
      "False\n",
      "False\n",
      "3\n",
      "True\n",
      "3\n",
      "0\n",
      "False\n",
      "True\n"
     ]
    }
   ],
   "source": [
    "x = True\n",
    "y = False\n",
    "w = 3\n",
    "z = 0\n",
    "\n",
    "print(x or y)\n",
    "print(x and y)\n",
    "print(not x)\n",
    "print(w or y)\n",
    "print(w and x)\n",
    "print(x and w)\n",
    "print(z and x)\n",
    "print(y and z)\n",
    "\n",
    "\n",
    "print(x and not y or not w and w+8 <= 45 or not z-5 < 4)"
   ]
  },
  {
   "cell_type": "markdown",
   "id": "initial-groove",
   "metadata": {},
   "source": [
    "## Prioridad de operaciones\n",
    "\n",
    "La última operación sigue un orden de evaluación. En general, se denomina **prioridad de opeaciones** a dicho orden. La siguiente tabla resume la prioridad de operador en Python, desde la prioridad más baja a la prioridad más alta. Operadores en la misma caja tienen la misma prioridad. Los operadores en la misma caja, de izquierda a derecha (excepto para exponenciación de derecha a izquierda).\n",
    "\n",
    "| Operador  | Descripción              |\n",
    "|-----------|-------------------------|\n",
    "|= |Expresión de asignación|\n",
    "|lambda |Expresión lambda|\n",
    "|if – else |Expresión condicional|\n",
    "|or |Booleano OR|\n",
    "|and |Booleano AND|\n",
    "|not x |Booleano NOT|\n",
    "|in, not in, is, is not, <, <=, >, >=, !=, == |Comparaciones, incluyendo comprobaciones de membresía y de identidad|\n",
    "| | |OR bit a bit|\n",
    "|^ |XOR bit a bit|\n",
    "|&| AND bit a bit|\n",
    "|<<, >> |Desplazamientos|\n",
    "|+, - |Adición y sustracción|\n",
    "|*, @, /, //, % |Multiplicación, multiplicación de matrices, división, división de redondeo, resto 5|\n",
    "|+x, -x, ~x |NOT positivo, negativo, bit a bit|\n",
    "|** |Exponenciación |\n",
    "|await x |Expresión await|\n",
    "|x[index], x[index:index], x(arguments...), x.attribute |Subscripción, segmentación, invocación, referencia de atributo|\n",
    "|(expressions...), [expressions...], {key: value...}, {expressions...} |Expresión de enlace o entre paréntesis, despliegues de lista, diccionario y conjunto|\n",
    "\n",
    "```{admonition} Tip...\n",
    ":class: tip\n",
    "Utiliza paréntesis \n",
    "```\n",
    "\n"
   ]
  },
  {
   "cell_type": "code",
   "execution_count": 34,
   "id": "typical-ceramic",
   "metadata": {},
   "outputs": [
    {
     "name": "stdout",
     "output_type": "stream",
     "text": [
      "3\n",
      "5\n"
     ]
    }
   ],
   "source": [
    "x = 4 + 3 - 2 ** 2\n",
    "print(x)\n",
    "\n",
    "x = 4 + (3 - 2) ** 2\n",
    "print(x)\n"
   ]
  },
  {
   "cell_type": "markdown",
   "id": "experienced-optimum",
   "metadata": {},
   "source": [
    "## Cadenas de caracteres\n",
    "\n",
    "Las operaciones de la siguiente tabla están soportadas por la mayoría de los tipos secuencia.\n",
    "\n",
    "La tabla lista las operaciones ordenadas de menor a mayor prioridad. En la tabla, *s* y *t* representan secuencias del mismo tipo, *n, i, j* y *k* son números enteros y *x* es un objeto arbitrario que cumple con cualquier restricción de tipo o valor impuesta por *s*.\n",
    "\n",
    "\n",
    "| Operadoración | Resultado         |\n",
    "|-----------|-------------------------|\n",
    "|x in s |True si un elemento de s es igual a x, False en caso contrario|\n",
    "|x not in s |False si un elemento de s es igual a x, True en caso contrario|\n",
    "|s + t |la concatenación de s y t|\n",
    "|s * n o n * s |equivale a concatenar s consigo mismo n veces|\n",
    "|s[i] |El elemento i-esimo de s, empezando a contar en 0|\n",
    "|s[i:j] |la rebanada de s desde i hasta j-1|\n",
    "|s[i:j:k] |la rebanada de s desde i hasta j-1, con paso k|\n",
    "|len(s) |longitud de s|\n",
    "|min(s) |el elemento más pequeño de s|\n",
    "|max(s) |el elemento más grande de s|\n",
    "|s.index(x[, i[, j]]) |índice de la primera ocurrencia de x en s (en la posición i o superior, y antes de j)|\n",
    "|s.count(x) |número total de ocurrencias de x en s|\n",
    "\t"
   ]
  },
  {
   "cell_type": "code",
   "execution_count": 68,
   "id": "junior-beast",
   "metadata": {},
   "outputs": [
    {
     "name": "stdout",
     "output_type": "stream",
     "text": [
      "True\n",
      "True\n",
      "comida china no gracias\n",
      "comida chinacomida china\n",
      "d\n",
      "omid\n",
      "md h\n",
      "12\n",
      "o\n",
      " \n",
      "5\n",
      "11\n",
      "5\n",
      "2\n"
     ]
    }
   ],
   "source": [
    "s = 'comida china'\n",
    "t = \" no gracias\"\n",
    "n = 2\n",
    "print('c' in s)\n",
    "print('r' not in s)\n",
    "print(s + t)\n",
    "print(s*n) # primitiva de Python, en otros lenguajes podría no existor o tener otra salida \n",
    "print(s[4])\n",
    "print(s[1:5])\n",
    "print(s[2:10:2])\n",
    "print(len(s))\n",
    "print(max(s))\n",
    "print(min(s))\n",
    "print(s.index('a'))\n",
    "print(s.index('a',6))\n",
    "#print(s.index('a',6,11)) # si no lo encuentra marca error\n",
    "print(s.index('a',5,11))\n",
    "print(s.count('a'))"
   ]
  },
  {
   "cell_type": "code",
   "execution_count": null,
   "id": "fitting-chocolate",
   "metadata": {},
   "outputs": [],
   "source": []
  }
 ],
 "metadata": {
  "kernelspec": {
   "display_name": "Python 3",
   "language": "python",
   "name": "python3"
  },
  "language_info": {
   "codemirror_mode": {
    "name": "ipython",
    "version": 3
   },
   "file_extension": ".py",
   "mimetype": "text/x-python",
   "name": "python",
   "nbconvert_exporter": "python",
   "pygments_lexer": "ipython3",
   "version": "3.7.9"
  }
 },
 "nbformat": 4,
 "nbformat_minor": 5
}
