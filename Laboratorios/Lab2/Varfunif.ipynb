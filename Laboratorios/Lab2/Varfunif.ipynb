{
 "cells": [
  {
   "cell_type": "markdown",
   "id": "powered-health",
   "metadata": {},
   "source": [
    "![](https://raw.githubusercontent.com/rafneta/CienciaDatosPythonCIDE/master/imagenes/banner.png)\n",
    "\n",
    "```{contents}\n",
    ":depth: 4\n",
    "```\n",
    "\n",
    "#  Variables y Condiciones\n",
    "\n",
    "## Variables\n",
    "\n",
    "### Enteros"
   ]
  },
  {
   "cell_type": "code",
   "execution_count": 1,
   "id": "compound-vault",
   "metadata": {},
   "outputs": [
    {
     "name": "stdout",
     "output_type": "stream",
     "text": [
      "8\n",
      "-2\n"
     ]
    }
   ],
   "source": [
    "a=3\n",
    "b=5\n",
    "\n",
    "print(a+b)\n",
    "print(a-b)"
   ]
  },
  {
   "cell_type": "markdown",
   "id": "fiscal-induction",
   "metadata": {},
   "source": [
    "Podemos escribir en bases que no son 10:\n",
    "* Base 2 (Binaria): *0b*\n",
    "* Base 8: *0o*\n",
    "* Base 16 (Hexadecimal): *0x*"
   ]
  },
  {
   "cell_type": "code",
   "execution_count": 32,
   "id": "appreciated-algebra",
   "metadata": {
    "tags": [
     "hide-output"
    ]
   },
   "outputs": [
    {
     "name": "stdout",
     "output_type": "stream",
     "text": [
      "8\n"
     ]
    }
   ],
   "source": [
    "print(0b1000)"
   ]
  },
  {
   "cell_type": "code",
   "execution_count": 3,
   "id": "front-consortium",
   "metadata": {
    "tags": [
     "hide-output"
    ]
   },
   "outputs": [
    {
     "name": "stdout",
     "output_type": "stream",
     "text": [
      "8\n"
     ]
    }
   ],
   "source": [
    "print(0o100)"
   ]
  },
  {
   "cell_type": "code",
   "execution_count": 2,
   "id": "entitled-block",
   "metadata": {
    "scrolled": true,
    "tags": [
     "hide-output"
    ]
   },
   "outputs": [
    {
     "name": "stdout",
     "output_type": "stream",
     "text": [
      "4\n"
     ]
    }
   ],
   "source": [
    "print(0b010)"
   ]
  },
  {
   "cell_type": "markdown",
   "id": "decent-consultancy",
   "metadata": {},
   "source": [
    "Para saber el tipo de una variable será suficiente utilizar el comando *type*:"
   ]
  },
  {
   "cell_type": "code",
   "execution_count": 6,
   "id": "nutritional-computer",
   "metadata": {
    "tags": [
     "hide-output"
    ]
   },
   "outputs": [
    {
     "name": "stdout",
     "output_type": "stream",
     "text": [
      "<class 'int'>\n",
      "<class 'float'>\n",
      "<class 'float'>\n",
      "<class 'str'>\n"
     ]
    }
   ],
   "source": [
    "print(type(1))\n",
    "print(type(1.))\n",
    "print(type(\"ciao\"))\n"
   ]
  },
  {
   "cell_type": "markdown",
   "id": "wireless-alert",
   "metadata": {},
   "source": [
    "## Flotantes"
   ]
  },
  {
   "cell_type": "code",
   "execution_count": 14,
   "id": "urban-stations",
   "metadata": {
    "tags": [
     "hide-output"
    ]
   },
   "outputs": [
    {
     "data": {
      "text/plain": [
       "float"
      ]
     },
     "execution_count": 14,
     "metadata": {},
     "output_type": "execute_result"
    }
   ],
   "source": [
    "type(.25)"
   ]
  },
  {
   "cell_type": "markdown",
   "id": "magnetic-society",
   "metadata": {},
   "source": [
    "Podemos escribirlos en notación cientifica: "
   ]
  },
  {
   "cell_type": "code",
   "execution_count": 15,
   "id": "valid-camcorder",
   "metadata": {},
   "outputs": [
    {
     "data": {
      "text/plain": [
       "2.4e-09"
      ]
     },
     "execution_count": 15,
     "metadata": {},
     "output_type": "execute_result"
    }
   ],
   "source": [
    "24e-10"
   ]
  },
  {
   "cell_type": "code",
   "execution_count": 22,
   "id": "three-paintball",
   "metadata": {
    "scrolled": true
   },
   "outputs": [
    {
     "name": "stdout",
     "output_type": "stream",
     "text": [
      "2.4e-06\n",
      "0.0000024\n"
     ]
    }
   ],
   "source": [
    "num=24e-7\n",
    "print(num)\n",
    "output = \"{:.7f}\".format(num)\n",
    "print(output)"
   ]
  },
  {
   "cell_type": "markdown",
   "id": "twelve-average",
   "metadata": {},
   "source": [
    ":::{admonition} Casi cero\n",
    ":class: tip\n",
    "\n",
    "El numero más pequeño que podemos obtner es: 5e-324\n",
    "\n",
    ":::\n"
   ]
  },
  {
   "cell_type": "code",
   "execution_count": 26,
   "id": "clear-beginning",
   "metadata": {},
   "outputs": [
    {
     "name": "stdout",
     "output_type": "stream",
     "text": [
      "5e-324\n",
      "0.0\n"
     ]
    },
    {
     "data": {
      "text/plain": [
       "float"
      ]
     },
     "execution_count": 26,
     "metadata": {},
     "output_type": "execute_result"
    }
   ],
   "source": [
    "print(5e-324)\n",
    "print(1e-324)"
   ]
  },
  {
   "cell_type": "markdown",
   "id": "thick-clock",
   "metadata": {},
   "source": [
    "### Numeros Complejos\n",
    "\n",
    "Son compuestos para dos partes *parte real* + *parte imaginaria*. "
   ]
  },
  {
   "cell_type": "code",
   "execution_count": 30,
   "id": "roman-kruger",
   "metadata": {},
   "outputs": [
    {
     "name": "stdout",
     "output_type": "stream",
     "text": [
      "(5+9j)\n"
     ]
    },
    {
     "data": {
      "text/plain": [
       "complex"
      ]
     },
     "execution_count": 30,
     "metadata": {},
     "output_type": "execute_result"
    }
   ],
   "source": [
    "a = 2+3j\n",
    "b = 3+6j\n",
    "\n",
    "print(a+b)\n",
    "\n",
    "type(a+b)"
   ]
  },
  {
   "cell_type": "markdown",
   "id": "supposed-scratch",
   "metadata": {},
   "source": [
    "### Strings\n",
    "\n",
    "Si ponemos una secuencia de caracteres o numeros entre comillas (sencilla o doble), 🐍 lo leerá como una string:"
   ]
  },
  {
   "cell_type": "code",
   "execution_count": 31,
   "id": "understood-blank",
   "metadata": {},
   "outputs": [
    {
     "name": "stdout",
     "output_type": "stream",
     "text": [
      "<class 'str'>\n",
      "<class 'str'>\n"
     ]
    }
   ],
   "source": [
    "a= \"ciao\"\n",
    "b=\"0000\"\n",
    "\n",
    "print(type(a))\n",
    "print(type(b))"
   ]
  },
  {
   "cell_type": "code",
   "execution_count": 33,
   "id": "imposed-senior",
   "metadata": {
    "tags": [
     "hide-output"
    ]
   },
   "outputs": [
    {
     "data": {
      "text/plain": [
       "'ciao0000'"
      ]
     },
     "execution_count": 33,
     "metadata": {},
     "output_type": "execute_result"
    }
   ],
   "source": [
    "a+b"
   ]
  },
  {
   "cell_type": "markdown",
   "id": "intelligent-referral",
   "metadata": {},
   "source": [
    "Caracteres especiales:\n",
    "* \\t tab\n",
    "* \\\" doble comilla\n",
    "* \\' comilla\n",
    "* \\n nueva linea\n",
    "* \\\\\\ slash"
   ]
  },
  {
   "cell_type": "code",
   "execution_count": 52,
   "id": "portable-government",
   "metadata": {
    "tags": [
     "hide-output"
    ]
   },
   "outputs": [
    {
     "name": "stdout",
     "output_type": "stream",
     "text": [
      "abc\n",
      "a\n",
      "b \n",
      "c\n"
     ]
    }
   ],
   "source": [
    "print('a\\\n",
    "b\\\n",
    "c')\n",
    "\n",
    "print('a\\nb \\nc')"
   ]
  },
  {
   "cell_type": "markdown",
   "id": "embedded-defendant",
   "metadata": {},
   "source": [
    "Finalmente podemos utilizar tres comillas parta escribir multilinea. \n"
   ]
  },
  {
   "cell_type": "code",
   "execution_count": 53,
   "id": "confidential-columbia",
   "metadata": {},
   "outputs": [
    {
     "name": "stdout",
     "output_type": "stream",
     "text": [
      "Así podemos\n",
      "escribir en más\n",
      "líneas / ' '\n"
     ]
    }
   ],
   "source": [
    "print(\"\"\"Así podemos\n",
    "escribir en más\n",
    "líneas / ' '\"\"\")"
   ]
  },
  {
   "cell_type": "markdown",
   "id": "varied-narrative",
   "metadata": {},
   "source": [
    "### Booleanos\n",
    "\n",
    "Se utilizan para evaluar expresiones. Un booleano puede ser Verdadero (True) o Falso (False). También un objeto no booleano puede serevaluado en un contexto Booleano para determinar si es verdadero o falso.  "
   ]
  },
  {
   "cell_type": "code",
   "execution_count": 57,
   "id": "conservative-edinburgh",
   "metadata": {},
   "outputs": [
    {
     "name": "stdout",
     "output_type": "stream",
     "text": [
      "<class 'bool'>\n",
      "<class 'bool'>\n",
      "ciao\n",
      "0000\n",
      "False\n",
      "True\n"
     ]
    }
   ],
   "source": [
    "print(type(True))\n",
    "print(type(False))\n",
    "print(a)\n",
    "print(b)\n",
    "print(a==b)\n",
    "print(a!=b)"
   ]
  },
  {
   "cell_type": "markdown",
   "id": "mighty-british",
   "metadata": {},
   "source": [
    "## Funciones\n",
    "\n",
    "Tenemos algunas funciones matematicas que hacen parte del ambiente nativo de Python y no necesitan librerias."
   ]
  },
  {
   "cell_type": "code",
   "execution_count": 58,
   "id": "impressive-apparatus",
   "metadata": {
    "tags": [
     "hide-output"
    ]
   },
   "outputs": [
    {
     "name": "stdout",
     "output_type": "stream",
     "text": [
      "4\n",
      "5.1\n"
     ]
    }
   ],
   "source": [
    "print(abs(-4))\n",
    "print(abs(5.1))\n",
    "\n"
   ]
  },
  {
   "cell_type": "code",
   "execution_count": 62,
   "id": "objective-donna",
   "metadata": {
    "tags": [
     "hide-output"
    ]
   },
   "outputs": [
    {
     "name": "stdout",
     "output_type": "stream",
     "text": [
      "(2, 1)\n",
      "(23, 2)\n"
     ]
    }
   ],
   "source": [
    "print(divmod(9,4))\n",
    "print(divmod(71,3))\n"
   ]
  },
  {
   "cell_type": "code",
   "execution_count": 67,
   "id": "educated-hawaiian",
   "metadata": {
    "tags": [
     "hide-output"
    ]
   },
   "outputs": [
    {
     "name": "stdout",
     "output_type": "stream",
     "text": [
      "ciao\n",
      "9\n",
      "0000\n",
      "5\n"
     ]
    }
   ],
   "source": [
    "print(max([a,b,c]))\n",
    "print(max ([5,9,8]))\n",
    "\n",
    "print(min([a,b,c]))\n",
    "print(min([5,9,8]))"
   ]
  },
  {
   "cell_type": "code",
   "execution_count": 69,
   "id": "occasional-algebra",
   "metadata": {
    "tags": [
     "hide-output"
    ]
   },
   "outputs": [
    {
     "name": "stdout",
     "output_type": "stream",
     "text": [
      "o\n",
      "a\n"
     ]
    }
   ],
   "source": [
    "print(max(a))\n",
    "print(min(a))"
   ]
  },
  {
   "cell_type": "code",
   "execution_count": 70,
   "id": "veterinary-lewis",
   "metadata": {
    "tags": [
     "hide-output"
    ]
   },
   "outputs": [
    {
     "data": {
      "text/plain": [
       "2401"
      ]
     },
     "execution_count": 70,
     "metadata": {},
     "output_type": "execute_result"
    }
   ],
   "source": [
    "pow(7,4)"
   ]
  },
  {
   "cell_type": "code",
   "execution_count": 72,
   "id": "commercial-basics",
   "metadata": {
    "scrolled": true,
    "tags": [
     "hide-output"
    ]
   },
   "outputs": [
    {
     "name": "stdout",
     "output_type": "stream",
     "text": [
      "4.24\n",
      "4.2\n",
      "4.0\n",
      "<class 'float'>\n"
     ]
    }
   ],
   "source": [
    "print(round(4.235,2))\n",
    "print(round(4.235,1))\n",
    "print(round(4.235,0))\n",
    "print(type(round(4.235,0)))"
   ]
  },
  {
   "cell_type": "code",
   "execution_count": 74,
   "id": "institutional-closing",
   "metadata": {
    "scrolled": true,
    "tags": [
     "hide-output"
    ]
   },
   "outputs": [
    {
     "data": {
      "text/plain": [
       "41"
      ]
     },
     "execution_count": 74,
     "metadata": {},
     "output_type": "execute_result"
    }
   ],
   "source": [
    "sum(2,34,5)"
   ]
  },
  {
   "cell_type": "code",
   "execution_count": 82,
   "id": "comic-islam",
   "metadata": {
    "scrolled": true,
    "tags": [
     "hide-output"
    ]
   },
   "outputs": [
    {
     "data": {
      "text/plain": [
       "11"
      ]
     },
     "execution_count": 82,
     "metadata": {},
     "output_type": "execute_result"
    }
   ],
   "source": [
    "sum([2,1,3],5)"
   ]
  },
  {
   "cell_type": "markdown",
   "id": "seasonal-confidentiality",
   "metadata": {},
   "source": [
    "## Conversiones\n",
    "\n",
    "| Función | Descripción |\n",
    "|----------|-------------|\n",
    "| bin()  | convierte un entero en una estringa de caracteres binarios|\n",
    "|bool() | convierte un argumento en un valor Booleano|\n",
    "|int() | regresa un entero a aprtir de una estringa o un numero|\n",
    "|float()| regresa una variable de tipo flotante|\n",
    "|type()| ya sabemos|"
   ]
  },
  {
   "cell_type": "markdown",
   "id": "critical-racing",
   "metadata": {
    "tags": [
     "hide-output"
    ]
   },
   "source": [
    "# If, else , elif"
   ]
  },
  {
   "cell_type": "markdown",
   "id": "utility-meeting",
   "metadata": {},
   "source": [
    "* if: el programa evalúa la expresión y ejecuto lo que está en el if solo si la expresión es verdadera\n",
    "* else: ejecuta el codigo en el caso la expresión sea falsa\n",
    "* elif: version contracta de else if y permite evaluar mulotiple expresiones, si todas las expresiones resultasn falsa se ejecuta lo que está en el else "
   ]
  },
  {
   "cell_type": "code",
   "execution_count": null,
   "id": "progressive-commons",
   "metadata": {},
   "outputs": [],
   "source": [
    "num = 3.4\n",
    "\n",
    "\n",
    "\n",
    "if num > 0:\n",
    "    print(\"El numero es positivo\")\n",
    "else:\n",
    "    print(\"El numero es negativo\")"
   ]
  },
  {
   "cell_type": "markdown",
   "id": "pointed-plaintiff",
   "metadata": {},
   "source": [
    "Podemos anidar los if, elif y else:"
   ]
  },
  {
   "cell_type": "code",
   "execution_count": 89,
   "id": "dramatic-workshop",
   "metadata": {},
   "outputs": [
    {
     "name": "stdout",
     "output_type": "stream",
     "text": [
      "Enter a number: 5\n",
      "Positive number\n"
     ]
    }
   ],
   "source": [
    "num = float(input(\"Inserir un numero: \"))\n",
    "if num >= 0:\n",
    "    if num == 0:\n",
    "        print(\"Cero\")\n",
    "    else:\n",
    "        print(\"Numero Positivo\")\n",
    "else:\n",
    "    print(\"Numero Negativo\")"
   ]
  },
  {
   "cell_type": "code",
   "execution_count": null,
   "id": "large-wireless",
   "metadata": {},
   "outputs": [],
   "source": [
    "x = float(input(\"Inserir primer cateto: \"))\n",
    "y = float(input(\"Inserir segundo cateto: \"))\n",
    "z = float(input(\"Inserir hipotenusa: \"))"
   ]
  },
  {
   "cell_type": "code",
   "execution_count": null,
   "id": "encouraging-assumption",
   "metadata": {},
   "outputs": [],
   "source": [
    "if x==y and x==z:\n",
    " \n",
    "    print (\"Equilátero\")\n",
    " \n",
    "elif x==y or x==z or y==z:\n",
    " \n",
    "    print (\"Isósceles\")\n",
    " \n",
    "else:\n",
    " \n",
    "    print(\"Escaleno\")"
   ]
  },
  {
   "cell_type": "markdown",
   "id": "assisted-separation",
   "metadata": {},
   "source": [
    "Desigualdad del triangulo"
   ]
  },
  {
   "cell_type": "code",
   "execution_count": null,
   "id": "activated-grace",
   "metadata": {},
   "outputs": [],
   "source": [
    "if x>=y+z or y>= x+z or z>= x+y:\n",
    " \n",
    "    print (\"El triangulo no existe\")"
   ]
  },
  {
   "cell_type": "code",
   "execution_count": null,
   "id": "introductory-montgomery",
   "metadata": {},
   "outputs": [],
   "source": [
    "Podemo meter la condición toda en una linea:"
   ]
  },
  {
   "cell_type": "code",
   "execution_count": 94,
   "id": "exterior-alert",
   "metadata": {},
   "outputs": [
    {
     "name": "stdout",
     "output_type": "stream",
     "text": [
      "Inserir un numero: 2\n"
     ]
    },
    {
     "data": {
      "text/plain": [
       "'Impar'"
      ]
     },
     "execution_count": 94,
     "metadata": {},
     "output_type": "execute_result"
    }
   ],
   "source": [
    "num2=float(input(\"Inserir un numero: \"))\n",
    "'Par' if num2%2 == 0 else 'Impar'"
   ]
  },
  {
   "cell_type": "markdown",
   "id": "listed-profession",
   "metadata": {},
   "source": [
    "The provided code stub reads two integers from STDIN,  and . Add code to print three lines where:\n",
    "\n",
    "1. The first line contains the sum of the two numbers.\n",
    "2. The second line contains the difference of the two numbers (first - second).\n",
    "3. The third line contains the product of the two numbers."
   ]
  },
  {
   "cell_type": "markdown",
   "id": "differential-arlington",
   "metadata": {},
   "source": [
    "<iframe src=\"https://trinket.io/embed/python/773c0a2ee8\" width=\"100%\" height=\"356\" frameborder=\"0\" marginwidth=\"0\" marginheight=\"0\" allowfullscreen></iframe>"
   ]
  },
  {
   "cell_type": "markdown",
   "id": "bottom-karen",
   "metadata": {},
   "source": [
    "The provided code stub reads two integers,  and , from STDIN.\n",
    "\n",
    "Add logic to print two lines. The first line should contain the result of integer division,  // . The second line should contain the result of float division,  $a/b$ ."
   ]
  },
  {
   "cell_type": "markdown",
   "id": "professional-scottish",
   "metadata": {},
   "source": [
    "<iframe src=\"https://trinket.io/embed/python/773c0a2ee8\" width=\"100%\" height=\"356\" frameborder=\"0\" marginwidth=\"0\" marginheight=\"0\" allowfullscreen></iframe>"
   ]
  },
  {
   "cell_type": "markdown",
   "id": "retained-sheet",
   "metadata": {},
   "source": [
    "Given an integer, , perform the following conditional actions:\n",
    "\n",
    "* If $n$ is odd, print *Weird*\n",
    "* If $n$ is even and in the inclusive range of  to , print *Not Weird*\n",
    "* If $n$ is even and in the inclusive range of  to , print *Weird*\n",
    "* If $n$ is even and greater than , print *Not Weird*"
   ]
  },
  {
   "cell_type": "markdown",
   "id": "registered-simpson",
   "metadata": {},
   "source": [
    "<iframe src=\"https://trinket.io/embed/python/773c0a2ee8\" width=\"100%\" height=\"356\" frameborder=\"0\" marginwidth=\"0\" marginheight=\"0\" allowfullscreen></iframe>"
   ]
  },
  {
   "cell_type": "markdown",
   "id": "close-mistress",
   "metadata": {},
   "source": [
    "You are given a string and your task is to swap cases. In other words, convert all lowercase letters to uppercase letters and vice versa.\n",
    "\n",
    "Example: Pythonist 2 → pYTHONIST 2"
   ]
  },
  {
   "cell_type": "markdown",
   "id": "transparent-aviation",
   "metadata": {},
   "source": [
    "<iframe src=\"https://trinket.io/embed/python/773c0a2ee8\" width=\"100%\" height=\"356\" frameborder=\"0\" marginwidth=\"0\" marginheight=\"0\" allowfullscreen></iframe>"
   ]
  }
 ],
 "metadata": {
  "celltoolbar": "Edit Metadata",
  "kernelspec": {
   "display_name": "Python 3",
   "language": "python",
   "name": "python3"
  },
  "language_info": {
   "codemirror_mode": {
    "name": "ipython",
    "version": 3
   },
   "file_extension": ".py",
   "mimetype": "text/x-python",
   "name": "python",
   "nbconvert_exporter": "python",
   "pygments_lexer": "ipython3",
   "version": "3.7.9"
  }
 },
 "nbformat": 4,
 "nbformat_minor": 5
}
