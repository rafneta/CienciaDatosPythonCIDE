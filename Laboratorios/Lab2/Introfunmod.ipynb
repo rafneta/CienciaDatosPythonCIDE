{
 "cells": [
  {
   "cell_type": "markdown",
   "id": "cutting-vertical",
   "metadata": {},
   "source": [
    "![](https://raw.githubusercontent.com/rafneta/CienciaDatosPythonCIDE/master/imagenes/banner.png)\n",
    "\n",
    "```{contents}\n",
    ":depth: 4\n",
    "```\n",
    "\n",
    "# Introducción a funciones y módulos\n",
    "\n",
    "\n",
    "Python tiene una serie de de funciones y módulos incluidos en su instalación estándar. \n",
    "\n",
    "Las funciones incluidas pueden pensarse como instrucciones que realizan una determinada tarea y pueden ejecutarse solamente indicando el identificador asociado y la notación correspondiente (*print(), type() float(), int(), etc.*). \n",
    "\n",
    "Los módulos son _agrupaciones_  de funciones, que si se quieren utilizar, tienen que importarse del módulo en el cual se encuentran.\n",
    "\n",
    "\n",
    "## Funciones \n",
    "\n",
    "\n",
    "|             |          | Functiones incorporadas|                 |           |\n",
    "|---------------------|---------------------|--------------------|--------------------|----------------|\n",
    "| `abs()`               | `delattr()`           | `hash()`             | `memoryview()`       | `set()`          |\n",
    "| `all()`               | `dict()`              | `help()`             | `min()`              | `setattr()`      |\n",
    "| `any()`               | `dir()`               | `hex()`              | `next()`             | `slice()`        |\n",
    "| `ascii()`             | `divmod()`            | `id()`               | `object()`           | `sorted()`       |\n",
    "| `bin()`               | `enumerate()`         | `input()`            | `oct()`              | `staticmethod()` |\n",
    "| `bool()`              | `eval()`              | `int()`              | `open()`             | `str()`          |\n",
    "| `breakpoint()`        | `exec()`              | `isinstance()`       | `ord()`              | `sum()`          |\n",
    "| `bytearray()`         | `filter()`            | `issubclass()`       | `pow()`              | `super()`        |\n",
    "| `bytes()`             | `float()`             | `iter()`             | `print()`            | `tuple()`        |\n",
    "| `callable()`          | `format()`            | `len()`              | `property()`         | `type()`         |\n",
    "| `chr()`               | `frozenset()`         | `list()`             | `range()`            | `vars()`         |\n",
    "| `classmethod()`       | `getattr()`           | `locals()`           | `repr()`             | `zip()`          |\n",
    "| `compile()`           | `globals()`           | `map()`              | `reversed()`         | `__import__()`   |\n",
    "|`complex()`             |`hasattr()`            | `max()`              |`round()`            |                |\n",
    "\n",
    "\n"
   ]
  },
  {
   "cell_type": "code",
   "execution_count": 1,
   "id": "powered-packing",
   "metadata": {},
   "outputs": [
    {
     "name": "stdin",
     "output_type": "stream",
     "text": [
      "escriba algo algo\n"
     ]
    }
   ],
   "source": [
    "a = input(\"escriba algo\")"
   ]
  },
  {
   "cell_type": "code",
   "execution_count": 2,
   "id": "prerequisite-hotel",
   "metadata": {},
   "outputs": [
    {
     "name": "stdout",
     "output_type": "stream",
     "text": [
      "algo\n",
      "<class 'str'>\n"
     ]
    }
   ],
   "source": [
    "print(a)\n",
    "print(type(a))"
   ]
  },
  {
   "cell_type": "markdown",
   "id": "resident-boost",
   "metadata": {},
   "source": [
    "Las funciones pueden necesitar argumentos de entrada (datos  dentro de los paréntesis) o no, pueden hacer una tarea y regresar una valor calculado por dicha tarea o no. Por el momento con esta información basta\n",
    "\n",
    "\n",
    "## Módulos \n",
    "\n",
    "\n",
    "Existe una cantidad considerable de módulos incorporados en la instalación estándar (Anaconda tiene estos y otras más),  para consultar la lista de módulos estándar instalados, se puede revisar el sigueinte [enlace](https://docs.python.org/es/3.9/py-modindex.html). Algunos módulos estándar son los siguientes\n",
    "\n",
    "\n",
    "- [getpass](https://docs.python.org/es/3.9/library/getpass.html#module-getpass). Lectura portátil de contraseñas y recuperación del ID de usuario.\n",
    "- [urllib.request](https://docs.python.org/es/3.9/library/urllib.request.html#module-urllib.request). Biblioteca  para abrir URL.\n",
    "- [json](https://docs.python.org/es/3.9/library/json.html#module-json). Codifica y decodifica el formato JSON.\n",
    "- [math](https://docs.python.org/es/3.9/library/math.html#module-math). Funciones matemáticas\n",
    "\n",
    "\n",
    "Para hacer uso de las funciones de los módulos, estos se puden importar de varias formas.\n",
    "\n",
    "    import MODULE1, MODULE2, ..., MODULEN\n",
    "\n",
    "    import MODULE as ANYTHING\n",
    "\n",
    "    from MODULE import FUNCTION_IN_MODULE1, FUNCTION_IN_MODULE2 \n",
    "\n",
    "    from MODULE import *\n",
    "    \n",
    "Importamos del módulo _math_ como ejemplo"
   ]
  },
  {
   "cell_type": "code",
   "execution_count": 3,
   "id": "threaded-vector",
   "metadata": {},
   "outputs": [
    {
     "data": {
      "text/plain": [
       "3.141592653589793"
      ]
     },
     "execution_count": 3,
     "metadata": {},
     "output_type": "execute_result"
    }
   ],
   "source": [
    "import math\n",
    "\n",
    "math.pi"
   ]
  },
  {
   "cell_type": "code",
   "execution_count": 4,
   "id": "structural-explanation",
   "metadata": {},
   "outputs": [
    {
     "data": {
      "text/plain": [
       "-1.0"
      ]
     },
     "execution_count": 4,
     "metadata": {},
     "output_type": "execute_result"
    }
   ],
   "source": [
    "import math as m\n",
    "\n",
    "m.cos(m.pi)"
   ]
  },
  {
   "cell_type": "code",
   "execution_count": 5,
   "id": "comic-theory",
   "metadata": {},
   "outputs": [
    {
     "data": {
      "text/plain": [
       "1.0"
      ]
     },
     "execution_count": 5,
     "metadata": {},
     "output_type": "execute_result"
    }
   ],
   "source": [
    "from math import sin, pi\n",
    "\n",
    "sin(pi/2)"
   ]
  },
  {
   "cell_type": "code",
   "execution_count": 6,
   "id": "limited-battery",
   "metadata": {},
   "outputs": [
    {
     "data": {
      "text/plain": [
       "0.7853981633974483"
      ]
     },
     "execution_count": 6,
     "metadata": {},
     "output_type": "execute_result"
    }
   ],
   "source": [
    "from math import *\n",
    "\n",
    "atan(sin(pi/4)/cos(pi/4))"
   ]
  },
  {
   "cell_type": "code",
   "execution_count": 7,
   "id": "powerful-fields",
   "metadata": {},
   "outputs": [
    {
     "data": {
      "text/plain": [
       "0.7853981633974483"
      ]
     },
     "execution_count": 7,
     "metadata": {},
     "output_type": "execute_result"
    }
   ],
   "source": [
    "pi/4"
   ]
  },
  {
   "cell_type": "markdown",
   "id": "grateful-regard",
   "metadata": {},
   "source": [
    "## Funciones y módulos no estándar\n",
    "\n",
    "Se pueden definir funciones y utilizar módulos no estándar, para resolver diferentes problemas.\n",
    "\n",
    "Se tiene el siguiente problema:\n",
    "\n",
    "El valor acumulado de una cuenta de ahorros que se basa en pagos periódicos puede calcularse con la _ecuación de anualidad vencida_\n",
    "\n",
    "$$A = \\frac{P}{i}((1+i)^n-1)$$\n",
    "\n",
    "En esta ecuación, $A$ es el monto de la cuenta, $P$ es la cantidad que se deposita periódicamente e $i$ es la tasa de interés por periodo para los $n$ periodos de depósito. A un ingeniero le gustaría tener una cuenta de ahorros con un monto de $750 000$ dólares al momento de retirarse dentro de 20 años, y puede depositar $l500$ dólares mensuales para lograr dicho objetivo. ¿Cuál es la tasa mínima de interés a que puede inverirse ese dinero, suponiendo que es un interés compuesto mensual?\n",
    "\n",
    "La solución es encontrar $i$ para los datos dados. Este problema no tiene solución cerrada, entonces se resuelve con aproximaciones numéricas. Para consultar uno de los métodos para las soluciones numéricas, comparto el siguiente video (suscribete y dale like XD) \n",
    "\n",
    "\n",
    "<div class = \"video-w\">\n",
    "<div class = \"video-container\">\n",
    "<iframe width=\"560\" height=\"315\" src=\"https://www.youtube.com/embed/kDmYaLV8Gnw\" frameborder=\"0\" allow=\"accelerometer; autoplay; clipboard-write; encrypted-media; gyroscope; picture-in-picture\" allowfullscreen></iframe></div></div>\n",
    "\n",
    "\n",
    "El probleam se puede escribir como\n",
    "\n",
    "$$A - \\frac{P}{i}((1+i)^n-1) = 0 $$\n",
    "\n",
    "entonces encontrar el valor de $i$ es encontrar la raíz de la siguiente función\n",
    "\n",
    "$$f(i) = A - \\frac{P}{i}((1+i)^n-1)  $$\n",
    "\n",
    "Entonces, implementamos do cosas, \n",
    "\n",
    "1. Una función que realice el calculo de la función $f$\n",
    "2. Buscamos un módulo (afortunadamente existe) que tenga impeentados los algoritmos para encontrar aproximaciones de raíces de funciones.\n",
    "\n",
    "Se instala el módulo de _scipy_ en caso que no se tenga instalado\n",
    "\n",
    "    conda install scipy\n",
    "\n",
    "Implementamos la función $f$"
   ]
  },
  {
   "cell_type": "code",
   "execution_count": 8,
   "id": "southwest-classic",
   "metadata": {},
   "outputs": [],
   "source": [
    "def f(i):\n",
    "    A = 750000\n",
    "    P = 1500\n",
    "    n = 20 * 12\n",
    "    return(A - (P / i) * ((1 + i) ** n - 1))"
   ]
  },
  {
   "cell_type": "markdown",
   "id": "english-charleston",
   "metadata": {},
   "source": [
    "Se importa el módulo y la  función correspondiente"
   ]
  },
  {
   "cell_type": "code",
   "execution_count": 9,
   "id": "heated-semiconductor",
   "metadata": {},
   "outputs": [
    {
     "name": "stdout",
     "output_type": "stream",
     "text": [
      "la tasa de interés anual es:[6.66093828]\n"
     ]
    }
   ],
   "source": [
    "from scipy.optimize import fsolve\n",
    "\n",
    "int_mensual = fsolve(f, 0.1)\n",
    "\n",
    "print(\"la tasa de interés anual es:\" + str(int_mensual * 12 * 100))"
   ]
  },
  {
   "cell_type": "markdown",
   "id": "incoming-mayor",
   "metadata": {},
   "source": [
    "Si se quiere resolver el problema de forma gráfica (pienso que es una solución suficiente)\n",
    "\n",
    "\n",
    "\n",
    "<div class = \"slide-w\">\n",
    "<div class = \"video-container\">\n",
    "<iframe src=\"https://www.desmos.com/calculator/ymvqaklon4\" width=\"100%\" height=\"650px\" scrolling=\"no\" frameborder=\"0\" webkitallowfullscreen mozallowfullscreen allowfullscreen></iframe>\n",
    "    </div>\n",
    "</div>\n"
   ]
  },
  {
   "cell_type": "code",
   "execution_count": null,
   "id": "competent-litigation",
   "metadata": {},
   "outputs": [],
   "source": []
  }
 ],
 "metadata": {
  "kernelspec": {
   "display_name": "Python 3",
   "language": "python",
   "name": "python3"
  },
  "language_info": {
   "codemirror_mode": {
    "name": "ipython",
    "version": 3
   },
   "file_extension": ".py",
   "mimetype": "text/x-python",
   "name": "python",
   "nbconvert_exporter": "python",
   "pygments_lexer": "ipython3",
   "version": "3.7.9"
  }
 },
 "nbformat": 4,
 "nbformat_minor": 5
}
