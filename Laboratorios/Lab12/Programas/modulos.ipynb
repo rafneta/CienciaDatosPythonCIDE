{
 "cells": [
  {
   "cell_type": "code",
   "execution_count": 1,
   "metadata": {
    "collapsed": true
   },
   "outputs": [],
   "source": [
    "##########################################################\n",
    "##                                                      ##\n",
    "##                    BITACORA                          ##\n",
    "##             Días/horas de programación               ##\n",
    "##    Día 1: viernes 01/septiembre/2017------7:00 horas ##\n",
    "##    Día 2: sabado  02/septiembre/2017------2:00 horas ##\n",
    "##    Día 3: domingo  03/septiembre/2017-----2:00 horas ##\n",
    "##    Día 4: miercoles  06/septiembre/2017---5:30 horas ##\n",
    "##    Día 5: jueves  07/septiembre/2017------3:00 horas ##\n",
    "##    Día 6: viernes  08/septiembre/2017-----2:00 horas ##\n",
    "##    Día 7: domingo  10/septiembre/2017-----1:00 horas ##\n",
    "##    Día 8: lunes    11/septiembre/2017-----2:30 horas ##\n",
    "##    Día 9: jueves    14/septiembre/2017----4:00 horas ##\n",
    "##    Día 10: viernes  15/septiembre/2017----3:30 horas ##\n",
    "##    Día 11: sabado  16/septiembre/2017---- 8:30 horas ##\n",
    "##    Día 12: domingo 17/septiembre/2017---- 1:30 horas ##\n",
    "##    Día 13: jueves  21/septiembre/2017---- 3:30 horas ##\n",
    "##    Día 14: viernes  22/septiembre/2017----2:00 horas ##\n",
    "##    Día 15: sabado   23/septiembre/2017----2:00 horas ##\n",
    "##    Día 16: martes   26/septiembre/2017----3:00 horas ##\n",
    "##    Día 17: miercoles 27/septiembre/2017---2:00 horas ##\n",
    "##    Día 18: jueves    28/septiembre/2017---2:00 horas ##\n",
    "##    Día 19: sabado    30/septiembre/2017---2:00 horas ##\n",
    "##    Día 20: domingo      01/octubre/2017---2:00 horas ##\n",
    "##    Día 21: Domingo    17/diciembre/2017---3:00 horas ##\n",
    "##    Día 22: Lunes      18/diciembre/2017---5:00 horas ##\n",
    "##    Dia 23: Viernes    9/marzo/2018--------8:00 horas ##\n",
    "##    Dia 24: Domingo   11/marzo/2018--------2:00 horas ##\n",
    "##    Día 25: Jueves    29/marzo/2018--------2:00 horas ##\n",
    "##    Día 26: Martes    03/abril/2018--------2:00 horas ##\n",
    "##    Dia 27 Lunes      10/dic/2018----------4:00 horas ##\n",
    "##----------------------------------------------------- ##\n",
    "##                                   TOTAL: 87:30 horas ##\n",
    "##                                                      ##\n",
    "##########################################################\n",
    "\n",
    "\n",
    "%matplotlib inline\n",
    "#import sympy\n",
    "from sympy import *\n",
    "#import numpy as np\n",
    "import matplotlib.pyplot as plt # importamos el submódulo para gráfica\n",
    "import seaborn as sns\n",
    "import matplotlib.image as mpimg\n",
    "\n",
    "#import matplotlib as mpl\n",
    "#print mpl.get_cachedir()\n",
    "#from IPython.html import widgets\n",
    "#from IPython.html.widgets import interact, interactive, fixed, \n",
    "from ipywidgets import interact, interactive, fixed, interactive_output, interact_manual, Layout, Button, Box,\\\n",
    "FloatText, Textarea, Dropdown, Label, IntSlider, HBox\n",
    "\n",
    "\n",
    "import ipywidgets as widgets\n",
    "from IPython.display import display, Latex, Math\n",
    "from sympy.abc import x, y, mu, r, tau\n",
    "#init_printing(use_latex='mathjax') # impresion en formato latex\n",
    "#display(Math(r\"\"\"%s\"\"\" %latex(t**2)))\n"
   ]
  },
  {
   "cell_type": "code",
   "execution_count": null,
   "metadata": {},
   "outputs": [],
   "source": []
  }
 ],
 "metadata": {
  "anaconda-cloud": {},
  "kernelspec": {
   "display_name": "Python 2",
   "language": "python",
   "name": "python2"
  },
  "language_info": {
   "codemirror_mode": {
    "name": "ipython",
    "version": 2
   },
   "file_extension": ".py",
   "mimetype": "text/x-python",
   "name": "python",
   "nbconvert_exporter": "python",
   "pygments_lexer": "ipython2",
   "version": "2.7.15"
  }
 },
 "nbformat": 4,
 "nbformat_minor": 2
}
