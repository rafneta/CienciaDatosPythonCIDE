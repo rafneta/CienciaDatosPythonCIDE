{
 "cells": [
  {
   "cell_type": "markdown",
   "id": "fewer-ensemble",
   "metadata": {
    "slideshow": {
     "slide_type": "slide"
    },
    "toc": true
   },
   "source": [
    "<h1>Contenido<span class=\"tocSkip\"></span></h1>\n",
    "<div class=\"toc\"><ul class=\"toc-item\"><li><span><a href=\"#Control-de-Excepciones\" data-toc-modified-id=\"Control-de-Excepciones-1\"><span class=\"toc-item-num\">1&nbsp;&nbsp;</span>Control de Excepciones</a></span><ul class=\"toc-item\"><li><span><a href=\"#Referencias\" data-toc-modified-id=\"Referencias-1.1\"><span class=\"toc-item-num\">1.1&nbsp;&nbsp;</span>Referencias</a></span></li><li><span><a href=\"#Apéndice\" data-toc-modified-id=\"Apéndice-1.2\"><span class=\"toc-item-num\">1.2&nbsp;&nbsp;</span>Apéndice</a></span></li></ul></li></ul></div>"
   ]
  },
  {
   "cell_type": "markdown",
   "id": "entertaining-evaluation",
   "metadata": {
    "slideshow": {
     "slide_type": "slide"
    }
   },
   "source": [
    "![](https://raw.githubusercontent.com/rafneta/CienciaDatosPythonCIDE/master/imagenes/banner.png)\n",
    "\n",
    "```{contents}\n",
    ":depth: 4\n",
    "```\n",
    "\n",
    "#  Control de Excepciones\n",
    "\n",
    "Se pueden clasificar los errores en dos tipos: errores de sintaxis y excepciones. El primero surge cuando escribimos de _forma incorrecta_ en Python. El segundo puede presentarse aún si se tiene una sintaxis correcta. En particular, nos preocuparemos por controlar las excepciones. \n"
   ]
  },
  {
   "cell_type": "markdown",
   "id": "raised-defeat",
   "metadata": {
    "slideshow": {
     "slide_type": "slide"
    }
   },
   "source": [
    "**SyntaxError.** Se genera cuando el analizador encuentra un error de sintaxis."
   ]
  },
  {
   "cell_type": "code",
   "execution_count": 2,
   "id": "imported-conditioning",
   "metadata": {
    "slideshow": {
     "slide_type": "fragment"
    }
   },
   "outputs": [
    {
     "ename": "SyntaxError",
     "evalue": "invalid syntax (<ipython-input-2-50e4c63b882d>, line 1)",
     "output_type": "error",
     "traceback": [
      "\u001b[0;36m  File \u001b[0;32m\"<ipython-input-2-50e4c63b882d>\"\u001b[0;36m, line \u001b[0;32m1\u001b[0m\n\u001b[0;31m    if 5 > 6\u001b[0m\n\u001b[0m             ^\u001b[0m\n\u001b[0;31mSyntaxError\u001b[0m\u001b[0;31m:\u001b[0m invalid syntax\n"
     ]
    }
   ],
   "source": [
    "if 5 > 6 \n",
    "    print('Hello world')"
   ]
  },
  {
   "cell_type": "markdown",
   "id": "marine-albuquerque",
   "metadata": {
    "slideshow": {
     "slide_type": "slide"
    }
   },
   "source": [
    "Una **excepción** es un error que ocurre mientras se ejecuta un programa, lo que hace que el programa se detenga abruptamente\n",
    "\n",
    "**ZeroDivisionError.** Se genera cuando el segundo argumento de una operación de división o módulo es cero."
   ]
  },
  {
   "cell_type": "code",
   "execution_count": 2,
   "id": "gothic-diary",
   "metadata": {
    "slideshow": {
     "slide_type": "fragment"
    }
   },
   "outputs": [
    {
     "ename": "ZeroDivisionError",
     "evalue": "division by zero",
     "output_type": "error",
     "traceback": [
      "\u001b[0;31m---------------------------------------------------------------------------\u001b[0m",
      "\u001b[0;31mZeroDivisionError\u001b[0m                         Traceback (most recent call last)",
      "\u001b[0;32m<ipython-input-2-bbe761e74a70>\u001b[0m in \u001b[0;36m<module>\u001b[0;34m\u001b[0m\n\u001b[0;32m----> 1\u001b[0;31m \u001b[0;36m100\u001b[0m\u001b[0;34m/\u001b[0m\u001b[0;36m0\u001b[0m\u001b[0;34m\u001b[0m\u001b[0;34m\u001b[0m\u001b[0m\n\u001b[0m",
      "\u001b[0;31mZeroDivisionError\u001b[0m: division by zero"
     ]
    }
   ],
   "source": [
    " 100/0"
   ]
  },
  {
   "cell_type": "markdown",
   "id": "detailed-hurricane",
   "metadata": {
    "slideshow": {
     "slide_type": "slide"
    }
   },
   "source": [
    "**NameError.** Se genera cuando no se encuentra un nombre local o global"
   ]
  },
  {
   "cell_type": "code",
   "execution_count": 7,
   "id": "increased-sheriff",
   "metadata": {
    "slideshow": {
     "slide_type": "fragment"
    }
   },
   "outputs": [
    {
     "ename": "NameError",
     "evalue": "name 'pi' is not defined",
     "output_type": "error",
     "traceback": [
      "\u001b[0;31m---------------------------------------------------------------------------\u001b[0m",
      "\u001b[0;31mNameError\u001b[0m                                 Traceback (most recent call last)",
      "\u001b[0;32m<ipython-input-7-10a326fd1f79>\u001b[0m in \u001b[0;36m<module>\u001b[0;34m\u001b[0m\n\u001b[0;32m----> 1\u001b[0;31m \u001b[0mpi\u001b[0m \u001b[0;34m*\u001b[0m \u001b[0;36m12\u001b[0m \u001b[0;34m-\u001b[0m \u001b[0;36m23\u001b[0m\u001b[0;34m\u001b[0m\u001b[0;34m\u001b[0m\u001b[0m\n\u001b[0m",
      "\u001b[0;31mNameError\u001b[0m: name 'pi' is not defined"
     ]
    }
   ],
   "source": [
    " pi * 12 - 23"
   ]
  },
  {
   "cell_type": "code",
   "execution_count": 3,
   "id": "intelligent-auction",
   "metadata": {
    "slideshow": {
     "slide_type": "slide"
    }
   },
   "outputs": [
    {
     "data": {
      "text/html": [
       "\n",
       "        <iframe\n",
       "            width=\"1000\"\n",
       "            height=\"700\"\n",
       "            src=\"https://slides.com/ra_fa/labcdpcide/fullscreen#/4/2\"\n",
       "            frameborder=\"0\"\n",
       "            allowfullscreen\n",
       "        ></iframe>\n",
       "        "
      ],
      "text/plain": [
       "<IPython.lib.display.IFrame at 0x7fe812da9310>"
      ]
     },
     "execution_count": 3,
     "metadata": {},
     "output_type": "execute_result"
    }
   ],
   "source": [
    "from IPython.display import IFrame, HTML, display\n",
    "IFrame(\"https://slides.com/ra_fa/labcdpcide/fullscreen#/4/2\", width =1000, height=700)"
   ]
  },
  {
   "cell_type": "markdown",
   "id": "vocational-sterling",
   "metadata": {
    "slideshow": {
     "slide_type": "fragment"
    }
   },
   "source": [
    "Se tienen varias formas de manejar a las excepciones, la más sencilla es la forma **try/except**\n"
   ]
  },
  {
   "cell_type": "code",
   "execution_count": 5,
   "id": "legitimate-scoop",
   "metadata": {
    "slideshow": {
     "slide_type": "slide"
    }
   },
   "outputs": [
    {
     "name": "stdout",
     "output_type": "stream",
     "text": [
      "el resultado es: 10.0\n",
      "0\n",
      "1\n",
      "2\n",
      "3\n"
     ]
    }
   ],
   "source": [
    "# Bajo cualquier tipo de excepción que ocurra dentro de ´try´ se ejecuta lo ue esta dentro del ´except´\n",
    "\n",
    "b = 100\n",
    "a = 10\n",
    "\n",
    "try:\n",
    "    print(\"el resultado es:\", b/a)\n",
    "except:\n",
    "    print(\"Deda de jugar con la división compa\")\n",
    "\n",
    "\n",
    "for _ in range(4):\n",
    "    print(_)"
   ]
  },
  {
   "cell_type": "code",
   "execution_count": 11,
   "id": "discrete-banana",
   "metadata": {
    "slideshow": {
     "slide_type": "slide"
    }
   },
   "outputs": [
    {
     "name": "stdout",
     "output_type": "stream",
     "text": [
      "Quien sabe que estes haciendo pero deja de jugar\n",
      "0\n",
      "1\n",
      "2\n",
      "3\n"
     ]
    }
   ],
   "source": [
    "# Se especifica un manejo para una excepción \n",
    "# Se especifica un manejo distinto para las demás excepciones\n",
    "\n",
    "b = 100\n",
    "a = 10\n",
    "\n",
    "try:\n",
    "    print(\"el resultado es:\", b/w)\n",
    "\n",
    "except ZeroDivisionError:   # pueden ser varias al mismo tiempo \n",
    "    print(\"Deda de jugar con la división compa\")\n",
    "\n",
    "except:\n",
    "    print(\"Quien sabe que estes haciendo pero deja de jugar\")\n",
    "\n",
    "for _ in range(4):\n",
    "    print(_)"
   ]
  },
  {
   "cell_type": "code",
   "execution_count": 12,
   "id": "moderate-fighter",
   "metadata": {
    "slideshow": {
     "slide_type": "slide"
    }
   },
   "outputs": [
    {
     "ename": "NameError",
     "evalue": "name 'w' is not defined",
     "output_type": "error",
     "traceback": [
      "\u001b[0;31m---------------------------------------------------------------------------\u001b[0m",
      "\u001b[0;31mNameError\u001b[0m                                 Traceback (most recent call last)",
      "\u001b[0;32m<ipython-input-12-223352a5d311>\u001b[0m in \u001b[0;36m<module>\u001b[0;34m\u001b[0m\n\u001b[1;32m      3\u001b[0m \u001b[0;34m\u001b[0m\u001b[0m\n\u001b[1;32m      4\u001b[0m \u001b[0;32mtry\u001b[0m\u001b[0;34m:\u001b[0m\u001b[0;34m\u001b[0m\u001b[0;34m\u001b[0m\u001b[0m\n\u001b[0;32m----> 5\u001b[0;31m     \u001b[0mprint\u001b[0m\u001b[0;34m(\u001b[0m\u001b[0;34m\"el resultado es:\"\u001b[0m\u001b[0;34m,\u001b[0m \u001b[0mb\u001b[0m\u001b[0;34m/\u001b[0m\u001b[0mw\u001b[0m\u001b[0;34m)\u001b[0m\u001b[0;34m\u001b[0m\u001b[0;34m\u001b[0m\u001b[0m\n\u001b[0m\u001b[1;32m      6\u001b[0m \u001b[0;34m\u001b[0m\u001b[0m\n\u001b[1;32m      7\u001b[0m \u001b[0;32mexcept\u001b[0m \u001b[0mZeroDivisionError\u001b[0m\u001b[0;34m:\u001b[0m   \u001b[0;31m# pueden ser varias al mismo tiempo\u001b[0m\u001b[0;34m\u001b[0m\u001b[0;34m\u001b[0m\u001b[0m\n",
      "\u001b[0;31mNameError\u001b[0m: name 'w' is not defined"
     ]
    }
   ],
   "source": [
    "# Si no se encuentra la excepción a manejar el programa \n",
    "# termina abruptamente (as usual)\n",
    "\n",
    "b = 100\n",
    "a = 0\n",
    "\n",
    "try:\n",
    "    print(\"el resultado es:\", b/w)\n",
    "\n",
    "except ZeroDivisionError:   # pueden ser varias al mismo tiempo \n",
    "    print(\"Deda de jugar con la división compa\")\n",
    "    \n",
    "\n",
    "for _ in range(4):\n",
    "    print(_)"
   ]
  },
  {
   "cell_type": "markdown",
   "id": "early-difficulty",
   "metadata": {
    "slideshow": {
     "slide_type": "slide"
    }
   },
   "source": [
    "Podemos agregar una sentencia opcional: **try/except/else**\n",
    "\n",
    "Bajo esa situación la sintaxis es la siguiente\n",
    "\n",
    "```python\n",
    "try:\n",
    "   statement\n",
    "   statement\n",
    "   etc.\n",
    "except ExceptionName: \n",
    "   statement\n",
    "   statement\n",
    "   etc.\n",
    "else:\n",
    "   statement\n",
    "   statement\n",
    "   etc.\n",
    "```\n",
    "\n",
    "Las sentencias dentro del else se ejecutan después de las sentencias dentro de try, solo si no se generaron excepciones.\n"
   ]
  },
  {
   "cell_type": "markdown",
   "id": "affected-communist",
   "metadata": {
    "slideshow": {
     "slide_type": "slide"
    }
   },
   "source": [
    "Podemos agregar una sentencia opcional: **try/except/finally**\n",
    "\n",
    "Bajo esa situación la sintaxis es la siguiente\n",
    "\n",
    "```python\n",
    "try:\n",
    "   statement\n",
    "   statement\n",
    "   etc.\n",
    "except ExceptionName: \n",
    "   statement\n",
    "   statement\n",
    "   etc.\n",
    "finally:\n",
    "   statement\n",
    "   statement\n",
    "   etc.\n",
    "```\n",
    "\n",
    "Las sentencias dentro de ´finally´ se ejecutan como intruciones finales del ´try´ o de la excepción (no importa loq ue pase se ejecutarán).  Usualmente  cuando se incluye es para _limpiar_, como cerrar archivos u otros recursos. "
   ]
  },
  {
   "cell_type": "markdown",
   "id": "prepared-measure",
   "metadata": {
    "slideshow": {
     "slide_type": "slide"
    }
   },
   "source": [
    "Existen variantes de los manejos anteriores, por ejmplo: \n",
    "\n",
    "- Pueden utilizarse al estructura: **try/except/else/finally** con sintaxis similar a las anteriores \n",
    "- Dentro del finally puede existir un try/except\n",
    "\n"
   ]
  },
  {
   "cell_type": "markdown",
   "id": "attractive-witch",
   "metadata": {
    "slideshow": {
     "slide_type": "slide"
    }
   },
   "source": [
    "## Referencias\n",
    "\n",
    "- [Excepciones incorporadas](https://docs.python.org/es/3/library/exceptions.html#bltin-exceptions)\n",
    "- [Errores y excepciones](https://docs.python.org/es/3/tutorial/errors.html)\n",
    "\n",
    "## Apéndice\n",
    "\n",
    "**pass**"
   ]
  },
  {
   "cell_type": "code",
   "execution_count": 16,
   "id": "random-fashion",
   "metadata": {
    "slideshow": {
     "slide_type": "fragment"
    }
   },
   "outputs": [
    {
     "name": "stdout",
     "output_type": "stream",
     "text": [
      "hola\n",
      "adios\n"
     ]
    }
   ],
   "source": [
    "print('hola')\n",
    "pass\n",
    "print('adios')"
   ]
  },
  {
   "cell_type": "markdown",
   "id": "cubic-circuit",
   "metadata": {
    "slideshow": {
     "slide_type": "slide"
    }
   },
   "source": [
    "**Comparar enteros con cadenas**\n",
    "\n",
    "La actualización del lenguaje"
   ]
  },
  {
   "cell_type": "code",
   "execution_count": 23,
   "id": "funded-dairy",
   "metadata": {
    "slideshow": {
     "slide_type": "fragment"
    }
   },
   "outputs": [
    {
     "ename": "TypeError",
     "evalue": "'>' not supported between instances of 'int' and 'str'",
     "output_type": "error",
     "traceback": [
      "\u001b[0;31m---------------------------------------------------------------------------\u001b[0m",
      "\u001b[0;31mTypeError\u001b[0m                                 Traceback (most recent call last)",
      "\u001b[0;32m<ipython-input-23-a1cc169af910>\u001b[0m in \u001b[0;36m<module>\u001b[0;34m\u001b[0m\n\u001b[1;32m      1\u001b[0m \u001b[0ma\u001b[0m \u001b[0;34m=\u001b[0m \u001b[0;36m3\u001b[0m\u001b[0;34m\u001b[0m\u001b[0;34m\u001b[0m\u001b[0m\n\u001b[1;32m      2\u001b[0m \u001b[0;34m\u001b[0m\u001b[0m\n\u001b[0;32m----> 3\u001b[0;31m \u001b[0;32mif\u001b[0m \u001b[0ma\u001b[0m \u001b[0;34m>\u001b[0m \u001b[0;34m'comida'\u001b[0m \u001b[0;34m:\u001b[0m\u001b[0;34m\u001b[0m\u001b[0;34m\u001b[0m\u001b[0m\n\u001b[0m\u001b[1;32m      4\u001b[0m     \u001b[0mprint\u001b[0m\u001b[0;34m(\u001b[0m\u001b[0;34m'hola'\u001b[0m\u001b[0;34m)\u001b[0m\u001b[0;34m\u001b[0m\u001b[0;34m\u001b[0m\u001b[0m\n\u001b[1;32m      5\u001b[0m \u001b[0;34m\u001b[0m\u001b[0m\n",
      "\u001b[0;31mTypeError\u001b[0m: '>' not supported between instances of 'int' and 'str'"
     ]
    }
   ],
   "source": [
    "a = 3\n",
    "\n",
    "if a > 'comida' :\n",
    "    print('hola')\n",
    "    \n",
    "print('adios')"
   ]
  },
  {
   "cell_type": "markdown",
   "id": "corporate-forward",
   "metadata": {
    "slideshow": {
     "slide_type": "slide"
    }
   },
   "source": [
    "**Variables tipo Range**"
   ]
  },
  {
   "cell_type": "code",
   "execution_count": 21,
   "id": "declared-supervisor",
   "metadata": {
    "slideshow": {
     "slide_type": "fragment"
    }
   },
   "outputs": [
    {
     "name": "stdout",
     "output_type": "stream",
     "text": [
      "0 range(0, 5)\n",
      "1 range(0, 5)\n",
      "2 range(0, 5)\n",
      "3 range(0, 5)\n",
      "4 range(0, 5)\n"
     ]
    },
    {
     "data": {
      "text/plain": [
       "range"
      ]
     },
     "execution_count": 21,
     "metadata": {},
     "output_type": "execute_result"
    }
   ],
   "source": [
    "a = range(5)\n",
    "\n",
    "for _ in a:\n",
    "    print(_ ,a)\n",
    "\n",
    "type(a)"
   ]
  },
  {
   "cell_type": "markdown",
   "id": "forbidden-preservation",
   "metadata": {
    "slideshow": {
     "slide_type": "slide"
    }
   },
   "source": [
    "**Algunos ejercicios**\n",
    "\n",
    "[http://spcp.wikidot.com/tareas](http://spcp.wikidot.com/tareas)\n",
    "\n",
    "\n",
    "\n",
    "**Zen de Python**\n",
    "\n",
    "Un listado de los principios de diseño y la filosofía de Python que son útiles para entender y usar el lenguaje."
   ]
  },
  {
   "cell_type": "code",
   "execution_count": 17,
   "id": "advance-lawyer",
   "metadata": {
    "slideshow": {
     "slide_type": "fragment"
    }
   },
   "outputs": [
    {
     "name": "stdout",
     "output_type": "stream",
     "text": [
      "The Zen of Python, by Tim Peters\n",
      "\n",
      "Beautiful is better than ugly.\n",
      "Explicit is better than implicit.\n",
      "Simple is better than complex.\n",
      "Complex is better than complicated.\n",
      "Flat is better than nested.\n",
      "Sparse is better than dense.\n",
      "Readability counts.\n",
      "Special cases aren't special enough to break the rules.\n",
      "Although practicality beats purity.\n",
      "Errors should never pass silently.\n",
      "Unless explicitly silenced.\n",
      "In the face of ambiguity, refuse the temptation to guess.\n",
      "There should be one-- and preferably only one --obvious way to do it.\n",
      "Although that way may not be obvious at first unless you're Dutch.\n",
      "Now is better than never.\n",
      "Although never is often better than *right* now.\n",
      "If the implementation is hard to explain, it's a bad idea.\n",
      "If the implementation is easy to explain, it may be a good idea.\n",
      "Namespaces are one honking great idea -- let's do more of those!\n"
     ]
    }
   ],
   "source": [
    "import this"
   ]
  }
 ],
 "metadata": {
  "celltoolbar": "Slideshow",
  "kernelspec": {
   "display_name": "Python 3",
   "language": "python",
   "name": "python3"
  },
  "language_info": {
   "codemirror_mode": {
    "name": "ipython",
    "version": 3
   },
   "file_extension": ".py",
   "mimetype": "text/x-python",
   "name": "python",
   "nbconvert_exporter": "python",
   "pygments_lexer": "ipython3",
   "version": "3.7.9"
  },
  "rise": {
   "autolaunch": false,
   "enable_chalkboard": true
  },
  "toc": {
   "base_numbering": 1,
   "nav_menu": {},
   "number_sections": true,
   "sideBar": true,
   "skip_h1_title": false,
   "title_cell": "Contenido",
   "title_sidebar": "Contenido",
   "toc_cell": true,
   "toc_position": {},
   "toc_section_display": true,
   "toc_window_display": false
  }
 },
 "nbformat": 4,
 "nbformat_minor": 5
}
