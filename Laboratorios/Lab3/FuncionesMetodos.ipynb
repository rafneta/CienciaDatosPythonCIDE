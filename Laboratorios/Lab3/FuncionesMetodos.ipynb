{
 "cells": [
  {
   "cell_type": "markdown",
   "id": "provincial-yorkshire",
   "metadata": {
    "toc": true
   },
   "source": [
    "![](https://raw.githubusercontent.com/rafneta/CienciaDatosPythonCIDE/master/imagenes/banner.png)\n",
    "\n",
    "```{contents}\n",
    ":depth: 4\n",
    "```\n",
    "\n"
   ]
  },
  {
   "cell_type": "markdown",
   "id": "fancy-manufacturer",
   "metadata": {},
   "source": [
    "# Funciones y métodos\n",
    "\n",
    "Se pueden realizar cuatro tipos de **funciones** de acuerdo a sus valors de entrada  y salida.\n",
    "\n",
    "\n",
    "- Tipo I. No reciben argumentos de entrada y no tienen valores de salida (no reciben nada y no regresan nada)\n",
    "- Tipo II. No reciben argumentos de entrada y regresa valores de salida (recibe argumento y regresa valores)\n",
    "- Tipo III. Reciben argumentos de entrada y no regresan valores de salida (recibe argumento y no regresa nada)\n",
    "- Tipo IV. Recibe argumentos de entrada regresa y  regesa valores de salida (recibe argumento y regresa valores)\n",
    "\n",
    "El tipo de implemetación depende de las necesidades del problema. Para identificar que tipo de función se esta implementando, basta con observar su implementación. \n",
    "\n",
    "\n",
    "```python\n",
    "def funcion_tipoI()\n",
    "    sentencia_1\n",
    "    sentencia_2\n",
    "    ...\n",
    "    ...\n",
    "    ...\n",
    "    sentencia_n\n",
    "\n",
    "```\n",
    "\n",
    "\n",
    "```python\n",
    "def funcion_tipoII()\n",
    "    sentencia_1\n",
    "    sentencia_2\n",
    "    ...\n",
    "    ...\n",
    "    ...\n",
    "    sentencia_n\n",
    "    return variable #una o varias veces en el código\n",
    "\n",
    "```\n",
    "\n",
    "\n",
    "\n",
    "```python\n",
    "def funcion_tipoIII(argumento_1, argumento_2, ..., argumento_n)\n",
    "    sentencia_1\n",
    "    sentencia_2\n",
    "    ...\n",
    "    ...\n",
    "    ...\n",
    "    sentencia_n\n",
    "```\n",
    "\n",
    "\n",
    "```python\n",
    "def funcion_tipoIV(argumento_1, argumento_2, ..., argumento_n)\n",
    "    sentencia_1\n",
    "    sentencia_2\n",
    "    ...\n",
    "    ...\n",
    "    ...\n",
    "    sentencia_n\n",
    "    return variable # una o varias veces en el código\n",
    "\n",
    "```\n",
    "\n",
    "Una vez que se realiza la implementación, el uso de la función es con la sigueinte sintaxis:\n",
    "\n",
    "```python\n",
    "\n",
    "funcion_tipoI()\n",
    "funcion_tipoII()\n",
    "funcion_tipoIII(argumento_1, argumento_2, ..., argumento_n)\n",
    "funcion_tipoIV(argumento_1, argumento_2, ..., argumento_n)\n",
    "\n",
    "```\n",
    "\n",
    "\n",
    "Los valores que podría calcular una función se pueden utilizar en cualquier parte del código (una vez definida esta) cuando en la implemenación aparezca `return` en el código de la implementación. \n",
    "\n",
    "\n",
    "Por ejemplo \n",
    "\n",
    "\n",
    "<div class = \"slide-w\">\n",
    "<iframe width=\"100%\" height=\"630\" frameborder=\"0\" src=\"https://pythontutor.com/iframe-embed.html#code=def%20funcion1%28%29%3A%0A%20%20%20%20a%20%3D%2045%0A%20%20%20%20b%20%3D%2023%0A%20%20%20%20return%20%20a%20%2B%20b%0A%20%20%20%20%0Adef%20funcion2%28%29%3A%0A%20%20%20%20a%20%3D%2045%0A%20%20%20%20b%20%3D%2023%0A%20%20%20%20a%20%2B%20b%0A%0Adef%20funcion3%28a,%20b%29%3A%0A%20%20%20%20c%20%3D%20a%20%2B%20b%0A%20%20%20%20return%20c%0A%0Avalor%20%3D%20funcion1%28%29%20*%208%20%2B%2030%0Aprint%28valor,%20funcion1%28%29%29%0A%0Avalor%20%3D%20funcion2%28%29%0A%0Aprint%28funcion3%282,4%29%29%0A%0Avar1%20%3D%2023%0Avar2%20%3D%20-3%0A%0A%23%20la%20variale%20se%20sustituyen%20en%20el%20lugar%20correspondiente%0A%0Aprint%28funcion3%28var1,var2%29%29&codeDivHeight=400&codeDivWidth=350&cumulative=false&curInstr=0&heapPrimitives=nevernest&origin=opt-frontend.js&py=3&rawInputLstJSON=%5B%5D&textReferences=false\"> </iframe>\n",
    "</div>\n",
    "    \n",
    "Los **métodos** son funciones asociadas a una `clase`. Por el momento pensemos a las clases como los tipos de datos. Mostraremos algunos métodos para los tipos de datos _string_ y _list_\n",
    "\n",
    "El uso de los métodos tiene la siguiente sintaxis\n",
    "\n",
    "```python\n",
    "variable.metodo()\n",
    "variable.metodo(argumento1,...,argumenton) #cuando el argumento sea necesario\n",
    "```\n",
    "\n",
    "Para los datos tipo string se muestran tres métodos:\n",
    "\n",
    "\n",
    "<div class = \"slide-w\">\n",
    "<iframe width=\"100%\" height=\"630\" frameborder=\"0\" src=\"https://pythontutor.com/iframe-embed.html#code=cadena1%20%3D%20%22camion%20de%20carne%22%0Acadena2%20%3D%20'oso'%0A%0Avar1%20%3D%20cadena1.capitalize%28%29%0Aprint%28var1%29%0A%0Avar2%20%3D%20cadena1.find%28'ca'%29%0Aprint%28var2%29%0A%0Avar4%20%3D%20cadena1.find%28'ca',6%29%0Aprint%28var4%29%0A%0Avar5%20%3D%20cadena1.find%28'ca',6,8%29%0Aprint%28var5%29%0A%0Avar6%20%3D%20%28cadena2%20%2B%20cadena1%29.split%28%29%0Aprint%28var6%29%0A%0Avar7%20%3D%20%28cadena2%20%2B%20cadena1%29.split%28'o'%29%0Aprint%28var7%29&codeDivHeight=400&codeDivWidth=350&cumulative=true&curInstr=14&heapPrimitives=nevernest&origin=opt-frontend.js&py=3&rawInputLstJSON=%5B%5D&textReferences=false\"> </iframe>\n",
    "</div>\n",
    "\n",
    "\n",
    "\n",
    "Para consultar la descripción de todos los métodos: [Métodos para datos tipo string](https://docs.python.org/3.8/library/stdtypes.html?highlight=string#string-methods)\n",
    "\n",
    "\n",
    "\n",
    "Para los datos tipo list se muestran un método y dos operaciones:\n",
    "\n",
    "<div class = \"slide-w\">\n",
    "<iframe width=\"100%\" height=\"630\" frameborder=\"0\" src=\"https://pythontutor.com/iframe-embed.html#code=lista1%20%3D%20%5B'camion',%20'hola',%207.5,%20True%5D%0Alista2%20%3D%20%5B%5D%0Alista3%20%3D%20list%28%29%0A%0Alista2.append%28lista1%29%0A%0Aprint%28lista2%5B0%5D%29%0A%0Avar1%20%3D%20lista1%20%2B%20lista2%0Aprint%28var1%29%0A%0Alista3%20%3D%20lista1%20%0A%0Alista3%5B3%5D%20%3D%20'oso'%20%23%20mutabilidad%20de%20datos%0Aprint%28lista1%29%0A%0A%23%20Para%20evitar%20que%20se%20apunte%20a%20la%20misma%20lista%20puede%20%0A%23%20utilizar%20el%20m%C3%A9todo%20copy&codeDivHeight=400&codeDivWidth=350&cumulative=false&curInstr=1&heapPrimitives=nevernest&origin=opt-frontend.js&py=3&rawInputLstJSON=%5B%5D&textReferences=\"> </iframe>\n",
    "</div>\n",
    "\n",
    "Para consultar la descripción de todos los métodos: [Métodos para datos tipo list](https://docs.python.org/3.8/tutorial/datastructures.html?highlight=list)\n",
    "\n",
    "\n",
    "\n",
    "<div class = \"video-w\">\n",
    "<div class = \"video-container\">\n",
    "<iframe width=\"560\" height=\"315\" src=\"https://www.youtube.com/embed/playlist?list=PLSC7gO5dTNPfE8PHs8L7aHebsRWd25JHT\" frameborder=\"0\" allow=\"accelerometer; autoplay; clipboard-write; encrypted-media; gyroscope; picture-in-picture\" allowfullscreen></iframe></div></div>\n",
    "\n",
    "\n",
    "\n",
    "<iframe width=”560″ height=”315″ src=”https://www.youtube.com/embed/videoseries?list=PLSC7gO5dTNPfE8PHs8L7aHebsRWd25JHT” frameborder=”0\"     allow=\"autoplay; encrypted-media\" allowfullscreen></iframe>\n"
   ]
  },
  {
   "cell_type": "markdown",
   "id": "south-feature",
   "metadata": {},
   "source": [
    " ## Ejemplo: Módulo Matplotlib\n",
    " \n",
    " \n",
    "Como es natural de pensar no podemos generar en una computadora conjuntos continuos (pues necesitariamos cantidad infinita de memoria) así que si queremos general gráficas de funciones cuyo dominio es un conjunto continuo, tomamos unas muestras (un subconjunto finito lo suficientemente \"bueno\") y aplicamos la función, posteriormente con ayuda de la represenación visual emulamos la aplicación de la función a un conjunto infinito. Como principal ayuda para esta parte se puede consultar:\n",
    "\n",
    "- [Documentos de matplotlib](https://matplotlib.org/contents.html) uno de los módulos escrito en Python para generar gráficas, un módulo extenso.\n",
    "\n",
    "- [Galeria de imágenes](https://matplotlib.org/gallery/index.html) proporciona el código de las imágenes que se observan\n",
    "\n",
    "- [Documentos de matplotlib.pyplot](https://matplotlib.org/api/_as_gen/matplotlib.pyplot.html?highlight=plot#module-matplotlib.pyplot) submódulo de matplotlib para generar gráficas, donde se tiene una sintaxys tipo MATLAB (esto es bueno si sabes MATLAB)\n",
    "\n",
    "- [Documento de plot](https://matplotlib.org/api/_as_gen/matplotlib.pyplot.plot.html#matplotlib.pyplot.plot) una de las descripciones que se puede encontrar en la página anterior "
   ]
  },
  {
   "cell_type": "code",
   "execution_count": 54,
   "id": "therapeutic-square",
   "metadata": {},
   "outputs": [
    {
     "data": {
      "image/png": "[encoded data removed]",
      "text/plain": [
       "<Figure size 432x288 with 1 Axes>"
      ]
     },
     "metadata": {
      "needs_background": "light"
     },
     "output_type": "display_data"
    },
    {
     "data": {
      "image/png": "[encoded data removed]",
      "text/plain": [
       "<Figure size 432x288 with 1 Axes>"
      ]
     },
     "metadata": {
      "needs_background": "light"
     },
     "output_type": "display_data"
    }
   ],
   "source": [
    "import matplotlib.pyplot as plt \n",
    "\n",
    "\n",
    "#Principio básico del plot\n",
    "x=[1,2,3]\n",
    "y=[5,6,7]\n",
    "plt.plot(x,y)\n",
    "plt.grid()\n",
    "plt.title(r'Funcion $f(x)=x+4$', fontsize=20)\n",
    "plt.xlabel('Valores de $x$')\n",
    "plt.ylabel('Valores de y')\n",
    "plt.show()\n",
    "plt.plot(x,y,'ro')\n",
    "plt.show()\n"
   ]
  },
  {
   "cell_type": "markdown",
   "id": "integrated-exposure",
   "metadata": {},
   "source": [
    "Generar la gráfica de la siguiente función \n",
    "\n",
    "$$f_1(x)=e^{-0.5x}cos(3x),\\;\\;\\text{ para }-2\\leq x\\leq 10$$"
   ]
  },
  {
   "cell_type": "code",
   "execution_count": 55,
   "id": "preliminary-ideal",
   "metadata": {},
   "outputs": [
    {
     "data": {
      "image/png": "[encoded data removed]",
      "text/plain": [
       "<Figure size 432x288 with 1 Axes>"
      ]
     },
     "metadata": {
      "needs_background": "light"
     },
     "output_type": "display_data"
    }
   ],
   "source": [
    "def puntos_x(a,b, h = 1):\n",
    "    x = list()\n",
    "    for i in range(round((b - a) / h) + 1):\n",
    "        x = x + [a + i * h]\n",
    "    return x\n",
    "\n",
    "import math\n",
    "\n",
    "\n",
    "li = -2\n",
    "ls = 10\n",
    "paso = 0.1\n",
    "\n",
    "\n",
    "valores_x = puntos_x(li, ls, paso)\n",
    "\n",
    "numero_puntos = len(valores_x)\n",
    "\n",
    "f = list()\n",
    "\n",
    "for i in range(numero_puntos):\n",
    "    f.append(math.exp(-0.5 * valores_x[i]) * math.cos(3 * valores_x[i]))\n",
    "\n",
    "#print(f)    \n",
    "\n",
    "plt.plot(valores_x,f)\n",
    "plt.show()\n"
   ]
  },
  {
   "cell_type": "markdown",
   "id": "powerful-cooper",
   "metadata": {},
   "source": [
    "Se complica la generación de listas y sobre todo manipular y aplicar funciones a cada uno de los elementos (uso de ciclos). El módulo **numpy** nos porporciona un tipo de dato que se llama **array** el cual junto con las funciones matemáticas de numpy permite un uso directo de las evaluaciones de funciones a todos los elementos del **array**. El módulo es extenso y contiene submódulos al igual que *matplotlib* con diferentes herramientas matemáticas. La ayuda se puede encontrar en el siguiente enlace\n",
    "\n",
    "-[Documentos de numpy](https://www.numpy.org/devdocs/reference/) Manual del módulo numpy. \n"
   ]
  },
  {
   "cell_type": "code",
   "execution_count": 56,
   "id": "educational-metro",
   "metadata": {},
   "outputs": [
    {
     "data": {
      "image/png": "[encoded data removed]",
      "text/plain": [
       "<Figure size 432x288 with 1 Axes>"
      ]
     },
     "metadata": {
      "needs_background": "light"
     },
     "output_type": "display_data"
    }
   ],
   "source": [
    "import numpy as np \n",
    "\n",
    "x = np.linspace(-2, 10, 300)\n",
    "y = np.exp(-0.5 * x) * np.cos(3 * x)\n",
    "plt.plot(x, y)\n",
    "plt.show()"
   ]
  },
  {
   "cell_type": "code",
   "execution_count": 57,
   "id": "underlying-token",
   "metadata": {},
   "outputs": [
    {
     "data": {
      "image/png": "[encoded data removed]",
      "text/plain": [
       "<Figure size 432x288 with 1 Axes>"
      ]
     },
     "metadata": {
      "needs_background": "light"
     },
     "output_type": "display_data"
    }
   ],
   "source": [
    "x=np.linspace(-2, 10, 300)\n",
    "y=np.exp(-0.5 * x) * np.cos(3 * x)\n",
    "plt.plot(x, y)\n",
    "plt.grid()\n",
    "plt.title('Funcion $f_1(x)=e^{-0.5x}cos(3x)$', fontsize = 20)\n",
    "plt.xlabel('Valores de $x$')\n",
    "plt.ylabel('Valores de y')\n",
    "ax = plt.gca()\n",
    "ax.xaxis.set_label_coords(0.5, -0.05)\n",
    "ax.yaxis.set_label_coords(-0.08, 0.5)\n",
    "ax.spines['right'].set_color('none')\n",
    "ax.spines['top'].set_color('none')\n",
    "ax.xaxis.set_ticks_position('bottom')\n",
    "ax.spines['bottom'].set_position(('data', 0))\n",
    "ax.yaxis.set_ticks_position('left')\n",
    "ax.spines['left'].set_position(('data', 0))\n",
    "xlim=ax.get_xlim()\n",
    "ylim=ax.get_ylim()\n",
    "ax.set_xlim(min(xlim[0] * (0.9), xlim[0] * (1.1)), max(xlim[1] * 1.1, xlim[1] * 0.9))\n",
    "ax.set_ylim(min(ylim[0] * (0.9), ylim[0] * (1.1)), max(ylim[1] * 1.1, ylim[1] * 0.9))\n",
    "plt.show()"
   ]
  },
  {
   "cell_type": "markdown",
   "id": "stone-metadata",
   "metadata": {},
   "source": [
    "Es un poco tardado dar un formato deseado a las gráficas, entonces el uso de funciones se vuelve fundamental. Los siguiente códigos grafican funciones, pensando que se quieren gráficar funciones de densidad de probablidlidad y de distribución acumulada. \n",
    "\n",
    "\n",
    "\n"
   ]
  },
  {
   "cell_type": "code",
   "execution_count": 58,
   "id": "sapphire-convention",
   "metadata": {},
   "outputs": [],
   "source": [
    "def gfdvac(Intervalo,f,titulo='Funcion de densidad de probabilidad $f(x)$', guardar = False):\n",
    "    fig=plt.figure(figsize=(8,4))#\n",
    "    ax=plt.axes()\n",
    "    x=np.linspace(Intervalo[0],Intervalo[1],300)\n",
    "    y=f(x)\n",
    "    ax.plot(x,y,c = 'r',lw = 3,label = r'Grafica de $f(x)$')\n",
    "    ax.grid()\n",
    "    ax.set_xlabel('Valores de la variable aleatoria $X$', fontsize = 15)\n",
    "    ax.set_ylabel('Valores de $f(x)$', fontsize = 15)\n",
    "    ax.set_title('Función de densidad de probabilidad $f(x)$',fontsize = 20)\n",
    "    leg = plt.legend(loc='best', shadow = True, fancybox = True)\n",
    "    leg.get_frame().set_alpha(0.9)\n",
    "    ax.xaxis.set_label_coords(0.5, -0.05)\n",
    "    ax.yaxis.set_label_coords(-0.08, 0.5)\n",
    "    ax.spines['right'].set_color('none')\n",
    "    ax.spines['top'].set_color('none')\n",
    "    ax.xaxis.set_ticks_position('bottom')\n",
    "    ax.spines['bottom'].set_position(('data',0))\n",
    "    ax.yaxis.set_ticks_position('left')\n",
    "    ax.spines['left'].set_position(('data',0))\n",
    "    xlim=ax.get_xlim()\n",
    "    ylim=ax.get_ylim()\n",
    "    ax.set_xlim(min(xlim[0] * (0.9), xlim[0] * (1.1)), max(xlim[1] * 1.1, xlim[1] * 0.9))\n",
    "    ax.set_ylim(-0.2,max(ylim[1] * 1.1, ylim[1] * 0.9))\n",
    "    if guardar:\n",
    "        plt.savefig(\"fvac.png\")# Se puede guardar solo en el formato deseado\n",
    "        plt.savefig(\"fvac.pdf\")#\n",
    "        #plt.savefig(\"fvac.jpg\")#\n",
    "    plt.show()"
   ]
  },
  {
   "cell_type": "code",
   "execution_count": 59,
   "id": "further-emergency",
   "metadata": {},
   "outputs": [],
   "source": [
    "def gFdvac(Intervalo,F,titulo='Función de distribucion de probabilidad $F(x)$',\\\n",
    "          guardar=False):\n",
    "    fig=plt.figure(figsize=(8,4))#\n",
    "    ax=plt.axes()\n",
    "    x=np.linspace(Intervalo[0],Intervalo[1],300)\n",
    "    y=F(x)\n",
    "    ax.plot(x,y,c='r',lw=3,label=r'Grafica de $F(x)$')\n",
    "    ax.grid()\n",
    "    ax.set_xlabel('Valores de la variable aleatoria $X$',fontsize=15)\n",
    "    ax.set_ylabel('Valores de $F(x)$',fontsize=15)\n",
    "    ax.set_title('Función de distribcucion de probabilidad $F(x)$',fontsize=20)\n",
    "    leg = plt.legend(loc='best', shadow=True, fancybox=True)\n",
    "    leg.get_frame().set_alpha(0.9)\n",
    "    ax.xaxis.set_label_coords(0.5, -0.05)\n",
    "    ax.yaxis.set_label_coords(-0.08,0.5)\n",
    "    ax.spines['right'].set_color('none')\n",
    "    ax.spines['top'].set_color('none')\n",
    "    ax.xaxis.set_ticks_position('bottom')\n",
    "    ax.spines['bottom'].set_position(('data',0))\n",
    "    ax.yaxis.set_ticks_position('left')\n",
    "    ax.spines['left'].set_position(('data',0))\n",
    "    xlim=ax.get_xlim()\n",
    "    ylim=ax.get_ylim()\n",
    "    ax.set_xlim(min(xlim[0]*(0.9),xlim[0]*(1.1)),max(xlim[1]*1.1,xlim[1]*0.9))\n",
    "    ax.set_ylim(-0.2,max(ylim[1]*1.1,ylim[1]*0.9))\n",
    "    if guardar:\n",
    "        plt.savefig(\"Fvac.png\")# Se puede guardar solo en el formato deseado\n",
    "        plt.savefig(\"Fvac.pdf\")#\n",
    "        #plt.savefig(\"Fvac.jpg\")#\n",
    "    plt.show()"
   ]
  },
  {
   "cell_type": "markdown",
   "id": "hidden-denver",
   "metadata": {},
   "source": [
    "\n",
    "\n",
    "## Ejemplo: Módulo para estadística *stats*\n",
    "\n",
    "**stats** es un submódulo de **scipy** para estadística \n",
    "\n",
    "\n",
    "-[Documento Scipy](https://docs.scipy.org/doc/scipy/reference/tutorial/index.html). Módulo para computación cientifica compatible con Numpy y Matplotlib, entre otros \n",
    "\n",
    "-[scipy módulo stats](https://docs.scipy.org/doc/scipy/reference/stats.html). Información de **stats**\n",
    "\n",
    "\n",
    "**Variables aleatorias continuas**\n",
    "\n",
    "[Notación de scipy.stats](https://docs.scipy.org/doc/scipy/reference/tutorial/stats/continuous.html)\n",
    "\n",
    "- *pdf(x)* (Probability Density Function) Función de densidad $f(x)=F'(x)$ \n",
    "- *cdf(x)* (Cumulative Distribution Function) Funcion de distribución $F(x)$\n",
    "- *ppf(x)* (Percent Point Function) Función inversa a cdf(x) $G(q)=F^{-1}(q)$\n",
    "\n",
    "\n",
    "[Distribuciones continuas](https://docs.scipy.org/doc/scipy/reference/tutorial/stats/continuous.html#continuous-distributions-in-scipy-stats)"
   ]
  },
  {
   "cell_type": "code",
   "execution_count": 60,
   "id": "human-spoke",
   "metadata": {},
   "outputs": [],
   "source": [
    "from scipy import stats # importando scipy.stats"
   ]
  },
  {
   "cell_type": "code",
   "execution_count": 61,
   "id": "homeless-domain",
   "metadata": {},
   "outputs": [
    {
     "data": {
      "image/png": "[encoded data removed]",
      "text/plain": [
       "<Figure size 576x288 with 1 Axes>"
      ]
     },
     "metadata": {
      "needs_background": "light"
     },
     "output_type": "display_data"
    },
    {
     "data": {
      "image/png": "[encoded data removed]",
      "text/plain": [
       "<Figure size 576x288 with 1 Axes>"
      ]
     },
     "metadata": {
      "needs_background": "light"
     },
     "output_type": "display_data"
    },
    {
     "name": "stdout",
     "output_type": "stream",
     "text": [
      "0.0\n",
      "6.80574793290978e-17\n",
      "1.25\n",
      "1.118033988749895\n"
     ]
    }
   ],
   "source": [
    "# Ya se ha importando scipy.stats\n",
    "# loc=0, scale=1, df=n\n",
    "vct = stats.t(df=10)\n",
    "f = vct.pdf\n",
    "F = vct.cdf\n",
    "gfdvac((-5,5),f, guardar = True) #de acuerdo a como se programo \n",
    "gFdvac((-5,5),F)\n",
    "#gFdfvac((-5,5),f)\n",
    "print(vct.mean())\n",
    "print(vct.median())\n",
    "print(vct.var())\n",
    "print(vct.std())"
   ]
  },
  {
   "cell_type": "markdown",
   "id": "modern-closing",
   "metadata": {},
   "source": [
    "## Ejemplo: Ecuación diferencial\n",
    "\n",
    "Se pueden realizar aproximaciones numéricas a ecuaciones diferenciales. El siguiente es una motivación del método de Euler (la deducción es por medio de series de Taylor)\n",
    "\n",
    "\n",
    "```{panels}\n",
    "\n",
    "$$\\begin{eqnarray}\n",
    "\\dot{y}(t)&=&f(y(t),t),\\;y(t_0)\\\\\n",
    "\\lim_{h\\to 0}\\frac{y(t+h)-y(t)}{h}&=&f(y(t),t)\\\\\n",
    "\\frac{y(t+h)-y(t)}{h}&\\approx& f(y(t),t)\\\\\n",
    "y(t+h)&\\approx& y(t)+f(y(t),t)h\\\\\n",
    "y(t_{n+1})&\\approx& y(t_{n})+f(y(t_n),t_n)h\n",
    "\\end{eqnarray}$$\n",
    "\n",
    "---\n",
    "\n",
    "<div class = \"video-w\">\n",
    "<img src=\"https://raw.githubusercontent.com/rafneta/CienciaDatosPythonCIDE/master/imagenes/euler.png\" widht=60%>\n",
    "</div>\n",
    "\n",
    "```\n",
    "\n",
    "\n",
    "\n",
    "\n",
    "\n",
    "\n",
    "```{admonition} Problema 1\n",
    "\n",
    "Encontrar una aproximación numérica a  \n",
    "\n",
    "$$\\dot{y}(t) = 3t^2,\\;\\;y(0)=2$$\n",
    "\n",
    "en el intervalo $[0,5]$ con paso $h=0.1$\n",
    "\n",
    "```\n"
   ]
  },
  {
   "cell_type": "code",
   "execution_count": 62,
   "id": "julian-response",
   "metadata": {},
   "outputs": [],
   "source": [
    "def f1(y,t):\n",
    "    return 3 * t ** 2\n"
   ]
  },
  {
   "cell_type": "code",
   "execution_count": 63,
   "id": "structured-heating",
   "metadata": {},
   "outputs": [],
   "source": [
    "\n",
    "def euler(f, a, b, y0 = 0, paso = 0.1, sol = None):\n",
    "    \n",
    "    vect = puntos_x(a, b, paso)\n",
    "\n",
    "    y = [y0]\n",
    "    \n",
    "    for t in vect[0:-1]:\n",
    "        y.append(y[-1]+ f(y[-1],t)*paso)\n",
    "    print(vect, y)\n",
    "        "
   ]
  },
  {
   "cell_type": "code",
   "execution_count": 64,
   "id": "certified-rough",
   "metadata": {},
   "outputs": [
    {
     "name": "stdout",
     "output_type": "stream",
     "text": [
      "[0.0, 0.1, 0.2, 0.30000000000000004, 0.4, 0.5, 0.6000000000000001, 0.7000000000000001, 0.8, 0.9, 1.0, 1.1, 1.2000000000000002, 1.3, 1.4000000000000001, 1.5, 1.6, 1.7000000000000002, 1.8, 1.9000000000000001, 2.0, 2.1, 2.2, 2.3000000000000003, 2.4000000000000004, 2.5, 2.6, 2.7, 2.8000000000000003, 2.9000000000000004, 3.0, 3.1, 3.2, 3.3000000000000003, 3.4000000000000004, 3.5, 3.6, 3.7, 3.8000000000000003, 3.9000000000000004, 4.0, 4.1000000000000005, 4.2, 4.3, 4.4, 4.5, 4.6000000000000005, 4.7, 4.800000000000001, 4.9, 5.0] [2, 2.0, 2.003, 2.015, 2.0420000000000003, 2.0900000000000003, 2.1650000000000005, 2.2730000000000006, 2.420000000000001, 2.612000000000001, 2.855000000000001, 3.155000000000001, 3.518000000000001, 3.950000000000001, 4.457000000000001, 5.045000000000001, 5.720000000000001, 6.488000000000001, 7.355000000000001, 8.327000000000002, 9.410000000000002, 10.610000000000003, 11.933000000000003, 13.385000000000003, 14.972000000000003, 16.700000000000003, 18.575000000000003, 20.603, 22.790000000000003, 25.142000000000003, 27.665000000000003, 30.365000000000002, 33.248000000000005, 36.32000000000001, 39.58700000000001, 43.055000000000014, 46.73000000000001, 50.61800000000001, 54.72500000000001, 59.05700000000001, 63.62000000000001, 68.42000000000002, 73.46300000000002, 78.75500000000002, 84.30200000000002, 90.11000000000003, 96.18500000000003, 102.53300000000003, 109.16000000000003, 116.07200000000003, 123.27500000000003]\n"
     ]
    }
   ],
   "source": [
    "euler(f1, 0, 5, 2)"
   ]
  },
  {
   "cell_type": "code",
   "execution_count": 65,
   "id": "above-village",
   "metadata": {},
   "outputs": [],
   "source": [
    "def grafica(vect, y, solucion = None, titulo='Aproximación a la solución', guardar=False):\n",
    "    fig=plt.figure(figsize=(8,4))#\n",
    "    ax=plt.axes()\n",
    "    ax.plot(vect, y, c = 'r', lw = 3, label = 'Gráfica de $y$')\n",
    "    ax.grid()\n",
    "    ax.set_xlabel('Valores de $t$', fontsize = 15)\n",
    "    ax.set_ylabel('Valores de $y$', fontsize = 15)\n",
    "    ax.set_title('Aproximación a la solución $y$',fontsize = 20)\n",
    "    leg = plt.legend(loc = 'best', shadow = True, fancybox = True)\n",
    "    leg.get_frame().set_alpha(0.9)\n",
    "    ax.xaxis.set_label_coords(0.5, -0.05)\n",
    "    ax.yaxis.set_label_coords(-0.08,0.5)\n",
    "    ax.spines['right'].set_color('none')\n",
    "    ax.spines['top'].set_color('none')\n",
    "    ax.xaxis.set_ticks_position('bottom')\n",
    "    ax.spines['bottom'].set_position(('data',0))\n",
    "    ax.yaxis.set_ticks_position('left')\n",
    "    ax.spines['left'].set_position(('data',0))\n",
    "    xlim=ax.get_xlim()\n",
    "    ylim=ax.get_ylim()\n",
    "    ax.set_xlim(min(xlim[0] * (0.9), xlim[0] * (1.1)), max(xlim[1] * 1.1, xlim[1] * 0.9))\n",
    "    ax.set_ylim(-0.2, max(ylim[1] * 1.1, ylim[1] * 0.9))\n",
    "    \n",
    "    if solucion != None:\n",
    "        plt.plot(vect,solucion)\n",
    "    \n",
    "    \n",
    "    if guardar:\n",
    "        plt.savefig(\"Fvac.png\")# Se puede guardar solo en el formato deseado\n",
    "        plt.savefig(\"Fvac.pdf\")#\n",
    "        #plt.savefig(\"Fvac.jpg\")#\n",
    "    plt.show()"
   ]
  },
  {
   "cell_type": "code",
   "execution_count": 66,
   "id": "numerous-distribution",
   "metadata": {},
   "outputs": [],
   "source": [
    "def euler(f, a, b, y0 = 0, paso = 0.1, sol = None):\n",
    "    \n",
    "    vect = puntos_x(a, b, paso)\n",
    "\n",
    "    y = [y0]\n",
    "    \n",
    "    for t in vect[0:-1]:\n",
    "        y.append(y[-1]+ f(y[-1],t)*paso)\n",
    "    grafica(vect, y, solucion = sol)"
   ]
  },
  {
   "cell_type": "code",
   "execution_count": 67,
   "id": "introductory-publication",
   "metadata": {},
   "outputs": [
    {
     "data": {
      "image/png": "[encoded data removed]",
      "text/plain": [
       "<Figure size 576x288 with 1 Axes>"
      ]
     },
     "metadata": {
      "needs_background": "light"
     },
     "output_type": "display_data"
    }
   ],
   "source": [
    "euler(f1, 0, 5, 2)"
   ]
  },
  {
   "cell_type": "code",
   "execution_count": 68,
   "id": "uniform-yellow",
   "metadata": {},
   "outputs": [],
   "source": [
    "# solución analitica\n",
    "\n",
    "\n",
    "def f1sol(t):\n",
    "    return  t ** 3 + 2\n",
    "\n",
    "\n",
    "def euler(f, a, b, y0 = 0, paso = 0.1, sol = None):\n",
    "    \n",
    "    vect = puntos_x(a, b, paso)\n",
    "\n",
    "    y = [y0]\n",
    "    \n",
    "    for t in vect[0:-1]:\n",
    "        y.append(y[-1]+ f(y[-1],t)*paso)\n",
    "        \n",
    "    if sol != None:\n",
    "        ana = []\n",
    "        for t in vect:\n",
    "            ana.append(sol(t))\n",
    "        grafica(vect, y, solucion = ana)\n",
    "    else:\n",
    "        grafica(vect, y)"
   ]
  },
  {
   "cell_type": "code",
   "execution_count": 69,
   "id": "copyrighted-blame",
   "metadata": {},
   "outputs": [
    {
     "data": {
      "image/png": "[encoded data removed]",
      "text/plain": [
       "<Figure size 576x288 with 1 Axes>"
      ]
     },
     "metadata": {
      "needs_background": "light"
     },
     "output_type": "display_data"
    }
   ],
   "source": [
    "euler(f1, 0, 5, 2, sol = f1sol)"
   ]
  },
  {
   "cell_type": "markdown",
   "id": "common-dublin",
   "metadata": {},
   "source": [
    "\n",
    "```{admonition} Problema 2\n",
    "\n",
    "Encontrar una aproximación numérica a\n",
    "\n",
    "$$\\dot{y}(t) = -t^2y,\\;\\;y(0)=2$$\n",
    "\n",
    "en el intervalo $[0,2]$ con paso $h=0.1$\n",
    "\n",
    "```"
   ]
  },
  {
   "cell_type": "code",
   "execution_count": 70,
   "id": "dedicated-feature",
   "metadata": {},
   "outputs": [
    {
     "data": {
      "image/png": "[encoded data removed]",
      "text/plain": [
       "<Figure size 576x288 with 1 Axes>"
      ]
     },
     "metadata": {
      "needs_background": "light"
     },
     "output_type": "display_data"
    }
   ],
   "source": [
    "\n",
    "def f2(y,t):\n",
    "    return -t**2*y\n",
    "\n",
    "def f2sol(t):\n",
    "    return 2*math.exp(-t**3/3)\n",
    "\n",
    "euler(f2, 0, 2, 2, 0.1, f2sol)"
   ]
  },
  {
   "cell_type": "markdown",
   "id": "statutory-paste",
   "metadata": {},
   "source": [
    "```{admonition} Problema 3\n",
    "\n",
    "Encontrar una aproximación numérica a\n",
    "\n",
    "$$\\frac{dy}{dx} = \\frac{2x+3y+1}{3x-2y-5},\\;\\;y(0)=2$$\n",
    "\n",
    "en el intervalo $[0,1]$ con paso $h=0.1$\n",
    "\n",
    "```"
   ]
  },
  {
   "cell_type": "code",
   "execution_count": 71,
   "id": "reduced-chess",
   "metadata": {},
   "outputs": [
    {
     "data": {
      "image/png": "[encoded data removed]",
      "text/plain": [
       "<Figure size 576x288 with 1 Axes>"
      ]
     },
     "metadata": {
      "needs_background": "light"
     },
     "output_type": "display_data"
    }
   ],
   "source": [
    "def f3(y,x):\n",
    "    return (2*x+3*y+1)/(3*x-2*y-5)\n",
    "\n",
    "\n",
    "euler(f3, 0, 1, 2, 0.1)"
   ]
  },
  {
   "cell_type": "markdown",
   "id": "choice-witch",
   "metadata": {},
   "source": [
    "Algunas ecuaciones no tendrán una aproximación numérica que se implemente de manera sencilla. Por lo que se pude recurrir funciones ya destiandas para resolver estos problemas, incluso con ello,  algunas funciones son lo bastante sofisticadas que  establecer algunos argumentos de entrada es complicado (de no conocerse la teoría del método). Por ejemplo revise la documentación de [solve_ivp](https://docs.scipy.org/doc/scipy/reference/generated/scipy.integrate.solve_ivp.html#scipy.integrate.solve_ivp) del submódulo integrate del módulo scipy, que es una función para resolver problemas de valor inicial. "
   ]
  },
  {
   "cell_type": "code",
   "execution_count": 72,
   "id": "transparent-bulletin",
   "metadata": {},
   "outputs": [
    {
     "name": "stdout",
     "output_type": "stream",
     "text": [
      "  message: 'The solver successfully reached the end of the integration interval.'\n",
      "     nfev: 68\n",
      "     njev: 0\n",
      "      nlu: 0\n",
      "      sol: None\n",
      "   status: 0\n",
      "  success: True\n",
      "        t: array([0. , 0.1, 0.2, 0.3, 0.4, 0.5, 0.6, 0.7, 0.8, 0.9, 1. , 1. ])\n",
      " t_events: None\n",
      "        y: array([[2.        , 1.92038615, 1.83686967, 1.74905429, 1.65645985,\n",
      "        1.55849435, 1.45441243, 1.34325145, 1.22372797, 1.09405967,\n",
      "        0.9516335 , 0.9516335 ]])\n",
      " y_events: None\n"
     ]
    },
    {
     "data": {
      "text/plain": [
       "scipy.integrate._ivp.ivp.OdeResult"
      ]
     },
     "execution_count": 72,
     "metadata": {},
     "output_type": "execute_result"
    }
   ],
   "source": [
    "from scipy.integrate import solve_ivp\n",
    "\n",
    "\n",
    "def f3(x,y):\n",
    "    return (2*x+3*y+1)/(3*x-2*y-5)\n",
    "\n",
    "sol = solve_ivp(f3, [0,1], [2], max_step = 0.1)\n",
    "\n",
    "print(sol)\n",
    "type(sol)"
   ]
  },
  {
   "cell_type": "code",
   "execution_count": 73,
   "id": "removable-mouse",
   "metadata": {},
   "outputs": [
    {
     "data": {
      "image/png": "[encoded data removed]",
      "text/plain": [
       "<Figure size 576x288 with 1 Axes>"
      ]
     },
     "metadata": {
      "needs_background": "light"
     },
     "output_type": "display_data"
    }
   ],
   "source": [
    "#def grafica(vect, y, solucion = None, titulo='Aproximación a la solución', guardar=False):\n",
    "\n",
    "grafica(sol.t, list(sol.y[0]))"
   ]
  },
  {
   "cell_type": "markdown",
   "id": "treated-shock",
   "metadata": {},
   "source": [
    "\n",
    "## Ejemplos: Problemas generales\n",
    "\n",
    "\n",
    "```{admonition} Problema \n",
    "The number 3797 has an interesting property. Being prime itself, it is possible to continuously remove digits from left to right, and remain prime at each stage: 3797, 797, 97, and 7. Similarly we can work from right to left: 3797, 379, 37, and 3.\n",
    "\n",
    "Find the sum of the only eleven primes that are both truncatable from left to right and right to left.\n",
    "\n",
    "NOTE: 2, 3, 5, and 7 are not considered to be truncatable primes\n",
    "```\n",
    "\n",
    "- No se implementará la solución, porque es un problema propuesto en un sitio especifico\n",
    "- Se impleemntará un bosquejo de una solución, no necesariamente eficiente (con eficiente nos referimos a qeu tarde poco)\n",
    "- Problemas de este tipo se encuentran en [Proyect Euler](https://projecteuler.net)\n",
    "\n"
   ]
  },
  {
   "cell_type": "code",
   "execution_count": 74,
   "id": "seeing-liberia",
   "metadata": {
    "tags": [
     "hide-input"
    ]
   },
   "outputs": [],
   "source": [
    "# Utilizamos la congetura de Agoh–Giuga para saber si un número es primo \n",
    "\n",
    "def primo(p):\n",
    "    \n",
    "    if p == 1:\n",
    "        return False\n",
    "    elif (math.factorial(p - 1) + 1) % p == 0:\n",
    "        return True\n",
    "    else: \n",
    "        return False\n",
    "    \n",
    "\n",
    "# Buscamos de izquierda a derecha para saber si es primo truncable\n",
    "\n",
    "def primo_id(p):\n",
    "    ps = str(p)\n",
    "    for i in range(len(ps)):\n",
    "        ps_trun = ps[i:]\n",
    "        # print(i,ps_trun)\n",
    "        ps_trun_i = int(ps_trun)\n",
    "        if not primo(ps_trun_i):\n",
    "            return False\n",
    "    return True\n",
    "\n",
    "\n",
    "# Dada una secuencia nos quedamos con los primos truncables\n",
    "\n",
    "def secuencia(lista):\n",
    "    \n",
    "    truncables = []\n",
    "    \n",
    "    for i in lista:\n",
    "        if primo_id(i):\n",
    "            truncables.append(i)\n",
    "    return truncables\n",
    "\n",
    "\n",
    "def mensaje():\n",
    "    \n",
    "    print(\"Hola, este programa implementa una solución parcial del problema 20 de\\n\\\n",
    "    Proyect Euler, dada una lista de numeros regresa la suma\\n \\\n",
    "    de los elementos que sean primos trucables de izquierda a derecha\\n\")\n",
    "    "
   ]
  },
  {
   "cell_type": "code",
   "execution_count": 75,
   "id": "listed-prime",
   "metadata": {},
   "outputs": [
    {
     "name": "stdout",
     "output_type": "stream",
     "text": [
      "Hola, este programa implementa una solución parcial del problema 20 de\n",
      "    Proyect Euler, dada una lista de numeros regresa la suma\n",
      "     de los elementos que sean primos trucables de izquierda a derecha\n",
      "\n",
      "la lista es:  [13, 17, 23, 37, 43, 47, 53, 67, 73, 83, 97, 103, 107, 113, 137, 167, 173, 197, 223, 283, 307, 313, 317, 337, 347, 353, 367, 373, 383, 397, 443, 467] \n",
      "\n",
      "la suma es:6460\n"
     ]
    }
   ],
   "source": [
    "mensaje()\n",
    "L = range(11,500)\n",
    "p_trun = secuencia(L)\n",
    "print(\"la lista es: \",p_trun,'\\n')\n",
    "print(\"la suma es:\" + str(sum(p_trun)))"
   ]
  },
  {
   "cell_type": "code",
   "execution_count": 76,
   "id": "affected-interpretation",
   "metadata": {},
   "outputs": [
    {
     "data": {
      "text/plain": [
       "True"
      ]
     },
     "execution_count": 76,
     "metadata": {},
     "output_type": "execute_result"
    }
   ],
   "source": [
    "primo_id(3797)"
   ]
  },
  {
   "cell_type": "code",
   "execution_count": 77,
   "id": "creative-relevance",
   "metadata": {},
   "outputs": [
    {
     "data": {
      "text/plain": [
       "''"
      ]
     },
     "execution_count": 77,
     "metadata": {},
     "output_type": "execute_result"
    }
   ],
   "source": [
    "a = 'hola'\n",
    "a[3:3]"
   ]
  },
  {
   "cell_type": "markdown",
   "id": "viral-inventory",
   "metadata": {},
   "source": [
    "## Apéndice\n",
    "\n",
    "**Ayuda y docstring**"
   ]
  },
  {
   "cell_type": "code",
   "execution_count": 78,
   "id": "inclusive-hazard",
   "metadata": {},
   "outputs": [
    {
     "name": "stdout",
     "output_type": "stream",
     "text": [
      "Help on built-in function sum in module builtins:\n",
      "\n",
      "sum(iterable, start=0, /)\n",
      "    Return the sum of a 'start' value (default: 0) plus an iterable of numbers\n",
      "    \n",
      "    When the iterable is empty, return the start value.\n",
      "    This function is intended specifically for use with numeric values and may\n",
      "    reject non-numeric types.\n",
      "\n"
     ]
    }
   ],
   "source": [
    "help(sum)"
   ]
  },
  {
   "cell_type": "code",
   "execution_count": 79,
   "id": "proof-optimum",
   "metadata": {},
   "outputs": [
    {
     "data": {
      "text/plain": [
       "\u001b[0;31mSignature:\u001b[0m \u001b[0msum\u001b[0m\u001b[0;34m(\u001b[0m\u001b[0miterable\u001b[0m\u001b[0;34m,\u001b[0m \u001b[0mstart\u001b[0m\u001b[0;34m=\u001b[0m\u001b[0;36m0\u001b[0m\u001b[0;34m,\u001b[0m \u001b[0;34m/\u001b[0m\u001b[0;34m)\u001b[0m\u001b[0;34m\u001b[0m\u001b[0;34m\u001b[0m\u001b[0m\n",
       "\u001b[0;31mDocstring:\u001b[0m\n",
       "Return the sum of a 'start' value (default: 0) plus an iterable of numbers\n",
       "\n",
       "When the iterable is empty, return the start value.\n",
       "This function is intended specifically for use with numeric values and may\n",
       "reject non-numeric types.\n",
       "\u001b[0;31mType:\u001b[0m      builtin_function_or_method\n"
      ]
     },
     "metadata": {},
     "output_type": "display_data"
    }
   ],
   "source": [
    "?sum"
   ]
  },
  {
   "cell_type": "code",
   "execution_count": 80,
   "id": "included-sunset",
   "metadata": {},
   "outputs": [
    {
     "name": "stdout",
     "output_type": "stream",
     "text": [
      "Help on method_descriptor:\n",
      "\n",
      "find(...)\n",
      "    S.find(sub[, start[, end]]) -> int\n",
      "    \n",
      "    Return the lowest index in S where substring sub is found,\n",
      "    such that sub is contained within S[start:end].  Optional\n",
      "    arguments start and end are interpreted as in slice notation.\n",
      "    \n",
      "    Return -1 on failure.\n",
      "\n"
     ]
    }
   ],
   "source": [
    "help(str.find)"
   ]
  },
  {
   "cell_type": "code",
   "execution_count": 81,
   "id": "chicken-brazil",
   "metadata": {
    "tags": [
     "output_scroll"
    ]
   },
   "outputs": [
    {
     "data": {
      "text/plain": [
       "['__add__',\n",
       " '__class__',\n",
       " '__contains__',\n",
       " '__delattr__',\n",
       " '__dir__',\n",
       " '__doc__',\n",
       " '__eq__',\n",
       " '__format__',\n",
       " '__ge__',\n",
       " '__getattribute__',\n",
       " '__getitem__',\n",
       " '__getnewargs__',\n",
       " '__gt__',\n",
       " '__hash__',\n",
       " '__init__',\n",
       " '__init_subclass__',\n",
       " '__iter__',\n",
       " '__le__',\n",
       " '__len__',\n",
       " '__lt__',\n",
       " '__mod__',\n",
       " '__mul__',\n",
       " '__ne__',\n",
       " '__new__',\n",
       " '__reduce__',\n",
       " '__reduce_ex__',\n",
       " '__repr__',\n",
       " '__rmod__',\n",
       " '__rmul__',\n",
       " '__setattr__',\n",
       " '__sizeof__',\n",
       " '__str__',\n",
       " '__subclasshook__',\n",
       " 'capitalize',\n",
       " 'casefold',\n",
       " 'center',\n",
       " 'count',\n",
       " 'encode',\n",
       " 'endswith',\n",
       " 'expandtabs',\n",
       " 'find',\n",
       " 'format',\n",
       " 'format_map',\n",
       " 'index',\n",
       " 'isalnum',\n",
       " 'isalpha',\n",
       " 'isascii',\n",
       " 'isdecimal',\n",
       " 'isdigit',\n",
       " 'isidentifier',\n",
       " 'islower',\n",
       " 'isnumeric',\n",
       " 'isprintable',\n",
       " 'isspace',\n",
       " 'istitle',\n",
       " 'isupper',\n",
       " 'join',\n",
       " 'ljust',\n",
       " 'lower',\n",
       " 'lstrip',\n",
       " 'maketrans',\n",
       " 'partition',\n",
       " 'replace',\n",
       " 'rfind',\n",
       " 'rindex',\n",
       " 'rjust',\n",
       " 'rpartition',\n",
       " 'rsplit',\n",
       " 'rstrip',\n",
       " 'split',\n",
       " 'splitlines',\n",
       " 'startswith',\n",
       " 'strip',\n",
       " 'swapcase',\n",
       " 'title',\n",
       " 'translate',\n",
       " 'upper',\n",
       " 'zfill']"
      ]
     },
     "execution_count": 81,
     "metadata": {},
     "output_type": "execute_result"
    }
   ],
   "source": [
    "dir(str)"
   ]
  },
  {
   "cell_type": "code",
   "execution_count": 82,
   "id": "overhead-dealer",
   "metadata": {},
   "outputs": [
    {
     "name": "stdout",
     "output_type": "stream",
     "text": [
      "Help on built-in function dir in module builtins:\n",
      "\n",
      "dir(...)\n",
      "    dir([object]) -> list of strings\n",
      "    \n",
      "    If called without an argument, return the names in the current scope.\n",
      "    Else, return an alphabetized list of names comprising (some of) the attributes\n",
      "    of the given object, and of attributes reachable from it.\n",
      "    If the object supplies a method named __dir__, it will be used; otherwise\n",
      "    the default dir() logic is used and returns:\n",
      "      for a module object: the module's attributes.\n",
      "      for a class object:  its attributes, and recursively the attributes\n",
      "        of its bases.\n",
      "      for any other object: its attributes, its class's attributes, and\n",
      "        recursively the attributes of its class's base classes.\n",
      "\n"
     ]
    }
   ],
   "source": [
    "help(dir)"
   ]
  },
  {
   "cell_type": "code",
   "execution_count": 83,
   "id": "present-coordinator",
   "metadata": {
    "tags": [
     "output_scroll"
    ]
   },
   "outputs": [
    {
     "data": {
      "text/plain": [
       "['F',\n",
       " 'In',\n",
       " 'L',\n",
       " 'Out',\n",
       " '_',\n",
       " '_1',\n",
       " '_10',\n",
       " '_11',\n",
       " '_53',\n",
       " '_72',\n",
       " '_76',\n",
       " '_77',\n",
       " '_81',\n",
       " '__',\n",
       " '___',\n",
       " '__builtin__',\n",
       " '__builtins__',\n",
       " '__doc__',\n",
       " '__loader__',\n",
       " '__name__',\n",
       " '__package__',\n",
       " '__spec__',\n",
       " '_dh',\n",
       " '_i',\n",
       " '_i1',\n",
       " '_i10',\n",
       " '_i11',\n",
       " '_i12',\n",
       " '_i13',\n",
       " '_i14',\n",
       " '_i15',\n",
       " '_i16',\n",
       " '_i17',\n",
       " '_i18',\n",
       " '_i19',\n",
       " '_i2',\n",
       " '_i20',\n",
       " '_i21',\n",
       " '_i22',\n",
       " '_i23',\n",
       " '_i24',\n",
       " '_i25',\n",
       " '_i26',\n",
       " '_i27',\n",
       " '_i28',\n",
       " '_i29',\n",
       " '_i3',\n",
       " '_i30',\n",
       " '_i31',\n",
       " '_i32',\n",
       " '_i33',\n",
       " '_i34',\n",
       " '_i35',\n",
       " '_i36',\n",
       " '_i37',\n",
       " '_i38',\n",
       " '_i39',\n",
       " '_i4',\n",
       " '_i40',\n",
       " '_i41',\n",
       " '_i42',\n",
       " '_i43',\n",
       " '_i44',\n",
       " '_i45',\n",
       " '_i46',\n",
       " '_i47',\n",
       " '_i48',\n",
       " '_i49',\n",
       " '_i5',\n",
       " '_i50',\n",
       " '_i51',\n",
       " '_i52',\n",
       " '_i53',\n",
       " '_i54',\n",
       " '_i55',\n",
       " '_i56',\n",
       " '_i57',\n",
       " '_i58',\n",
       " '_i59',\n",
       " '_i6',\n",
       " '_i60',\n",
       " '_i61',\n",
       " '_i62',\n",
       " '_i63',\n",
       " '_i64',\n",
       " '_i65',\n",
       " '_i66',\n",
       " '_i67',\n",
       " '_i68',\n",
       " '_i69',\n",
       " '_i7',\n",
       " '_i70',\n",
       " '_i71',\n",
       " '_i72',\n",
       " '_i73',\n",
       " '_i74',\n",
       " '_i75',\n",
       " '_i76',\n",
       " '_i77',\n",
       " '_i78',\n",
       " '_i79',\n",
       " '_i8',\n",
       " '_i80',\n",
       " '_i81',\n",
       " '_i82',\n",
       " '_i83',\n",
       " '_i9',\n",
       " '_ih',\n",
       " '_ii',\n",
       " '_iii',\n",
       " '_oh',\n",
       " 'a',\n",
       " 'ax',\n",
       " 'euler',\n",
       " 'exit',\n",
       " 'f',\n",
       " 'f1',\n",
       " 'f1sol',\n",
       " 'f2',\n",
       " 'f2sol',\n",
       " 'f3',\n",
       " 'gFdvac',\n",
       " 'get_ipython',\n",
       " 'gfdvac',\n",
       " 'grafica',\n",
       " 'i',\n",
       " 'li',\n",
       " 'ls',\n",
       " 'math',\n",
       " 'mensaje',\n",
       " 'np',\n",
       " 'numero_puntos',\n",
       " 'p_trun',\n",
       " 'paso',\n",
       " 'plt',\n",
       " 'primo',\n",
       " 'primo_id',\n",
       " 'puntos_x',\n",
       " 'quit',\n",
       " 'secuencia',\n",
       " 'sol',\n",
       " 'solve_ivp',\n",
       " 'stats',\n",
       " 'tipo',\n",
       " 'valores_x',\n",
       " 'variable',\n",
       " 'vct',\n",
       " 'x',\n",
       " 'xlim',\n",
       " 'y',\n",
       " 'ylim',\n",
       " 'z']"
      ]
     },
     "execution_count": 83,
     "metadata": {},
     "output_type": "execute_result"
    }
   ],
   "source": [
    "dir()"
   ]
  },
  {
   "cell_type": "markdown",
   "id": "electrical-leave",
   "metadata": {},
   "source": [
    "**Asigmación Múltiple**"
   ]
  },
  {
   "cell_type": "code",
   "execution_count": 84,
   "id": "bright-cursor",
   "metadata": {},
   "outputs": [],
   "source": [
    "tipo, x, y, z, variable = 'Cadena', -1, 2.6, 10, True"
   ]
  },
  {
   "cell_type": "code",
   "execution_count": 85,
   "id": "twelve-advisory",
   "metadata": {},
   "outputs": [
    {
     "name": "stdout",
     "output_type": "stream",
     "text": [
      "Cadena <class 'str'>\n",
      "-1 <class 'int'>\n",
      "2.6 <class 'float'>\n",
      "10 <class 'int'>\n",
      "True <class 'bool'>\n"
     ]
    }
   ],
   "source": [
    "print(tipo, type(tipo))\n",
    "print(x, type(x))\n",
    "print(y, type(y))\n",
    "print(z, type(z))\n",
    "print(variable, type(variable))"
   ]
  },
  {
   "cell_type": "code",
   "execution_count": null,
   "id": "champion-lafayette",
   "metadata": {},
   "outputs": [],
   "source": []
  }
 ],
 "metadata": {
  "celltoolbar": "Edit Metadata",
  "kernelspec": {
   "display_name": "Python 3",
   "language": "python",
   "name": "python3"
  },
  "language_info": {
   "codemirror_mode": {
    "name": "ipython",
    "version": 3
   },
   "file_extension": ".py",
   "mimetype": "text/x-python",
   "name": "python",
   "nbconvert_exporter": "python",
   "pygments_lexer": "ipython3",
   "version": "3.7.9"
  },
  "toc": {
   "base_numbering": 1,
   "nav_menu": {},
   "number_sections": true,
   "sideBar": true,
   "skip_h1_title": false,
   "title_cell": "Contenido",
   "title_sidebar": "Contenido",
   "toc_cell": true,
   "toc_position": {},
   "toc_section_display": true,
   "toc_window_display": false
  }
 },
 "nbformat": 4,
 "nbformat_minor": 5
}
