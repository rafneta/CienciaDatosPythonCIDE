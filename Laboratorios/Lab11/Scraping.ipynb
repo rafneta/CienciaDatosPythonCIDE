{
 "cells": [
  {
   "cell_type": "code",
   "execution_count": null,
   "metadata": {},
   "outputs": [],
   "source": [
    "import urllib\n",
    "import requests\n",
    "from bs4 import BeautifulSoup"
   ]
  },
  {
   "cell_type": "code",
   "execution_count": null,
   "metadata": {},
   "outputs": [],
   "source": [
    "\n",
    "\n",
    "link = \"http://rafneta.github.io/Notas/NotasSyS/index.html\"\n",
    "f = urllib.request.urlopen(link)\n",
    "myfile = f.read()\n",
    "pagina = str(myfile, 'utf-8')"
   ]
  },
  {
   "cell_type": "code",
   "execution_count": null,
   "metadata": {},
   "outputs": [],
   "source": [
    "pagina[0:10000]\n",
    "pes1=re.findall(r\"<p>.+</p>\",pagina)\n",
    "len(pes1)\n",
    "pes1[0]\n",
    "soup = BeautifulSoup(pagina, 'html.parser')\n",
    "pes=soup.findAll(\"p\")\n",
    "len(pes)\n",
    "pes[0:3]\n",
    "pes1=re.findall(r\"<p.*/p.+>\",pagina)\n",
    "print(len(pes1))\n",
    "pes1[0:3]\n",
    "enlaces\n",
    "divs"
   ]
  }
 ],
 "metadata": {
  "kernelspec": {
   "display_name": "Python 3",
   "language": "python",
   "name": "python3"
  },
  "language_info": {
   "codemirror_mode": {
    "name": "ipython",
    "version": 3
   },
   "file_extension": ".py",
   "mimetype": "text/x-python",
   "name": "python",
   "nbconvert_exporter": "python",
   "pygments_lexer": "ipython3",
   "version": "3.8.5"
  }
 },
 "nbformat": 4,
 "nbformat_minor": 4
}
