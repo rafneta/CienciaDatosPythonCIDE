{
 "cells": [
  {
   "cell_type": "markdown",
   "metadata": {},
   "source": [
    "![](https://raw.githubusercontent.com/rafneta/CienciaDatosPythonCIDE/master/imagenes/banner.png)\n",
    "# Calendario Laboratorio "
   ]
  },
  {
   "cell_type": "markdown",
   "metadata": {},
   "source": [
    "\n",
    "\n",
    "````{panels}\n",
    "Primavera 2021\n",
    "---\n",
    "\n",
    "````"
   ]
  },
  {
   "cell_type": "markdown",
   "metadata": {},
   "source": [
    "\n",
    "## **Fundamentos de programación**\n",
    "\n",
    "\n",
    "###  Laboratorio 1\n",
    "**Viernes 29/enero**\n",
    "\n",
    "- Instalación de Anaconda \n",
    "- Introdución a GitHub \n",
    "\n",
    "###  Laboratorio 2\n",
    "**Viernes 5/febrero**\n",
    "\n",
    "- Tipos de datos \n",
    "- Flujo (if -elif - else)\n",
    "- Funciones, módulos\n",
    "\n",
    "\n",
    "Viernes 12/febrero\n",
    "\n",
    "Viernes 19/febrero\n",
    "\n",
    "\n",
    "Viernes 26/febrero\n",
    "\n",
    "\n",
    "Viernes 5/marzo\n",
    "\n",
    "\n",
    "Viernes 12/marzo\n",
    "\n",
    "\n",
    "Viernes 19/marzo\n",
    "\n",
    "___\n",
    "\n",
    "\n",
    "## **Pipeline del Data Scientist**\n",
    "\n",
    "Viernes 26/marzo\n",
    "\n",
    "\n",
    "Viernes 9/abril\n",
    "\n",
    "\n",
    "Viernes 16/abril\n",
    "\n",
    "\n",
    "Viernes 23/abril\n",
    "\n",
    "\n",
    "Viernes 30/abril\n",
    "\n",
    "\n",
    "\n",
    "Viernes 7/mayo\n",
    "\n",
    "\n",
    "Viernes 14/mayo\n",
    "\n",
    "\n",
    "Viernes 21/mayo\n",
    "\n",
    "\n",
    "Viernes 28/mayo\n"
   ]
  }
 ],
 "metadata": {
  "kernelspec": {
   "display_name": "Python 3",
   "language": "python",
   "name": "python3"
  },
  "language_info": {
   "codemirror_mode": {
    "name": "ipython",
    "version": 3
   },
   "file_extension": ".py",
   "mimetype": "text/x-python",
   "name": "python",
   "nbconvert_exporter": "python",
   "pygments_lexer": "ipython3",
   "version": "3.7.9"
  }
 },
 "nbformat": 4,
 "nbformat_minor": 4
}
