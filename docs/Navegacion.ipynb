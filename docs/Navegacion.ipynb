{
 "cells": [
  {
   "cell_type": "markdown",
   "metadata": {
    "toc": true
   },
   "source": [
    "![](https://raw.githubusercontent.com/rafneta/CienciaDatosPythonCIDE/master/imagenes/banner.png)\n",
    "\n",
    "```{contents}\n",
    ":depth: 4\n",
    "```"
   ]
  },
  {
   "cell_type": "markdown",
   "metadata": {},
   "source": [
    "# Navegación en el libro "
   ]
  },
  {
   "cell_type": "markdown",
   "metadata": {},
   "source": [
    "El libro se puede consultar en dipositivos movíles, así como PC. La visualización es un poco diferente en cada dispositivo, pero los componentes son los mismos. \n",
    "\n",
    "En la visualización de una PC, en la parte izquierda de la pantalla se encuentra el menu principal en orden descendente.\n",
    "\n",
    "En la parte de la derecha esta el menu del documento actual, también en forma descendente\n",
    "\n",
    "En la parte superior se pueden encontrar algunos iconos que se explican a continuación"
   ]
  },
  {
   "cell_type": "markdown",
   "metadata": {},
   "source": [
    "## <i class=\"fa fa-rocket\" aria-hidden=\"true\"></i> Notebook Interactivo \n",
    "\n",
    "De estar disponible este icono se tienen las siguientes opciones para interactuar:\n",
    "\n",
    "- <img src = \"https://raw.githubusercontent.com/rafneta/CienciaDatosPythonCIDE/master/imagenes/logo_binder.svg\"  width=\"20\" height=\"20\"> Genera el [Binder](https://mybinder.org/) del documento actual\n",
    "\n",
    "- <img src = \"https://raw.githubusercontent.com/rafneta/CienciaDatosPythonCIDE/master/imagenes/logo_colab.png\"  width=\"20\" height=\"20\"> Genera el [Google Colab](https://colab.research.google.com) del documento actual\n",
    "\n",
    "- <i class=\"fas fa-play\"></i> Genera interacción en el  documento actual con [Thebe](https://github.com/executablebooks/thebe)\n",
    "\n"
   ]
  },
  {
   "cell_type": "markdown",
   "metadata": {},
   "source": [
    "## <i class=\"fas fa-expand\" aria-hidden=\"true\"></i> Pantalla completa\n",
    "\n",
    "Visualización en pantalla completa "
   ]
  },
  {
   "cell_type": "markdown",
   "metadata": {},
   "source": [
    "## <i class=\"fab fa-github\" aria-hidden=\"true\"></i> GitHub \n",
    " \n",
    "- <i class=\"fab fa-github\" aria-hidden=\"true\"></i> Para visitar el repositorio \n",
    "\n",
    "- <i class=\"fas fa-lightbulb\"></i> Si se queire exponer un problema del documento actual,  \n",
    "\n"
   ]
  },
  {
   "cell_type": "markdown",
   "metadata": {},
   "source": [
    "## <i class=\"fa fa-download\" aria-hidden=\"true\"></i>  Descargar Archivos\n",
    "\n",
    "Se puede descargar la página en los formatos disponibles\n",
    "\n",
    "- Jupyter notebook *.ipynb (cuando se encuentre disponible)\n",
    "- Markdown *.md (cuando este desponible)\n",
    "- Documento *.pdf (siempre disponible, con la impresion del navegador)\n"
   ]
  },
  {
   "cell_type": "markdown",
   "metadata": {},
   "source": [
    "## Mostrar/Ocultar"
   ]
  },
  {
   "cell_type": "markdown",
   "metadata": {},
   "source": [
    "En algunas páginas pueden tener contenido por mostrar.  Cuando esto suceda, en el extremo derecho aparecerá la leyenda \"Click to Show\"."
   ]
  },
  {
   "cell_type": "code",
   "execution_count": 3,
   "metadata": {
    "tags": [
     "hide-output"
    ]
   },
   "outputs": [
    {
     "name": "stdout",
     "output_type": "stream",
     "text": [
      "Ejemplo de 'Click to Show'\n"
     ]
    }
   ],
   "source": [
    "print(\"Ejemplo de 'Click to Show'\")"
   ]
  },
  {
   "cell_type": "code",
   "execution_count": 2,
   "metadata": {
    "tags": [
     "hide-output"
    ]
   },
   "outputs": [
    {
     "data": {
      "text/plain": [
       "256"
      ]
     },
     "execution_count": 2,
     "metadata": {},
     "output_type": "execute_result"
    }
   ],
   "source": [
    "4 ** 4"
   ]
  },
  {
   "cell_type": "markdown",
   "metadata": {},
   "source": [
    "## Sobre el software del libro\n",
    "\n",
    "\n",
    "Este libro se ha creado con [Jupyter Book](https://jupyterbook.org/intro.html). El cual puede ser una herramienta para presentar el proyecto final. "
   ]
  },
  {
   "cell_type": "code",
   "execution_count": null,
   "metadata": {},
   "outputs": [],
   "source": []
  }
 ],
 "metadata": {
  "celltoolbar": "Edit Metadata",
  "kernelspec": {
   "display_name": "Python 3",
   "language": "python",
   "name": "python3"
  },
  "language_info": {
   "codemirror_mode": {
    "name": "ipython",
    "version": 3
   },
   "file_extension": ".py",
   "mimetype": "text/x-python",
   "name": "python",
   "nbconvert_exporter": "python",
   "pygments_lexer": "ipython3",
   "version": "3.7.9"
  },
  "toc": {
   "base_numbering": 1,
   "nav_menu": {},
   "number_sections": true,
   "sideBar": true,
   "skip_h1_title": false,
   "title_cell": "Contenido",
   "title_sidebar": "Contenido",
   "toc_cell": true,
   "toc_position": {},
   "toc_section_display": true,
   "toc_window_display": true
  }
 },
 "nbformat": 4,
 "nbformat_minor": 4
}
