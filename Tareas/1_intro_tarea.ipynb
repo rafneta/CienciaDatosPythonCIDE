{
  "nbformat": 4,
  "nbformat_minor": 0,
  "metadata": {
    "colab": {
      "name": "1_intro_lab-est.ipynb",
      "provenance": [],
      "collapsed_sections": [],
      "toc_visible": true
    },
    "kernelspec": {
      "display_name": "Python 3",
      "language": "python",
      "name": "python3"
    },
    "language_info": {
      "codemirror_mode": {
        "name": "ipython",
        "version": 3
      },
      "file_extension": ".py",
      "mimetype": "text/x-python",
      "name": "python",
      "nbconvert_exporter": "python",
      "pygments_lexer": "ipython3",
      "version": "3.7.6"
    }
  },
  "cells": [
    {
      "cell_type": "markdown",
      "metadata": {
        "id": "LJQgOd5mRvsh"
      },
      "source": [
        "## Tarea 1\n",
        "\n",
        "En esta tarea repasaremos los conceptos de creación de variables y expresiones. La idea es hacerlo a través de ejemplos concretos y aplicados a situaciones que podrías enfrentarte en un entorno laboral. "
      ]
    },
    {
      "cell_type": "markdown",
      "metadata": {
        "id": "eB_SBRHbqeK0"
      },
      "source": [
        "### PARTE 1"
      ]
    },
    {
      "cell_type": "markdown",
      "metadata": {
        "id": "syVe9hQNSmPY"
      },
      "source": [
        "### Calculadora de préstamos\n",
        "\n",
        "1. Trabajas en un banco que da préstamos a personas. Tu jefe te pide que generes una herramienta que le permita a las personas calcular cuáles son las cuotas mensuales y el costo total de la deuda. \n",
        "\n",
        "Te menciona que los pagos son mensuales, pero la herramienta debería tomar plazo, tasa de interés y monto del préstamo, y arrojarte una cuota. \n",
        "También te dice que la fórmula para calcular las cuotas es:"
      ]
    },
    {
      "cell_type": "markdown",
      "metadata": {
        "id": "MVQavCIZQ6Iw"
      },
      "source": [
        "![cuotas.jpg](data:image/jpeg;base64,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)"
      ]
    },
    {
      "cell_type": "markdown",
      "metadata": {
        "id": "hPkmokigYOKr"
      },
      "source": [
        "Te dieron un código pero tiene algunos errores y no está arrojando el resultado correcto"
      ]
    },
    {
      "cell_type": "markdown",
      "metadata": {
        "id": "cTziCgRRq2dq"
      },
      "source": [
        "#### Antes, de empezar, un poco de contexto\r\n",
        "Python tiene una función llamada input que te permite escribir un valor como si fuera un formulario, la función es muy útil si quieres pedir información de un usuario. Abajo hay un ejemplo"
      ]
    },
    {
      "cell_type": "code",
      "metadata": {
        "id": "IAcH6NQyq2sH"
      },
      "source": [
        "edad = input(\"Dame tu edad\")"
      ],
      "execution_count": null,
      "outputs": []
    },
    {
      "cell_type": "code",
      "metadata": {
        "id": "vvRw8ks0q23J"
      },
      "source": [
        "\"mi edad es \" + edad "
      ],
      "execution_count": null,
      "outputs": []
    },
    {
      "cell_type": "markdown",
      "metadata": {
        "id": "SCz9Y0_zrUdw"
      },
      "source": [
        "Ahora sí, manos a la obra"
      ]
    },
    {
      "cell_type": "code",
      "metadata": {
        "id": "s1ncyxryNhau",
        "colab": {
          "base_uri": "https://localhost:8080/",
          "height": 329
        },
        "outputId": "8474ccf9-144f-4701-9d19-f58783419b89"
      },
      "source": [
        "# Generar información de préstamos\n",
        "loanAmount = input(\"Cuánto quieres pedir prestado? \\n\")\n",
        "interestRate = input(\"Cuál es la tasa de interés? \\n\")\n",
        "repaymentLength = input(\"Cuántos años durará el préstamo? \\n\")\n",
        "\n",
        "# Convertir las variables a número\n",
        "loanAmount = float(loanAmount)\n",
        "interestRate = float(interestRate)\n",
        "repaymentLength = float(repaymentLength)\n",
        "\n",
        "# Generar calculo de tasa de interés\n",
        "interestCalculation = interestRate / 100 / 12\n",
        "\n",
        "# Convertir el número de pagos anuales a mensuales\n",
        "numberOfPayments = repaymentLength*12\n",
        "\n",
        "#Formula\n",
        "#M = L * ((I * ((1+I) ** n) / (1+I) ** n - 1))\n",
        "\n",
        "#   * M = Pago mensual\n",
        "#   * L = Monto préstamo\n",
        "#   * I = Tasa de interés\n",
        "#   * N = Número de pagos\n",
        "\n",
        "monthlyRepaymentCost = loanAmount * (interestCalculation * (1+interestCalculation) * numberOfPayments) / ((1+interestCalculation) ** (numberOfPayments - 1))\n",
        "\n",
        "# Ver cuánto te cobraran por el crédito\n",
        "totalCharge = (monthlyRepaymentCost ** numberOfPayments) - loanAmount\n",
        "\n",
        "\n",
        "print(\"Quieres pedir prestado $\" + str(loanAmount) + \" por \" + str(repaymentLength) + \" años, con una tasa de interés de \" + str(interestRate) + \"%!\")\n",
        "\n",
        "print(\"Tu pago mensual es de $\" + str(monthlyRepaymentCost))\n",
        "\n",
        "print(\"El costo de este préstamo es de \" + totalCharge)\n",
        "\n",
        "### Si la tasa de interes es igual a inflacion, dilo\n",
        "if interestCalculation == 4.5:\n",
        "    print(\"la tasa de interes es igual a la inflacion\")"
      ],
      "execution_count": null,
      "outputs": [
        {
          "output_type": "stream",
          "text": [
            "Cuánto quieres pedir prestado? \n",
            "1000\n",
            "Cuál es la tasa de interés? \n",
            "10\n",
            "Cuántos años durará el préstamo? \n",
            "1\n",
            "Quieres pedir prestado $1000.0 por 1.0 años, con una tasa de interés de 10.0%!\n",
            "Tu pago mensual es de $92.0362165594768\n"
          ],
          "name": "stdout"
        },
        {
          "output_type": "error",
          "ename": "TypeError",
          "evalue": "ignored",
          "traceback": [
            "\u001b[0;31m---------------------------------------------------------------------------\u001b[0m",
            "\u001b[0;31mTypeError\u001b[0m                                 Traceback (most recent call last)",
            "\u001b[0;32m<ipython-input-14-173f174bc22f>\u001b[0m in \u001b[0;36m<module>\u001b[0;34m()\u001b[0m\n\u001b[1;32m     33\u001b[0m \u001b[0mprint\u001b[0m\u001b[0;34m(\u001b[0m\u001b[0;34m\"Tu pago mensual es de $\"\u001b[0m \u001b[0;34m+\u001b[0m \u001b[0mstr\u001b[0m\u001b[0;34m(\u001b[0m\u001b[0mmonthlyRepaymentCost\u001b[0m\u001b[0;34m)\u001b[0m\u001b[0;34m)\u001b[0m\u001b[0;34m\u001b[0m\u001b[0;34m\u001b[0m\u001b[0m\n\u001b[1;32m     34\u001b[0m \u001b[0;34m\u001b[0m\u001b[0m\n\u001b[0;32m---> 35\u001b[0;31m \u001b[0mprint\u001b[0m\u001b[0;34m(\u001b[0m\u001b[0;34m\"El costo de este préstamo es de \"\u001b[0m \u001b[0;34m+\u001b[0m \u001b[0mtotalCharge\u001b[0m\u001b[0;34m)\u001b[0m\u001b[0;34m\u001b[0m\u001b[0;34m\u001b[0m\u001b[0m\n\u001b[0m",
            "\u001b[0;31mTypeError\u001b[0m: must be str, not float"
          ]
        }
      ]
    },
    {
      "cell_type": "markdown",
      "metadata": {
        "id": "KTCaj1-mZZBt"
      },
      "source": [
        "Puedes verificar el resultado aquí\n",
        "\n",
        "https://www.nafin.com/portalnf/content/herramientas-de-negocio/simulador-de-creditos/simulador-de-creditos.do"
      ]
    },
    {
      "cell_type": "markdown",
      "metadata": {
        "id": "seZeneB7XQMs"
      },
      "source": [
        "Preguntas que pueden ayudar \n",
        "\n",
        "a. ¿Qué hace el código float() y str() y para qué se usa?\n",
        "b. ¿Qué hace * y **?\n",
        "c. ¿Qué pasaría si se movieran los parentésis?\n",
        "\n"
      ]
    },
    {
      "cell_type": "markdown",
      "metadata": {
        "id": "cTyjx4c9ZMjb"
      },
      "source": [
        "2. Tu jefe te pide que cambies el código para poder adecuar a pagos trimestrales,semestrales o anuales, cómo adecuarías el código para que la herramienta te pregunte qué frecuencia de pagos quieres y haga los cambios pertinentes"
      ]
    },
    {
      "cell_type": "code",
      "metadata": {
        "id": "Y7iyUAvfckBX"
      },
      "source": [
        ""
      ],
      "execution_count": null,
      "outputs": []
    },
    {
      "cell_type": "markdown",
      "metadata": {
        "id": "jX_krzH-D9FK"
      },
      "source": [
        "3. El código de arriba asume que el plazo siempre está en años, pero puede ser posible que pidas un crédito menor a un año. Cómo adecuarías el código para que pueda ser un préstamo con un plazo tan pequeño como 2 semanas. "
      ]
    },
    {
      "cell_type": "code",
      "metadata": {
        "id": "JJWfQrnlckjv"
      },
      "source": [
        ""
      ],
      "execution_count": null,
      "outputs": []
    },
    {
      "cell_type": "markdown",
      "metadata": {
        "id": "extz2Bzha6Zz"
      },
      "source": [
        "3. Ahora te pide que des la opción de un préstamos en pesos o dólares. En el caso que sea en dólares, debería transformarlo el pago mensual y el costo del préstamos a pesos con un tipo de cambio de 20 pesos por dólar. (Asume que el tipo de cambio es fijo en el contrato de préstamo)"
      ]
    },
    {
      "cell_type": "code",
      "metadata": {
        "id": "2Z38LfqLclCZ"
      },
      "source": [
        ""
      ],
      "execution_count": null,
      "outputs": []
    },
    {
      "cell_type": "markdown",
      "metadata": {
        "id": "Tp9Kh8XFs4Cs"
      },
      "source": [
        "4. Ahora te pide que utilices informacion del tipo de cambio en tiempo real para calcular el pago mensual y costo del préstamo \r\n",
        "\r\n",
        "Tips: \r\n",
        "- El código de abajo importa la biblioteca forex-python que te da el tipo de cambio entre diferentes monedas"
      ]
    },
    {
      "cell_type": "code",
      "metadata": {
        "id": "I3dSj_fkt5V1"
      },
      "source": [
        "! pip install forex-python"
      ],
      "execution_count": null,
      "outputs": []
    },
    {
      "cell_type": "markdown",
      "metadata": {
        "id": "nN_GaFVGvXLZ"
      },
      "source": [
        "- Para usar la biblioteca revisa la documentación:\r\n",
        "\r\n",
        "https://forex-python.readthedocs.io/en/latest/usage.html"
      ]
    },
    {
      "cell_type": "code",
      "metadata": {
        "id": "RsIVP7N6cmSd"
      },
      "source": [
        ""
      ],
      "execution_count": null,
      "outputs": []
    },
    {
      "cell_type": "markdown",
      "metadata": {
        "id": "30cswOxe8Gfz"
      },
      "source": [
        "5.  Ahora te pide que generes la opción de convertir el pago a UDIS. La herramienta debería preguntarte en que prefieres el pago mensual y el costo del préstamo en UDIS o pesos.\r\n",
        "\r\n",
        "Tips: Banxico tiene la información del valor más actualizado de UDIS. Para poder acceder a ella automaticamente vamos a usar un API. Vamos a ver más adelante en el curso como usarla, pero por ahora lo único que necesitas hacer es correr el código de abajo para generar el valor de UDI"
      ]
    },
    {
      "cell_type": "markdown",
      "metadata": {
        "id": "G-vIyNDYA8BZ"
      },
      "source": [
        "Primero necesitas generar un token. En la página de Banxico se muestra cómo generarlo https://www.banxico.org.mx/SieAPIRest/service/v1/token\r\n",
        "\r\n",
        "Una vez que ya lo tengas, escríbelo en la celda de abajo"
      ]
    },
    {
      "cell_type": "code",
      "metadata": {
        "colab": {
          "base_uri": "https://localhost:8080/"
        },
        "id": "Ze5MosuWBnLO",
        "outputId": "65ad934b-44cc-4d9c-fc49-f6fba256a0de"
      },
      "source": [
        "## Este código sirve para guardar el valor del token de Banxico\r\n",
        "from getpass import getpass\r\n",
        "token = getpass(\"Escribe aquí el string del token que generaste en la página del Banxico\")"
      ],
      "execution_count": 10,
      "outputs": [
        {
          "output_type": "stream",
          "text": [
            "Escribe aquí el string del token que generaste en la página del Banxico··········\n"
          ],
          "name": "stdout"
        }
      ]
    },
    {
      "cell_type": "markdown",
      "metadata": {
        "id": "uoZdzh-TCbTN"
      },
      "source": [
        "Ahora la variable *token* guarda el valor del string, prueba abajo"
      ]
    },
    {
      "cell_type": "code",
      "metadata": {
        "colab": {
          "base_uri": "https://localhost:8080/",
          "height": 35
        },
        "id": "gNCjKCYzBocJ",
        "outputId": "8cc68a0c-0771-4f58-9b63-a2611deb4cea"
      },
      "source": [
        "token"
      ],
      "execution_count": 11,
      "outputs": [
        {
          "output_type": "execute_result",
          "data": {
            "application/vnd.google.colaboratory.intrinsic+json": {
              "type": "string"
            },
            "text/plain": [
              "'d'"
            ]
          },
          "metadata": {
            "tags": []
          },
          "execution_count": 11
        }
      ]
    },
    {
      "cell_type": "markdown",
      "metadata": {
        "id": "hu-v8WV6CnGK"
      },
      "source": [
        "Por último, corre el código de abajo, veras que la variable *udi* guarda el valor más reciente de UDI"
      ]
    },
    {
      "cell_type": "code",
      "metadata": {
        "id": "lKmZ9uGs9QCc"
      },
      "source": [
        "# Este código sirve obtener un valor de Banxico \r\n",
        "\r\n",
        "# El número de serie de UDI en el sistema de consulta de Banxico\r\n",
        "series = \"SP68257\"\r\n",
        "# El url del cual obtener información\r\n",
        "url_string = \"https://www.banxico.org.mx/SieAPIRest/service/v1/series/{}/datos/oportuno?token={}\".format(series, token)\r\n",
        "\r\n",
        "# Importar las bibliotecas necesarias\r\n",
        "import urllib.request, json \r\n",
        "\r\n",
        "# Obtener la información\r\n",
        "with urllib.request.urlopen(url_string) as url:\r\n",
        "    banxico_query = json.loads(url.read().decode())\r\n",
        "\r\n",
        "# Limpiar la info para obtener la variable\r\n",
        "udi = float(banxico_query[\"bmx\"][\"series\"][0][\"datos\"][0][\"dato\"])"
      ],
      "execution_count": 1,
      "outputs": []
    },
    {
      "cell_type": "markdown",
      "metadata": {
        "id": "DakBr4d8CyyV"
      },
      "source": [
        "Ahora sí, adecua el código para que puedas usar la variable *udi* para poder hacer la estimación en UDIs"
      ]
    },
    {
      "cell_type": "code",
      "metadata": {
        "id": "-4zas0FkcqU8"
      },
      "source": [
        ""
      ],
      "execution_count": null,
      "outputs": []
    },
    {
      "cell_type": "markdown",
      "metadata": {
        "id": "KyMSsVeZ8yl9"
      },
      "source": [
        "6. Ahora hay que revisar si hubiera convenido más hace 10 años tomar el préstamo en UDIs o dólares. Para eso, tomemos los valores del 31 de enero de 2010 y https://www.exchangerates.org.uk/USD-MXN-spot-exchange-rates-history-2010.html: https://tiie.com.mx/udi-2010/ y asume que el valor del UDI hace 10 años era de 4.369, y el valor del dólar era de $13.091. \r\n",
        "\r\n",
        "La herramienta debería cálcular el costo del préstamo en pesos en los dos casos y decir cuál hubiera convenido más y la diferencia. "
      ]
    },
    {
      "cell_type": "code",
      "metadata": {
        "id": "j4Kx2RjXcrXt"
      },
      "source": [
        ""
      ],
      "execution_count": null,
      "outputs": []
    },
    {
      "cell_type": "markdown",
      "metadata": {
        "id": "ZYHRsVDP8aSu"
      },
      "source": [
        "7. Finalmente, hay que crear un código que nos diga considerando la variación real en el dólar, cuál hubiera sido la variación necesaria en los UDIs para que hubiera sido igual un préstamo en cualquiera de los dos. Y lo contrario, considerando la variación real en UDIS, cuál hubiera sido la variación necesaria en dólares para que hubiera sido igual un préstamo en cualquiera de las dos. "
      ]
    },
    {
      "cell_type": "code",
      "metadata": {
        "id": "j3d-ishpcurq"
      },
      "source": [
        ""
      ],
      "execution_count": null,
      "outputs": []
    },
    {
      "cell_type": "markdown",
      "metadata": {
        "id": "Xr979SYB8aZ-"
      },
      "source": [
        "### PARTE 2"
      ]
    },
    {
      "cell_type": "markdown",
      "metadata": {
        "id": "rH6fJNDx8ahK"
      },
      "source": [
        "8. Ahora, vamos a crear una herramienta del lado de la oferta. Dado un plazo, monto y pago vamos a calcular la tasa de interés que un Banco está dando. La herramienta debería aceptar\r\n",
        "\r\n",
        "- Plazo: En meses o años\r\n",
        "- Monto: Cualquier número real\r\n",
        "- Pago: mensuales\r\n",
        "\r\n",
        "Y dar la tasa de interés anual\r\n"
      ]
    },
    {
      "cell_type": "code",
      "metadata": {
        "id": "SblAZusweymJ"
      },
      "source": [
        ""
      ],
      "execution_count": null,
      "outputs": []
    },
    {
      "cell_type": "markdown",
      "metadata": {
        "id": "_89y2QPtrDhC"
      },
      "source": [
        "9. Ahora hay que hacer una modificación para poder aceptar un plazo y pago tan pequeño como dos semanas"
      ]
    },
    {
      "cell_type": "code",
      "metadata": {
        "id": "1w5jNugDezBj"
      },
      "source": [
        ""
      ],
      "execution_count": null,
      "outputs": []
    },
    {
      "cell_type": "markdown",
      "metadata": {
        "id": "DlbEj8yvrDoZ"
      },
      "source": [
        "10. Finalmente, vamos a obtener la tasa de referencia y decidir si debería tomar el crédito. En la página de Banxico busca \"TIIE de Fondeo a Un Día Hábil Bancario\" y haz un query con el valor. El código debería indicar si la tasa de interés anual del préstamo es menor a la tasa de referencia."
      ]
    },
    {
      "cell_type": "code",
      "metadata": {
        "id": "9dhhmLN8ezbT"
      },
      "source": [
        ""
      ],
      "execution_count": null,
      "outputs": []
    },
    {
      "cell_type": "markdown",
      "metadata": {
        "id": "PBTW-gWIca4c"
      },
      "source": [
        "## Opcionales: Ejercicios en HakerRank"
      ]
    },
    {
      "cell_type": "code",
      "metadata": {
        "id": "pltALB-ccg7C"
      },
      "source": [
        "HackerRank es un sitio web con ejercicios para resolver que te ayudaran a entender mejor los conceptos de la clase. \n",
        "Vamos a resolver uno en clase y los restantes serán de tarea\n",
        "\n",
        "1. https://www.hackerrank.com/challenges/python-arithmetic-operators/problem\n",
        "2. https://www.hackerrank.com/challenges/python-division/problem\n",
        "3. https://www.hackerrank.com/challenges/py-if-else/problem  \n",
        "4. https://www.hackerrank.com/challenges/swap-case/problem"
      ],
      "execution_count": null,
      "outputs": []
    }
  ]
}