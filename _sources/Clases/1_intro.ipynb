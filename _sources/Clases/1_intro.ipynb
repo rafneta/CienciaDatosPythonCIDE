{
  "nbformat": 4,
  "nbformat_minor": 0,
  "metadata": {
    "kernelspec": {
      "display_name": "Python 3",
      "language": "python",
      "name": "python3"
    },
    "language_info": {
      "codemirror_mode": {
        "name": "ipython",
        "version": 3
      },
      "file_extension": ".py",
      "mimetype": "text/x-python",
      "name": "python",
      "nbconvert_exporter": "python",
      "pygments_lexer": "ipython3",
      "version": "3.7.6"
    },
    "colab": {
      "name": "1_intro_prof.ipynb",
      "provenance": []
    }
  },
  "cells": [
    {
      "cell_type": "markdown",
      "metadata": {
        "id": "nr4X47B2g0uO"
      },
      "source": [
        "# INTRODUCCIÓN A LA PROGRAMACIÓN CON PYTHON I\n",
        "\n",
        "## Módulo 1 - Introducción"
      ]
    },
    {
      "cell_type": "markdown",
      "metadata": {
        "id": "JcY_JYp-g0ue"
      },
      "source": [
        "### Variables"
      ]
    },
    {
      "cell_type": "markdown",
      "metadata": {
        "id": "tUxAyM4Xg0uf"
      },
      "source": [
        "#### Asignando variables\n",
        "\n",
        "Una variable es como cuando aprendimos en álgebra que equis \"x\" es igual a un número desconocido. La diferencia es que aquí conocemos bien ese valor, pero no necesariamente es un número. Puede ser texto, números, booleanos, u otras estructuras de datos más complejas. "
      ]
    },
    {
      "cell_type": "code",
      "metadata": {
        "collapsed": true,
        "id": "g14Juesfg0uh"
      },
      "source": [
        "x = 3"
      ],
      "execution_count": 1,
      "outputs": []
    },
    {
      "cell_type": "markdown",
      "metadata": {
        "id": "u_f4G8bKg0ui"
      },
      "source": [
        "x <- variable\n",
        "\n",
        "3 <- valor"
      ]
    },
    {
      "cell_type": "code",
      "metadata": {
        "collapsed": true,
        "colab": {
          "base_uri": "https://localhost:8080/"
        },
        "id": "Wr7W_Y2vg0uj",
        "outputId": "73627a06-8164-4dcd-c0d9-d2866e9cf006"
      },
      "source": [
        "x"
      ],
      "execution_count": 2,
      "outputs": [
        {
          "output_type": "execute_result",
          "data": {
            "text/plain": [
              "3"
            ]
          },
          "metadata": {
            "tags": []
          },
          "execution_count": 2
        }
      ]
    },
    {
      "cell_type": "code",
      "metadata": {
        "collapsed": true,
        "id": "n213dZ03g0um"
      },
      "source": [
        "x = 'manzana'   # misma variable pero ahora tiene un valor diferente, que además es texto"
      ],
      "execution_count": 3,
      "outputs": []
    },
    {
      "cell_type": "code",
      "metadata": {
        "collapsed": true,
        "colab": {
          "base_uri": "https://localhost:8080/"
        },
        "id": "tQ0Aa6Hkg0un",
        "outputId": "ed171e32-52f0-40c3-f182-7dceb84303ce"
      },
      "source": [
        "print(x)"
      ],
      "execution_count": 4,
      "outputs": [
        {
          "output_type": "stream",
          "text": [
            "manzana\n"
          ],
          "name": "stdout"
        }
      ]
    },
    {
      "cell_type": "code",
      "metadata": {
        "colab": {
          "base_uri": "https://localhost:8080/",
          "height": 35
        },
        "id": "mHOBktIYg0uo",
        "outputId": "4d6733fe-41cc-4fd3-8d6f-7482ee7ae432"
      },
      "source": [
        "x               # Nótese que volvimos a imprimir el valor de x, pero ahora tiene comillas simples.\n",
        "                # Más adelante veremos estos detalles del texto"
      ],
      "execution_count": 5,
      "outputs": [
        {
          "output_type": "execute_result",
          "data": {
            "application/vnd.google.colaboratory.intrinsic+json": {
              "type": "string"
            },
            "text/plain": [
              "'manzana'"
            ]
          },
          "metadata": {
            "tags": []
          },
          "execution_count": 5
        }
      ]
    },
    {
      "cell_type": "code",
      "metadata": {
        "collapsed": true,
        "id": "3BEzx8BHg0uq"
      },
      "source": [
        "x = 4           # misma variable, nuevo valor\n",
        "y = 1           # \"y\" también es una variable, pero con diferente valor!"
      ],
      "execution_count": 6,
      "outputs": []
    },
    {
      "cell_type": "code",
      "metadata": {
        "collapsed": true,
        "colab": {
          "base_uri": "https://localhost:8080/"
        },
        "id": "_D7kodRag0ur",
        "outputId": "cadbc9b4-dae7-41bb-ab08-11130f0696b0"
      },
      "source": [
        "x + y           # dependiendo del \"tipo\" de variable, podemos hacer ciertas operaciones con ellas"
      ],
      "execution_count": 7,
      "outputs": [
        {
          "output_type": "execute_result",
          "data": {
            "text/plain": [
              "5"
            ]
          },
          "metadata": {
            "tags": []
          },
          "execution_count": 7
        }
      ]
    },
    {
      "cell_type": "code",
      "metadata": {
        "collapsed": true,
        "colab": {
          "base_uri": "https://localhost:8080/"
        },
        "id": "Ouj8AwoVg0ur",
        "outputId": "a626da5b-0a07-441a-8991-ea7ff929e8c5"
      },
      "source": [
        "print(x)        # nótese como podemos \"imprimir\" el valor de la variable \n",
        "print(y)        "
      ],
      "execution_count": 8,
      "outputs": [
        {
          "output_type": "stream",
          "text": [
            "4\n",
            "1\n"
          ],
          "name": "stdout"
        }
      ]
    },
    {
      "cell_type": "code",
      "metadata": {
        "collapsed": true,
        "id": "YIV7_Lbpg0us"
      },
      "source": [
        "x = y           # asignando el valor de y a la variable x"
      ],
      "execution_count": 9,
      "outputs": []
    },
    {
      "cell_type": "code",
      "metadata": {
        "collapsed": true,
        "colab": {
          "base_uri": "https://localhost:8080/"
        },
        "id": "qwFrnOrvg0us",
        "outputId": "5e13ec1f-55a2-42e2-fa14-2be24424a873"
      },
      "source": [
        "x"
      ],
      "execution_count": 10,
      "outputs": [
        {
          "output_type": "execute_result",
          "data": {
            "text/plain": [
              "1"
            ]
          },
          "metadata": {
            "tags": []
          },
          "execution_count": 10
        }
      ]
    },
    {
      "cell_type": "code",
      "metadata": {
        "collapsed": true,
        "colab": {
          "base_uri": "https://localhost:8080/"
        },
        "id": "7-yWGXE4g0ut",
        "outputId": "a0908e71-4769-44fb-c895-c92b779a6b0c"
      },
      "source": [
        "y"
      ],
      "execution_count": 11,
      "outputs": [
        {
          "output_type": "execute_result",
          "data": {
            "text/plain": [
              "1"
            ]
          },
          "metadata": {
            "tags": []
          },
          "execution_count": 11
        }
      ]
    },
    {
      "cell_type": "code",
      "metadata": {
        "collapsed": true,
        "id": "7G1Ll41mg0uu"
      },
      "source": [
        "z = True         # Verdadero y Falso son los únicos dos valores booleanos"
      ],
      "execution_count": 12,
      "outputs": []
    },
    {
      "cell_type": "code",
      "metadata": {
        "collapsed": true,
        "id": "ZFFn_962g0uu"
      },
      "source": [
        "z = False"
      ],
      "execution_count": 13,
      "outputs": []
    },
    {
      "cell_type": "code",
      "metadata": {
        "collapsed": true,
        "colab": {
          "base_uri": "https://localhost:8080/"
        },
        "id": "CmtZ_BL_g0uv",
        "outputId": "65f40bdb-215d-4cd2-bb16-a28c65f72e13"
      },
      "source": [
        "z                # Nótese que en Python, siempre van a ir en mayúscula el valor booleano"
      ],
      "execution_count": 14,
      "outputs": [
        {
          "output_type": "execute_result",
          "data": {
            "text/plain": [
              "False"
            ]
          },
          "metadata": {
            "tags": []
          },
          "execution_count": 14
        }
      ]
    },
    {
      "cell_type": "markdown",
      "metadata": {
        "id": "IxqSQHzCg0uw"
      },
      "source": [
        "#### ¿Cómo nombrar variables?"
      ]
    },
    {
      "cell_type": "code",
      "metadata": {
        "collapsed": true,
        "id": "nxImU-pfg0uy"
      },
      "source": [
        "## Buenos nombres de variables\n",
        "segundos = 60\n",
        "horas = 24\n",
        "dia = 30\n",
        "\n",
        "## no tan buenos\n",
        "x = 60\n",
        "y = 24\n",
        "z = 30"
      ],
      "execution_count": 15,
      "outputs": []
    },
    {
      "cell_type": "code",
      "metadata": {
        "collapsed": true,
        "colab": {
          "base_uri": "https://localhost:8080/"
        },
        "id": "Y7YtNpO6g0uz",
        "outputId": "fc3487b9-164b-4bdd-90b7-5b64fde3bb1b"
      },
      "source": [
        "# mucho más fácil entender qué es lo que calculamos aquí\n",
        "print(segundos*horas*dia)\n",
        "\n",
        "# que lo que estamos calculando acá\n",
        "print(x*y*z)"
      ],
      "execution_count": 16,
      "outputs": [
        {
          "output_type": "stream",
          "text": [
            "43200\n",
            "43200\n"
          ],
          "name": "stdout"
        }
      ]
    },
    {
      "cell_type": "code",
      "metadata": {
        "collapsed": true,
        "id": "Szz-CSGqg0u0"
      },
      "source": [
        "e90 = 1"
      ],
      "execution_count": 17,
      "outputs": []
    },
    {
      "cell_type": "code",
      "metadata": {
        "collapsed": true,
        "colab": {
          "base_uri": "https://localhost:8080/",
          "height": 35
        },
        "id": "l_3dgW-Gg0u1",
        "outputId": "a9db7e4e-ad67-4436-a18f-4a216fcd05cd"
      },
      "source": [
        "fruta = 'manzana'\n",
        "fruta"
      ],
      "execution_count": 18,
      "outputs": [
        {
          "output_type": "execute_result",
          "data": {
            "application/vnd.google.colaboratory.intrinsic+json": {
              "type": "string"
            },
            "text/plain": [
              "'manzana'"
            ]
          },
          "metadata": {
            "tags": []
          },
          "execution_count": 18
        }
      ]
    },
    {
      "cell_type": "code",
      "metadata": {
        "collapsed": true,
        "id": "Z1HmNvcKg0u2"
      },
      "source": [
        "fruta_roja = 'manzana'"
      ],
      "execution_count": 19,
      "outputs": []
    },
    {
      "cell_type": "code",
      "metadata": {
        "collapsed": true,
        "id": "aL-TD6S9g0u2"
      },
      "source": [
        "fruta_rojá  = 'manzana'"
      ],
      "execution_count": 20,
      "outputs": []
    },
    {
      "cell_type": "code",
      "metadata": {
        "collapsed": true,
        "id": "jcs30WDyg0u3"
      },
      "source": [
        "fruta_rojá  = 'manzaná'"
      ],
      "execution_count": 21,
      "outputs": []
    },
    {
      "cell_type": "markdown",
      "metadata": {
        "id": "zzk3BQCcg0u4"
      },
      "source": [
        "### Tipos de datos\n",
        "Existen varios tipos \"fundamentales\" de datos:\n",
        "- *strings*, texto\n",
        "- *ints*/*integers*, números enteros (-4, 0, 27) \n",
        "- *floats*/*doubles*, números reales (también llamados de punto flotante, pero nunca les llamaremos así en el curso; 4.0, 2.000000001)\n",
        "- *bool/booleans*, booleanos\n",
        "- *None*, un tipo particular de dato nativo a Python\n",
        "\n",
        "Hay otros tipos de datos pero por el momento sólo hablaremos de estos."
      ]
    },
    {
      "cell_type": "markdown",
      "metadata": {
        "id": "IDeX8a7Ig0u5"
      },
      "source": [
        "#### Strings (o sea, texto)\n",
        "El texto en Python es muy fácil de manipular. Generalmente podemos escribir acentos y cualquier tipo de caracter, pero hay que tener cuidado a la hora de leer y escribir archivos.\n",
        "\n",
        "Para que un texto sea tal, necesita estar entre comillas simples `'` o dobles `\"`."
      ]
    },
    {
      "cell_type": "code",
      "metadata": {
        "collapsed": true,
        "id": "ob6RkEV4g0u6"
      },
      "source": [
        "x = \"¡Hola mundo!\""
      ],
      "execution_count": 22,
      "outputs": []
    },
    {
      "cell_type": "code",
      "metadata": {
        "collapsed": true,
        "colab": {
          "base_uri": "https://localhost:8080/",
          "height": 35
        },
        "id": "73fSRGLXg0u6",
        "outputId": "67341412-c976-4786-998d-73a4e13167ab"
      },
      "source": [
        "x"
      ],
      "execution_count": 23,
      "outputs": [
        {
          "output_type": "execute_result",
          "data": {
            "application/vnd.google.colaboratory.intrinsic+json": {
              "type": "string"
            },
            "text/plain": [
              "'¡Hola mundo!'"
            ]
          },
          "metadata": {
            "tags": []
          },
          "execution_count": 23
        }
      ]
    },
    {
      "cell_type": "code",
      "metadata": {
        "collapsed": true,
        "colab": {
          "base_uri": "https://localhost:8080/",
          "height": 35
        },
        "id": "-octxjWeg0u7",
        "outputId": "8aeec43e-6a09-4694-931f-1fce4ad61757"
      },
      "source": [
        "## el texto nos permite hacer ciertas operaciones como la concatenación\n",
        "x = \"Hola\"\n",
        "y = \"mundo\"\n",
        "\n",
        "x + y     # nótese que no pusimos ningún espacio, el texto se concatenó exactamente como le dijimos"
      ],
      "execution_count": 24,
      "outputs": [
        {
          "output_type": "execute_result",
          "data": {
            "application/vnd.google.colaboratory.intrinsic+json": {
              "type": "string"
            },
            "text/plain": [
              "'Holamundo'"
            ]
          },
          "metadata": {
            "tags": []
          },
          "execution_count": 24
        }
      ]
    },
    {
      "cell_type": "code",
      "metadata": {
        "collapsed": true,
        "colab": {
          "base_uri": "https://localhost:8080/",
          "height": 35
        },
        "id": "H5mxXQYJg0u8",
        "outputId": "86bbbba7-364d-4371-bc25-48f6fec1ca42"
      },
      "source": [
        "x + \" \" + y     # ahora sí pusimos un espacio con \" \""
      ],
      "execution_count": 25,
      "outputs": [
        {
          "output_type": "execute_result",
          "data": {
            "application/vnd.google.colaboratory.intrinsic+json": {
              "type": "string"
            },
            "text/plain": [
              "'Hola mundo'"
            ]
          },
          "metadata": {
            "tags": []
          },
          "execution_count": 25
        }
      ]
    },
    {
      "cell_type": "code",
      "metadata": {
        "collapsed": true,
        "colab": {
          "base_uri": "https://localhost:8080/",
          "height": 35
        },
        "id": "QUhqI01Jg0u8",
        "outputId": "a1875078-d69d-4a8f-ee65-39904b4c8e5e"
      },
      "source": [
        "x[0]   # el texto nos cae bien porque podemos extraer pedazos de él. \n",
        "       # Esto se llama indexar y lo cubriremos más adelante.\n",
        "       # Nótese como Python es un lenguaje que empieza a contar desde el cero"
      ],
      "execution_count": 26,
      "outputs": [
        {
          "output_type": "execute_result",
          "data": {
            "application/vnd.google.colaboratory.intrinsic+json": {
              "type": "string"
            },
            "text/plain": [
              "'H'"
            ]
          },
          "metadata": {
            "tags": []
          },
          "execution_count": 26
        }
      ]
    },
    {
      "cell_type": "code",
      "metadata": {
        "collapsed": true,
        "colab": {
          "base_uri": "https://localhost:8080/",
          "height": 35
        },
        "id": "M_WVUsqsg0u9",
        "outputId": "8bd83ea2-4360-401c-ffd8-9ff24067c896"
      },
      "source": [
        "x[1]   # más adelante explicaremos por qué esta sintaxis, pero es una forma de acceder al i-ésimo elemento"
      ],
      "execution_count": 27,
      "outputs": [
        {
          "output_type": "execute_result",
          "data": {
            "application/vnd.google.colaboratory.intrinsic+json": {
              "type": "string"
            },
            "text/plain": [
              "'o'"
            ]
          },
          "metadata": {
            "tags": []
          },
          "execution_count": 27
        }
      ]
    },
    {
      "cell_type": "code",
      "metadata": {
        "collapsed": true,
        "colab": {
          "base_uri": "https://localhost:8080/",
          "height": 35
        },
        "id": "JulGvMa_g0u9",
        "outputId": "63c83923-b16d-40fa-daff-3eb754b9824a"
      },
      "source": [
        "x[1:5] # similar a arriba, pero ahora queremos del 2o al 4o elemento. \n",
        "       # Nótese que no es hasta el 5o elemento, más adelante veremos a detalle por qué sucede así"
      ],
      "execution_count": 28,
      "outputs": [
        {
          "output_type": "execute_result",
          "data": {
            "application/vnd.google.colaboratory.intrinsic+json": {
              "type": "string"
            },
            "text/plain": [
              "'ola'"
            ]
          },
          "metadata": {
            "tags": []
          },
          "execution_count": 28
        }
      ]
    },
    {
      "cell_type": "code",
      "metadata": {
        "collapsed": true,
        "colab": {
          "base_uri": "https://localhost:8080/",
          "height": 35
        },
        "id": "lMmqotzSg0u-",
        "outputId": "57135170-0455-441c-b344-11b60ac1ba2d"
      },
      "source": [
        "x[5:]"
      ],
      "execution_count": 29,
      "outputs": [
        {
          "output_type": "execute_result",
          "data": {
            "application/vnd.google.colaboratory.intrinsic+json": {
              "type": "string"
            },
            "text/plain": [
              "''"
            ]
          },
          "metadata": {
            "tags": []
          },
          "execution_count": 29
        }
      ]
    },
    {
      "cell_type": "code",
      "metadata": {
        "collapsed": true,
        "colab": {
          "base_uri": "https://localhost:8080/",
          "height": 35
        },
        "id": "phZCWHR8g0u-",
        "outputId": "fac48d42-be6a-454d-890e-0a55243e22d8"
      },
      "source": [
        "x[-1]    # ohh, el último valor!"
      ],
      "execution_count": 30,
      "outputs": [
        {
          "output_type": "execute_result",
          "data": {
            "application/vnd.google.colaboratory.intrinsic+json": {
              "type": "string"
            },
            "text/plain": [
              "'a'"
            ]
          },
          "metadata": {
            "tags": []
          },
          "execution_count": 30
        }
      ]
    },
    {
      "cell_type": "code",
      "metadata": {
        "collapsed": true,
        "colab": {
          "base_uri": "https://localhost:8080/",
          "height": 35
        },
        "id": "BMvjtnOfg0u_",
        "outputId": "1cf95c8c-576e-40c5-d18c-f9491682627f"
      },
      "source": [
        "x[-2]   # Todas estas son formas de acceder al valor en una posición del texto. Cuando lleguemos a las listas,\n",
        "        # entenderemos mejor cómo acceder a un valor con este tipo de sintaxis"
      ],
      "execution_count": 31,
      "outputs": [
        {
          "output_type": "execute_result",
          "data": {
            "application/vnd.google.colaboratory.intrinsic+json": {
              "type": "string"
            },
            "text/plain": [
              "'l'"
            ]
          },
          "metadata": {
            "tags": []
          },
          "execution_count": 31
        }
      ]
    },
    {
      "cell_type": "code",
      "metadata": {
        "collapsed": true,
        "colab": {
          "base_uri": "https://localhost:8080/",
          "height": 35
        },
        "id": "CLHowGVTg0vB",
        "outputId": "dd873d14-5857-460c-9e0b-44a9f11e0f0d"
      },
      "source": [
        "x[-5:-1]"
      ],
      "execution_count": 32,
      "outputs": [
        {
          "output_type": "execute_result",
          "data": {
            "application/vnd.google.colaboratory.intrinsic+json": {
              "type": "string"
            },
            "text/plain": [
              "'Hol'"
            ]
          },
          "metadata": {
            "tags": []
          },
          "execution_count": 32
        }
      ]
    },
    {
      "cell_type": "code",
      "metadata": {
        "collapsed": true,
        "colab": {
          "base_uri": "https://localhost:8080/"
        },
        "id": "_ycmz9WPg0vC",
        "outputId": "35764059-fd1a-4ec1-a89e-8d51d986194a"
      },
      "source": [
        "x[0], x[-1]"
      ],
      "execution_count": 33,
      "outputs": [
        {
          "output_type": "execute_result",
          "data": {
            "text/plain": [
              "('H', 'a')"
            ]
          },
          "metadata": {
            "tags": []
          },
          "execution_count": 33
        }
      ]
    },
    {
      "cell_type": "code",
      "metadata": {
        "collapsed": true,
        "colab": {
          "base_uri": "https://localhost:8080/",
          "height": 35
        },
        "id": "7LQ-Yg-wg0vD",
        "outputId": "db97e2a3-36d5-44e4-fb9f-764dea0de689"
      },
      "source": [
        "3*x  ## la multiplicación en este caso es concatenación repetida x veces"
      ],
      "execution_count": 34,
      "outputs": [
        {
          "output_type": "execute_result",
          "data": {
            "application/vnd.google.colaboratory.intrinsic+json": {
              "type": "string"
            },
            "text/plain": [
              "'HolaHolaHola'"
            ]
          },
          "metadata": {
            "tags": []
          },
          "execution_count": 34
        }
      ]
    },
    {
      "cell_type": "code",
      "metadata": {
        "collapsed": true,
        "colab": {
          "base_uri": "https://localhost:8080/",
          "height": 35
        },
        "id": "QFTzD8jkg0vD",
        "outputId": "3d44c67c-0bc1-487b-f835-8f0c1f44f100"
      },
      "source": [
        "x[:]"
      ],
      "execution_count": 35,
      "outputs": [
        {
          "output_type": "execute_result",
          "data": {
            "application/vnd.google.colaboratory.intrinsic+json": {
              "type": "string"
            },
            "text/plain": [
              "'Hola'"
            ]
          },
          "metadata": {
            "tags": []
          },
          "execution_count": 35
        }
      ]
    },
    {
      "cell_type": "code",
      "metadata": {
        "collapsed": true,
        "colab": {
          "base_uri": "https://localhost:8080/",
          "height": 162
        },
        "id": "Cyn_AxCEg0vE",
        "outputId": "0d07ce54-4353-4eaf-ed62-9332e6e4f03f"
      },
      "source": [
        "x = hola   ## hola a secas no es texto, es una variable - no olvidemos las comillas para definir texto!"
      ],
      "execution_count": 37,
      "outputs": [
        {
          "output_type": "error",
          "ename": "NameError",
          "evalue": "ignored",
          "traceback": [
            "\u001b[0;31m---------------------------------------------------------------------------\u001b[0m",
            "\u001b[0;31mNameError\u001b[0m                                 Traceback (most recent call last)",
            "\u001b[0;32m<ipython-input-37-9844f3645071>\u001b[0m in \u001b[0;36m<module>\u001b[0;34m()\u001b[0m\n\u001b[0;32m----> 1\u001b[0;31m \u001b[0mx\u001b[0m \u001b[0;34m=\u001b[0m \u001b[0mhola\u001b[0m   \u001b[0;31m## hola a secas no es texto, es una variable - no olvidemos las comillas para definir texto!\u001b[0m\u001b[0;34m\u001b[0m\u001b[0;34m\u001b[0m\u001b[0m\n\u001b[0m",
            "\u001b[0;31mNameError\u001b[0m: name 'hola' is not defined"
          ]
        }
      ]
    },
    {
      "cell_type": "code",
      "metadata": {
        "collapsed": true,
        "id": "uc7jB9wUg0vE"
      },
      "source": [
        "## las comillas triples nos ayudan a hacer textos multilinea\n",
        "x = \"\"\"\n",
        "hola mundo\n",
        "como estas\n",
        "tengo hambre\n",
        "\"\"\""
      ],
      "execution_count": 38,
      "outputs": []
    },
    {
      "cell_type": "code",
      "metadata": {
        "collapsed": true,
        "colab": {
          "base_uri": "https://localhost:8080/"
        },
        "id": "_kYdG8eIg0vF",
        "outputId": "871c7a74-ce94-44ec-94e0-5699094a8a0e"
      },
      "source": [
        "print(x)"
      ],
      "execution_count": 39,
      "outputs": [
        {
          "output_type": "stream",
          "text": [
            "\n",
            "hola mundo\n",
            "como estas\n",
            "tengo hambre\n",
            "\n"
          ],
          "name": "stdout"
        }
      ]
    },
    {
      "cell_type": "code",
      "metadata": {
        "collapsed": true,
        "colab": {
          "base_uri": "https://localhost:8080/"
        },
        "id": "wZOMpQLig0vF",
        "outputId": "a0ce324d-2d0e-4882-beba-04d63899a7d3"
      },
      "source": [
        "x = \"hola mundo\"\n",
        "print(x)"
      ],
      "execution_count": 40,
      "outputs": [
        {
          "output_type": "stream",
          "text": [
            "hola mundo\n"
          ],
          "name": "stdout"
        }
      ]
    },
    {
      "cell_type": "code",
      "metadata": {
        "collapsed": true,
        "colab": {
          "base_uri": "https://localhost:8080/",
          "height": 35
        },
        "id": "plOn7L61g0vG",
        "outputId": "08f5e853-9415-4989-a1f8-2b37683fe44d"
      },
      "source": [
        "x           ## ¿Por qué aquí salen comillas y con print() no?"
      ],
      "execution_count": 41,
      "outputs": [
        {
          "output_type": "execute_result",
          "data": {
            "application/vnd.google.colaboratory.intrinsic+json": {
              "type": "string"
            },
            "text/plain": [
              "'hola mundo'"
            ]
          },
          "metadata": {
            "tags": []
          },
          "execution_count": 41
        }
      ]
    },
    {
      "cell_type": "code",
      "metadata": {
        "collapsed": true,
        "id": "axAHClzhg0vG"
      },
      "source": [
        "x = \"El profesor murmuró: \"\n",
        "y = 'Hola mundo'"
      ],
      "execution_count": 42,
      "outputs": []
    },
    {
      "cell_type": "code",
      "metadata": {
        "collapsed": true,
        "colab": {
          "base_uri": "https://localhost:8080/"
        },
        "id": "KQ2tjD96g0vH",
        "outputId": "6bfe43c4-ae77-46fe-9305-1bbc9ebd3a88"
      },
      "source": [
        "print(x, y)  ## print nos permite imprimir más de una cosa en pantalla"
      ],
      "execution_count": 43,
      "outputs": [
        {
          "output_type": "stream",
          "text": [
            "El profesor murmuró:  Hola mundo\n"
          ],
          "name": "stdout"
        }
      ]
    },
    {
      "cell_type": "code",
      "metadata": {
        "collapsed": true,
        "colab": {
          "base_uri": "https://localhost:8080/",
          "height": 128
        },
        "id": "qk4ExYOPg0vH",
        "outputId": "cae2809f-f55e-4c0d-8607-5c68487ee300"
      },
      "source": [
        "print(x)print(y)"
      ],
      "execution_count": 44,
      "outputs": [
        {
          "output_type": "error",
          "ename": "SyntaxError",
          "evalue": "ignored",
          "traceback": [
            "\u001b[0;36m  File \u001b[0;32m\"<ipython-input-44-2ff1f06abb52>\"\u001b[0;36m, line \u001b[0;32m1\u001b[0m\n\u001b[0;31m    print(x)print(y)\u001b[0m\n\u001b[0m                ^\u001b[0m\n\u001b[0;31mSyntaxError\u001b[0m\u001b[0;31m:\u001b[0m invalid syntax\n"
          ]
        }
      ]
    },
    {
      "cell_type": "markdown",
      "metadata": {
        "id": "3orNNj_qg0vI"
      },
      "source": [
        "#### Ints/Integers (enteros)\n",
        "\n",
        "Si recuerdan sus clases de precálculo o cálculo, recordarán que los enteros son números no fraccionales, positivos, negaticos, y el cero. En otras palabras:\n",
        "\n",
        "\n",
        "<center> $z\\in \\mathbb{Z}, z\\in \\{...,-3, -2, -1, 0, 1, 2, 3,...\\}$ </center> "
      ]
    },
    {
      "cell_type": "code",
      "metadata": {
        "collapsed": true,
        "id": "5qgI2_z0g0vI"
      },
      "source": [
        "x = -2"
      ],
      "execution_count": 45,
      "outputs": []
    },
    {
      "cell_type": "code",
      "metadata": {
        "colab": {
          "base_uri": "https://localhost:8080/"
        },
        "id": "07vh1qGlg0vJ",
        "outputId": "bb3c2641-fcb5-431c-ee7a-a72d56a0cbb2"
      },
      "source": [
        "(x + 3)*2 + 1"
      ],
      "execution_count": 46,
      "outputs": [
        {
          "output_type": "execute_result",
          "data": {
            "text/plain": [
              "3"
            ]
          },
          "metadata": {
            "tags": []
          },
          "execution_count": 46
        }
      ]
    },
    {
      "cell_type": "markdown",
      "metadata": {
        "id": "i0l5QdYWg0vJ"
      },
      "source": [
        "Ok, breve recordatorio de aritmética y álgebra. ¿Cuál es el orden de operaciones en Python?\n",
        "    1. Operaciones dentro de paréntesis ()\n",
        "    2. Logaritmos y exponenciales\n",
        "    3. Multiplicación y división\n",
        "    4. Suma y resta\n",
        "\n",
        "En la operación de arriba, el orden de ejecución es:\n",
        "    1. (-2 + 3)\n",
        "    2. (1)*2\n",
        "    3. 2 + 1"
      ]
    },
    {
      "cell_type": "code",
      "metadata": {
        "id": "tH7Q9R6ig0vK"
      },
      "source": [
        "# ¿Cuál es el valor de y aquí abajo?\n",
        "x = 2\n",
        "y = x + 3*2 + 1"
      ],
      "execution_count": 47,
      "outputs": []
    },
    {
      "cell_type": "code",
      "metadata": {
        "colab": {
          "base_uri": "https://localhost:8080/"
        },
        "id": "PRvTN-Xvg0vK",
        "outputId": "7d4f2a92-a306-4e72-8e78-fe680d7e3660"
      },
      "source": [
        "y"
      ],
      "execution_count": 48,
      "outputs": [
        {
          "output_type": "execute_result",
          "data": {
            "text/plain": [
              "9"
            ]
          },
          "metadata": {
            "tags": []
          },
          "execution_count": 48
        }
      ]
    },
    {
      "cell_type": "code",
      "metadata": {
        "id": "yq-N7-1gg0vL"
      },
      "source": [
        "# ¿Qué tal ahora?\n",
        "y = x + 3*(2 + 1)"
      ],
      "execution_count": 49,
      "outputs": []
    },
    {
      "cell_type": "code",
      "metadata": {
        "colab": {
          "base_uri": "https://localhost:8080/"
        },
        "id": "Uni-k023g0vL",
        "outputId": "2d68da0e-2de2-4a51-8cb6-ccbd09c64f86"
      },
      "source": [
        "y"
      ],
      "execution_count": 50,
      "outputs": [
        {
          "output_type": "execute_result",
          "data": {
            "text/plain": [
              "11"
            ]
          },
          "metadata": {
            "tags": []
          },
          "execution_count": 50
        }
      ]
    },
    {
      "cell_type": "code",
      "metadata": {
        "colab": {
          "base_uri": "https://localhost:8080/"
        },
        "id": "ov1_kZqDg0vL",
        "outputId": "c3edda63-da7a-48cd-c0b6-90755919afa5"
      },
      "source": [
        "# Cualquier número por cero es igual a cero\n",
        "x = 2\n",
        "x*0"
      ],
      "execution_count": 51,
      "outputs": [
        {
          "output_type": "execute_result",
          "data": {
            "text/plain": [
              "0"
            ]
          },
          "metadata": {
            "tags": []
          },
          "execution_count": 51
        }
      ]
    },
    {
      "cell_type": "code",
      "metadata": {
        "colab": {
          "base_uri": "https://localhost:8080/"
        },
        "id": "9O8PYLlHg0vM",
        "outputId": "ef7a1958-4062-4c18-eb46-ffb8ff98e479"
      },
      "source": [
        "# El exponencial se puede escribir de más de una manera en Python, pero el doble asterisco\n",
        "# es la más fácil y la que cubriremos por ahora:\n",
        "x**5"
      ],
      "execution_count": 52,
      "outputs": [
        {
          "output_type": "execute_result",
          "data": {
            "text/plain": [
              "32"
            ]
          },
          "metadata": {
            "tags": []
          },
          "execution_count": 52
        }
      ]
    },
    {
      "cell_type": "code",
      "metadata": {
        "colab": {
          "base_uri": "https://localhost:8080/"
        },
        "id": "lckeYa97g0vM",
        "outputId": "ea2f49f7-a94c-4a81-e593-6a27e0085e87"
      },
      "source": [
        "# Recordemos el orden de ejecución de operaciones. Primero exponenciales y hasta el final sumas\n",
        "x**2+1"
      ],
      "execution_count": 53,
      "outputs": [
        {
          "output_type": "execute_result",
          "data": {
            "text/plain": [
              "5"
            ]
          },
          "metadata": {
            "tags": []
          },
          "execution_count": 53
        }
      ]
    },
    {
      "cell_type": "code",
      "metadata": {
        "colab": {
          "base_uri": "https://localhost:8080/"
        },
        "id": "h5ZAgWgGg0vP",
        "outputId": "9a9eabe5-d570-4f94-add2-3681959f7207"
      },
      "source": [
        "# Una exponencial fraccionada es una raíz i-ésima. En este caso, es equivalente a sacar la raíz cuadrada\n",
        "# nótese que el valor de esta operación ya no es un entero, sino otro tipo de valor\n",
        "x**(1/2)"
      ],
      "execution_count": 54,
      "outputs": [
        {
          "output_type": "execute_result",
          "data": {
            "text/plain": [
              "1.4142135623730951"
            ]
          },
          "metadata": {
            "tags": []
          },
          "execution_count": 54
        }
      ]
    },
    {
      "cell_type": "code",
      "metadata": {
        "colab": {
          "base_uri": "https://localhost:8080/",
          "height": 178
        },
        "id": "OP9ftQ7Jg0vR",
        "outputId": "8c89d1cc-bd33-4a10-fba7-39a8785f9e87"
      },
      "source": [
        "# ¿Recuerdan la división entre cero?\n",
        "x/0"
      ],
      "execution_count": 55,
      "outputs": [
        {
          "output_type": "error",
          "ename": "ZeroDivisionError",
          "evalue": "ignored",
          "traceback": [
            "\u001b[0;31m---------------------------------------------------------------------------\u001b[0m",
            "\u001b[0;31mZeroDivisionError\u001b[0m                         Traceback (most recent call last)",
            "\u001b[0;32m<ipython-input-55-57dda22cbbbf>\u001b[0m in \u001b[0;36m<module>\u001b[0;34m()\u001b[0m\n\u001b[1;32m      1\u001b[0m \u001b[0;31m# ¿Recuerdan la división entre cero?\u001b[0m\u001b[0;34m\u001b[0m\u001b[0;34m\u001b[0m\u001b[0;34m\u001b[0m\u001b[0m\n\u001b[0;32m----> 2\u001b[0;31m \u001b[0mx\u001b[0m\u001b[0;34m/\u001b[0m\u001b[0;36m0\u001b[0m\u001b[0;34m\u001b[0m\u001b[0;34m\u001b[0m\u001b[0m\n\u001b[0m",
            "\u001b[0;31mZeroDivisionError\u001b[0m: division by zero"
          ]
        }
      ]
    },
    {
      "cell_type": "code",
      "metadata": {
        "colab": {
          "base_uri": "https://localhost:8080/",
          "height": 162
        },
        "id": "xzvLIC8gg0vS",
        "outputId": "c61b5649-1900-4b10-d020-2ee852d95f15"
      },
      "source": [
        "x = manzana"
      ],
      "execution_count": 56,
      "outputs": [
        {
          "output_type": "error",
          "ename": "NameError",
          "evalue": "ignored",
          "traceback": [
            "\u001b[0;31m---------------------------------------------------------------------------\u001b[0m",
            "\u001b[0;31mNameError\u001b[0m                                 Traceback (most recent call last)",
            "\u001b[0;32m<ipython-input-56-d3900484e66d>\u001b[0m in \u001b[0;36m<module>\u001b[0;34m()\u001b[0m\n\u001b[0;32m----> 1\u001b[0;31m \u001b[0mx\u001b[0m \u001b[0;34m=\u001b[0m \u001b[0mmanzana\u001b[0m\u001b[0;34m\u001b[0m\u001b[0;34m\u001b[0m\u001b[0m\n\u001b[0m",
            "\u001b[0;31mNameError\u001b[0m: name 'manzana' is not defined"
          ]
        }
      ]
    },
    {
      "cell_type": "markdown",
      "metadata": {
        "id": "7-bLrPf_g0vT"
      },
      "source": [
        "Como notarán, el error dice explícitamente \"división entre cero\". Hay varios tipos de error en Python pero una de las cosas más importantes es aprender a leer y entender los errores.  Si no tuviéramos un error explícito que nos dijera que estamos dividiendo entre cero, talvez nos tardaríamos mucho tiempo en encontrar el error de lo que estamos ejecutando."
      ]
    },
    {
      "cell_type": "code",
      "metadata": {
        "colab": {
          "base_uri": "https://localhost:8080/",
          "height": 195
        },
        "id": "h1qrKAS7g0vU",
        "outputId": "10668cd9-f464-4439-f20b-80f8a2e4c3e2"
      },
      "source": [
        "## ¿Qué pasará si intentamos hacerle como con el texto, para extraer un valor de un entero?\n",
        "x = 25\n",
        "x[0]"
      ],
      "execution_count": 57,
      "outputs": [
        {
          "output_type": "error",
          "ename": "TypeError",
          "evalue": "ignored",
          "traceback": [
            "\u001b[0;31m---------------------------------------------------------------------------\u001b[0m",
            "\u001b[0;31mTypeError\u001b[0m                                 Traceback (most recent call last)",
            "\u001b[0;32m<ipython-input-57-ca0cdccf12bc>\u001b[0m in \u001b[0;36m<module>\u001b[0;34m()\u001b[0m\n\u001b[1;32m      1\u001b[0m \u001b[0;31m## ¿Qué pasará si intentamos hacerle como con el texto, para extraer un valor de un entero?\u001b[0m\u001b[0;34m\u001b[0m\u001b[0;34m\u001b[0m\u001b[0;34m\u001b[0m\u001b[0m\n\u001b[1;32m      2\u001b[0m \u001b[0mx\u001b[0m \u001b[0;34m=\u001b[0m \u001b[0;36m25\u001b[0m\u001b[0;34m\u001b[0m\u001b[0;34m\u001b[0m\u001b[0m\n\u001b[0;32m----> 3\u001b[0;31m \u001b[0mx\u001b[0m\u001b[0;34m[\u001b[0m\u001b[0;36m0\u001b[0m\u001b[0;34m]\u001b[0m\u001b[0;34m\u001b[0m\u001b[0;34m\u001b[0m\u001b[0m\n\u001b[0m",
            "\u001b[0;31mTypeError\u001b[0m: 'int' object is not subscriptable"
          ]
        }
      ]
    },
    {
      "cell_type": "markdown",
      "metadata": {
        "id": "DqCnnBFUg0vU"
      },
      "source": [
        "No todas las operaciones son válidas para todos los tipos de variables. Cada tipo de dato (enteros, strings, etc.) tiene diferentes operaciones (propiamente llamados \"métodos\"). Iremos viendo cómo usar cada una de esas operaciones y para qué sirven."
      ]
    },
    {
      "cell_type": "markdown",
      "metadata": {
        "id": "BsQIJJylg0vV"
      },
      "source": [
        "#### Floats/Doubles (números reales)\n",
        "Todos los números reales no imaginarios. En otras palabras:\n",
        "\n",
        "\n",
        "<center> $x\\in \\mathbb{R}, x\\in (-\\infty, \\infty)$ </center> \n",
        "\n",
        "1 es real. 2.55 es real. $\\pi$ $(3.141592654...)$ es un número real. $\\sqrt2$ es real. $1.1111...$ es un número real. $10^{100}$ es real.\n",
        "\n",
        "Los números enteros los podemos representar con un número real. Sin embargo, hay diferencias detrás de cámaras que hacen esos dos tipos de datos muy diferentes. Las más importantes para nosotros en este punto son:\n",
        "- Los floats ocupan más memoria que los enteros, así que tardaremos un poco más en hacer operaciones\n",
        "- La aritmética con floats será frecuentemente inexacta debido a la forma en la que los datos se guardan en la memoria"
      ]
    },
    {
      "cell_type": "code",
      "metadata": {
        "id": "PdOlWNDyg0vV"
      },
      "source": [
        "y = 3.2"
      ],
      "execution_count": 58,
      "outputs": []
    },
    {
      "cell_type": "code",
      "metadata": {
        "colab": {
          "base_uri": "https://localhost:8080/"
        },
        "id": "KCj-sQ5Fg0vW",
        "outputId": "73b1229c-5f70-46ad-fe92-d6a7f648dd2c"
      },
      "source": [
        "y*2"
      ],
      "execution_count": 59,
      "outputs": [
        {
          "output_type": "execute_result",
          "data": {
            "text/plain": [
              "6.4"
            ]
          },
          "metadata": {
            "tags": []
          },
          "execution_count": 59
        }
      ]
    },
    {
      "cell_type": "code",
      "metadata": {
        "colab": {
          "base_uri": "https://localhost:8080/"
        },
        "id": "Vx_xg3DNg0vW",
        "outputId": "f06ea4c0-9c70-4c86-ac1c-5114c406ce80"
      },
      "source": [
        "y*y      # ¿Qué es ese 0000000002 que no debería estar ahí?\n",
        "         # justo a esto nos referimos con que la aritmética será inexacta con los floats"
      ],
      "execution_count": 60,
      "outputs": [
        {
          "output_type": "execute_result",
          "data": {
            "text/plain": [
              "10.240000000000002"
            ]
          },
          "metadata": {
            "tags": []
          },
          "execution_count": 60
        }
      ]
    },
    {
      "cell_type": "code",
      "metadata": {
        "id": "kBY6ofcbg0vX"
      },
      "source": [
        "z = (y*10)"
      ],
      "execution_count": 61,
      "outputs": []
    },
    {
      "cell_type": "code",
      "metadata": {
        "colab": {
          "base_uri": "https://localhost:8080/"
        },
        "id": "lktDhxs0g0vX",
        "outputId": "4a3c1784-c705-49b8-c11c-0f1c6ff2a942"
      },
      "source": [
        "z"
      ],
      "execution_count": 62,
      "outputs": [
        {
          "output_type": "execute_result",
          "data": {
            "text/plain": [
              "32.0"
            ]
          },
          "metadata": {
            "tags": []
          },
          "execution_count": 62
        }
      ]
    },
    {
      "cell_type": "code",
      "metadata": {
        "colab": {
          "base_uri": "https://localhost:8080/"
        },
        "id": "QJMZ9ymLg0vX",
        "outputId": "552bfccd-259d-41d4-a78f-bd11ec2acfda"
      },
      "source": [
        "z*z       # Por qué ahora no tuvimos ese 00000002 ahí?"
      ],
      "execution_count": 63,
      "outputs": [
        {
          "output_type": "execute_result",
          "data": {
            "text/plain": [
              "1024.0"
            ]
          },
          "metadata": {
            "tags": []
          },
          "execution_count": 63
        }
      ]
    },
    {
      "cell_type": "code",
      "metadata": {
        "colab": {
          "base_uri": "https://localhost:8080/"
        },
        "id": "YPA2YSxqg0vY",
        "outputId": "867454b7-0133-43ee-b744-41ee3ac1afb2"
      },
      "source": [
        "(z*z)/(10*10)"
      ],
      "execution_count": 64,
      "outputs": [
        {
          "output_type": "execute_result",
          "data": {
            "text/plain": [
              "10.24"
            ]
          },
          "metadata": {
            "tags": []
          },
          "execution_count": 64
        }
      ]
    },
    {
      "cell_type": "code",
      "metadata": {
        "colab": {
          "base_uri": "https://localhost:8080/"
        },
        "id": "EnfNzKXNg0vZ",
        "outputId": "b6b9272f-9e8a-4df2-9417-b77ef1cf96fe"
      },
      "source": [
        "y / 2    # la diagonal hace una división normal "
      ],
      "execution_count": 65,
      "outputs": [
        {
          "output_type": "execute_result",
          "data": {
            "text/plain": [
              "1.6"
            ]
          },
          "metadata": {
            "tags": []
          },
          "execution_count": 65
        }
      ]
    },
    {
      "cell_type": "code",
      "metadata": {
        "colab": {
          "base_uri": "https://localhost:8080/"
        },
        "id": "sp2QKXbhg0vZ",
        "outputId": "e577c248-32c8-4be0-9e65-8df92e24e2e7"
      },
      "source": [
        "y // 2   # doble diagonal es el cociente de una división normal \n",
        "# en este caso, el cociente de 3.2 entre 2 es 1 "
      ],
      "execution_count": 66,
      "outputs": [
        {
          "output_type": "execute_result",
          "data": {
            "text/plain": [
              "1.0"
            ]
          },
          "metadata": {
            "tags": []
          },
          "execution_count": 66
        }
      ]
    },
    {
      "cell_type": "code",
      "metadata": {
        "colab": {
          "base_uri": "https://localhost:8080/"
        },
        "id": "jXUWPPL-g0va",
        "outputId": "d8f4102a-9058-4788-9392-b0f469cf635c"
      },
      "source": [
        "y % 2    # esta operación es el residuo o \"módulo\" \n",
        "# en este caso, el cociente de 3.2 entre 2 es 1 y el residuo es 1.2\n",
        "# nótese que como hicimos operaciones con floats, tenemos otra vez el tema\n",
        "# de un 000000002 al final del número"
      ],
      "execution_count": 67,
      "outputs": [
        {
          "output_type": "execute_result",
          "data": {
            "text/plain": [
              "1.2000000000000002"
            ]
          },
          "metadata": {
            "tags": []
          },
          "execution_count": 67
        }
      ]
    },
    {
      "cell_type": "code",
      "metadata": {
        "id": "JLlc_pHvg0vb"
      },
      "source": [
        "x = 1.0\n",
        "y = 1"
      ],
      "execution_count": 68,
      "outputs": []
    },
    {
      "cell_type": "code",
      "metadata": {
        "colab": {
          "base_uri": "https://localhost:8080/"
        },
        "id": "3TOy3RA4g0vc",
        "outputId": "7a7246b8-c2e4-4b71-af6b-68a2b7540dc5"
      },
      "source": [
        "x, y       # nótese que para Python, un número decimal automáticamente define un float vs un entero"
      ],
      "execution_count": 69,
      "outputs": [
        {
          "output_type": "execute_result",
          "data": {
            "text/plain": [
              "(1.0, 1)"
            ]
          },
          "metadata": {
            "tags": []
          },
          "execution_count": 69
        }
      ]
    },
    {
      "cell_type": "code",
      "metadata": {
        "colab": {
          "base_uri": "https://localhost:8080/"
        },
        "id": "FeW_W95yg0vc",
        "outputId": "b544b8e4-eeca-4f18-b4ff-969e99097171"
      },
      "source": [
        "# float con entero hace float\n",
        "# entero con entero hace entero\n",
        "3*x, 3*y   "
      ],
      "execution_count": 70,
      "outputs": [
        {
          "output_type": "execute_result",
          "data": {
            "text/plain": [
              "(3.0, 3)"
            ]
          },
          "metadata": {
            "tags": []
          },
          "execution_count": 70
        }
      ]
    },
    {
      "cell_type": "code",
      "metadata": {
        "colab": {
          "base_uri": "https://localhost:8080/"
        },
        "id": "Ky4X5iYcg0vd",
        "outputId": "20546b71-ad52-4b6a-fd9c-b3e68d6a880d"
      },
      "source": [
        "# float con entero hace float\n",
        "# entero con entero hace entero\n",
        "x + 1, y + 1"
      ],
      "execution_count": 71,
      "outputs": [
        {
          "output_type": "execute_result",
          "data": {
            "text/plain": [
              "(2.0, 2)"
            ]
          },
          "metadata": {
            "tags": []
          },
          "execution_count": 71
        }
      ]
    },
    {
      "cell_type": "code",
      "metadata": {
        "colab": {
          "base_uri": "https://localhost:8080/"
        },
        "id": "G-DDr59lg0vd",
        "outputId": "3db3239a-cbd6-4b19-98b8-b9593b72ceb2"
      },
      "source": [
        "# float con entero hace float\n",
        "y + x"
      ],
      "execution_count": 72,
      "outputs": [
        {
          "output_type": "execute_result",
          "data": {
            "text/plain": [
              "2.0"
            ]
          },
          "metadata": {
            "tags": []
          },
          "execution_count": 72
        }
      ]
    },
    {
      "cell_type": "code",
      "metadata": {
        "colab": {
          "base_uri": "https://localhost:8080/"
        },
        "id": "SSc0rTJ4g0vd",
        "outputId": "fd95a8f8-5c78-4302-e238-a682d9fc40cc"
      },
      "source": [
        "# float con entero hace float\n",
        "x - y"
      ],
      "execution_count": 73,
      "outputs": [
        {
          "output_type": "execute_result",
          "data": {
            "text/plain": [
              "0.0"
            ]
          },
          "metadata": {
            "tags": []
          },
          "execution_count": 73
        }
      ]
    },
    {
      "cell_type": "code",
      "metadata": {
        "colab": {
          "base_uri": "https://localhost:8080/"
        },
        "id": "yuLJmvVtg0ve",
        "outputId": "075aab23-3be4-49ec-8ffa-4ba41feea234"
      },
      "source": [
        "import math\n",
        "math.log(10)\n",
        "\n",
        "## omg qué es esto? *import* es un comando para importar una biblioteca\n",
        "## una biblioteca es una colección de código que nos ayuda a hacer cosas,\n",
        "## en este caso, a hacer operaciones matemáticas. Más adelante introduciremos\n",
        "## otro tipo de bibliotecas."
      ],
      "execution_count": 74,
      "outputs": [
        {
          "output_type": "execute_result",
          "data": {
            "text/plain": [
              "2.302585092994046"
            ]
          },
          "metadata": {
            "tags": []
          },
          "execution_count": 74
        }
      ]
    },
    {
      "cell_type": "code",
      "metadata": {
        "colab": {
          "base_uri": "https://localhost:8080/"
        },
        "id": "Zdfp72gzg0ve",
        "outputId": "62877916-1bb5-4f9b-90ef-e2a238d14f58"
      },
      "source": [
        "round(math.log(10), 4)"
      ],
      "execution_count": 75,
      "outputs": [
        {
          "output_type": "execute_result",
          "data": {
            "text/plain": [
              "2.3026"
            ]
          },
          "metadata": {
            "tags": []
          },
          "execution_count": 75
        }
      ]
    },
    {
      "cell_type": "markdown",
      "metadata": {
        "id": "d9_zXpQDg0vf"
      },
      "source": [
        "#### Booleanos"
      ]
    },
    {
      "cell_type": "code",
      "metadata": {
        "id": "SpEcHMqng0vf"
      },
      "source": [
        "# Como mencionamos arriba, los booleanos son sólo estos dos valores:\n",
        "x = True\n",
        "y = False"
      ],
      "execution_count": 76,
      "outputs": []
    },
    {
      "cell_type": "code",
      "metadata": {
        "colab": {
          "base_uri": "https://localhost:8080/",
          "height": 178
        },
        "id": "dMUkUV67g0vf",
        "outputId": "a5d2267f-579e-4cd1-eae3-5247f02b0e74"
      },
      "source": [
        "# Los booleanos tienen que ser con la primera letra mayúscula, si no, no se identifican como booleanos\n",
        "x = true"
      ],
      "execution_count": 78,
      "outputs": [
        {
          "output_type": "error",
          "ename": "NameError",
          "evalue": "ignored",
          "traceback": [
            "\u001b[0;31m---------------------------------------------------------------------------\u001b[0m",
            "\u001b[0;31mNameError\u001b[0m                                 Traceback (most recent call last)",
            "\u001b[0;32m<ipython-input-78-eb3ab214f101>\u001b[0m in \u001b[0;36m<module>\u001b[0;34m()\u001b[0m\n\u001b[1;32m      1\u001b[0m \u001b[0;31m# Los booleanos tienen que ser con la primera letra mayúscula, si no, no se identifican como booleanos\u001b[0m\u001b[0;34m\u001b[0m\u001b[0;34m\u001b[0m\u001b[0;34m\u001b[0m\u001b[0m\n\u001b[0;32m----> 2\u001b[0;31m \u001b[0mx\u001b[0m \u001b[0;34m=\u001b[0m \u001b[0mtrue\u001b[0m\u001b[0;34m\u001b[0m\u001b[0;34m\u001b[0m\u001b[0m\n\u001b[0m",
            "\u001b[0;31mNameError\u001b[0m: name 'true' is not defined"
          ]
        }
      ]
    },
    {
      "cell_type": "code",
      "metadata": {
        "colab": {
          "base_uri": "https://localhost:8080/"
        },
        "id": "0QJlkF47g0vg",
        "outputId": "cfaec4ed-7eb8-43b7-c168-5185be5c0682"
      },
      "source": [
        "print(x)"
      ],
      "execution_count": 79,
      "outputs": [
        {
          "output_type": "stream",
          "text": [
            "True\n"
          ],
          "name": "stdout"
        }
      ]
    },
    {
      "cell_type": "markdown",
      "metadata": {
        "id": "GjwVg24bg0vg"
      },
      "source": [
        "Recordatorio de lógica:\n",
        "- La función `y` (`and`) lógica se evalúa de la siguiente manera:\n",
        "    - `True and True = True`\n",
        "    - `True and False = False`\n",
        "    - `False and False = False`\n",
        "    - La función `y` requiere que todo sea verdadero para obtener verdadero. Un solo falso hará que la función se evalúe como falsa.\n",
        "- La función `o` (`or`) lógica se evalúa de la siguiente manera:\n",
        "    - `True or True = True`\n",
        "    - `True or False = True`\n",
        "    - `False or False = False`\n",
        "    - La función `o` requiere que al menos un elemento sea verdadero para obtener verdadero. Si todo es falso, entonces obtendremos un falso'"
      ]
    },
    {
      "cell_type": "code",
      "metadata": {
        "colab": {
          "base_uri": "https://localhost:8080/"
        },
        "id": "alQYDqrDg0vi",
        "outputId": "92596ca2-b9cd-4b6b-e541-88d00cb2e57b"
      },
      "source": [
        "x and x"
      ],
      "execution_count": 80,
      "outputs": [
        {
          "output_type": "execute_result",
          "data": {
            "text/plain": [
              "True"
            ]
          },
          "metadata": {
            "tags": []
          },
          "execution_count": 80
        }
      ]
    },
    {
      "cell_type": "code",
      "metadata": {
        "colab": {
          "base_uri": "https://localhost:8080/"
        },
        "id": "K12EyE7Jg0vk",
        "outputId": "b87f67d9-dca6-4cc9-825c-61235925873c"
      },
      "source": [
        "x and y"
      ],
      "execution_count": 81,
      "outputs": [
        {
          "output_type": "execute_result",
          "data": {
            "text/plain": [
              "False"
            ]
          },
          "metadata": {
            "tags": []
          },
          "execution_count": 81
        }
      ]
    },
    {
      "cell_type": "code",
      "metadata": {
        "colab": {
          "base_uri": "https://localhost:8080/"
        },
        "id": "f1k10mKig0vl",
        "outputId": "43a0f8c3-01cf-42a6-9c7f-9d536e8d1c81"
      },
      "source": [
        "y and y"
      ],
      "execution_count": 82,
      "outputs": [
        {
          "output_type": "execute_result",
          "data": {
            "text/plain": [
              "False"
            ]
          },
          "metadata": {
            "tags": []
          },
          "execution_count": 82
        }
      ]
    },
    {
      "cell_type": "code",
      "metadata": {
        "colab": {
          "base_uri": "https://localhost:8080/"
        },
        "id": "QMjliw53g0vl",
        "outputId": "a52d2f37-93e2-4b6f-e529-5660dfe4c5f4"
      },
      "source": [
        "x or y"
      ],
      "execution_count": 83,
      "outputs": [
        {
          "output_type": "execute_result",
          "data": {
            "text/plain": [
              "True"
            ]
          },
          "metadata": {
            "tags": []
          },
          "execution_count": 83
        }
      ]
    },
    {
      "cell_type": "code",
      "metadata": {
        "colab": {
          "base_uri": "https://localhost:8080/"
        },
        "id": "TylH3mJvg0vm",
        "outputId": "a7ca101e-eb4a-49e7-82c7-22cda67e4cd3"
      },
      "source": [
        "y or y"
      ],
      "execution_count": 84,
      "outputs": [
        {
          "output_type": "execute_result",
          "data": {
            "text/plain": [
              "False"
            ]
          },
          "metadata": {
            "tags": []
          },
          "execution_count": 84
        }
      ]
    },
    {
      "cell_type": "markdown",
      "metadata": {
        "id": "lrFXoWypg0vn"
      },
      "source": [
        "Las comparaciones numéricas también regresan valores lógicos. Las siguientes operaciones se admiten para hacer comparaciones:\n",
        "- `x > y`, x es mayor que y\n",
        "- `x < y`, x es menos que y\n",
        "- `x >= y`, x es mayor o igual que y\n",
        "- `x <= y`, x es menor o igual que y\n",
        "- `x == y`, x es igual que y"
      ]
    },
    {
      "cell_type": "code",
      "metadata": {
        "colab": {
          "base_uri": "https://localhost:8080/"
        },
        "id": "TjxdX127g0vn",
        "outputId": "a66e9992-db6d-4fc4-fadb-b6a8b646218c"
      },
      "source": [
        "3 > 1"
      ],
      "execution_count": 85,
      "outputs": [
        {
          "output_type": "execute_result",
          "data": {
            "text/plain": [
              "True"
            ]
          },
          "metadata": {
            "tags": []
          },
          "execution_count": 85
        }
      ]
    },
    {
      "cell_type": "code",
      "metadata": {
        "colab": {
          "base_uri": "https://localhost:8080/"
        },
        "id": "_nInKLCZg0vo",
        "outputId": "af48d63f-6879-4952-9600-0581c5db227b"
      },
      "source": [
        "3 >= 1"
      ],
      "execution_count": 86,
      "outputs": [
        {
          "output_type": "execute_result",
          "data": {
            "text/plain": [
              "True"
            ]
          },
          "metadata": {
            "tags": []
          },
          "execution_count": 86
        }
      ]
    },
    {
      "cell_type": "code",
      "metadata": {
        "colab": {
          "base_uri": "https://localhost:8080/"
        },
        "id": "F0aAeK_6g0vp",
        "outputId": "f55f7c60-0ffc-4cec-b07c-0bb460a892b2"
      },
      "source": [
        "3 < 1"
      ],
      "execution_count": 87,
      "outputs": [
        {
          "output_type": "execute_result",
          "data": {
            "text/plain": [
              "False"
            ]
          },
          "metadata": {
            "tags": []
          },
          "execution_count": 87
        }
      ]
    },
    {
      "cell_type": "markdown",
      "metadata": {
        "id": "aLBYE8-eg0vp"
      },
      "source": [
        "Cuando comparamos valores booleanos, en vez de usar el `==`, usamos el operador `is`:"
      ]
    },
    {
      "cell_type": "code",
      "metadata": {
        "colab": {
          "base_uri": "https://localhost:8080/"
        },
        "id": "GvaC6Yowg0vq",
        "outputId": "72fd36c3-fb2d-4750-f76c-002f33865fef"
      },
      "source": [
        "x = True\n",
        "x is (3 > 1)"
      ],
      "execution_count": 88,
      "outputs": [
        {
          "output_type": "execute_result",
          "data": {
            "text/plain": [
              "True"
            ]
          },
          "metadata": {
            "tags": []
          },
          "execution_count": 88
        }
      ]
    },
    {
      "cell_type": "code",
      "metadata": {
        "colab": {
          "base_uri": "https://localhost:8080/"
        },
        "id": "stS50I33g0vq",
        "outputId": "6d186ff6-37e1-4937-f1de-717270dc98b0"
      },
      "source": [
        "x is (3 < 1)"
      ],
      "execution_count": 89,
      "outputs": [
        {
          "output_type": "execute_result",
          "data": {
            "text/plain": [
              "False"
            ]
          },
          "metadata": {
            "tags": []
          },
          "execution_count": 89
        }
      ]
    },
    {
      "cell_type": "code",
      "metadata": {
        "colab": {
          "base_uri": "https://localhost:8080/"
        },
        "id": "2LKvnL1Dg0vr",
        "outputId": "036ffeef-8381-48c1-b11a-f60261fe81fb"
      },
      "source": [
        "z = 1\n",
        "z == 1"
      ],
      "execution_count": 90,
      "outputs": [
        {
          "output_type": "execute_result",
          "data": {
            "text/plain": [
              "True"
            ]
          },
          "metadata": {
            "tags": []
          },
          "execution_count": 90
        }
      ]
    },
    {
      "cell_type": "code",
      "metadata": {
        "colab": {
          "base_uri": "https://localhost:8080/"
        },
        "id": "WoQFOpjOg0vr",
        "outputId": "1a1858d6-af70-4830-b8b8-3778619b9ae2"
      },
      "source": [
        "z == 2"
      ],
      "execution_count": 91,
      "outputs": [
        {
          "output_type": "execute_result",
          "data": {
            "text/plain": [
              "False"
            ]
          },
          "metadata": {
            "tags": []
          },
          "execution_count": 91
        }
      ]
    },
    {
      "cell_type": "code",
      "metadata": {
        "colab": {
          "base_uri": "https://localhost:8080/"
        },
        "id": "Ucd5Ro-9g0vs",
        "outputId": "6b82793d-3862-4faf-938a-477d3b8f89c7"
      },
      "source": [
        "x is 1"
      ],
      "execution_count": 92,
      "outputs": [
        {
          "output_type": "execute_result",
          "data": {
            "text/plain": [
              "False"
            ]
          },
          "metadata": {
            "tags": []
          },
          "execution_count": 92
        }
      ]
    },
    {
      "cell_type": "code",
      "metadata": {
        "colab": {
          "base_uri": "https://localhost:8080/"
        },
        "id": "1gPZLHIGg0vs",
        "outputId": "48d8da1f-e515-460f-d5c9-85a6e7c1d1c0"
      },
      "source": [
        "x + 1    # ¡¿Pero qué está pasando aquí?!"
      ],
      "execution_count": 93,
      "outputs": [
        {
          "output_type": "execute_result",
          "data": {
            "text/plain": [
              "2"
            ]
          },
          "metadata": {
            "tags": []
          },
          "execution_count": 93
        }
      ]
    },
    {
      "cell_type": "markdown",
      "metadata": {
        "id": "D7FhcMpRg0vt"
      },
      "source": [
        "Python interpreta el valor `True` como 1 en algunas circunstancias. Esto es algo no necesariamente deseable ya que puede tener efectos como lo anterior. Esta es una razón importante para no mezclar tipos de datos."
      ]
    },
    {
      "cell_type": "code",
      "metadata": {
        "collapsed": true,
        "colab": {
          "base_uri": "https://localhost:8080/"
        },
        "id": "tSOklQcqg0vt",
        "outputId": "d3f5d7d6-10ce-4cea-9796-ccb0215a65c8"
      },
      "source": [
        "x is 1"
      ],
      "execution_count": 94,
      "outputs": [
        {
          "output_type": "execute_result",
          "data": {
            "text/plain": [
              "False"
            ]
          },
          "metadata": {
            "tags": []
          },
          "execution_count": 94
        }
      ]
    },
    {
      "cell_type": "code",
      "metadata": {
        "collapsed": true,
        "colab": {
          "base_uri": "https://localhost:8080/"
        },
        "id": "LGltCFh_g0vt",
        "outputId": "f5775830-10eb-40a5-a0e0-b0bcd4686507"
      },
      "source": [
        "1 == True"
      ],
      "execution_count": 95,
      "outputs": [
        {
          "output_type": "execute_result",
          "data": {
            "text/plain": [
              "True"
            ]
          },
          "metadata": {
            "tags": []
          },
          "execution_count": 95
        }
      ]
    },
    {
      "cell_type": "code",
      "metadata": {
        "collapsed": true,
        "colab": {
          "base_uri": "https://localhost:8080/"
        },
        "id": "9CPOYIong0vu",
        "outputId": "843be4be-20b2-4ffd-c6ea-19fc25bb4757"
      },
      "source": [
        "x == 1"
      ],
      "execution_count": 96,
      "outputs": [
        {
          "output_type": "execute_result",
          "data": {
            "text/plain": [
              "True"
            ]
          },
          "metadata": {
            "tags": []
          },
          "execution_count": 96
        }
      ]
    },
    {
      "cell_type": "code",
      "metadata": {
        "collapsed": true,
        "colab": {
          "base_uri": "https://localhost:8080/"
        },
        "id": "sQ3DHhQ3g0vu",
        "outputId": "227e459f-7e3f-4856-acda-2dc47c11b539"
      },
      "source": [
        "2*x"
      ],
      "execution_count": 97,
      "outputs": [
        {
          "output_type": "execute_result",
          "data": {
            "text/plain": [
              "2"
            ]
          },
          "metadata": {
            "tags": []
          },
          "execution_count": 97
        }
      ]
    },
    {
      "cell_type": "code",
      "metadata": {
        "collapsed": true,
        "colab": {
          "base_uri": "https://localhost:8080/"
        },
        "id": "LWcWgo4fg0vu",
        "outputId": "d7638770-9187-428a-b011-fbe294bb7873"
      },
      "source": [
        "y = False\n",
        "2*y"
      ],
      "execution_count": 98,
      "outputs": [
        {
          "output_type": "execute_result",
          "data": {
            "text/plain": [
              "0"
            ]
          },
          "metadata": {
            "tags": []
          },
          "execution_count": 98
        }
      ]
    },
    {
      "cell_type": "markdown",
      "metadata": {
        "id": "4dPNTbBmg0vv"
      },
      "source": [
        "Igual que con `True`, Python interpreta `False` como un cero. "
      ]
    },
    {
      "cell_type": "code",
      "metadata": {
        "collapsed": true,
        "colab": {
          "base_uri": "https://localhost:8080/"
        },
        "id": "Xbq5vC4Wg0vv",
        "outputId": "8912cae4-40ed-402e-ba61-b3889721db18"
      },
      "source": [
        "y == 0"
      ],
      "execution_count": 99,
      "outputs": [
        {
          "output_type": "execute_result",
          "data": {
            "text/plain": [
              "True"
            ]
          },
          "metadata": {
            "tags": []
          },
          "execution_count": 99
        }
      ]
    },
    {
      "cell_type": "code",
      "metadata": {
        "collapsed": true,
        "colab": {
          "base_uri": "https://localhost:8080/"
        },
        "id": "pcScSNbwg0vw",
        "outputId": "e5e4b2d2-127b-4611-b09e-96bb67b659f7"
      },
      "source": [
        "y == 0"
      ],
      "execution_count": 100,
      "outputs": [
        {
          "output_type": "execute_result",
          "data": {
            "text/plain": [
              "True"
            ]
          },
          "metadata": {
            "tags": []
          },
          "execution_count": 100
        }
      ]
    },
    {
      "cell_type": "markdown",
      "metadata": {
        "id": "ivm-4qwug0vx"
      },
      "source": [
        "Recap: Hasta ahora hemos visto 4 tipos de datos \"fundamentales\": strings, enteros, floats y booleanos."
      ]
    },
    {
      "cell_type": "code",
      "metadata": {
        "colab": {
          "base_uri": "https://localhost:8080/"
        },
        "id": "YHkQH3nhg0vy",
        "outputId": "2083188a-7484-463c-9f3a-9ac516c78bf8"
      },
      "source": [
        "x = True\n",
        "type(x)"
      ],
      "execution_count": 101,
      "outputs": [
        {
          "output_type": "execute_result",
          "data": {
            "text/plain": [
              "bool"
            ]
          },
          "metadata": {
            "tags": []
          },
          "execution_count": 101
        }
      ]
    },
    {
      "cell_type": "code",
      "metadata": {
        "colab": {
          "base_uri": "https://localhost:8080/"
        },
        "id": "qgGK1BVBg0vz",
        "outputId": "c35c0daf-bea4-471d-8d36-5b91af35418a"
      },
      "source": [
        "x = 1\n",
        "type(x)"
      ],
      "execution_count": 102,
      "outputs": [
        {
          "output_type": "execute_result",
          "data": {
            "text/plain": [
              "int"
            ]
          },
          "metadata": {
            "tags": []
          },
          "execution_count": 102
        }
      ]
    },
    {
      "cell_type": "code",
      "metadata": {
        "colab": {
          "base_uri": "https://localhost:8080/"
        },
        "id": "rZJXnhPQg0v0",
        "outputId": "2093cd99-759e-40e0-b574-42d88e40506c"
      },
      "source": [
        "x = 1.0\n",
        "type(x)"
      ],
      "execution_count": 103,
      "outputs": [
        {
          "output_type": "execute_result",
          "data": {
            "text/plain": [
              "float"
            ]
          },
          "metadata": {
            "tags": []
          },
          "execution_count": 103
        }
      ]
    },
    {
      "cell_type": "code",
      "metadata": {
        "colab": {
          "base_uri": "https://localhost:8080/"
        },
        "id": "yK4_WQd-g0v1",
        "outputId": "518ef4fb-7d6d-49a4-c634-3546a5f2b897"
      },
      "source": [
        "x = '1'\n",
        "type(x)"
      ],
      "execution_count": 104,
      "outputs": [
        {
          "output_type": "execute_result",
          "data": {
            "text/plain": [
              "str"
            ]
          },
          "metadata": {
            "tags": []
          },
          "execution_count": 104
        }
      ]
    },
    {
      "cell_type": "markdown",
      "metadata": {
        "id": "ZgnD069Jg0v2"
      },
      "source": [
        "#### None\n",
        "Hay un tipo de dato extra en Python que nos ayuda a definir un valor \"nulo\": el tipo `None`. Este valor es útil cuando queremos definir una variable pero todavía no le queremos asignar ningún valor. Más adelante veremos en qué casos puede sernos útil."
      ]
    },
    {
      "cell_type": "code",
      "metadata": {
        "id": "guJ8xXcSg0v2"
      },
      "source": [
        "x = None"
      ],
      "execution_count": 105,
      "outputs": []
    },
    {
      "cell_type": "code",
      "metadata": {
        "colab": {
          "base_uri": "https://localhost:8080/"
        },
        "id": "v4P5ob9lg0v3",
        "outputId": "766c6927-5300-4993-ad37-aaffd17d39f8"
      },
      "source": [
        "x is False"
      ],
      "execution_count": 106,
      "outputs": [
        {
          "output_type": "execute_result",
          "data": {
            "text/plain": [
              "False"
            ]
          },
          "metadata": {
            "tags": []
          },
          "execution_count": 106
        }
      ]
    },
    {
      "cell_type": "code",
      "metadata": {
        "colab": {
          "base_uri": "https://localhost:8080/"
        },
        "id": "YyAYV5pmg0v3",
        "outputId": "2530be42-b68e-4fb7-ddc3-4e16d74275df"
      },
      "source": [
        "x is True"
      ],
      "execution_count": 107,
      "outputs": [
        {
          "output_type": "execute_result",
          "data": {
            "text/plain": [
              "False"
            ]
          },
          "metadata": {
            "tags": []
          },
          "execution_count": 107
        }
      ]
    },
    {
      "cell_type": "code",
      "metadata": {
        "colab": {
          "base_uri": "https://localhost:8080/"
        },
        "id": "dfFja6b5g0v4",
        "outputId": "7ebb73b2-b05f-4bb1-e6db-5450e9ac1eb9"
      },
      "source": [
        "x == 1"
      ],
      "execution_count": 108,
      "outputs": [
        {
          "output_type": "execute_result",
          "data": {
            "text/plain": [
              "False"
            ]
          },
          "metadata": {
            "tags": []
          },
          "execution_count": 108
        }
      ]
    },
    {
      "cell_type": "code",
      "metadata": {
        "colab": {
          "base_uri": "https://localhost:8080/"
        },
        "id": "LKaLBiZ5g0v4",
        "outputId": "deb62300-80c6-43ea-bdac-38af6542dcb1"
      },
      "source": [
        "x == 0"
      ],
      "execution_count": 109,
      "outputs": [
        {
          "output_type": "execute_result",
          "data": {
            "text/plain": [
              "False"
            ]
          },
          "metadata": {
            "tags": []
          },
          "execution_count": 109
        }
      ]
    },
    {
      "cell_type": "code",
      "metadata": {
        "colab": {
          "base_uri": "https://localhost:8080/"
        },
        "id": "jBhhWihPg0v5",
        "outputId": "0e9e6940-8a61-4e1f-920b-f613d8b74220"
      },
      "source": [
        "x is None"
      ],
      "execution_count": 110,
      "outputs": [
        {
          "output_type": "execute_result",
          "data": {
            "text/plain": [
              "True"
            ]
          },
          "metadata": {
            "tags": []
          },
          "execution_count": 110
        }
      ]
    },
    {
      "cell_type": "code",
      "metadata": {
        "colab": {
          "base_uri": "https://localhost:8080/",
          "height": 162
        },
        "id": "iMFvbn4Eg0v6",
        "outputId": "ac91abd1-184a-492c-e275-0ec8bb2ef5bd"
      },
      "source": [
        "x + 1"
      ],
      "execution_count": 111,
      "outputs": [
        {
          "output_type": "error",
          "ename": "TypeError",
          "evalue": "ignored",
          "traceback": [
            "\u001b[0;31m---------------------------------------------------------------------------\u001b[0m",
            "\u001b[0;31mTypeError\u001b[0m                                 Traceback (most recent call last)",
            "\u001b[0;32m<ipython-input-111-eaf7b6991020>\u001b[0m in \u001b[0;36m<module>\u001b[0;34m()\u001b[0m\n\u001b[0;32m----> 1\u001b[0;31m \u001b[0mx\u001b[0m \u001b[0;34m+\u001b[0m \u001b[0;36m1\u001b[0m\u001b[0;34m\u001b[0m\u001b[0;34m\u001b[0m\u001b[0m\n\u001b[0m",
            "\u001b[0;31mTypeError\u001b[0m: unsupported operand type(s) for +: 'NoneType' and 'int'"
          ]
        }
      ]
    },
    {
      "cell_type": "markdown",
      "metadata": {
        "id": "KQ0i4haSg0v7"
      },
      "source": [
        "None acepta ciertas comparaciones pero no operaciones aritméticas. Como vemos, ese último error nos dice que no podemos sumar `None` con `int`."
      ]
    },
    {
      "cell_type": "markdown",
      "metadata": {
        "id": "0C0_tn1yg0v7"
      },
      "source": [
        "### Expresiones\n",
        "\n",
        "Una expresión es código que al ejecutarse, se evalúa. Por ejemplo, `x=1` no se evalúa, se declara (\"x es igual al valor 1\"). ¿A qué nos referimos con evaluar? A que Python debe hacer alguna operación para llegar a un resultado. A continuación ejemplos:"
      ]
    },
    {
      "cell_type": "code",
      "metadata": {
        "collapsed": true,
        "colab": {
          "base_uri": "https://localhost:8080/"
        },
        "id": "cdnDy1PUg0v8",
        "outputId": "63153a45-c096-420f-ad4d-b666a2c72b24"
      },
      "source": [
        "# Suma/resta, multiplicación/división son ejemplos básicos de expresiones\n",
        "- 3 + 5*(120/12) "
      ],
      "execution_count": 112,
      "outputs": [
        {
          "output_type": "execute_result",
          "data": {
            "text/plain": [
              "47.0"
            ]
          },
          "metadata": {
            "tags": []
          },
          "execution_count": 112
        }
      ]
    },
    {
      "cell_type": "code",
      "metadata": {
        "collapsed": true,
        "colab": {
          "base_uri": "https://localhost:8080/",
          "height": 35
        },
        "id": "C0UFef7fg0v8",
        "outputId": "5f9d019f-07e0-4529-d9ca-00224af1f205"
      },
      "source": [
        "# Concatenación de strings\n",
        "3 * 'Hola Mundo!'"
      ],
      "execution_count": 113,
      "outputs": [
        {
          "output_type": "execute_result",
          "data": {
            "application/vnd.google.colaboratory.intrinsic+json": {
              "type": "string"
            },
            "text/plain": [
              "'Hola Mundo!Hola Mundo!Hola Mundo!'"
            ]
          },
          "metadata": {
            "tags": []
          },
          "execution_count": 113
        }
      ]
    },
    {
      "cell_type": "code",
      "metadata": {
        "collapsed": true,
        "colab": {
          "base_uri": "https://localhost:8080/",
          "height": 35
        },
        "id": "subzAbgPg0v9",
        "outputId": "e81ed7f9-a7bb-46cc-ce2a-7bb1840c8959"
      },
      "source": [
        "nombre = \"Xóchitl\"                # esto es una declaración, asignamos un valor a una variable\n",
        "'Hola, me llamo: ' + nombre       # esto es una expresión, porque evaluamos una operación que es concatenación"
      ],
      "execution_count": 114,
      "outputs": [
        {
          "output_type": "execute_result",
          "data": {
            "application/vnd.google.colaboratory.intrinsic+json": {
              "type": "string"
            },
            "text/plain": [
              "'Hola, me llamo: Xóchitl'"
            ]
          },
          "metadata": {
            "tags": []
          },
          "execution_count": 114
        }
      ]
    },
    {
      "cell_type": "code",
      "metadata": {
        "collapsed": true,
        "colab": {
          "base_uri": "https://localhost:8080/",
          "height": 35
        },
        "id": "siay-U_lg0v9",
        "outputId": "61ead463-0be2-4348-d3a8-2209ba148774"
      },
      "source": [
        "total = 57.25\n",
        "\"Su total es de $\" + str(total)   ## casting! Esta función nos ayuda a convertir variables de un tipo a otro"
      ],
      "execution_count": 115,
      "outputs": [
        {
          "output_type": "execute_result",
          "data": {
            "application/vnd.google.colaboratory.intrinsic+json": {
              "type": "string"
            },
            "text/plain": [
              "'Su total es de $57.25'"
            ]
          },
          "metadata": {
            "tags": []
          },
          "execution_count": 115
        }
      ]
    },
    {
      "cell_type": "code",
      "metadata": {
        "collapsed": true,
        "colab": {
          "base_uri": "https://localhost:8080/"
        },
        "id": "e_RnG7m7g0v-",
        "outputId": "54cc8b65-30f1-41f7-c393-63f2f81c808a"
      },
      "source": [
        "# una comparación lógica es una evaluación ya que Python intenta decirte si algo es verdadero o no\n",
        "25 > 5*5"
      ],
      "execution_count": 116,
      "outputs": [
        {
          "output_type": "execute_result",
          "data": {
            "text/plain": [
              "False"
            ]
          },
          "metadata": {
            "tags": []
          },
          "execution_count": 116
        }
      ]
    },
    {
      "cell_type": "code",
      "metadata": {
        "collapsed": true,
        "colab": {
          "base_uri": "https://localhost:8080/"
        },
        "id": "0z_FU4MEg0v-",
        "outputId": "3841f53e-82a6-4bff-e6f3-fabd2768158d"
      },
      "source": [
        "25 >= 5*5"
      ],
      "execution_count": 117,
      "outputs": [
        {
          "output_type": "execute_result",
          "data": {
            "text/plain": [
              "True"
            ]
          },
          "metadata": {
            "tags": []
          },
          "execution_count": 117
        }
      ]
    },
    {
      "cell_type": "code",
      "metadata": {
        "collapsed": true,
        "colab": {
          "base_uri": "https://localhost:8080/"
        },
        "id": "tXGyPhItg0v-",
        "outputId": "66f22f47-2a34-495e-ba9d-641431a2d1af"
      },
      "source": [
        "edad = 25 \n",
        "edad != 12*2+1"
      ],
      "execution_count": 118,
      "outputs": [
        {
          "output_type": "execute_result",
          "data": {
            "text/plain": [
              "False"
            ]
          },
          "metadata": {
            "tags": []
          },
          "execution_count": 118
        }
      ]
    },
    {
      "cell_type": "code",
      "metadata": {
        "collapsed": true,
        "colab": {
          "base_uri": "https://localhost:8080/"
        },
        "id": "YeelZeM8g0v_",
        "outputId": "0c28eee6-cbe7-4700-fd14-2e5303ef65e1"
      },
      "source": [
        "# comparación con strings -> orden alfabético basado en lenguaje default en Python (unicode)\n",
        "\"A\" > \"B\""
      ],
      "execution_count": 119,
      "outputs": [
        {
          "output_type": "execute_result",
          "data": {
            "text/plain": [
              "False"
            ]
          },
          "metadata": {
            "tags": []
          },
          "execution_count": 119
        }
      ]
    },
    {
      "cell_type": "code",
      "metadata": {
        "collapsed": true,
        "colab": {
          "base_uri": "https://localhost:8080/"
        },
        "id": "6J-F7QcMg0wA",
        "outputId": "260d3064-7ad4-4d2f-b7d6-9759d17b6c1b"
      },
      "source": [
        "\"A\" < \"B\""
      ],
      "execution_count": 120,
      "outputs": [
        {
          "output_type": "execute_result",
          "data": {
            "text/plain": [
              "True"
            ]
          },
          "metadata": {
            "tags": []
          },
          "execution_count": 120
        }
      ]
    },
    {
      "cell_type": "code",
      "metadata": {
        "collapsed": true,
        "colab": {
          "base_uri": "https://localhost:8080/"
        },
        "id": "Jsps8xV3g0wA",
        "outputId": "8e99825f-8aab-4a89-90ae-1d0b4c79b55a"
      },
      "source": [
        "\"A\" < \"a\""
      ],
      "execution_count": 121,
      "outputs": [
        {
          "output_type": "execute_result",
          "data": {
            "text/plain": [
              "True"
            ]
          },
          "metadata": {
            "tags": []
          },
          "execution_count": 121
        }
      ]
    },
    {
      "cell_type": "code",
      "metadata": {
        "collapsed": true,
        "colab": {
          "base_uri": "https://localhost:8080/",
          "height": 178
        },
        "id": "Q0lsneb0g0wB",
        "outputId": "a60330a0-db28-4e1c-b671-bc016ff59dcc"
      },
      "source": [
        "## comparando tipos distintos\n",
        "1 > '1'"
      ],
      "execution_count": 123,
      "outputs": [
        {
          "output_type": "error",
          "ename": "TypeError",
          "evalue": "ignored",
          "traceback": [
            "\u001b[0;31m---------------------------------------------------------------------------\u001b[0m",
            "\u001b[0;31mTypeError\u001b[0m                                 Traceback (most recent call last)",
            "\u001b[0;32m<ipython-input-123-1e1227b8f48c>\u001b[0m in \u001b[0;36m<module>\u001b[0;34m()\u001b[0m\n\u001b[1;32m      1\u001b[0m \u001b[0;31m## comparando tipos distintos\u001b[0m\u001b[0;34m\u001b[0m\u001b[0;34m\u001b[0m\u001b[0;34m\u001b[0m\u001b[0m\n\u001b[0;32m----> 2\u001b[0;31m \u001b[0;36m1\u001b[0m \u001b[0;34m>\u001b[0m \u001b[0;34m'1'\u001b[0m\u001b[0;34m\u001b[0m\u001b[0;34m\u001b[0m\u001b[0m\n\u001b[0m",
            "\u001b[0;31mTypeError\u001b[0m: '>' not supported between instances of 'int' and 'str'"
          ]
        }
      ]
    },
    {
      "cell_type": "code",
      "metadata": {
        "collapsed": true,
        "colab": {
          "base_uri": "https://localhost:8080/"
        },
        "id": "QQ5mWyvkg0wB",
        "outputId": "2e012242-0863-41d9-e3cf-f2f088abcc6e"
      },
      "source": [
        "x = '1'\n",
        "1 == int(x)   # casting de nuevo, para una comparación lógica\n",
        "\n",
        "# Nota que == es diferente a =\n",
        "# La sintaxis == es un comparador lógico\n",
        "# El signo de igual = es sólo para asignar variables"
      ],
      "execution_count": 124,
      "outputs": [
        {
          "output_type": "execute_result",
          "data": {
            "text/plain": [
              "True"
            ]
          },
          "metadata": {
            "tags": []
          },
          "execution_count": 124
        }
      ]
    },
    {
      "cell_type": "code",
      "metadata": {
        "collapsed": true,
        "colab": {
          "base_uri": "https://localhost:8080/"
        },
        "id": "0mdczBqGg0wC",
        "outputId": "15e4a7b8-b37b-4e2a-acbf-aa20abbef2f4"
      },
      "source": [
        "x = 25\n",
        "25.0 == x"
      ],
      "execution_count": 125,
      "outputs": [
        {
          "output_type": "execute_result",
          "data": {
            "text/plain": [
              "True"
            ]
          },
          "metadata": {
            "tags": []
          },
          "execution_count": 125
        }
      ]
    },
    {
      "cell_type": "code",
      "metadata": {
        "collapsed": true,
        "colab": {
          "base_uri": "https://localhost:8080/"
        },
        "id": "JFA5BYbxg0wD",
        "outputId": "bb1111a0-fa57-4a64-df92-3658610fd2d9"
      },
      "source": [
        "# recordemos que algunas comparaciones con floats no funcionarán por los problemas de \n",
        "# aritmética que suceden con dichos datos \n",
        "x = 3.2\n",
        "x*x == 10.24"
      ],
      "execution_count": 126,
      "outputs": [
        {
          "output_type": "execute_result",
          "data": {
            "text/plain": [
              "False"
            ]
          },
          "metadata": {
            "tags": []
          },
          "execution_count": 126
        }
      ]
    },
    {
      "cell_type": "code",
      "metadata": {
        "collapsed": true,
        "colab": {
          "base_uri": "https://localhost:8080/"
        },
        "id": "IXJRH762g0wE",
        "outputId": "22e3a6c9-eb24-45da-dab2-f253d1066965"
      },
      "source": [
        "x*x"
      ],
      "execution_count": 127,
      "outputs": [
        {
          "output_type": "execute_result",
          "data": {
            "text/plain": [
              "10.240000000000002"
            ]
          },
          "metadata": {
            "tags": []
          },
          "execution_count": 127
        }
      ]
    },
    {
      "cell_type": "code",
      "metadata": {
        "collapsed": true,
        "colab": {
          "base_uri": "https://localhost:8080/"
        },
        "id": "69Is-hctg0wF",
        "outputId": "5e31e735-8421-4d95-9ddf-c36db22d53df"
      },
      "source": [
        "x = 2.1\n",
        "x*x == 4.41"
      ],
      "execution_count": 128,
      "outputs": [
        {
          "output_type": "execute_result",
          "data": {
            "text/plain": [
              "True"
            ]
          },
          "metadata": {
            "tags": []
          },
          "execution_count": 128
        }
      ]
    },
    {
      "cell_type": "code",
      "metadata": {
        "collapsed": true,
        "colab": {
          "base_uri": "https://localhost:8080/"
        },
        "id": "Cat8R_Egg0wG",
        "outputId": "3d22e500-afbb-4f1b-df3f-d0ea4ce21e37"
      },
      "source": [
        "x*x"
      ],
      "execution_count": 129,
      "outputs": [
        {
          "output_type": "execute_result",
          "data": {
            "text/plain": [
              "4.41"
            ]
          },
          "metadata": {
            "tags": []
          },
          "execution_count": 129
        }
      ]
    },
    {
      "cell_type": "code",
      "metadata": {
        "colab": {
          "base_uri": "https://localhost:8080/"
        },
        "id": "Q5NxE92mg0wH",
        "outputId": "38fd379f-5ba1-4a3c-d745-a7ac095c19da"
      },
      "source": [
        "## Ejemplo - debo pagar impuestos? \n",
        "## Si eres persona física y ganas más del ingreso mínimo, sí.\n",
        "\n",
        "# Inputs\n",
        "salario = 12500\n",
        "ingreso_min = 10000\n",
        "persona = 'física'\n",
        "\n",
        "# Evaluar si debo pagar impuestos\n",
        "(persona == 'física') and (salario > ingreso_min)"
      ],
      "execution_count": 130,
      "outputs": [
        {
          "output_type": "execute_result",
          "data": {
            "text/plain": [
              "True"
            ]
          },
          "metadata": {
            "tags": []
          },
          "execution_count": 130
        }
      ]
    },
    {
      "cell_type": "code",
      "metadata": {
        "colab": {
          "base_uri": "https://localhost:8080/"
        },
        "id": "1LiCD2n8g0wH",
        "outputId": "b28a91d9-e085-41b9-a883-dca09b4685aa"
      },
      "source": [
        "## Debo pagar impuestos? \n",
        "## Si eres persona física y tus ingresos menos deducciones son más del ingreso mínimo, sí.\n",
        "\n",
        "# Inputs\n",
        "salario = 12500\n",
        "deduccion = 5000\n",
        "ingreso_min = 10000\n",
        "persona = 'física'\n",
        "\n",
        "# Evaluar si debo pagar impuestos\n",
        "(persona == 'física') and (salario - deduccion > ingreso_min)"
      ],
      "execution_count": 131,
      "outputs": [
        {
          "output_type": "execute_result",
          "data": {
            "text/plain": [
              "False"
            ]
          },
          "metadata": {
            "tags": []
          },
          "execution_count": 131
        }
      ]
    },
    {
      "cell_type": "markdown",
      "metadata": {
        "id": "nZjb-JWtg0wI"
      },
      "source": [
        "### Ejercicios\n",
        "#### ¿Cuál es el valor de w? "
      ]
    },
    {
      "cell_type": "code",
      "metadata": {
        "colab": {
          "base_uri": "https://localhost:8080/"
        },
        "id": "KQDk64crg0wI",
        "outputId": "d613c4f5-68ef-4690-fdc6-bda51c742e6c"
      },
      "source": [
        "x = 12\n",
        "y = -1\n",
        "z = 0\n",
        "\n",
        "w = x*2 - y + 1**z\n",
        "w"
      ],
      "execution_count": 132,
      "outputs": [
        {
          "output_type": "execute_result",
          "data": {
            "text/plain": [
              "26"
            ]
          },
          "metadata": {
            "tags": []
          },
          "execution_count": 132
        }
      ]
    },
    {
      "cell_type": "markdown",
      "metadata": {
        "id": "K-gihzQdg0wJ"
      },
      "source": [
        "#### ¿Cuál es el valor de la variable c?"
      ]
    },
    {
      "cell_type": "code",
      "metadata": {
        "colab": {
          "base_uri": "https://localhost:8080/",
          "height": 35
        },
        "id": "vYei1QMUg0wJ",
        "outputId": "09343357-f329-4e7c-e9d1-d1cd4423c99a"
      },
      "source": [
        "a = 'Hola'\n",
        "b = 'Mundo'\n",
        "c = a[:2] + '__' + b[1:]\n",
        "c"
      ],
      "execution_count": 133,
      "outputs": [
        {
          "output_type": "execute_result",
          "data": {
            "application/vnd.google.colaboratory.intrinsic+json": {
              "type": "string"
            },
            "text/plain": [
              "'Ho__undo'"
            ]
          },
          "metadata": {
            "tags": []
          },
          "execution_count": 133
        }
      ]
    },
    {
      "cell_type": "code",
      "metadata": {
        "colab": {
          "base_uri": "https://localhost:8080/",
          "height": 35
        },
        "id": "Hfmy8jVag0wJ",
        "outputId": "2578ba3b-03ba-41e4-b9f8-f25a127b13f9"
      },
      "source": [
        "a[1:]"
      ],
      "execution_count": 134,
      "outputs": [
        {
          "output_type": "execute_result",
          "data": {
            "application/vnd.google.colaboratory.intrinsic+json": {
              "type": "string"
            },
            "text/plain": [
              "'ola'"
            ]
          },
          "metadata": {
            "tags": []
          },
          "execution_count": 134
        }
      ]
    },
    {
      "cell_type": "markdown",
      "metadata": {
        "id": "wATBTh91g0wK"
      },
      "source": [
        "#### ¿Cuál es el valor de la variable d?"
      ]
    },
    {
      "cell_type": "code",
      "metadata": {
        "colab": {
          "base_uri": "https://localhost:8080/",
          "height": 35
        },
        "id": "JClYtKR3g0wK",
        "outputId": "ff51e576-7196-4e35-a953-84927cc6cc0e"
      },
      "source": [
        "a = 1\n",
        "b = 2.0\n",
        "c = '7'\n",
        "\n",
        "d = str((3*a + b/0.5) / int(c))\n",
        "d"
      ],
      "execution_count": 135,
      "outputs": [
        {
          "output_type": "execute_result",
          "data": {
            "application/vnd.google.colaboratory.intrinsic+json": {
              "type": "string"
            },
            "text/plain": [
              "'1.0'"
            ]
          },
          "metadata": {
            "tags": []
          },
          "execution_count": 135
        }
      ]
    },
    {
      "cell_type": "code",
      "metadata": {
        "colab": {
          "base_uri": "https://localhost:8080/"
        },
        "id": "1iwBtgj9g0wL",
        "outputId": "9e22a09d-cef9-4b33-dd78-8a4331060392"
      },
      "source": [
        "type(str(7))"
      ],
      "execution_count": 136,
      "outputs": [
        {
          "output_type": "execute_result",
          "data": {
            "text/plain": [
              "str"
            ]
          },
          "metadata": {
            "tags": []
          },
          "execution_count": 136
        }
      ]
    },
    {
      "cell_type": "markdown",
      "metadata": {
        "id": "yPvkEWfCg0wM"
      },
      "source": [
        "#### Supón que eres un inversionista que quiere comprar Bitcoin (BTC) en México pero sólo tiene dólares (USD) en EUA. Para comprar BTC en México, primero debe convertir sus USD a pesos mexicanos (MXN) y luego comprar BTC. El banco cobra 1% para convertir USD a MXN. Comprar BTC tiene un costo del 0.25% de la transacción. \n",
        "\n",
        "#### Escribe abajo código que te ayude a calcular cuántos USD debes transferir a tu cuenta en México para comprar 0.1 BTC. Usa variables para apoyarte en este cálculo."
      ]
    },
    {
      "cell_type": "code",
      "metadata": {
        "colab": {
          "base_uri": "https://localhost:8080/"
        },
        "id": "RD5Cegdtg0wM",
        "outputId": "a45448a3-0d06-4f3f-c228-6d50660cb2cb"
      },
      "source": [
        "# input\n",
        "bitcoin_a_pesos = 216860.59\n",
        "dolares_a_pesos = 21.69\n",
        "\n",
        "bitcoin_objetivo = 0.1\n",
        "bitcoin_buy_fee = 0.0025\n",
        "usd_to_mxn_fee = 0.01\n",
        "\n",
        "pesos_necesarios = bitcoin_objetivo * bitcoin_a_pesos *(1 + bitcoin_buy_fee)    # 21740.2741475\n",
        "dolares_necesarios = pesos_necesarios * (1 + usd_to_mxn_fee)/dolares_a_pesos   # 1012.3410276152605\n",
        "dolares_necesarios"
      ],
      "execution_count": 137,
      "outputs": [
        {
          "output_type": "execute_result",
          "data": {
            "text/plain": [
              "1012.3410276152605"
            ]
          },
          "metadata": {
            "tags": []
          },
          "execution_count": 137
        }
      ]
    },
    {
      "cell_type": "markdown",
      "metadata": {
        "id": "Z-fAs11Zg0wN"
      },
      "source": [
        "### Declaraciones (*statements*)\n",
        "\n",
        "Las declaraciones son las instrucciones para Python. Hay varios tipos de declaraciones:\n",
        "- Asignación (`x=1`)\n",
        "- Funcionales (`print(\"Hola\")`)\n",
        "- Control de flujo (más info abajo)\n",
        "\n",
        "Los comandos que hemos estado ejecutando hasta ahora también son declaraciones. Hemos asignado variables, ejecutado algunas funciones como `print` y evaluado expresiones como las lógicas; todos estos ejemplos son declaraciones.\n",
        "\n",
        "La diferencia entre una expresión y una declaración es que la primera evalúa una operación/función, mientras que la declaración se refiere a más tipos de acciones. \n",
        "\n",
        "No es necesario que sepamos la diferencia exacta entre una declaración y una expresión, pero en algunos libros encontrarán esta distinción y es importante saber a qué se refiere cada palabra.\n",
        "\n",
        "#### Condicionales (*if statements*)\n",
        "Ya hemos visto declaraciones de asginación y algunos ejemplos de funciones. Ahora nos enfocaremos en `statements` de `flow control`. El primer `statement`que veremos son los `if`, llamados condicionales."
      ]
    },
    {
      "cell_type": "code",
      "metadata": {
        "id": "wDje5hdQg0wO"
      },
      "source": [
        "ph = 7\n",
        "\n",
        "if ph > 7:\n",
        "    print('base')    # 4 espacios!"
      ],
      "execution_count": 138,
      "outputs": []
    },
    {
      "cell_type": "markdown",
      "metadata": {
        "id": "MWWa1FqGg0wO"
      },
      "source": [
        "Los 4 espacios son sintaxis necesaria en Python al escribir varias declaraciones, entre ellas las condicionales . Sin estos 4 espacios, tendremos un error."
      ]
    },
    {
      "cell_type": "code",
      "metadata": {
        "colab": {
          "base_uri": "https://localhost:8080/",
          "height": 128
        },
        "id": "sz4kFOX2g0wP",
        "outputId": "0646b650-b403-4662-b7dd-ea55417b4ea8"
      },
      "source": [
        "if ph > 7:\n",
        "print('base')"
      ],
      "execution_count": 139,
      "outputs": [
        {
          "output_type": "error",
          "ename": "IndentationError",
          "evalue": "ignored",
          "traceback": [
            "\u001b[0;36m  File \u001b[0;32m\"<ipython-input-139-cba2536d5d58>\"\u001b[0;36m, line \u001b[0;32m2\u001b[0m\n\u001b[0;31m    print('base')\u001b[0m\n\u001b[0m        ^\u001b[0m\n\u001b[0;31mIndentationError\u001b[0m\u001b[0;31m:\u001b[0m expected an indented block\n"
          ]
        }
      ]
    },
    {
      "cell_type": "markdown",
      "metadata": {
        "id": "DBl5MOd1g0wP"
      },
      "source": [
        "Nota que el error de este error de sintaxis es muy claro: Indentation Error. Hay que escribir 4 espacios siempre. Hay algunos editores de texto o interpretadores de código que en vez de usar 4 espacios usan el caracter de indentación. Recomendamos usar siempre 4 espacios.\n",
        "\n",
        "### Nota\n",
        "Escribir código no es muy diferente a hacer una presentación en PPT, un paper académico, o un oficio gubernamental. Al final del día es lenguaje que debe ser entendido por una máquina, pero también por un ser humano que a veces no somos nosotros. Es muy importante que el código que escribimos siga cierta sintaxis (qué se escribe) y cierto estilo (cómo lo escribimos). Recomendamos seguir la guía de estilo **Python Style Guide: simplified version for beginner programmers** de John Magee: http://www.cs.bu.edu/courses/cs108/guides/style.html . Por ahora puede que no tenga tanto sentido, pero a medida que vayamos aprendiendo a escribir más código, muchas de estas reglas nos serán útiles."
      ]
    },
    {
      "cell_type": "code",
      "metadata": {
        "colab": {
          "base_uri": "https://localhost:8080/"
        },
        "id": "H3PGz-Z4g0wP",
        "outputId": "28e9979e-5969-4098-cc30-765a8d7b9810"
      },
      "source": [
        "ph = 7.5\n",
        "if ph > 7:\n",
        "    print('base') "
      ],
      "execution_count": 140,
      "outputs": [
        {
          "output_type": "stream",
          "text": [
            "base\n"
          ],
          "name": "stdout"
        }
      ]
    },
    {
      "cell_type": "code",
      "metadata": {
        "id": "6zd1VSAZg0wQ"
      },
      "source": [
        "## ¿Qué hacemos si también quiero que me diga si es un ácido?\n",
        "ph = 7\n",
        "\n",
        "if ph > 7:\n",
        "    print('base')\n",
        "if ph < 7:\n",
        "    print('ácido')"
      ],
      "execution_count": 148,
      "outputs": []
    },
    {
      "cell_type": "code",
      "metadata": {
        "colab": {
          "base_uri": "https://localhost:8080/"
        },
        "id": "MVrwAjJfg0wQ",
        "outputId": "6fc750c8-0c77-4fb4-ec26-bcf833561281"
      },
      "source": [
        "## ¡Oh no, pero el ph 7 no es ácido ni base, es neutro! ¿Cómo agregamos eso?\n",
        "ph = 7\n",
        "\n",
        "if ph > 7:\n",
        "    print('base')\n",
        "if ph < 7:\n",
        "    print('ácido')\n",
        "if ph == 7:\n",
        "    print('neutro')"
      ],
      "execution_count": 142,
      "outputs": [
        {
          "output_type": "stream",
          "text": [
            "neutro\n"
          ],
          "name": "stdout"
        }
      ]
    },
    {
      "cell_type": "markdown",
      "metadata": {
        "id": "dcXfnLj_g0wQ"
      },
      "source": [
        "Yujú! Pero ahora, supongamos que es un experimento y cuando el ph es base, le reducimos a la solución el ph mágicamente en 1; análogamente, cuando el ph es ácido, le subimos el ph en 1. ¿Cómo afectaría eso el ph final?"
      ]
    },
    {
      "cell_type": "code",
      "metadata": {
        "colab": {
          "base_uri": "https://localhost:8080/"
        },
        "id": "s3KfMkI9g0wR",
        "outputId": "68c4ef01-d49d-4d19-9ca8-3cba78659163"
      },
      "source": [
        "ph = 7.2\n",
        "\n",
        "if ph > 7:\n",
        "    ph = ph - 1\n",
        "    print(ph)\n",
        "if ph < 7:\n",
        "    ph = ph + 1\n",
        "    print(ph)\n",
        "    \n",
        "if ph > 7:\n",
        "    print('base')\n",
        "if ph < 7:\n",
        "    print('ácido')\n",
        "if ph == 7:\n",
        "    print('neutro')"
      ],
      "execution_count": 143,
      "outputs": [
        {
          "output_type": "stream",
          "text": [
            "6.2\n",
            "7.2\n",
            "base\n"
          ],
          "name": "stdout"
        }
      ]
    },
    {
      "cell_type": "markdown",
      "metadata": {
        "id": "GaHlkM7ag0wR"
      },
      "source": [
        "¡Oh no!¿Pero qué está pasando?"
      ]
    },
    {
      "cell_type": "code",
      "metadata": {
        "colab": {
          "base_uri": "https://localhost:8080/"
        },
        "id": "FcnlZBJTg0wS",
        "outputId": "9fba9830-8f75-4c25-9e3c-af3386e0b58d"
      },
      "source": [
        "ph = 7.2\n",
        "\n",
        "if ph > 7:\n",
        "    ph = ph - 1\n",
        "    print(\"restando 1\", ph)\n",
        "if ph < 7:\n",
        "    ph = ph + 1\n",
        "    print(\"sumando 1\", ph)\n",
        "\n",
        "print(ph)"
      ],
      "execution_count": 144,
      "outputs": [
        {
          "output_type": "stream",
          "text": [
            "restando 1 6.2\n",
            "sumando 1 7.2\n",
            "7.2\n"
          ],
          "name": "stdout"
        }
      ]
    },
    {
      "cell_type": "markdown",
      "metadata": {
        "id": "E3z7532gg0wS"
      },
      "source": [
        "La solución de estas situaciones, los comandos `else` y `elif`."
      ]
    },
    {
      "cell_type": "code",
      "metadata": {
        "colab": {
          "base_uri": "https://localhost:8080/"
        },
        "id": "PTI5QLZwg0wS",
        "outputId": "0331b55b-b18a-4511-aebd-0cf962687ae9"
      },
      "source": [
        "ph = 7.2\n",
        "\n",
        "if ph > 7:\n",
        "    ph = ph - 1\n",
        "elif ph < 7:\n",
        "    ph = ph + 1\n",
        "\n",
        "print(ph)\n",
        "\n",
        "# como en este momento la variable ph no cambia, no es necesario usar un elif o else\n",
        "if ph > 7:\n",
        "    print('base')\n",
        "if ph < 7:\n",
        "    print('ácido')\n",
        "if ph == 7:\n",
        "    print('neutro')"
      ],
      "execution_count": 145,
      "outputs": [
        {
          "output_type": "stream",
          "text": [
            "6.2\n",
            "ácido\n"
          ],
          "name": "stdout"
        }
      ]
    },
    {
      "cell_type": "markdown",
      "metadata": {
        "id": "I4aJR2FYg0wU"
      },
      "source": [
        "supongamos que ahora queremos imprimir un mensaje cuando el ph es exactamente 7, ¿cómo lo hacemos?"
      ]
    },
    {
      "cell_type": "code",
      "metadata": {
        "collapsed": true,
        "colab": {
          "base_uri": "https://localhost:8080/"
        },
        "id": "PCDj-o14g0wU",
        "outputId": "988703bd-00d3-438d-f943-f094f399d789"
      },
      "source": [
        "ph = 7.0\n",
        "\n",
        "if ph > 7:\n",
        "    ph = ph - 1\n",
        "elif ph < 7:\n",
        "    ph = ph + 1\n",
        "else:\n",
        "    print(\"¡Sin cambios!\")\n",
        "\n",
        "print(ph)\n",
        "\n",
        "# como en este momento la variable ph no cambia, no es necesario usar un elif o else\n",
        "if ph > 7:\n",
        "    print('base')\n",
        "if ph < 7:\n",
        "    print('ácido')\n",
        "if ph == 7:\n",
        "    print('neutro')"
      ],
      "execution_count": 146,
      "outputs": [
        {
          "output_type": "stream",
          "text": [
            "¡Sin cambios!\n",
            "7.0\n",
            "neutro\n"
          ],
          "name": "stdout"
        }
      ]
    },
    {
      "cell_type": "markdown",
      "metadata": {
        "id": "IPY8dOP0g0wW"
      },
      "source": [
        "#### Ejercicio\n",
        "Una máquina tragamonedas tiene la siguiente fórmula para determinar si alguien gana premio:\n",
        "- La apuesta inicial siempre tiene que ser un número mayor a 0\n",
        "- La apuesta inicial se divide entre 15\n",
        "- Se toma la parte entera de la división y si es mayor a 0, se multiplica por (3 + el residuo); si es igual a 0, se le agrega 1.5 y se multiplica por el residuo del paso anterior \n",
        "\n",
        "Ejemplo del paso anterior\n",
        "    - si la apuesta era 2, dividir 2 entre 15 da un cociente entero de 0 y un residuo de 2. Entonces el resultado del paso anterior es 1.5 * 2\n",
        "    - si la apuesta era 34, dividir 34 entre 15 da un cociente entero de 2 y un residuo de 4. Entonces el resultado del paso anterior es 2 * (3+4)\n",
        "\n",
        "\n",
        "- Finalmente, si el resultado es divisible entre 7, el jugador gana.\n",
        "\n",
        "\n",
        "Ejemplo, apuesta inicial: 24.\n",
        "Apuesta inicial entre 15: 1, residuo 9.\n",
        "1 * (3 + 9) = 10\n",
        "El residuo de dividir 10 / 7 no es igual a 0.\n",
        "El jugador no gana."
      ]
    },
    {
      "cell_type": "code",
      "metadata": {
        "collapsed": true,
        "colab": {
          "base_uri": "https://localhost:8080/"
        },
        "id": "e3YAZsgDg0wW",
        "outputId": "6102f65f-75a2-4529-ac11-da9091cea784"
      },
      "source": [
        "apuesta = 24\n",
        "\n",
        "cociente = apuesta // 15\n",
        "residuo = apuesta % 15\n",
        "\n",
        "if cociente > 0:\n",
        "    rv = cociente * (3 + residuo)\n",
        "else: \n",
        "    rv = (cociente + 1.5)*residuo\n",
        "\n",
        "if rv % 7 == 0:\n",
        "    print(\"¡Ganador!\")\n",
        "else:\n",
        "    print(\"Perdedor :(\")"
      ],
      "execution_count": 147,
      "outputs": [
        {
          "output_type": "stream",
          "text": [
            "Perdedor :(\n"
          ],
          "name": "stdout"
        }
      ]
    },
    {
      "cell_type": "markdown",
      "metadata": {
        "id": "UOYl02clg0wX"
      },
      "source": [
        "supongamos que hay un bug en la máquina de apuestas y ocasionalmente lee las apuestas como números negativos. Modifica tu código para que al leer la apuesta, lo cambie a un número positivo."
      ]
    },
    {
      "cell_type": "code",
      "metadata": {
        "collapsed": true,
        "id": "Y-tz1XJvg0wY"
      },
      "source": [
        ""
      ],
      "execution_count": 147,
      "outputs": []
    }
  ]
}