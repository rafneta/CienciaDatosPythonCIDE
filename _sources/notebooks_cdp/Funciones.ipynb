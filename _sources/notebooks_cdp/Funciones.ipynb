{
 "cells": [
  {
   "cell_type": "markdown",
   "metadata": {
    "id": "GL04oNyNosPb"
   },
   "source": [
    "# Funciones\n",
    "\n",
    "Escribe un codigo para replicar la figura de abajo:\r\n",
    "\r\n",
    "\r\n",
    "![Capture.PNG](data:image/png;base64,iVBORw0KGgoAAAANSUhEUgAAAF4AAACvCAYAAAB0HGnSAAAAAXNSR0IArs4c6QAAAARnQU1BAACxjwv8YQUAAAAJcEhZcwAADsMAAA7DAcdvqGQAAAMySURBVHhe7dxRauMwFEBRrzHQDQVvJV1KupB+ZBmaqk2mj7GFR3HkG8X3QD9cKLFvhQx6tEMSwvAQw0MMDzE8pBj+fDyk0+f1Qg83CX8+Dmn8SOnyPn6Hv13rsWZXfI49DD9fh/fL9bt6pMXwrvY23GogvlwhxfBqy/AQw0MMDzE8xPAQw0MMDzE8xPAQw0MMDzE8pBh+1enk5ykdjufrheZMwq86j8/B307pks5pzOH/Xutfsys+TqCqR3859vVnh2H8+hVozmL46ulTDO9qL3KrgfhyhRTDqy3DQwwPMTzE8BDDQwwPMTzE8BDDQwwPMTzE8JBieO508pJOb68/QJmE587jc/CfX/b5mMP/Xr+i2RUfJ1Dbjv5y7N/Prp5+dWQxfPXDx/DV06cY/nVXe+ZWA/HlCimGV1uGhxgeYniI4SGGhxgeYniI4SGGhxgeYniI4SHF8N2eTn6MXfzLxkn4bs/jv4IP188cc/jb9ZOaXfFxAtXV6C/Hvn129fRrW4vhqx8+hq9++Bj+jq0uhn/i1Z651UB8uUKK4dWW4SGGhxgeYniI4SGGhxgeYniI4SGGhxgeYnhIMfwuTydX3XedSfhdnsevuu/7zK74OIHazehv1X3XWwxf/fDxAapXTQx/x1YXw9duGavuu55bTbbqvu/jyzVadd91iuHVluEhhocYHmJ4iOEhhocYHmJ4iOEhhocYHmJ4SDG8f5jQ1iT8Ls/jAbMrPk6gdjP629hi+OqHj+GrHz6Gv2Ori+GfeLVnbjUQX66QYni1ZXiI4SGGhxgeYniI4SGGhxgeYniI4SGGhxgeUgzf7elkJybhuz2P78zsio8TqK5Gfx1ZDF/98DH81qO/jrjVQHy5Qorh1ZbhIYaHGB5ieIjhIYaHGB5ieIjhIYaHGB5ieEgxPHc6uQ+T8Nx5/L7Mrvg4gdp29Lcfi+G3Hf3th1sNxJcrpBhebRkeYniI4SGGhxgeYniI4SGGhxgeYniI4SGGhxTDrzqd1KJJ+FXn8fpvsys+TqB6+I92PVoM72pvw60G4ssVUgyvtgwPMTzE8BDDQwwPMTzE8BDDQwwPMTzE8IiU/gDIfeAzFDyESgAAAABJRU5ErkJggg==)"
   ]
  },
  {
   "cell_type": "code",
   "execution_count": 1,
   "metadata": {
    "colab": {
     "base_uri": "https://localhost:8080/"
    },
    "executionInfo": {
     "elapsed": 479,
     "status": "ok",
     "timestamp": 1610757618125,
     "user": {
      "displayName": "Federico Daverio",
      "photoUrl": "https://lh5.googleusercontent.com/-RfEpz3L00ZM/AAAAAAAAAAI/AAAAAAAACHo/i9O2UOo0Ahs/s64/photo.jpg",
      "userId": "05867744402155394541"
     },
     "user_tz": 360
    },
    "id": "y4W0jFo-i1kH",
    "outputId": "7c6a5b59-4861-46ab-dbd4-3c21e3eb6c70"
   },
   "outputs": [
    {
     "name": "stdout",
     "output_type": "stream",
     "text": [
      "\n",
      "* \n",
      "* * \n",
      "* * * \n",
      "* * * * \n",
      "* * * * * \n",
      "* * * * \n",
      "* * * \n",
      "* * \n",
      "* \n"
     ]
    }
   ],
   "source": [
    "n=5;\r\n",
    "for i in range(n):\r\n",
    "    for j in range(i):\r\n",
    "        print ('* ', end=\"\")\r\n",
    "    print('')\r\n",
    "\r\n",
    "for i in range(n,0,-1):\r\n",
    "    for j in range(i):\r\n",
    "        print('* ', end=\"\")\r\n",
    "    print('')"
   ]
  },
  {
   "cell_type": "code",
   "execution_count": null,
   "metadata": {
    "id": "JFelP-BtpSSr"
   },
   "outputs": [],
   "source": [
    "Escribe un codigo para obtener la serie de Fibonacci de 0 a 50:"
   ]
  },
  {
   "cell_type": "code",
   "execution_count": 2,
   "metadata": {
    "colab": {
     "base_uri": "https://localhost:8080/"
    },
    "executionInfo": {
     "elapsed": 179,
     "status": "ok",
     "timestamp": 1610757857733,
     "user": {
      "displayName": "Federico Daverio",
      "photoUrl": "https://lh5.googleusercontent.com/-RfEpz3L00ZM/AAAAAAAAAAI/AAAAAAAACHo/i9O2UOo0Ahs/s64/photo.jpg",
      "userId": "05867744402155394541"
     },
     "user_tz": 360
    },
    "id": "MbhShfrmplCE",
    "outputId": "5f5e333d-dfd0-488d-c50a-9e72310eb335"
   },
   "outputs": [
    {
     "name": "stdout",
     "output_type": "stream",
     "text": [
      "1\n",
      "1\n",
      "2\n",
      "3\n",
      "5\n",
      "8\n",
      "13\n",
      "21\n",
      "34\n"
     ]
    }
   ],
   "source": [
    "x,y=0,1\r\n",
    "\r\n",
    "while y<50:\r\n",
    "    print(y)\r\n",
    "    x,y = y,x+y"
   ]
  }
 ],
 "metadata": {
  "colab": {
   "name": "Funciones.ipynb",
   "provenance": []
  },
  "kernelspec": {
   "display_name": "Python 3",
   "language": "python",
   "name": "python3"
  },
  "language_info": {
   "codemirror_mode": {
    "name": "ipython",
    "version": 3
   },
   "file_extension": ".py",
   "mimetype": "text/x-python",
   "name": "python",
   "nbconvert_exporter": "python",
   "pygments_lexer": "ipython3",
   "version": "3.7.9"
  }
 },
 "nbformat": 4,
 "nbformat_minor": 4
}
