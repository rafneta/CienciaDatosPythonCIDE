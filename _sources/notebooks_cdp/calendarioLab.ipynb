{
 "cells": [
  {
   "cell_type": "markdown",
   "metadata": {},
   "source": [
    "![](../banner.png)\n",
    "# Calendario Laboratorio"
   ]
  },
  {
   "cell_type": "markdown",
   "metadata": {},
   "source": [
    "\n",
    "\n",
    "````{panels}\n",
    "2021\n",
    "\n",
    "---\n",
    "````"
   ]
  },
  {
   "cell_type": "markdown",
   "metadata": {},
   "source": [
    "\n",
    "### Viernes 29/enero\n",
    "___\n",
    "\n",
    "- Control de versiones (GitHub) \n",
    "- Instalación de Python (Anaconda) \n",
    "\n",
    "\n",
    "### Viernes 5/febrero\n",
    "___\n",
    "\n",
    "\n",
    "### Viernes 12/febrero\n",
    "___\n",
    "\n",
    "\n",
    "### Viernes 19/febrero\n",
    "___\n",
    "\n",
    "\n",
    "### Viernes 26/febrero\n",
    "___\n",
    "\n",
    "### Viernes 5/marzo\n",
    "___\n",
    "\n",
    "### Viernes 12/marzo\n",
    "___\n",
    "\n",
    "\n",
    "### Viernes 19/marzo\n",
    "___\n",
    "\n",
    "\n",
    "### Viernes 26/marzo\n",
    "___\n",
    "\n",
    "\n",
    "### Viernes 9/abril\n",
    "___\n",
    "\n",
    "### Viernes 16/abril\n",
    "___\n",
    "\n",
    "### Viernes 23/abril\n",
    "___\n",
    "\n",
    "### Viernes 30/abril\n",
    "___\n",
    "\n",
    "\n",
    "### Viernes 7/mayo\n",
    "___\n",
    "\n",
    "### Viernes 14/mayo\n",
    "___\n",
    "\n",
    "### Viernes 21/mayo\n",
    "___\n",
    "\n",
    "### Viernes 28/mayo\n",
    "___\n",
    "\n",
    "\n",
    "\n",
    "\n",
    "\n",
    "\n",
    "\n"
   ]
  },
  {
   "cell_type": "code",
   "execution_count": null,
   "metadata": {},
   "outputs": [],
   "source": []
  }
 ],
 "metadata": {
  "kernelspec": {
   "display_name": "Python 3",
   "language": "python",
   "name": "python3"
  },
  "language_info": {
   "codemirror_mode": {
    "name": "ipython",
    "version": 3
   },
   "file_extension": ".py",
   "mimetype": "text/x-python",
   "name": "python",
   "nbconvert_exporter": "python",
   "pygments_lexer": "ipython3",
   "version": "3.7.9"
  }
 },
 "nbformat": 4,
 "nbformat_minor": 4
}
