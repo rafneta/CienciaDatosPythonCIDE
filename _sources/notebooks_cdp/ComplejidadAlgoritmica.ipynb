{
 "cells": [
  {
   "cell_type": "markdown",
   "metadata": {
    "id": "zhCBFMnolTNu"
   },
   "source": [
    "# Complejidad Algoritmica\n",
    "\n",
    "Las soluciones más directas no son necesariemnte las mas eficientes. Usualmente se incrementa la **complejidad conceptual**  de un programa en un esfuerzo para reducir la **complejidad computacional**.\n",
    "\n",
    "Se abstrae el *tiempo de ejecución* en términos de la número básico de pasos ejecutados por el programa.  \n",
    "\n",
    "## Notación Asintotica\n",
    "\n",
    "\n",
    "Se utiliza para la relación entre el tipo de ajecución de un algortimo y el tamaño de las entradas. \n",
    "\n",
    "Se utiliza la notació **\"O grande\"** (Big O notation) oara dar una cota superior del orden de crecieminto de una función. Por ejemplo:\n",
    "\n",
    "- _la complejidad de $f(x)$ es $O(x^2)$_. Significa que en el peor caso $f$ tomaráá $O(x^2)$ paso para ejecutarse por completo. \n",
    "\n",
    "- $O(1)$ denota tiempo de ejecución constante\n",
    "- $O(\\log(n))$ denota tiempo de ejecución logaritmica\n",
    "- $O(n)$ denota tiempo de ejecución lineal\n",
    "- $O(n\\log(n))$ denota tiempo de ejecución logaritmica-lineal (log-lineal)\n",
    "- $O(n^k)$ denota tiempo de ejecución polinomial\n",
    "- $O(c^n)$ denota tiempo de ejecución exponencial\n",
    "\n",
    "<link rel=\"stylesheet\" href=\"lib/codemirror.css\">\n",
    "<script src=\"lib/codemirror.js\"></script>\n",
    "<script>\n",
    "  var editor = CodeMirror.fromTextArea(myTextarea, {\n",
    "    lineNumbers: true\n",
    "  });\n",
    "</script>\n"
   ]
  },
  {
   "cell_type": "code",
   "execution_count": null,
   "metadata": {
    "id": "labzDBmCmG1p"
   },
   "outputs": [],
   "source": []
  }
 ],
 "metadata": {
  "colab": {
   "authorship_tag": "ABX9TyOny+3M1ys5jTuS7AnGV0oG",
   "name": "ComplejidadAlgoritmica.ipynb",
   "provenance": []
  },
  "kernelspec": {
   "display_name": "Python 3",
   "language": "python",
   "name": "python3"
  },
  "language_info": {
   "codemirror_mode": {
    "name": "ipython",
    "version": 3
   },
   "file_extension": ".py",
   "mimetype": "text/x-python",
   "name": "python",
   "nbconvert_exporter": "python",
   "pygments_lexer": "ipython3",
   "version": "3.7.9"
  }
 },
 "nbformat": 4,
 "nbformat_minor": 4
}
