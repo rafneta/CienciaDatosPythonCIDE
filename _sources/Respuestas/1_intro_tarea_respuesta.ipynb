{
 "cells": [
  {
   "cell_type": "markdown",
   "metadata": {
    "id": "LJQgOd5mRvsh"
   },
   "source": [
    "# Tarea 1\n",
    "\n",
    "En esta tarea repasaremos los conceptos de creación de variables y expresiones. La idea es hacerlo a través de ejemplos concretos y aplicados a situaciones que podrías enfrentarte en un entorno laboral. "
   ]
  },
  {
   "cell_type": "markdown",
   "metadata": {
    "id": "eB_SBRHbqeK0"
   },
   "source": [
    "### PARTE 1"
   ]
  },
  {
   "cell_type": "markdown",
   "metadata": {
    "id": "syVe9hQNSmPY"
   },
   "source": [
    "### Calculadora de préstamos\n",
    "\n",
    "1. Trabajas en un banco que da préstamos a personas. Tu jefe te pide que generes una herramienta que le permita a las personas calcular cuáles son las cuotas mensuales y el costo total de la deuda. \n",
    "\n",
    "Te menciona que los pagos son mensuales, pero la herramienta debería tomar plazo, tasa de interés y monto del préstamo, y arrojarte una cuota. \n",
    "También te dice que la fórmula para calcular las cuotas es:"
   ]
  },
  {
   "cell_type": "markdown",
   "metadata": {
    "id": "MVQavCIZQ6Iw"
   },
   "source": [
    "![](https://raw.githubusercontent.com/rafneta/CienciaDatosPythonCIDE/master/imagenes/T1_indice.jpg)"
   ]
  },
  {
   "cell_type": "markdown",
   "metadata": {
    "id": "hPkmokigYOKr"
   },
   "source": [
    "Te dieron un código pero tiene algunos errores y no está arrojando el resultado correcto"
   ]
  },
  {
   "cell_type": "markdown",
   "metadata": {
    "id": "cTziCgRRq2dq"
   },
   "source": [
    "#### Antes, de empezar, un poco de contexto\n",
    "Python tiene una función llamada input que te permite escribir un valor como si fuera un formulario, la función es muy útil si quieres pedir información de un usuario. Abajo hay un ejemplo"
   ]
  },
  {
   "cell_type": "code",
   "execution_count": null,
   "metadata": {
    "id": "IAcH6NQyq2sH"
   },
   "outputs": [],
   "source": [
    "edad = input(\"Dame tu edad en numero\")"
   ]
  },
  {
   "cell_type": "code",
   "execution_count": null,
   "metadata": {
    "id": "vvRw8ks0q23J"
   },
   "outputs": [],
   "source": [
    "\"mi edad es \" + edad "
   ]
  },
  {
   "cell_type": "markdown",
   "metadata": {
    "id": "SCz9Y0_zrUdw"
   },
   "source": [
    "Ahora sí, manos a la obra"
   ]
  },
  {
   "cell_type": "code",
   "execution_count": 8,
   "metadata": {
    "colab": {
     "base_uri": "https://localhost:8080/",
     "height": 329
    },
    "id": "s1ncyxryNhau",
    "outputId": "8474ccf9-144f-4701-9d19-f58783419b89"
   },
   "outputs": [
    {
     "name": "stdout",
     "output_type": "stream",
     "text": [
      "Cuánto quieres pedir prestado? \n",
      "1000\n",
      "Cuál es la tasa de interés? \n",
      "10\n",
      "Cuántos años durará el préstamo? \n",
      "5\n",
      "Quieres pedir prestado $1000.0 por 5.0 años, con una tasa de interés de 10.0%!\n",
      "Tu pago mensual es de $21.247044711268334\n",
      "El costo de este préstamo es de 274.82268267609993\n"
     ]
    }
   ],
   "source": [
    "## Generar información de préstamos\n",
    "loanAmount = input(\"Cuánto quieres pedir prestado? \\n\")\n",
    "interestRate = input(\"Cuál es la tasa de interés? \\n\")\n",
    "repaymentLength = input(\"Cuántos años durará el préstamo? \\n\")\n",
    "\n",
    "# Convertir las variables a número\n",
    "loanAmount = float(loanAmount)\n",
    "interestRate = float(interestRate)\n",
    "repaymentLength = float(repaymentLength)\n",
    "\n",
    "# Generar calculo de tasa de interés\n",
    "interestCalculation = interestRate / 100 / 12\n",
    "\n",
    "# Convertir el número de pagos anuales a mensuales\n",
    "numberOfPayments = repaymentLength*12\n",
    "\n",
    "#Formula\n",
    "#M = L * ((I * ((1+I) ** n) / (1+I) ** n - 1))\n",
    "\n",
    "#   * M = Pago mensual\n",
    "#   * L = Monto préstamo\n",
    "#   * I = Tasa de interés\n",
    "#   * N = Número de pagos\n",
    "\n",
    "numerador = (interestCalculation * (1+interestCalculation) ** numberOfPayments) \n",
    "denominador = ((1+interestCalculation) ** numberOfPayments - 1)\n",
    "\n",
    "monthlyRepaymentCost = loanAmount * (numerador / denominador)\n",
    "# Ver cuánto te cobraran por el crédito\n",
    "totalCharge = (monthlyRepaymentCost * numberOfPayments) - loanAmount\n",
    "\n",
    "\n",
    "print(\"Quieres pedir prestado $\" + str(loanAmount) + \" por \" + str(repaymentLength) \\\n",
    "      + \" años, con una tasa de interés de \" + str(interestRate) + \"%!\")\n",
    "\n",
    "print(\"Tu pago mensual es de $\" + str(monthlyRepaymentCost))\n",
    "\n",
    "print(\"El costo de este préstamo es de \" + str(totalCharge))\n",
    "\n",
    "### Si la tasa de interes es igual a inflacion, dilo\n",
    "if interestCalculation == 4.5:\n",
    "    print(\"la tasa de interes es igual a la inflacion\")"
   ]
  },
  {
   "cell_type": "markdown",
   "metadata": {
    "id": "KTCaj1-mZZBt"
   },
   "source": [
    "Puedes verificar el resultado aquí\n",
    "\n",
    "https://www.nafin.com/portalnf/content/herramientas-de-negocio/simulador-de-creditos/simulador-de-creditos.do"
   ]
  },
  {
   "cell_type": "markdown",
   "metadata": {
    "id": "seZeneB7XQMs"
   },
   "source": [
    "Preguntas que pueden ayudar \n",
    "\n",
    "a. ¿Qué hace el código float() y str() y para qué se usa?\n",
    "b. ¿Qué hace * y **?\n",
    "c. ¿Qué pasaría si se movieran los parentésis?\n",
    "\n"
   ]
  },
  {
   "cell_type": "markdown",
   "metadata": {
    "id": "cTyjx4c9ZMjb"
   },
   "source": [
    "2. Tu jefe te pide que cambies el código para poder adecuar a pagos trimestrales,semestrales o anuales, cómo adecuarías el código para que la herramienta te pregunte qué frecuencia de pagos quieres y haga los cambios pertinentes"
   ]
  },
  {
   "cell_type": "code",
   "execution_count": null,
   "metadata": {
    "id": "Y7iyUAvfckBX"
   },
   "outputs": [],
   "source": [
    "# Generar información de préstamos\n",
    "loanAmount = input(\"Cuánto quieres pedir prestado? \\n\")\n",
    "interestRate = input(\"Cuál es la tasa de interés? \\n\")\n",
    "repaymentLength = input(\"Cuántos años durará el préstamo? \\n\")\n",
    "payments = input(\"Cuántos pagos se hacen al año \\n\")\n",
    "\n",
    "# Convertir las variables a número\n",
    "loanAmount = float(loanAmount)\n",
    "interestRate = float(interestRate)\n",
    "repaymentLength = float(repaymentLength)\n",
    "payments = float(payments)\n",
    "\n",
    "# Generar valor de pagos\n",
    "if payments == 12:\n",
    "    valor_payments = \"mensual\"\n",
    "if payments == 6:\n",
    "    valor_payments = \"semestral\"\n",
    "if payments == 4:\n",
    "    valor_payments = \"trimestral\"\n",
    "    \n",
    "    \n",
    "\n",
    "# Generar calculo de tasa de interés\n",
    "interestCalculation = interestRate / 100 / payments\n",
    "\n",
    "# Convertir el número de pagos anuales a mensuales\n",
    "numberOfPayments = repaymentLength * payments\n",
    "\n",
    "#Formula\n",
    "#M = L * ((I * ((1+I) ** n) / (1+I) ** n - 1))\n",
    "\n",
    "#   * M = Pago mensual\n",
    "#   * L = Monto préstamo\n",
    "#   * I = Tasa de interés\n",
    "#   * N = Número de pagos\n",
    "\n",
    "numerador = (interestCalculation * (1+interestCalculation) ** numberOfPayments) \n",
    "denominador = ((1+interestCalculation) ** numberOfPayments - 1)\n",
    "\n",
    "monthlyRepaymentCost = loanAmount * (numerador / denominador)\n",
    "# Ver cuánto te cobraran por el crédito\n",
    "totalCharge = (monthlyRepaymentCost * numberOfPayments) - loanAmount\n",
    "\n",
    "\n",
    "print(\"Quieres pedir prestado $\" + str(loanAmount) + \" por \" + str(repaymentLength) \\\n",
    "      + \" años, con una tasa de interés de \" + str(interestRate) + \"%!\")\n",
    "\n",
    "print(\"Tu pago \" + valor_payments + \" es de $\" + str(monthlyRepaymentCost))\n",
    "\n",
    "print(\"El costo de este préstamo es de \" + str(totalCharge))\n",
    "\n",
    "### Si la tasa de interes es igual a inflacion, dilo\n",
    "if interestCalculation == 4.5:\n",
    "    print(\"la tasa de interes es igual a la inflacion\")"
   ]
  },
  {
   "cell_type": "markdown",
   "metadata": {
    "id": "jX_krzH-D9FK"
   },
   "source": [
    "3. El código de arriba asume que el plazo siempre está en años, pero puede ser posible que pidas un crédito menor a un año. Cómo adecuarías el código para que pueda ser un préstamo con un plazo tan pequeño como 2 semanas. "
   ]
  },
  {
   "cell_type": "code",
   "execution_count": 5,
   "metadata": {
    "id": "JJWfQrnlckjv"
   },
   "outputs": [
    {
     "name": "stdout",
     "output_type": "stream",
     "text": [
      "Cuánto quieres pedir prestado? \n",
      "1000\n",
      "Cuál es la tasa de interés anual? \n",
      "10\n",
      "En qué periodo estará el préstamos (opciones: quincenas, meses, años) \n",
      "años\n",
      "Cuántos años durará el préstamo? \n",
      "12\n",
      "Cuántos pagos se harán cada años \n",
      "12\n",
      "Quieres pedir prestado $1000.0 por 12.0 años, con una tasa de interés anual de 10.0%!\n",
      "Tu pago por periodo es de $11.95078262827336\n",
      "El costo de este préstamo es de 720.9126984713639\n"
     ]
    }
   ],
   "source": [
    "# Generar información de préstamos\n",
    "loanAmount = input(\"Cuánto quieres pedir prestado? \\n\")\n",
    "interestRate = input(\"Cuál es la tasa de interés anual? \\n\")\n",
    "periods = input(\"En qué periodo estará el préstamos (opciones: quincenas, meses, años) \\n\")\n",
    "\n",
    "if periods == \"quincenas\":\n",
    "    input_length = \"Cuántas quincenas durará el préstamo? \\n\"\n",
    "elif periods == \"meses\":\n",
    "    input_length = \"Cuántos meses durará el préstamo? \\n\"\n",
    "elif periods == \"años\":\n",
    "    input_length = \"Cuántos años durará el préstamo? \\n\"\n",
    "else: \n",
    "    input_length = None\n",
    "\n",
    "if input_length is None:\n",
    "    print(\"Por favor determina una opción valida de periodo: quincenas, meses, años\")\n",
    "      \n",
    "else:\n",
    "\n",
    "    repaymentLength = input(input_length)\n",
    "    payments = input(\"Cuántos pagos se harán cada \" + periods + \" \\n\")\n",
    "\n",
    "    # Convertir las variables a número\n",
    "    loanAmount = float(loanAmount)\n",
    "    interestRate = float(interestRate)\n",
    "    repaymentLength = float(repaymentLength)\n",
    "    payments = int(payments)\n",
    "\n",
    "    quincenas_año = 24\n",
    "    meses_año = 12\n",
    "    año = 1\n",
    "\n",
    "\n",
    "    if periods == \"quincenas\":\n",
    "        valor_periodo = quincenas_año\n",
    "\n",
    "    if periods == \"meses\":\n",
    "        valor_periodo = meses_año\n",
    "\n",
    "    if periods == \"años\":\n",
    "        valor_periodo = año\n",
    "\n",
    "\n",
    "\n",
    "    # Generar valor de pagos\n",
    "    if payments == 12:\n",
    "        valor_payments = \"mensual\"\n",
    "    if payments == 6:\n",
    "        valor_payments = \"semestral\"\n",
    "    if payments == 4:\n",
    "        valor_payments = \"trimestral\"\n",
    "    else:\n",
    "        valor_payments = \"por periodo\"\n",
    "\n",
    "\n",
    "\n",
    "    # Generar calculo de tasa de interés\n",
    "    interestCalculation = interestRate / 100 / (payments * valor_periodo)\n",
    "\n",
    "    # Convertir el número de pagos anuales a mensuales\n",
    "    numberOfPayments = repaymentLength * payments\n",
    "\n",
    "    #Formula\n",
    "    #M = L * ((I * ((1+I) ** n) / (1+I) ** n - 1))\n",
    "\n",
    "    #   * M = Pago mensual\n",
    "    #   * L = Monto préstamo\n",
    "    #   * I = Tasa de interés\n",
    "    #   * N = Número de pagos\n",
    "\n",
    "    numerador = (interestCalculation * (1+interestCalculation) ** numberOfPayments) \n",
    "    denominador = ((1+interestCalculation) ** numberOfPayments - 1)\n",
    "\n",
    "    monthlyRepaymentCost = loanAmount * (numerador / denominador)\n",
    "    # Ver cuánto te cobraran por el crédito\n",
    "    totalCharge = (monthlyRepaymentCost * numberOfPayments) - loanAmount\n",
    "\n",
    "\n",
    "    print(\"Quieres pedir prestado $\" + str(loanAmount) + \" por \" + str(repaymentLength) \\\n",
    "          + \" \" + periods + \", con una tasa de interés anual de \" + str(interestRate) + \"%!\")\n",
    "\n",
    "    print(\"Tu pago \" + valor_payments + \" es de $\" + str(monthlyRepaymentCost))\n",
    "\n",
    "    print(\"El costo de este préstamo es de \" + str(totalCharge))\n",
    "\n",
    "    ### Si la tasa de interes es igual a inflacion, dilo\n",
    "    if interestCalculation == 4.5:\n",
    "        print(\"la tasa de interes es igual a la inflacion\")"
   ]
  },
  {
   "cell_type": "markdown",
   "metadata": {
    "id": "extz2Bzha6Zz"
   },
   "source": [
    "3. Ahora te pide que des la opción de un préstamos en pesos o dólares. En el caso que sea en dólares, debería transformarlo el pago mensual y el costo del préstamos a pesos con un tipo de cambio de 20 pesos por dólar. (Asume que el tipo de cambio es fijo en el contrato de préstamo)"
   ]
  },
  {
   "cell_type": "code",
   "execution_count": 40,
   "metadata": {
    "id": "2Z38LfqLclCZ"
   },
   "outputs": [
    {
     "name": "stdout",
     "output_type": "stream",
     "text": [
      "Cuánto quieres pedir prestado? \n",
      "1000\n",
      "Cuál es la tasa de interés anual? \n",
      "10\n",
      "En qué periodo estará el préstamos (opciones: quincenas, meses, años) \n",
      "años\n",
      "Cuántos años durará el préstamo? \n",
      "5\n",
      "Cuántos pagos se harán cada años \n",
      "12\n",
      "El préstamo estará en pesos o en dólares: escribe 'pesos' o 'dólares' \n",
      "dólares\n",
      "Quieres pedir prestado $1000.0 dólares por 5.0 años, con una tasa de interés anual de 10.0%!\n",
      "Tu pago  por periodo es de $424.94089422536666 pesos\n",
      "El costo de este préstamo es de 5496.453653521999 pesos\n"
     ]
    }
   ],
   "source": [
    "VALOR_DOLAR = 20\n",
    "\n",
    "# Generar información de préstamos\n",
    "loanAmount = input(\"Cuánto quieres pedir prestado? \\n\")\n",
    "interestRate = input(\"Cuál es la tasa de interés anual? \\n\")\n",
    "periods = input(\"En qué periodo estará el préstamos (opciones: quincenas, meses, años) \\n\")\n",
    "\n",
    "if periods == \"quincenas\":\n",
    "    input_length = \"Cuántas quincenas durará el préstamo? \\n\"\n",
    "elif periods == \"meses\":\n",
    "    input_length = \"Cuántos meses durará el préstamo? \\n\"\n",
    "elif periods == \"años\":\n",
    "    input_length = \"Cuántos años durará el préstamo? \\n\"\n",
    "else: \n",
    "    input_length = None\n",
    "\n",
    "if input_length is None:\n",
    "    print(\"Por favor determina una opción valida de periodo: quincenas, meses, años\")\n",
    "      \n",
    "else:\n",
    "\n",
    "    repaymentLength = input(input_length)\n",
    "    payments = input(\"Cuántos pagos se harán cada \" + periods + \" \\n\")\n",
    "    \n",
    "    currency = input(\"El préstamo estará en pesos o en dólares: escribe 'pesos' o 'dólares' \\n\")\n",
    "    \n",
    "    if currency != \"pesos\" and currency != \"dólares\":\n",
    "        print(currency)\n",
    "        print(\"Por favor determina una opción valida de moneda: pesos o dólares\")\n",
    "    else:\n",
    "\n",
    "        # Convertir las variables a número\n",
    "        loanAmount = float(loanAmount)\n",
    "        interestRate = float(interestRate)\n",
    "        repaymentLength = float(repaymentLength)\n",
    "        payments = float(payments)\n",
    "\n",
    "        quincenas_año = 24\n",
    "        meses_año = 12\n",
    "        año = 1\n",
    "\n",
    "\n",
    "\n",
    "        if periods == \"quincenas\":\n",
    "            valor_periodo = quincenas_año\n",
    "\n",
    "        if periods == \"meses\":\n",
    "            valor_periodo = meses_año\n",
    "\n",
    "        if periods == \"años\":\n",
    "            valor_periodo = año\n",
    "\n",
    "\n",
    "\n",
    "        # Generar valor de pagos\n",
    "        if payments == 12:\n",
    "            valor_payments = \"mensual\"\n",
    "        if payments == 6:\n",
    "            valor_payments = \"semestral\"\n",
    "        if payments == 4:\n",
    "            valor_payments = \"trimestral\"\n",
    "        else:\n",
    "            valor_payments = \"por periodo\"\n",
    "\n",
    "\n",
    "\n",
    "        # Generar calculo de tasa de interés\n",
    "        interestCalculation = interestRate / 100 / (payments * valor_periodo)\n",
    "\n",
    "        # Convertir el número de pagos anuales a mensuales\n",
    "        numberOfPayments = repaymentLength * payments\n",
    "\n",
    "        #Formula\n",
    "        #M = L * ((I * ((1+I) ** n) / (1+I) ** n - 1))\n",
    "\n",
    "        #   * M = Pago mensual\n",
    "        #   * L = Monto préstamo\n",
    "        #   * I = Tasa de interés\n",
    "        #   * N = Número de pagos\n",
    "\n",
    "        numerador = (interestCalculation * (1+interestCalculation) ** numberOfPayments) \n",
    "        denominador = ((1+interestCalculation) ** numberOfPayments - 1)\n",
    "\n",
    "        monthlyRepaymentCost = loanAmount * (numerador / denominador)\n",
    "        # Ver cuánto te cobraran por el crédito\n",
    "        totalCharge = (monthlyRepaymentCost * numberOfPayments) - loanAmount\n",
    "\n",
    "        \n",
    "        if currency == \"dólares\":\n",
    "            monthlyRepaymentCost = monthlyRepaymentCost * VALOR_DOLAR\n",
    "            totalCharge =  totalCharge * VALOR_DOLAR\n",
    "\n",
    "            print(\"Quieres pedir prestado $\" + str(loanAmount) + \" dólares por \" + str(repaymentLength) \\\n",
    "              + \" \" + periods + \", con una tasa de interés anual de \" + str(interestRate) + \"%!\")\n",
    "\n",
    "            print(\"Tu pago  \" + valor_payments + \" es de $\" + str(monthlyRepaymentCost) + \" pesos\")\n",
    "\n",
    "            print(\"El costo de este préstamo es de \" + str(totalCharge)  + \" pesos\")\n",
    "\n",
    "            ### Si la tasa de interes es igual a inflacion, dilo\n",
    "            if interestCalculation == 4.5:\n",
    "                print(\"la tasa de interes es igual a la inflacion\")\n",
    "\n",
    "        else: \n",
    "\n",
    "            print(\"Quieres pedir prestado $\" + str(loanAmount) + \" por \" + str(repaymentLength) \\\n",
    "                  + \" \" + periods + \", con una tasa de interés anual de \" + str(interestRate) + \"%!\")\n",
    "\n",
    "            print(\"Tu pago \" + valor_payments + \" es de $\" + str(monthlyRepaymentCost))\n",
    "\n",
    "            print(\"El costo de este préstamo es de \" + str(totalCharge))\n",
    "\n",
    "            ### Si la tasa de interes es igual a inflacion, dilo\n",
    "            if interestCalculation == 4.5:\n",
    "                print(\"la tasa de interes es igual a la inflacion\")"
   ]
  },
  {
   "cell_type": "markdown",
   "metadata": {
    "id": "Tp9Kh8XFs4Cs"
   },
   "source": [
    "4. Ahora te pide que utilices informacion del tipo de cambio en tiempo real para calcular el pago mensual y costo del préstamo \n",
    "\n",
    "Tips: \n",
    "- El código de abajo importa la biblioteca forex-python que te da el tipo de cambio entre diferentes monedas"
   ]
  },
  {
   "cell_type": "code",
   "execution_count": 41,
   "metadata": {
    "id": "I3dSj_fkt5V1"
   },
   "outputs": [
    {
     "name": "stdout",
     "output_type": "stream",
     "text": [
      "Requirement already satisfied: forex-python in c:\\programdata\\anaconda3\\lib\\site-packages (1.5)\n",
      "Requirement already satisfied: simplejson in c:\\programdata\\anaconda3\\lib\\site-packages (from forex-python) (3.17.2)\n",
      "Requirement already satisfied: requests in c:\\programdata\\anaconda3\\lib\\site-packages (from forex-python) (2.22.0)\n",
      "Requirement already satisfied: urllib3!=1.25.0,!=1.25.1,<1.26,>=1.21.1 in c:\\programdata\\anaconda3\\lib\\site-packages (from requests->forex-python) (1.24.2)\n",
      "Requirement already satisfied: idna<2.9,>=2.5 in c:\\programdata\\anaconda3\\lib\\site-packages (from requests->forex-python) (2.8)\n",
      "Requirement already satisfied: chardet<3.1.0,>=3.0.2 in c:\\programdata\\anaconda3\\lib\\site-packages (from requests->forex-python) (3.0.4)\n",
      "Requirement already satisfied: certifi>=2017.4.17 in c:\\programdata\\anaconda3\\lib\\site-packages (from requests->forex-python) (2019.11.28)\n"
     ]
    }
   ],
   "source": [
    "! pip install forex-python"
   ]
  },
  {
   "cell_type": "markdown",
   "metadata": {
    "id": "nN_GaFVGvXLZ"
   },
   "source": [
    "- Para usar la biblioteca revisa la documentación:\n",
    "\n",
    "https://forex-python.readthedocs.io/en/latest/usage.html"
   ]
  },
  {
   "cell_type": "code",
   "execution_count": 42,
   "metadata": {
    "id": "RsIVP7N6cmSd"
   },
   "outputs": [],
   "source": [
    "from forex_python.converter import CurrencyRates\n",
    "c = CurrencyRates()\n",
    "\n",
    "VALOR_DOLAR = c.get_rate('USD', 'MXN')   "
   ]
  },
  {
   "cell_type": "code",
   "execution_count": 43,
   "metadata": {},
   "outputs": [
    {
     "data": {
      "text/plain": [
       "20.0929444812"
      ]
     },
     "execution_count": 43,
     "metadata": {},
     "output_type": "execute_result"
    }
   ],
   "source": [
    "VALOR_DOLAR"
   ]
  },
  {
   "cell_type": "code",
   "execution_count": 44,
   "metadata": {},
   "outputs": [
    {
     "name": "stdout",
     "output_type": "stream",
     "text": [
      "Cuánto quieres pedir prestado? \n",
      "1000\n",
      "Cuál es la tasa de interés anual? \n",
      "10\n",
      "En qué periodo estará el préstamos (opciones: quincenas, meses, años) \n",
      "años\n",
      "Cuántos años durará el préstamo? \n",
      "5\n",
      "Cuántos pagos se harán cada años \n",
      "12\n",
      "El préstamo estará en pesos o en dólares: escribe 'pesos' o 'dólares' \n",
      "dólares\n",
      "Quieres pedir prestado $1000.0 dólares por 5.0 años, con una tasa de interés anual de 10.0%!\n",
      "Tu pago  por periodo es de $426.91568977308873 pesos\n",
      "El costo de este préstamo es de 5521.996905185321 pesos\n"
     ]
    }
   ],
   "source": [
    "\n",
    "# Generar información de préstamos\n",
    "loanAmount = input(\"Cuánto quieres pedir prestado? \\n\")\n",
    "interestRate = input(\"Cuál es la tasa de interés anual? \\n\")\n",
    "periods = input(\"En qué periodo estará el préstamos (opciones: quincenas, meses, años) \\n\")\n",
    "\n",
    "if periods == \"quincenas\":\n",
    "    input_length = \"Cuántas quincenas durará el préstamo? \\n\"\n",
    "elif periods == \"meses\":\n",
    "    input_length = \"Cuántos meses durará el préstamo? \\n\"\n",
    "elif periods == \"años\":\n",
    "    input_length = \"Cuántos años durará el préstamo? \\n\"\n",
    "else: \n",
    "    input_length = None\n",
    "\n",
    "if input_length is None:\n",
    "    print(\"Por favor determina una opción valida de periodo: quincenas, meses, años\")\n",
    "      \n",
    "else:\n",
    "\n",
    "    repaymentLength = input(input_length)\n",
    "    payments = input(\"Cuántos pagos se harán cada \" + periods + \" \\n\")\n",
    "    \n",
    "    currency = input(\"El préstamo estará en pesos o en dólares: escribe 'pesos' o 'dólares' \\n\")\n",
    "    \n",
    "    if currency != \"pesos\" and currency != \"dólares\":\n",
    "        print(currency)\n",
    "        print(\"Por favor determina una opción valida de moneda: pesos o dólares\")\n",
    "    else:\n",
    "\n",
    "        # Convertir las variables a número\n",
    "        loanAmount = float(loanAmount)\n",
    "        interestRate = float(interestRate)\n",
    "        repaymentLength = float(repaymentLength)\n",
    "        payments = float(payments)\n",
    "\n",
    "        quincenas_año = 24\n",
    "        meses_año = 12\n",
    "        año = 1\n",
    "\n",
    "\n",
    "\n",
    "        if periods == \"quincenas\":\n",
    "            valor_periodo = quincenas_año\n",
    "\n",
    "        if periods == \"meses\":\n",
    "            valor_periodo = meses_año\n",
    "\n",
    "        if periods == \"años\":\n",
    "            valor_periodo = año\n",
    "\n",
    "\n",
    "\n",
    "        # Generar valor de pagos\n",
    "        if payments == 12:\n",
    "            valor_payments = \"mensual\"\n",
    "        if payments == 6:\n",
    "            valor_payments = \"semestral\"\n",
    "        if payments == 4:\n",
    "            valor_payments = \"trimestral\"\n",
    "        else:\n",
    "            valor_payments = \"por periodo\"\n",
    "\n",
    "\n",
    "\n",
    "        # Generar calculo de tasa de interés\n",
    "        interestCalculation = interestRate / 100 / (payments * valor_periodo)\n",
    "\n",
    "        # Convertir el número de pagos anuales a mensuales\n",
    "        numberOfPayments = repaymentLength * payments\n",
    "\n",
    "        #Formula\n",
    "        #M = L * ((I * ((1+I) ** n) / (1+I) ** n - 1))\n",
    "\n",
    "        #   * M = Pago mensual\n",
    "        #   * L = Monto préstamo\n",
    "        #   * I = Tasa de interés\n",
    "        #   * N = Número de pagos\n",
    "\n",
    "        numerador = (interestCalculation * (1+interestCalculation) ** numberOfPayments) \n",
    "        denominador = ((1+interestCalculation) ** numberOfPayments - 1)\n",
    "\n",
    "        monthlyRepaymentCost = loanAmount * (numerador / denominador)\n",
    "        # Ver cuánto te cobraran por el crédito\n",
    "        totalCharge = (monthlyRepaymentCost * numberOfPayments) - loanAmount\n",
    "\n",
    "        \n",
    "        if currency == \"dólares\":\n",
    "            monthlyRepaymentCost = monthlyRepaymentCost * VALOR_DOLAR\n",
    "            totalCharge =  totalCharge * VALOR_DOLAR\n",
    "\n",
    "            print(\"Quieres pedir prestado $\" + str(loanAmount) + \" dólares por \" + str(repaymentLength) \\\n",
    "              + \" \" + periods + \", con una tasa de interés anual de \" + str(interestRate) + \"%!\")\n",
    "\n",
    "            print(\"Tu pago  \" + valor_payments + \" es de $\" + str(monthlyRepaymentCost) + \" pesos\")\n",
    "\n",
    "            print(\"El costo de este préstamo es de \" + str(totalCharge)  + \" pesos\")\n",
    "\n",
    "            ### Si la tasa de interes es igual a inflacion, dilo\n",
    "            if interestCalculation == 4.5:\n",
    "                print(\"la tasa de interes es igual a la inflacion\")\n",
    "\n",
    "        else: \n",
    "\n",
    "            print(\"Quieres pedir prestado $\" + str(loanAmount) + \" por \" + str(repaymentLength) \\\n",
    "                  + \" \" + periods + \", con una tasa de interés anual de \" + str(interestRate) + \"%!\")\n",
    "\n",
    "            print(\"Tu pago \" + valor_payments + \" es de $\" + str(monthlyRepaymentCost))\n",
    "\n",
    "            print(\"El costo de este préstamo es de \" + str(totalCharge))\n",
    "\n",
    "            ### Si la tasa de interes es igual a inflacion, dilo\n",
    "            if interestCalculation == 4.5:\n",
    "                print(\"la tasa de interes es igual a la inflacion\")"
   ]
  },
  {
   "cell_type": "markdown",
   "metadata": {
    "id": "30cswOxe8Gfz"
   },
   "source": [
    "5.  Ahora te pide que generes la opción de convertir el pago a UDIS. La herramienta debería preguntarte en que prefieres el pago mensual y el costo del préstamo en UDIS o pesos.\n",
    "\n",
    "Tips: Banxico tiene la información del valor más actualizado de UDIS. Para poder acceder a ella automaticamente vamos a usar un API. Vamos a ver más adelante en el curso como usarla, pero por ahora lo único que necesitas hacer es correr el código de abajo para generar el valor de UDI"
   ]
  },
  {
   "cell_type": "markdown",
   "metadata": {
    "id": "G-vIyNDYA8BZ"
   },
   "source": [
    "Primero necesitas generar un token. En la página de Banxico se muestra cómo generarlo https://www.banxico.org.mx/SieAPIRest/service/v1/token\n",
    "\n",
    "Una vez que ya lo tengas, escríbelo en la celda de abajo"
   ]
  },
  {
   "cell_type": "code",
   "execution_count": 11,
   "metadata": {
    "colab": {
     "base_uri": "https://localhost:8080/"
    },
    "id": "Ze5MosuWBnLO",
    "outputId": "65ad934b-44cc-4d9c-fc49-f6fba256a0de"
   },
   "outputs": [
    {
     "name": "stdout",
     "output_type": "stream",
     "text": [
      "Escribe aquí el string del token que generaste en la página del Banxico········\n"
     ]
    }
   ],
   "source": [
    "## Este código sirve para guardar el valor del token de Banxico\n",
    "from getpass import getpass\n",
    "token = getpass(\"Escribe aquí el string del token que generaste en la página del Banxico\")"
   ]
  },
  {
   "cell_type": "markdown",
   "metadata": {
    "id": "uoZdzh-TCbTN"
   },
   "source": [
    "Ahora la variable *token* guarda el valor del string, prueba abajo"
   ]
  },
  {
   "cell_type": "code",
   "execution_count": 46,
   "metadata": {
    "colab": {
     "base_uri": "https://localhost:8080/",
     "height": 35
    },
    "id": "gNCjKCYzBocJ",
    "outputId": "8cc68a0c-0771-4f58-9b63-a2611deb4cea"
   },
   "outputs": [
    {
     "data": {
      "text/plain": [
       "'d6faffdbf1ec98356a15632a8076b94ad6725004da1f5d950ae18d395530e891'"
      ]
     },
     "execution_count": 46,
     "metadata": {},
     "output_type": "execute_result"
    }
   ],
   "source": [
    "token"
   ]
  },
  {
   "cell_type": "markdown",
   "metadata": {
    "id": "hu-v8WV6CnGK"
   },
   "source": [
    "Por último, corre el código de abajo, veras que la variable *udi* guarda el valor más reciente de UDI"
   ]
  },
  {
   "cell_type": "code",
   "execution_count": 12,
   "metadata": {
    "id": "lKmZ9uGs9QCc"
   },
   "outputs": [],
   "source": [
    "# Este código sirve obtener un valor de Banxico \n",
    "\n",
    "# El número de serie de UDI en el sistema de consulta de Banxico\n",
    "series = \"SP68257\"\n",
    "# El url del cual obtener información\n",
    "url_string = \"https://www.banxico.org.mx/SieAPIRest/service/v1/series/{}/datos/oportuno?token={}\".format(series, token)\n",
    "\n",
    "# Importar las bibliotecas necesarias\n",
    "import urllib.request, json \n",
    "\n",
    "# Obtener la información\n",
    "with urllib.request.urlopen(url_string) as url:\n",
    "    banxico_query = json.loads(url.read().decode())\n",
    "\n",
    "# Limpiar la info para obtener la variable\n",
    "VALOR_UDI = float(banxico_query[\"bmx\"][\"series\"][0][\"datos\"][0][\"dato\"])"
   ]
  },
  {
   "cell_type": "code",
   "execution_count": 13,
   "metadata": {},
   "outputs": [
    {
     "data": {
      "text/plain": [
       "{'bmx': {'series': [{'idSerie': 'SP68257',\n",
       "    'titulo': 'Valor de UDIS',\n",
       "    'datos': [{'fecha': '25/02/2021', 'dato': '6.699312'}]}]}}"
      ]
     },
     "execution_count": 13,
     "metadata": {},
     "output_type": "execute_result"
    }
   ],
   "source": [
    "banxico_query"
   ]
  },
  {
   "cell_type": "markdown",
   "metadata": {
    "id": "DakBr4d8CyyV"
   },
   "source": [
    "Ahora sí, adecua el código para que puedas usar la variable *udi* para poder hacer la estimación en UDIs"
   ]
  },
  {
   "cell_type": "code",
   "execution_count": 48,
   "metadata": {},
   "outputs": [],
   "source": [
    "from forex_python.converter import CurrencyRates\n",
    "c = CurrencyRates()\n",
    "\n",
    "VALOR_DOLAR = c.get_rate('USD', 'MXN')   "
   ]
  },
  {
   "cell_type": "code",
   "execution_count": 51,
   "metadata": {
    "id": "-4zas0FkcqU8"
   },
   "outputs": [
    {
     "name": "stdout",
     "output_type": "stream",
     "text": [
      "Cuánto quieres pedir prestado? \n",
      "1000\n",
      "Cuál es la tasa de interés anual? \n",
      "10\n",
      "En qué periodo estará el préstamos (opciones: quincenas, meses, años) \n",
      "años\n",
      "Cuántos años durará el préstamo? \n",
      "5\n",
      "Cuántos pagos se harán cada años \n",
      "12\n",
      "El préstamo estará en pesos, dólares O udis:  escribe 'pesos', 'dólares', 'udis' \n",
      "udis\n",
      "Quieres pedir prestado $1000.0 UDIS por 5.0 años, con una tasa de interés anual de 10.0%!\n",
      "Tu pago  por periodo es de $142.3405815987365 pesos\n",
      "El costo de este préstamo es de 1841.1228959241885 pesos\n"
     ]
    }
   ],
   "source": [
    "\n",
    "# Generar información de préstamos\n",
    "loanAmount = input(\"Cuánto quieres pedir prestado? \\n\")\n",
    "interestRate = input(\"Cuál es la tasa de interés anual? \\n\")\n",
    "periods = input(\"En qué periodo estará el préstamos (opciones: quincenas, meses, años) \\n\")\n",
    "\n",
    "if periods == \"quincenas\":\n",
    "    input_length = \"Cuántas quincenas durará el préstamo? \\n\"\n",
    "elif periods == \"meses\":\n",
    "    input_length = \"Cuántos meses durará el préstamo? \\n\"\n",
    "elif periods == \"años\":\n",
    "    input_length = \"Cuántos años durará el préstamo? \\n\"\n",
    "else: \n",
    "    input_length = None\n",
    "\n",
    "if input_length is None:\n",
    "    print(\"Por favor determina una opción valida de periodo: quincenas, meses, años\")\n",
    "      \n",
    "else:\n",
    "\n",
    "    repaymentLength = input(input_length)\n",
    "    payments = input(\"Cuántos pagos se harán cada \" + periods + \" \\n\")\n",
    "    \n",
    "    currency = input(\"El préstamo estará en pesos, dólares O udis:  escribe 'pesos', 'dólares', 'udis' \\n\")\n",
    "    \n",
    "    if currency != \"pesos\" and currency != \"dólares\" and currency != \"udis\":\n",
    "        print(currency)\n",
    "        print(\"Por favor determina una opción valida de moneda: pesos o dólares\")\n",
    "    else:\n",
    "\n",
    "        # Convertir las variables a número\n",
    "        loanAmount = float(loanAmount)\n",
    "        interestRate = float(interestRate)\n",
    "        repaymentLength = float(repaymentLength)\n",
    "        payments = float(payments)\n",
    "\n",
    "        quincenas_año = 24\n",
    "        meses_año = 12\n",
    "        año = 1\n",
    "\n",
    "\n",
    "\n",
    "        if periods == \"quincenas\":\n",
    "            valor_periodo = quincenas_año\n",
    "\n",
    "        if periods == \"meses\":\n",
    "            valor_periodo = meses_año\n",
    "\n",
    "        if periods == \"años\":\n",
    "            valor_periodo = año\n",
    "\n",
    "\n",
    "\n",
    "        # Generar valor de pagos\n",
    "        if payments == 12:\n",
    "            valor_payments = \"mensual\"\n",
    "        if payments == 6:\n",
    "            valor_payments = \"semestral\"\n",
    "        if payments == 4:\n",
    "            valor_payments = \"trimestral\"\n",
    "        else:\n",
    "            valor_payments = \"por periodo\"\n",
    "\n",
    "\n",
    "\n",
    "        # Generar calculo de tasa de interés\n",
    "        interestCalculation = interestRate / 100 / (payments * valor_periodo)\n",
    "\n",
    "        # Convertir el número de pagos anuales a mensuales\n",
    "        numberOfPayments = repaymentLength * payments\n",
    "\n",
    "        #Formula\n",
    "        #M = L * ((I * ((1+I) ** n) / (1+I) ** n - 1))\n",
    "\n",
    "        #   * M = Pago mensual\n",
    "        #   * L = Monto préstamo\n",
    "        #   * I = Tasa de interés\n",
    "        #   * N = Número de pagos\n",
    "\n",
    "        numerador = (interestCalculation * (1+interestCalculation) ** numberOfPayments) \n",
    "        denominador = ((1+interestCalculation) ** numberOfPayments - 1)\n",
    "\n",
    "        monthlyRepaymentCost = loanAmount * (numerador / denominador)\n",
    "        # Ver cuánto te cobraran por el crédito\n",
    "        totalCharge = (monthlyRepaymentCost * numberOfPayments) - loanAmount\n",
    "\n",
    "        \n",
    "        if currency == \"dólares\":\n",
    "            monthlyRepaymentCost = monthlyRepaymentCost * VALOR_DOLAR\n",
    "            totalCharge =  totalCharge * VALOR_DOLAR\n",
    "\n",
    "            print(\"Quieres pedir prestado $\" + str(loanAmount) + \" dólares por \" + str(repaymentLength) \\\n",
    "              + \" \" + periods + \", con una tasa de interés anual de \" + str(interestRate) + \"%!\")\n",
    "\n",
    "            print(\"Tu pago  \" + valor_payments + \" es de $\" + str(monthlyRepaymentCost) + \" pesos\")\n",
    "\n",
    "            print(\"El costo de este préstamo es de \" + str(totalCharge)  + \" pesos\")\n",
    "\n",
    "            ### Si la tasa de interes es igual a inflacion, dilo\n",
    "            if interestCalculation == 4.5:\n",
    "                print(\"la tasa de interes es igual a la inflacion\")\n",
    "        \n",
    "        if currency == \"udis\":\n",
    "            monthlyRepaymentCost = monthlyRepaymentCost * VALOR_UDI\n",
    "            totalCharge =  totalCharge * VALOR_UDI\n",
    "\n",
    "            print(\"Quieres pedir prestado $\" + str(loanAmount) + \" UDIS por \" + str(repaymentLength) \\\n",
    "              + \" \" + periods + \", con una tasa de interés anual de \" + str(interestRate) + \"%!\")\n",
    "\n",
    "            print(\"Tu pago  \" + valor_payments + \" es de $\" + str(monthlyRepaymentCost) + \" pesos\")\n",
    "\n",
    "            print(\"El costo de este préstamo es de \" + str(totalCharge)  + \" pesos\")\n",
    "\n",
    "            ### Si la tasa de interes es igual a inflacion, dilo\n",
    "            if interestCalculation == 4.5:\n",
    "                print(\"la tasa de interes es igual a la inflacion\")\n",
    "\n",
    "        else: \n",
    "\n",
    "            print(\"Quieres pedir prestado $\" + str(loanAmount) + \" por \" + str(repaymentLength) \\\n",
    "                  + \" \" + periods + \", con una tasa de interés anual de \" + str(interestRate) + \"%!\")\n",
    "\n",
    "            print(\"Tu pago \" + valor_payments + \" es de $\" + str(monthlyRepaymentCost))\n",
    "\n",
    "            print(\"El costo de este préstamo es de \" + str(totalCharge))\n",
    "\n",
    "            ### Si la tasa de interes es igual a inflacion, dilo\n",
    "            if interestCalculation == 4.5:\n",
    "                print(\"la tasa de interes es igual a la inflacion\")"
   ]
  },
  {
   "cell_type": "markdown",
   "metadata": {
    "id": "KyMSsVeZ8yl9"
   },
   "source": [
    "6. Ahora hay que revisar si hubiera convenido más hace 10 años tomar el préstamo en UDIs o dólares. Para eso, tomemos los valores del 31 de enero de 2010 y https://www.exchangerates.org.uk/USD-MXN-spot-exchange-rates-history-2010.html: https://tiie.com.mx/udi-2010/ y asume que el valor del UDI hace 10 años era de 4.369, y el valor del dólar era de $13.091. \n",
    "\n",
    "La herramienta debería cálcular el costo del préstamo en pesos en los dos casos y decir cuál hubiera convenido más y la diferencia. "
   ]
  },
  {
   "cell_type": "code",
   "execution_count": 65,
   "metadata": {
    "id": "j4Kx2RjXcrXt"
   },
   "outputs": [],
   "source": [
    "def obtener_pago_mensual(loanAmount, interestRate, repaymentLength):\n",
    "  # Convertir las variables a número\n",
    "  loanAmount = float(loanAmount)\n",
    "  interestRate = float(interestRate)\n",
    "  repaymentLength = float(repaymentLength)\n",
    "\n",
    "  # Generar calculo de tasa de interés\n",
    "  interestCalculation = interestRate / 100 / 12\n",
    "\n",
    "  # Convertir el número de pagos anuales a mensuales\n",
    "  numberOfPayments = repaymentLength*12\n",
    "\n",
    "  #Formula\n",
    "  #M = L * ((I * ((1+I) ** n) / (1+I) ** n - 1))\n",
    "\n",
    "  #   * M = Pago mensual\n",
    "  #   * L = Monto préstamo\n",
    "  #   * I = Tasa de interés\n",
    "  #   * N = Número de pagos\n",
    "\n",
    "  monthlyRepaymentCost = loanAmount * (interestCalculation * (1+interestCalculation) ** numberOfPayments) / ((1+interestCalculation) ** (numberOfPayments) - 1)\n",
    "\n",
    "  # Ver cuánto te cobraran por el crédito\n",
    "  totalCharge = (monthlyRepaymentCost * numberOfPayments) - loanAmount\n",
    "\n",
    "\n",
    "  print(\"Quieres pedir prestado $\" + str(loanAmount) + \" por \" + str(repaymentLength) + \" años, con una tasa de interés de \" + str(interestRate) + \"%!\")\n",
    "\n",
    "  print(\"Tu pago mensual es de $\" + str(monthlyRepaymentCost))\n",
    "\n",
    "  print(\"El costo de este préstamo es de \" + str(totalCharge))\n",
    "    \n",
    "  return monthlyRepaymentCost\n"
   ]
  },
  {
   "cell_type": "code",
   "execution_count": 57,
   "metadata": {},
   "outputs": [],
   "source": [
    "usd_2010=13.091\n",
    "usd_2011=12.1246\n",
    "usd_2012=13.053\n",
    "usd_2013=12.698\n",
    "usd_2014=13.3495\n",
    "usd_2015=14.9751\n",
    "usd_2016=18.147\n",
    "usd_2017=20.8217\n",
    "usd_2018=18.6053\n",
    "usd_2019=19.1123\n",
    "usd_2020=18.843\n",
    "# UDIs\n",
    "udi_2010=4.369\n",
    "udi_2011=4.558\n",
    "udi_2012=4.733\n",
    "udi_2013=4.89\n",
    "udi_2014=5.1\n",
    "udi_2015=5.381\n",
    "udi_2016=5.562\n",
    "udi_2017=5.934\n",
    "udi_2018=6.226\n",
    "udi_2019=6.39\n",
    "udi_2020=6.44"
   ]
  },
  {
   "cell_type": "code",
   "execution_count": 75,
   "metadata": {},
   "outputs": [
    {
     "name": "stdout",
     "output_type": "stream",
     "text": [
      "Cuánto quieres pedir prestado? \n",
      "1000\n",
      "Cuál es la tasa de interés? \n",
      "10\n",
      "Cuántos años durará el préstamo? \n",
      "5\n",
      "Quieres pedir prestado $76.38835841417769 por 5.0 años, con una tasa de interés de 10.0%!\n",
      "Tu pago mensual es de $1.6230268666464238\n",
      "El costo de este préstamo es de 20.993253584607743\n",
      "Quieres pedir prestado $228.88532845044634 por 5.0 años, con una tasa de interés de 10.0%!\n",
      "Tu pago mensual es de $4.863136807339971\n",
      "El costo de este préstamo es de 62.90287998995191\n"
     ]
    }
   ],
   "source": [
    "# # Generar información de préstamos\n",
    "loanAmount = input(\"Cuánto quieres pedir prestado? \\n\")\n",
    "interestRate = input(\"Cuál es la tasa de interés? \\n\")\n",
    "repaymentLength = input(\"Cuántos años durará el préstamo? \\n\")\n",
    "\n",
    "usdloan = float(loanAmount)/usd_2010\n",
    "udiloan = float(loanAmount)/udi_2010\n",
    "pago_mensual_usd = obtener_pago_mensual(usdloan, interestRate, repaymentLength)\n",
    "pago_mensual_udi = obtener_pago_mensual(udiloan, interestRate, repaymentLength)"
   ]
  },
  {
   "cell_type": "code",
   "execution_count": 76,
   "metadata": {},
   "outputs": [
    {
     "data": {
      "text/plain": [
       "1.6230268666464238"
      ]
     },
     "execution_count": 76,
     "metadata": {},
     "output_type": "execute_result"
    }
   ],
   "source": [
    "pago_mensual_usd"
   ]
  },
  {
   "cell_type": "code",
   "execution_count": 77,
   "metadata": {},
   "outputs": [],
   "source": [
    "def calcula_pago_a_pesos(cantidad, tipo_cambio, valor_total):\n",
    "  pago = cantidad * tipo_cambio\n",
    "  valor_total = valor_total + pago\n",
    "  return valor_total"
   ]
  },
  {
   "cell_type": "code",
   "execution_count": 78,
   "metadata": {},
   "outputs": [
    {
     "name": "stdout",
     "output_type": "stream",
     "text": [
      "254.96453653522002\n",
      "254.96453653522\n",
      "491.10715510331477\n",
      "520.9586673494871\n",
      "745.331591387344\n",
      "797.1653854591681\n",
      "992.6419332194596\n",
      "1082.5342533138776\n",
      "1252.641099095017\n",
      "1380.1582259230838\n",
      "1544.3009746636192\n",
      "1694.1806958466404\n",
      "1897.737797252011\n",
      "2018.7658989157394\n",
      "2303.2679393630333\n",
      "2365.060144692804\n",
      "2665.630760507234\n",
      "2728.3948218427877\n",
      "3037.8680771081113\n",
      "3101.3001522296167\n",
      "3404.860420086734\n",
      "3477.12336470085\n"
     ]
    }
   ],
   "source": [
    "pago_anual_dolar = pago_mensual_usd * 12\n",
    "pago_anual_udi = pago_mensual_udi * 12\n",
    "valor_pago_dolar_pesos = 0\n",
    "valor_pago_udi_pesos = 0\n",
    "\n",
    "## 2010\n",
    "valor_pago_dolar_pesos = calcula_pago_a_pesos(pago_anual_dolar, usd_2010, valor_pago_dolar_pesos)\n",
    "valor_pago_udi_pesos = calcula_pago_a_pesos(pago_anual_udi, udi_2010, valor_pago_udi_pesos)\n",
    "\n",
    "print(valor_pago_dolar_pesos)\n",
    "print(valor_pago_udi_pesos)\n",
    "\n",
    "## 2011\n",
    "valor_pago_dolar_pesos = calcula_pago_a_pesos(pago_anual_dolar, usd_2011, valor_pago_dolar_pesos)\n",
    "valor_pago_udi_pesos = calcula_pago_a_pesos(pago_anual_udi, udi_2011, valor_pago_udi_pesos)\n",
    "\n",
    "print(valor_pago_dolar_pesos)\n",
    "print(valor_pago_udi_pesos)\n",
    "\n",
    "## 2012\n",
    "valor_pago_dolar_pesos = calcula_pago_a_pesos(pago_anual_dolar, usd_2012, valor_pago_dolar_pesos)\n",
    "valor_pago_udi_pesos = calcula_pago_a_pesos(pago_anual_udi, udi_2012, valor_pago_udi_pesos)\n",
    "\n",
    "print(valor_pago_dolar_pesos)\n",
    "print(valor_pago_udi_pesos)\n",
    "\n",
    "## 2013\n",
    "valor_pago_dolar_pesos = calcula_pago_a_pesos(pago_anual_dolar, usd_2013, valor_pago_dolar_pesos)\n",
    "valor_pago_udi_pesos = calcula_pago_a_pesos(pago_anual_udi, udi_2013, valor_pago_udi_pesos)\n",
    "\n",
    "print(valor_pago_dolar_pesos)\n",
    "print(valor_pago_udi_pesos)\n",
    "\n",
    "## 2014\n",
    "valor_pago_dolar_pesos = calcula_pago_a_pesos(pago_anual_dolar, usd_2014, valor_pago_dolar_pesos)\n",
    "valor_pago_udi_pesos = calcula_pago_a_pesos(pago_anual_udi, udi_2014, valor_pago_udi_pesos)\n",
    "\n",
    "print(valor_pago_dolar_pesos)\n",
    "print(valor_pago_udi_pesos)\n",
    "\n",
    "## 2015\n",
    "valor_pago_dolar_pesos = calcula_pago_a_pesos(pago_anual_dolar, usd_2015, valor_pago_dolar_pesos)\n",
    "valor_pago_udi_pesos = calcula_pago_a_pesos(pago_anual_udi, udi_2015, valor_pago_udi_pesos)\n",
    "\n",
    "print(valor_pago_dolar_pesos)\n",
    "print(valor_pago_udi_pesos)\n",
    "\n",
    "## 2016\n",
    "valor_pago_dolar_pesos = calcula_pago_a_pesos(pago_anual_dolar, usd_2016, valor_pago_dolar_pesos)\n",
    "valor_pago_udi_pesos = calcula_pago_a_pesos(pago_anual_udi, udi_2016, valor_pago_udi_pesos)\n",
    "\n",
    "print(valor_pago_dolar_pesos)\n",
    "print(valor_pago_udi_pesos)\n",
    "\n",
    "## 2011\n",
    "valor_pago_dolar_pesos = calcula_pago_a_pesos(pago_anual_dolar, usd_2017, valor_pago_dolar_pesos)\n",
    "valor_pago_udi_pesos = calcula_pago_a_pesos(pago_anual_udi, udi_2017, valor_pago_udi_pesos)\n",
    "\n",
    "print(valor_pago_dolar_pesos)\n",
    "print(valor_pago_udi_pesos)\n",
    "\n",
    "## 2018\n",
    "valor_pago_dolar_pesos = calcula_pago_a_pesos(pago_anual_dolar, usd_2018, valor_pago_dolar_pesos)\n",
    "valor_pago_udi_pesos = calcula_pago_a_pesos(pago_anual_udi, udi_2018, valor_pago_udi_pesos)\n",
    "\n",
    "print(valor_pago_dolar_pesos)\n",
    "print(valor_pago_udi_pesos)\n",
    "\n",
    "## 2019\n",
    "valor_pago_dolar_pesos = calcula_pago_a_pesos(pago_anual_dolar, usd_2019, valor_pago_dolar_pesos)\n",
    "valor_pago_udi_pesos = calcula_pago_a_pesos(pago_anual_udi, udi_2019, valor_pago_udi_pesos)\n",
    "\n",
    "print(valor_pago_dolar_pesos)\n",
    "print(valor_pago_udi_pesos)\n",
    "\n",
    "## 2020\n",
    "valor_pago_dolar_pesos = calcula_pago_a_pesos(pago_anual_dolar, usd_2020, valor_pago_dolar_pesos)\n",
    "valor_pago_udi_pesos = calcula_pago_a_pesos(pago_anual_udi, udi_2020, valor_pago_udi_pesos)\n",
    "\n",
    "print(valor_pago_dolar_pesos)\n",
    "print(valor_pago_udi_pesos)"
   ]
  },
  {
   "cell_type": "code",
   "execution_count": 82,
   "metadata": {},
   "outputs": [
    {
     "name": "stdout",
     "output_type": "stream",
     "text": [
      "Pagar en dólares es más barato por 72.2629446141159 pesos\n"
     ]
    }
   ],
   "source": [
    "if valor_pago_dolar_pesos > valor_pago_udi_pesos:\n",
    "    print(\"Pagar en udi es más barato por \" + str(valor_pago_dolar_pesos - valor_pago_udi_pesos) + \" pesos\")\n",
    "          \n",
    "elif valor_pago_dolar_pesos < valor_pago_udi_pesos:\n",
    "    print(\"Pagar en dólares es más barato por \" + str(valor_pago_udi_pesos - valor_pago_dolar_pesos) + \" pesos\")\n",
    "\n",
    "else: \n",
    "    print(\"El pago es el mismo en ambos casos\")"
   ]
  },
  {
   "cell_type": "markdown",
   "metadata": {
    "id": "ZYHRsVDP8aSu"
   },
   "source": [
    "7. Finalmente, hay que crear un código que nos diga considerando la variación real en el dólar, cuál hubiera sido la variación necesaria en los UDIs para que hubiera sido igual un préstamo en cualquiera de los dos. Y lo contrario, considerando la variación real en UDIS, cuál hubiera sido la variación necesaria en dólares para que hubiera sido igual un préstamo en cualquiera de las dos. "
   ]
  },
  {
   "cell_type": "code",
   "execution_count": 2,
   "metadata": {
    "id": "j3d-ishpcurq"
   },
   "outputs": [],
   "source": [
    "usd_2010=13.091\n",
    "usd_2011=12.1246\n",
    "usd_2012=13.053\n",
    "usd_2013=12.698\n",
    "usd_2014=13.3495\n",
    "usd_2015=14.9751\n",
    "usd_2016=18.147\n",
    "usd_2017=20.8217\n",
    "usd_2018=18.6053\n",
    "usd_2019=19.1123\n",
    "usd_2020=18.843\n",
    "# UDIs\n",
    "udi_2010=4.369\n",
    "udi_2011=4.558\n",
    "udi_2012=4.733\n",
    "udi_2013=4.89\n",
    "udi_2014=5.1\n",
    "udi_2015=5.381\n",
    "udi_2016=5.562\n",
    "udi_2017=5.934\n",
    "udi_2018=6.226\n",
    "udi_2019=6.39\n",
    "udi_2020=6.44"
   ]
  },
  {
   "cell_type": "code",
   "execution_count": 7,
   "metadata": {},
   "outputs": [],
   "source": [
    "def calcular_variacion(valor_inicial_a, valor_final_a, valor_inicial_b):\n",
    "    cambio = (valor_final_a / valor_inicial_a) \n",
    "    print(valor_inicial_b * cambio)"
   ]
  },
  {
   "cell_type": "code",
   "execution_count": 9,
   "metadata": {},
   "outputs": [
    {
     "name": "stdout",
     "output_type": "stream",
     "text": [
      "4.046472950882285\n",
      "4.907013344770138\n",
      "4.604277484103271\n",
      "5.140892660261459\n",
      "5.721038990224352\n",
      "6.520758258709457\n",
      "6.3817873698131935\n",
      "5.302345639405043\n",
      "6.39566036559475\n",
      "6.299962327924948\n"
     ]
    }
   ],
   "source": [
    "calcular_variacion(usd_2010, usd_2011, udi_2010)\n",
    "calcular_variacion(usd_2011, usd_2012, udi_2011)\n",
    "calcular_variacion(usd_2012, usd_2013, udi_2012)\n",
    "calcular_variacion(usd_2013, usd_2014, udi_2013)\n",
    "calcular_variacion(usd_2014, usd_2015, udi_2014)\n",
    "calcular_variacion(usd_2015, usd_2016, udi_2015)\n",
    "calcular_variacion(usd_2016, usd_2017, udi_2016)\n",
    "calcular_variacion(usd_2017, usd_2018, udi_2017)\n",
    "calcular_variacion(usd_2018, usd_2019, udi_2018)\n",
    "calcular_variacion(usd_2019, usd_2020, udi_2019)"
   ]
  },
  {
   "cell_type": "code",
   "execution_count": 10,
   "metadata": {},
   "outputs": [
    {
     "name": "stdout",
     "output_type": "stream",
     "text": [
      "13.657307850766767\n",
      "12.59011228609039\n",
      "13.485985632791044\n",
      "13.243312883435584\n",
      "14.085031274509806\n",
      "15.478815498977884\n",
      "19.360715210355984\n",
      "21.846293259184364\n",
      "19.09538499839383\n",
      "19.261848513302038\n"
     ]
    }
   ],
   "source": [
    "calcular_variacion(udi_2010, udi_2011, usd_2010)\n",
    "calcular_variacion(udi_2011, udi_2012, usd_2011)\n",
    "calcular_variacion(udi_2012, udi_2013, usd_2012)\n",
    "calcular_variacion(udi_2013, udi_2014, usd_2013)\n",
    "calcular_variacion(udi_2014, udi_2015, usd_2014)\n",
    "calcular_variacion(udi_2015, udi_2016, usd_2015)\n",
    "calcular_variacion(udi_2016, udi_2017, usd_2016)\n",
    "calcular_variacion(udi_2017, udi_2018, usd_2017)\n",
    "calcular_variacion(udi_2018, udi_2019, usd_2018)\n",
    "calcular_variacion(udi_2019, udi_2020, usd_2019)\n"
   ]
  },
  {
   "cell_type": "markdown",
   "metadata": {
    "id": "Xr979SYB8aZ-"
   },
   "source": [
    "### PARTE 2"
   ]
  },
  {
   "cell_type": "markdown",
   "metadata": {
    "id": "rH6fJNDx8ahK"
   },
   "source": [
    "8. Ahora, vamos a crear una herramienta del lado de la oferta. Dado un plazo, monto y pago vamos a calcular la tasa de interés que un Banco está dando. La herramienta debería aceptar\n",
    "\n",
    "- Plazo: En meses o años\n",
    "- Monto: Cualquier número real\n",
    "- Pago: mensuales\n",
    "\n",
    "Y dar la tasa de interés anual\n"
   ]
  },
  {
   "cell_type": "markdown",
   "metadata": {},
   "source": [
    "1era opción: interés simple"
   ]
  },
  {
   "cell_type": "code",
   "execution_count": 10,
   "metadata": {},
   "outputs": [
    {
     "name": "stdout",
     "output_type": "stream",
     "text": [
      "Cuánto quieres pedir prestado? \n",
      "1000\n",
      "Cuál es el monto del pago mensual? \n",
      "23\n",
      "Cuántos años durará el préstamo? \n",
      "5\n",
      "Cuántos pagos se hacen al año \n",
      "12\n",
      "tu tasa de interés es: 7.6%\n"
     ]
    }
   ],
   "source": [
    "loanAmount = input(\"Cuánto quieres pedir prestado? \\n\")\n",
    "payments = input(\"Cuál es el monto del pago mensual? \\n\")\n",
    "repaymentLength = input(\"Cuántos años durará el préstamo? \\n\")\n",
    "numberpayments = input(\"Cuántos pagos se hacen al año \\n\")\n",
    "\n",
    "loanAmount = float(loanAmount)\n",
    "numberpayments = float(numberpayments )\n",
    "repaymentLength = float(repaymentLength)\n",
    "payments = int(payments)\n",
    "totalnumberpayments = repaymentLength * numberpayments\n",
    "\n",
    "cost = (payments * totalnumberpayments) - loanAmount\n",
    "rate = (12 * (cost)) / (totalnumberpayments * loanAmount)\n",
    "\n",
    "print(\"tu tasa de interés anual es: \" + str(round(rate * 100, 2)) + \"%\")"
   ]
  },
  {
   "cell_type": "markdown",
   "metadata": {
    "id": "SblAZusweymJ"
   },
   "source": [
    "2nda opción: interés compuesto mensualmente"
   ]
  },
  {
   "cell_type": "code",
   "execution_count": 13,
   "metadata": {},
   "outputs": [
    {
     "name": "stdout",
     "output_type": "stream",
     "text": [
      "Cuánto quieres pedir prestado? \n",
      "1000\n",
      "Cuál es el monto del pago mensual? \n",
      "22.24\n",
      "Cuántos años durará el préstamo? \n",
      "5\n",
      "Cuántos pagos se hacen al año \n",
      "12\n",
      "tu tasa de interés es: 11.99%\n"
     ]
    }
   ],
   "source": [
    "from sympy import Symbol\n",
    "from sympy.solvers import nsolve\n",
    "\n",
    "\n",
    "loanAmount = input(\"Cuánto quieres pedir prestado? \\n\")\n",
    "payments = input(\"Cuál es el monto del pago mensual? \\n\")\n",
    "repaymentLength = input(\"Cuántos años durará el préstamo? \\n\")\n",
    "numberpayments = input(\"Cuántos pagos se hacen al año \\n\")\n",
    "\n",
    "loanAmount = float(loanAmount)\n",
    "numberpayments = float(numberpayments )\n",
    "repaymentLength = float(repaymentLength)\n",
    "payments = float(payments)\n",
    "totalnumberpayments = repaymentLength * numberpayments\n",
    "\n",
    "\n",
    "x = Symbol('x')\n",
    "monthly_rate = nsolve(payments-loanAmount*(x*((1+x)**totalnumberpayments ))/(((1+x)**totalnumberpayments )-1),x,(0.0001,))\n",
    "annual_rate = monthly_rate * 12\n",
    "\n",
    "\n",
    "print(\"tu tasa de interés anual es: \" + str(round(annual_rate * 100, 2)) + \"%\")"
   ]
  },
  {
   "cell_type": "markdown",
   "metadata": {
    "id": "_89y2QPtrDhC"
   },
   "source": [
    "9. Ahora hay que hacer una modificación para poder aceptar un plazo y pago tan pequeño como dos semanas"
   ]
  },
  {
   "cell_type": "markdown",
   "metadata": {},
   "source": [
    "1era opción: interés simple"
   ]
  },
  {
   "cell_type": "code",
   "execution_count": 27,
   "metadata": {},
   "outputs": [
    {
     "name": "stdout",
     "output_type": "stream",
     "text": [
      "Cuánto quieres pedir prestado? \n",
      "1000\n",
      "En qué periodo estará el préstamos (opciones: quincenas, meses, años) \n",
      "quincenas\n",
      "Cuántas quincenas durará el préstamo? \n",
      "1\n",
      "Cuántos pagos se harán cada quincenas \n",
      "1\n",
      "Cuál es el monto del pago? \n",
      "1200\n",
      "tu tasa de interés anual es: 480.0%\n"
     ]
    }
   ],
   "source": [
    "# Generar información de préstamos\n",
    "loanAmount = input(\"Cuánto quieres pedir prestado? \\n\")\n",
    "periods = input(\"En qué periodo estará el préstamos (opciones: quincenas, meses, años) \\n\")\n",
    "\n",
    "if periods == \"quincenas\":\n",
    "    input_length = \"Cuántas quincenas durará el préstamo? \\n\"\n",
    "elif periods == \"meses\":\n",
    "    input_length = \"Cuántos meses durará el préstamo? \\n\"\n",
    "elif periods == \"años\":\n",
    "    input_length = \"Cuántos años durará el préstamo? \\n\"\n",
    "else: \n",
    "    input_length = None\n",
    "\n",
    "if input_length is None:\n",
    "    print(\"Por favor determina una opción valida de periodo: quincenas, meses, años\")\n",
    "      \n",
    "else:\n",
    "    repaymentLength = input(input_length)\n",
    "    payments = input(\"Cuántos pagos se harán cada \" + periods + \" \\n\")\n",
    "    monthlypayments = input(\"Cuál es el monto del pago? \\n\")\n",
    "    \n",
    "    # Convertir las variables a número\n",
    "    loanAmount = float(loanAmount)\n",
    "    monthlypayments = float(monthlypayments)\n",
    "    repaymentLength = float(repaymentLength)\n",
    "    payments = float(payments)\n",
    "    totalnumberpayments = payments * repaymentLength\n",
    "\n",
    "    \n",
    "\n",
    "quincenas_año = 24\n",
    "meses_año = 12\n",
    "año = 1\n",
    "\n",
    "if periods == \"quincenas\":\n",
    "    valor_periodo = quincenas_año\n",
    "\n",
    "if periods == \"meses\":\n",
    "    valor_periodo = meses_año\n",
    "\n",
    "if periods == \"años\":\n",
    "    valor_periodo = payments\n",
    "    \n",
    "cost = (monthlypayments * totalnumberpayments) - loanAmount\n",
    "\n",
    "rate = (valor_periodo * (cost)) / (totalnumberpayments * loanAmount)\n",
    "\n",
    "print(\"tu tasa de interés anual es: \" + str(round(rate * 100, 2)) + \"%\")\n"
   ]
  },
  {
   "cell_type": "markdown",
   "metadata": {},
   "source": [
    "2da opcion: interés compuesto"
   ]
  },
  {
   "cell_type": "code",
   "execution_count": 28,
   "metadata": {
    "id": "1w5jNugDezBj"
   },
   "outputs": [
    {
     "name": "stdout",
     "output_type": "stream",
     "text": [
      "Cuánto quieres pedir prestado? \n",
      "1000\n",
      "En qué periodo estará el préstamos (opciones: quincenas, meses, años) \n",
      "quincenas\n",
      "Cuántas quincenas durará el préstamo? \n",
      "1\n",
      "Cuántos pagos se harán cada quincenas \n",
      "1\n",
      "Cuál es el monto del pago? \n",
      "1200\n",
      "tu tasa de interés anual es: 480.0%\n"
     ]
    }
   ],
   "source": [
    "from sympy import Symbol\n",
    "from sympy.solvers import nsolve\n",
    "\n",
    "\n",
    "# Generar información de préstamos\n",
    "loanAmount = input(\"Cuánto quieres pedir prestado? \\n\")\n",
    "periods = input(\"En qué periodo estará el préstamos (opciones: quincenas, meses, años) \\n\")\n",
    "\n",
    "if periods == \"quincenas\":\n",
    "    input_length = \"Cuántas quincenas durará el préstamo? \\n\"\n",
    "elif periods == \"meses\":\n",
    "    input_length = \"Cuántos meses durará el préstamo? \\n\"\n",
    "elif periods == \"años\":\n",
    "    input_length = \"Cuántos años durará el préstamo? \\n\"\n",
    "else: \n",
    "    input_length = None\n",
    "\n",
    "if input_length is None:\n",
    "    print(\"Por favor determina una opción valida de periodo: quincenas, meses, años\")\n",
    "      \n",
    "else:\n",
    "    repaymentLength = input(input_length)\n",
    "    payments = input(\"Cuántos pagos se harán cada \" + periods + \" \\n\")\n",
    "    monthlypayments = input(\"Cuál es el monto del pago? \\n\")\n",
    "    \n",
    "    # Convertir las variables a número\n",
    "    loanAmount = float(loanAmount)\n",
    "    monthlypayments = float(monthlypayments)\n",
    "    repaymentLength = float(repaymentLength)\n",
    "    payments = float(payments)\n",
    "    totalnumberpayments = payments * repaymentLength\n",
    "\n",
    "\n",
    "quincenas_año = 24\n",
    "meses_año = 12\n",
    "año = 1\n",
    "\n",
    "if periods == \"quincenas\":\n",
    "    valor_periodo = quincenas_año * payments\n",
    "\n",
    "if periods == \"meses\":\n",
    "    valor_periodo = meses_año* payments\n",
    "\n",
    "if periods == \"años\":\n",
    "    valor_periodo = año * payments\n",
    "\n",
    "x = Symbol('x')\n",
    "period_rate = nsolve(monthlypayments-loanAmount*(x*((1+x)**totalnumberpayments ))/(((1+x)**totalnumberpayments )-1),x,(0.0001,))\n",
    "annual_rate = period_rate * valor_periodo\n",
    "\n",
    "\n",
    "print(\"tu tasa de interés anual es: \" + str(round(annual_rate * 100, 2)) + \"%\")"
   ]
  },
  {
   "cell_type": "markdown",
   "metadata": {
    "id": "DlbEj8yvrDoZ"
   },
   "source": [
    "10. Finalmente, vamos a obtener la tasa de referencia y decidir si debería tomar el crédito. En la página de Banxico busca \"TIIE de Fondeo a Un Día Hábil Bancario\" y haz un query con el valor. El código debería indicar si la tasa de interés anual del préstamo es menor a la tasa de referencia."
   ]
  },
  {
   "cell_type": "code",
   "execution_count": 14,
   "metadata": {
    "id": "9dhhmLN8ezbT"
   },
   "outputs": [
    {
     "name": "stdout",
     "output_type": "stream",
     "text": [
      "Escribe aquí el string del token que generaste en la página del Banxico········\n"
     ]
    }
   ],
   "source": [
    "## Este código sirve para guardar el valor del token de Banxico\n",
    "from getpass import getpass\n",
    "token = getpass(\"Escribe aquí el string del token que generaste en la página del Banxico\")"
   ]
  },
  {
   "cell_type": "code",
   "execution_count": 15,
   "metadata": {},
   "outputs": [
    {
     "data": {
      "text/plain": [
       "'d6faffdbf1ec98356a15632a8076b94ad6725004da1f5d950ae18d395530e891'"
      ]
     },
     "execution_count": 15,
     "metadata": {},
     "output_type": "execute_result"
    }
   ],
   "source": [
    "token"
   ]
  },
  {
   "cell_type": "code",
   "execution_count": 29,
   "metadata": {},
   "outputs": [],
   "source": [
    "# Este código sirve obtener un valor de Banxico \n",
    "\n",
    "# El número de serie de UDI en el sistema de consulta de Banxico\n",
    "series = \"SF331451\"\n",
    "# El url del cual obtener información\n",
    "url_string = \"https://www.banxico.org.mx/SieAPIRest/service/v1/series/{}/datos/oportuno?token={}\".format(series, token)\n",
    "\n",
    "# Importar las bibliotecas necesarias\n",
    "import urllib.request, json \n",
    "\n",
    "# Obtener la información\n",
    "with urllib.request.urlopen(url_string) as url:\n",
    "    banxico_query = json.loads(url.read().decode())\n",
    "\n",
    "# Limpiar la info para obtener la variable\n",
    "TASA_FONDEO = float(banxico_query[\"bmx\"][\"series\"][0][\"datos\"][0][\"dato\"])"
   ]
  },
  {
   "cell_type": "code",
   "execution_count": 17,
   "metadata": {},
   "outputs": [
    {
     "data": {
      "text/plain": [
       "4.25"
      ]
     },
     "execution_count": 17,
     "metadata": {},
     "output_type": "execute_result"
    }
   ],
   "source": [
    "TASA"
   ]
  },
  {
   "cell_type": "markdown",
   "metadata": {},
   "source": [
    "INTERÉS SIMPLE"
   ]
  },
  {
   "cell_type": "code",
   "execution_count": 33,
   "metadata": {},
   "outputs": [
    {
     "name": "stdout",
     "output_type": "stream",
     "text": [
      "Cuánto quieres pedir prestado? \n",
      "1000\n",
      "En qué periodo estará el préstamos (opciones: quincenas, meses, años) \n",
      "años\n",
      "Cuántos años durará el préstamo? \n",
      "5\n",
      "Cuántos pagos se harán cada años \n",
      "12\n",
      "Cuál es el monto del pago? \n",
      "30\n",
      "tu tasa de interés anual de 16.0% es menor a la de fondeo\n"
     ]
    }
   ],
   "source": [
    "# Generar información de préstamos\n",
    "loanAmount = input(\"Cuánto quieres pedir prestado? \\n\")\n",
    "periods = input(\"En qué periodo estará el préstamos (opciones: quincenas, meses, años) \\n\")\n",
    "\n",
    "if periods == \"quincenas\":\n",
    "    input_length = \"Cuántas quincenas durará el préstamo? \\n\"\n",
    "elif periods == \"meses\":\n",
    "    input_length = \"Cuántos meses durará el préstamo? \\n\"\n",
    "elif periods == \"años\":\n",
    "    input_length = \"Cuántos años durará el préstamo? \\n\"\n",
    "else: \n",
    "    input_length = None\n",
    "\n",
    "if input_length is None:\n",
    "    print(\"Por favor determina una opción valida de periodo: quincenas, meses, años\")\n",
    "      \n",
    "else:\n",
    "    repaymentLength = input(input_length)\n",
    "    payments = input(\"Cuántos pagos se harán cada \" + periods + \" \\n\")\n",
    "    monthlypayments = input(\"Cuál es el monto del pago? \\n\")\n",
    "    \n",
    "    # Convertir las variables a número\n",
    "    loanAmount = float(loanAmount)\n",
    "    monthlypayments = float(monthlypayments)\n",
    "    repaymentLength = float(repaymentLength)\n",
    "    payments = float(payments)\n",
    "    totalnumberpayments = payments * repaymentLength\n",
    "\n",
    "    \n",
    "\n",
    "quincenas_año = 24\n",
    "meses_año = 12\n",
    "año = 1\n",
    "\n",
    "if periods == \"quincenas\":\n",
    "    valor_periodo = quincenas_año\n",
    "\n",
    "if periods == \"meses\":\n",
    "    valor_periodo = meses_año\n",
    "\n",
    "if periods == \"años\":\n",
    "    valor_periodo = payments\n",
    "    \n",
    "cost = (monthlypayments * totalnumberpayments) - loanAmount\n",
    "\n",
    "rate = (valor_periodo * (cost)) / (totalnumberpayments * loanAmount)\n",
    "\n",
    "if rate > TASA_FONDEO:\n",
    "\n",
    "    print(\"tu tasa de interés anual de: \" + str(round(rate * 100, 2)) + \"% es mayor a la de fondeo\" )\n",
    "\n",
    "elif rate < TASA_FONDEO:\n",
    "    print(\"tu tasa de interés anual de \" + str(round(rate * 100, 2)) + \"% es menor a la de fondeo\")\n",
    "    \n",
    "else:\n",
    "    print(\"tu tasa de interés anual de: \" + str(round(rate * 100, 2)) + \"% es igual a la de fondeo\")\n",
    "    "
   ]
  },
  {
   "cell_type": "markdown",
   "metadata": {},
   "source": [
    "INTERÉS COMPUESTO"
   ]
  },
  {
   "cell_type": "code",
   "execution_count": null,
   "metadata": {},
   "outputs": [],
   "source": [
    "# Generar información de préstamos\n",
    "loanAmount = input(\"Cuánto quieres pedir prestado? \\n\")\n",
    "periods = input(\"En qué periodo estará el préstamos (opciones: quincenas, meses, años) \\n\")\n",
    "\n",
    "if periods == \"quincenas\":\n",
    "    input_length = \"Cuántas quincenas durará el préstamo? \\n\"\n",
    "elif periods == \"meses\":\n",
    "    input_length = \"Cuántos meses durará el préstamo? \\n\"\n",
    "elif periods == \"años\":\n",
    "    input_length = \"Cuántos años durará el préstamo? \\n\"\n",
    "else: \n",
    "    input_length = None\n",
    "\n",
    "if input_length is None:\n",
    "    print(\"Por favor determina una opción valida de periodo: quincenas, meses, años\")\n",
    "      \n",
    "else:\n",
    "    repaymentLength = input(input_length)\n",
    "    payments = input(\"Cuántos pagos se harán cada \" + periods + \" \\n\")\n",
    "    monthlypayments = input(\"Cuál es el monto del pago? \\n\")\n",
    "    \n",
    "    # Convertir las variables a número\n",
    "    loanAmount = float(loanAmount)\n",
    "    monthlypayments = float(monthlypayments)\n",
    "    repaymentLength = float(repaymentLength)\n",
    "    payments = float(payments)\n",
    "    totalnumberpayments = payments * repaymentLength\n",
    "\n",
    "    \n",
    "\n",
    "quincenas_año = 24\n",
    "meses_año = 12\n",
    "año = 1\n",
    "\n",
    "if periods == \"quincenas\":\n",
    "    valor_periodo = quincenas_año\n",
    "\n",
    "if periods == \"meses\":\n",
    "    valor_periodo = meses_año\n",
    "\n",
    "if periods == \"años\":\n",
    "    valor_periodo = payments\n",
    "    \n",
    "cost = (monthlypayments * totalnumberpayments) - loanAmount\n",
    "\n",
    "rate = (valor_periodo * (cost)) / (totalnumberpayments * loanAmount)\n",
    "\n",
    "print(\"tu tasa de interés anual es: \" + str(round(rate * 100, 2)) + \"%\")}\n",
    "\n",
    "if rate > TASA_FONDEO:\n",
    "\n",
    "    print(\"tu tasa de interés anual de: \" + str(round(rate * 100, 2)) + \"% es mayor a la de fondeo\" )\n",
    "\n",
    "elif rate < TASA_FONDEO:\n",
    "    print(\"tu tasa de interés anual de \" + str(round(rate * 100, 2)) + \"% es menor a la de fondeo\")\n",
    "    \n",
    "else:\n",
    "    print(\"tu tasa de interés anual de: \" + str(round(rate * 100, 2)) + \"% es igual a la de fondeo\")"
   ]
  },
  {
   "cell_type": "markdown",
   "metadata": {
    "id": "PBTW-gWIca4c"
   },
   "source": [
    "## Opcionales: Ejercicios en HakerRank"
   ]
  },
  {
   "cell_type": "markdown",
   "metadata": {
    "id": "pltALB-ccg7C"
   },
   "source": [
    "HackerRank es un sitio web con ejercicios para resolver que te ayudaran a entender mejor los conceptos de la clase. \n",
    "Vamos a resolver uno en clase y los restantes serán de tarea\n",
    "\n",
    "1. https://www.hackerrank.com/challenges/python-arithmetic-operators/problem\n",
    "2. https://www.hackerrank.com/challenges/python-division/problem\n",
    "3. https://www.hackerrank.com/challenges/py-if-else/problem  \n",
    "4. https://www.hackerrank.com/challenges/swap-case/problem"
   ]
  }
 ],
 "metadata": {
  "colab": {
   "collapsed_sections": [],
   "name": "1_intro_lab-est.ipynb",
   "provenance": [],
   "toc_visible": true
  },
  "kernelspec": {
   "display_name": "Python 3",
   "language": "python",
   "name": "python3"
  },
  "language_info": {
   "codemirror_mode": {
    "name": "ipython",
    "version": 3
   },
   "file_extension": ".py",
   "mimetype": "text/x-python",
   "name": "python",
   "nbconvert_exporter": "python",
   "pygments_lexer": "ipython3",
   "version": "3.7.9"
  }
 },
 "nbformat": 4,
 "nbformat_minor": 4
}
