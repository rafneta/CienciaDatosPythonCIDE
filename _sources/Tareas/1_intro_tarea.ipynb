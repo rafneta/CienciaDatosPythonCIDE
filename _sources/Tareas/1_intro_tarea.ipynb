{
 "cells": [
  {
   "cell_type": "markdown",
   "metadata": {
    "id": "LJQgOd5mRvsh"
   },
   "source": [
    "# Tarea 1\n",
    "\n",
    "En esta tarea repasaremos los conceptos de creación de variables y expresiones. La idea es hacerlo a través de ejemplos concretos y aplicados a situaciones que podrías enfrentarte en un entorno laboral. "
   ]
  },
  {
   "cell_type": "markdown",
   "metadata": {
    "id": "eB_SBRHbqeK0"
   },
   "source": [
    "### PARTE 1"
   ]
  },
  {
   "cell_type": "markdown",
   "metadata": {
    "id": "syVe9hQNSmPY"
   },
   "source": [
    "### Calculadora de préstamos\n",
    "\n",
    "*1.* Trabajas en un banco que da préstamos a personas. Tu jefe te pide que generes una herramienta que le permita a las personas calcular cuáles son las cuotas mensuales y el costo total de la deuda. \n",
    "\n",
    "Te menciona que los pagos son mensuales, pero la herramienta debería tomar plazo, tasa de interés y monto del préstamo, y arrojarte una cuota. \n",
    "También te dice que la fórmula para calcular las cuotas es:"
   ]
  },
  {
   "cell_type": "markdown",
   "metadata": {
    "id": "MVQavCIZQ6Iw"
   },
   "source": [
    "![](https://raw.githubusercontent.com/rafneta/CienciaDatosPythonCIDE/master/imagenes/T1_indice.png)\n"
   ]
  },
  {
   "cell_type": "markdown",
   "metadata": {
    "id": "hPkmokigYOKr"
   },
   "source": [
    "Te dieron un código pero tiene algunos errores y no está arrojando el resultado correcto"
   ]
  },
  {
   "cell_type": "markdown",
   "metadata": {
    "id": "cTziCgRRq2dq"
   },
   "source": [
    "#### Antes, de empezar, un poco de contexto\r\n",
    "Python tiene una función llamada input que te permite escribir un valor como si fuera un formulario, la función es muy útil si quieres pedir información de un usuario. Abajo hay un ejemplo"
   ]
  },
  {
   "cell_type": "code",
   "execution_count": null,
   "metadata": {
    "id": "IAcH6NQyq2sH"
   },
   "outputs": [],
   "source": [
    "edad = input(\"Dame tu edad\")"
   ]
  },
  {
   "cell_type": "code",
   "execution_count": null,
   "metadata": {
    "id": "vvRw8ks0q23J"
   },
   "outputs": [],
   "source": [
    "\"mi edad es \" + edad "
   ]
  },
  {
   "cell_type": "markdown",
   "metadata": {
    "id": "SCz9Y0_zrUdw"
   },
   "source": [
    "Ahora sí, manos a la obra"
   ]
  },
  {
   "cell_type": "code",
   "execution_count": null,
   "metadata": {
    "colab": {
     "base_uri": "https://localhost:8080/",
     "height": 329
    },
    "id": "s1ncyxryNhau",
    "outputId": "8474ccf9-144f-4701-9d19-f58783419b89"
   },
   "outputs": [
    {
     "name": "stdout",
     "output_type": "stream",
     "text": [
      "Cuánto quieres pedir prestado? \n",
      "1000\n",
      "Cuál es la tasa de interés? \n",
      "10\n",
      "Cuántos años durará el préstamo? \n",
      "1\n",
      "Quieres pedir prestado $1000.0 por 1.0 años, con una tasa de interés de 10.0%!\n",
      "Tu pago mensual es de $92.0362165594768\n"
     ]
    },
    {
     "ename": "TypeError",
     "evalue": "ignored",
     "output_type": "error",
     "traceback": [
      "\u001b[0;31m---------------------------------------------------------------------------\u001b[0m",
      "\u001b[0;31mTypeError\u001b[0m                                 Traceback (most recent call last)",
      "\u001b[0;32m<ipython-input-14-173f174bc22f>\u001b[0m in \u001b[0;36m<module>\u001b[0;34m()\u001b[0m\n\u001b[1;32m     33\u001b[0m \u001b[0mprint\u001b[0m\u001b[0;34m(\u001b[0m\u001b[0;34m\"Tu pago mensual es de $\"\u001b[0m \u001b[0;34m+\u001b[0m \u001b[0mstr\u001b[0m\u001b[0;34m(\u001b[0m\u001b[0mmonthlyRepaymentCost\u001b[0m\u001b[0;34m)\u001b[0m\u001b[0;34m)\u001b[0m\u001b[0;34m\u001b[0m\u001b[0;34m\u001b[0m\u001b[0m\n\u001b[1;32m     34\u001b[0m \u001b[0;34m\u001b[0m\u001b[0m\n\u001b[0;32m---> 35\u001b[0;31m \u001b[0mprint\u001b[0m\u001b[0;34m(\u001b[0m\u001b[0;34m\"El costo de este préstamo es de \"\u001b[0m \u001b[0;34m+\u001b[0m \u001b[0mtotalCharge\u001b[0m\u001b[0;34m)\u001b[0m\u001b[0;34m\u001b[0m\u001b[0;34m\u001b[0m\u001b[0m\n\u001b[0m",
      "\u001b[0;31mTypeError\u001b[0m: must be str, not float"
     ]
    }
   ],
   "source": [
    "# Generar información de préstamos\n",
    "loanAmount = input(\"Cuánto quieres pedir prestado? \\n\")\n",
    "interestRate = input(\"Cuál es la tasa de interés? \\n\")\n",
    "repaymentLength = input(\"Cuántos años durará el préstamo? \\n\")\n",
    "\n",
    "# Convertir las variables a número\n",
    "loanAmount = float(loanAmount)\n",
    "interestRate = float(interestRate)\n",
    "repaymentLength = float(repaymentLength)\n",
    "\n",
    "# Generar calculo de tasa de interés\n",
    "interestCalculation = interestRate / 100 / 12\n",
    "\n",
    "# Convertir el número de pagos anuales a mensuales\n",
    "numberOfPayments = repaymentLength*12\n",
    "\n",
    "#Formula\n",
    "#M = L * ((I * ((1+I) ** n) / (1+I) ** n - 1))\n",
    "\n",
    "#   * M = Pago mensual\n",
    "#   * L = Monto préstamo\n",
    "#   * I = Tasa de interés\n",
    "#   * N = Número de pagos\n",
    "\n",
    "monthlyRepaymentCost = loanAmount * (interestCalculation * (1+interestCalculation) * numberOfPayments) / ((1+interestCalculation) ** (numberOfPayments - 1))\n",
    "\n",
    "# Ver cuánto te cobraran por el crédito\n",
    "totalCharge = (monthlyRepaymentCost ** numberOfPayments) - loanAmount\n",
    "\n",
    "\n",
    "print(\"Quieres pedir prestado $\" + str(loanAmount) + \" por \" + str(repaymentLength) + \" años, con una tasa de interés de \" + str(interestRate) + \"%!\")\n",
    "\n",
    "print(\"Tu pago mensual es de $\" + str(monthlyRepaymentCost))\n",
    "\n",
    "print(\"El costo de este préstamo es de \" + totalCharge)\n",
    "\n",
    "### Si la tasa de interes es igual a inflacion, dilo\n",
    "if interestCalculation == 4.5:\n",
    "    print(\"la tasa de interes es igual a la inflacion\")"
   ]
  },
  {
   "cell_type": "markdown",
   "metadata": {
    "id": "KTCaj1-mZZBt"
   },
   "source": [
    "Puedes verificar el resultado aquí\n",
    "\n",
    "https://www.nafin.com/portalnf/content/herramientas-de-negocio/simulador-de-creditos/simulador-de-creditos.do"
   ]
  },
  {
   "cell_type": "markdown",
   "metadata": {
    "id": "seZeneB7XQMs"
   },
   "source": [
    "Preguntas que pueden ayudar \n",
    "\n",
    "a. ¿Qué hace el código float() y str() y para qué se usa?\n",
    "\n",
    "b. ¿Qué hace * y **?\n",
    "\n",
    "c. ¿Qué pasaría si se movieran los parentésis?"
   ]
  },
  {
   "cell_type": "markdown",
   "metadata": {
    "id": "cTyjx4c9ZMjb"
   },
   "source": [
    "*2.* Tu jefe te pide que cambies el código para poder adecuar a pagos trimestrales,semestrales o anuales, cómo adecuarías el código para que la herramienta te pregunte qué frecuencia de pagos quieres y haga los cambios pertinentes"
   ]
  },
  {
   "cell_type": "code",
   "execution_count": null,
   "metadata": {
    "id": "Y7iyUAvfckBX"
   },
   "outputs": [],
   "source": []
  },
  {
   "cell_type": "markdown",
   "metadata": {
    "id": "jX_krzH-D9FK"
   },
   "source": [
    "*3.* El código de arriba asume que el plazo siempre está en años, pero puede ser posible que pidas un crédito menor a un año. Cómo adecuarías el código para que pueda ser un préstamo con un plazo tan pequeño como 2 semanas. "
   ]
  },
  {
   "cell_type": "code",
   "execution_count": null,
   "metadata": {
    "id": "JJWfQrnlckjv"
   },
   "outputs": [],
   "source": []
  },
  {
   "cell_type": "markdown",
   "metadata": {
    "id": "extz2Bzha6Zz"
   },
   "source": [
    "*4.* Ahora te pide que des la opción de un préstamos en pesos o dólares. En el caso que sea en dólares, debería transformarlo el pago mensual y el costo del préstamos a pesos con un tipo de cambio de 20 pesos por dólar. (Asume que el tipo de cambio es fijo en el contrato de préstamo)"
   ]
  },
  {
   "cell_type": "code",
   "execution_count": null,
   "metadata": {
    "id": "2Z38LfqLclCZ"
   },
   "outputs": [],
   "source": []
  },
  {
   "cell_type": "markdown",
   "metadata": {
    "id": "Tp9Kh8XFs4Cs"
   },
   "source": [
    "*5.* Ahora te pide que utilices informacion del tipo de cambio en tiempo real para calcular el pago mensual y costo del préstamo \r\n",
    "\r\n",
    "Tips: \r\n",
    "- El código de abajo importa la biblioteca forex-python que te da el tipo de cambio entre diferentes monedas"
   ]
  },
  {
   "cell_type": "code",
   "execution_count": null,
   "metadata": {
    "id": "I3dSj_fkt5V1"
   },
   "outputs": [],
   "source": [
    "! pip install forex-python"
   ]
  },
  {
   "cell_type": "markdown",
   "metadata": {
    "id": "nN_GaFVGvXLZ"
   },
   "source": [
    "- Para usar la biblioteca revisa la documentación:\r\n",
    "\r\n",
    "https://forex-python.readthedocs.io/en/latest/usage.html"
   ]
  },
  {
   "cell_type": "code",
   "execution_count": null,
   "metadata": {
    "id": "RsIVP7N6cmSd"
   },
   "outputs": [],
   "source": []
  },
  {
   "cell_type": "markdown",
   "metadata": {
    "id": "30cswOxe8Gfz"
   },
   "source": [
    "*6.*  Ahora te pide que generes la opción de convertir el pago a UDIS. La herramienta debería preguntarte en que prefieres el pago mensual y el costo del préstamo en UDIS o pesos.\r\n",
    "\r\n",
    "Tips: Banxico tiene la información del valor más actualizado de UDIS. Para poder acceder a ella automaticamente vamos a usar un API. Vamos a ver más adelante en el curso como usarla, pero por ahora lo único que necesitas hacer es correr el código de abajo para generar el valor de UDI"
   ]
  },
  {
   "cell_type": "markdown",
   "metadata": {
    "id": "G-vIyNDYA8BZ"
   },
   "source": [
    "Primero necesitas generar un token. En la página de Banxico se muestra cómo generarlo https://www.banxico.org.mx/SieAPIRest/service/v1/token\r\n",
    "\r\n",
    "Una vez que ya lo tengas, escríbelo en la celda de abajo"
   ]
  },
  {
   "cell_type": "code",
   "execution_count": 10,
   "metadata": {
    "colab": {
     "base_uri": "https://localhost:8080/"
    },
    "id": "Ze5MosuWBnLO",
    "outputId": "65ad934b-44cc-4d9c-fc49-f6fba256a0de"
   },
   "outputs": [
    {
     "name": "stdout",
     "output_type": "stream",
     "text": [
      "Escribe aquí el string del token que generaste en la página del Banxico··········\n"
     ]
    }
   ],
   "source": [
    "## Este código sirve para guardar el valor del token de Banxico\r\n",
    "from getpass import getpass\r\n",
    "token = getpass(\"Escribe aquí el string del token que generaste en la página del Banxico\")"
   ]
  },
  {
   "cell_type": "markdown",
   "metadata": {
    "id": "uoZdzh-TCbTN"
   },
   "source": [
    "Ahora la variable *token* guarda el valor del string, prueba abajo"
   ]
  },
  {
   "cell_type": "code",
   "execution_count": 11,
   "metadata": {
    "colab": {
     "base_uri": "https://localhost:8080/",
     "height": 35
    },
    "id": "gNCjKCYzBocJ",
    "outputId": "8cc68a0c-0771-4f58-9b63-a2611deb4cea"
   },
   "outputs": [
    {
     "data": {
      "application/vnd.google.colaboratory.intrinsic+json": {
       "type": "string"
      },
      "text/plain": [
       "'d'"
      ]
     },
     "execution_count": 11,
     "metadata": {
      "tags": []
     },
     "output_type": "execute_result"
    }
   ],
   "source": [
    "token"
   ]
  },
  {
   "cell_type": "markdown",
   "metadata": {
    "id": "hu-v8WV6CnGK"
   },
   "source": [
    "Por último, corre el código de abajo, veras que la variable *udi* guarda el valor más reciente de UDI"
   ]
  },
  {
   "cell_type": "code",
   "execution_count": 1,
   "metadata": {
    "id": "lKmZ9uGs9QCc"
   },
   "outputs": [],
   "source": [
    "# Este código sirve obtener un valor de Banxico \r\n",
    "\r\n",
    "# El número de serie de UDI en el sistema de consulta de Banxico\r\n",
    "series = \"SP68257\"\r\n",
    "# El url del cual obtener información\r\n",
    "url_string = \"https://www.banxico.org.mx/SieAPIRest/service/v1/series/{}/datos/oportuno?token={}\".format(series, token)\r\n",
    "\r\n",
    "# Importar las bibliotecas necesarias\r\n",
    "import urllib.request, json \r\n",
    "\r\n",
    "# Obtener la información\r\n",
    "with urllib.request.urlopen(url_string) as url:\r\n",
    "    banxico_query = json.loads(url.read().decode())\r\n",
    "\r\n",
    "# Limpiar la info para obtener la variable\r\n",
    "udi = float(banxico_query[\"bmx\"][\"series\"][0][\"datos\"][0][\"dato\"])"
   ]
  },
  {
   "cell_type": "markdown",
   "metadata": {
    "id": "DakBr4d8CyyV"
   },
   "source": [
    "Ahora sí, adecua el código para que puedas usar la variable *udi* para poder hacer la estimación en UDIs"
   ]
  },
  {
   "cell_type": "code",
   "execution_count": null,
   "metadata": {
    "id": "-4zas0FkcqU8"
   },
   "outputs": [],
   "source": []
  },
  {
   "cell_type": "markdown",
   "metadata": {
    "id": "KyMSsVeZ8yl9"
   },
   "source": [
    "*7.* Ahora hay que revisar si hubiera convenido más hace 10 años tomar el préstamo en UDIs o dólares. Para eso, tomemos los valores del 31 de enero de 2010 y https://www.exchangerates.org.uk/USD-MXN-spot-exchange-rates-history-2010.html: https://tiie.com.mx/udi-2010/ y asume que el valor del UDI hace 10 años era de 4.369, y el valor del dólar era de $13.091. \r\n",
    "\r\n",
    "La herramienta debería cálcular el costo del préstamo en pesos en los dos casos y decir cuál hubiera convenido más y la diferencia. "
   ]
  },
  {
   "cell_type": "code",
   "execution_count": null,
   "metadata": {
    "id": "j4Kx2RjXcrXt"
   },
   "outputs": [],
   "source": []
  },
  {
   "cell_type": "markdown",
   "metadata": {
    "id": "ZYHRsVDP8aSu"
   },
   "source": [
    "*8.* Finalmente, hay que crear un código que nos diga considerando la variación real en el dólar, cuál hubiera sido la variación necesaria en los UDIs para que hubiera sido igual un préstamo en cualquiera de los dos. Y lo contrario, considerando la variación real en UDIS, cuál hubiera sido la variación necesaria en dólares para que hubiera sido igual un préstamo en cualquiera de las dos. "
   ]
  },
  {
   "cell_type": "code",
   "execution_count": null,
   "metadata": {
    "id": "j3d-ishpcurq"
   },
   "outputs": [],
   "source": []
  },
  {
   "cell_type": "markdown",
   "metadata": {
    "id": "Xr979SYB8aZ-"
   },
   "source": [
    "### PARTE 2"
   ]
  },
  {
   "cell_type": "markdown",
   "metadata": {
    "id": "rH6fJNDx8ahK"
   },
   "source": [
    "*9.* Ahora, vamos a crear una herramienta del lado de la oferta. Dado un plazo, monto y pago vamos a calcular la tasa de interés que un Banco está dando. La herramienta debería aceptar\r\n",
    "\r\n",
    "- Plazo: En meses o años\r\n",
    "- Monto: Cualquier número real\r\n",
    "- Pago: mensuales\r\n",
    "\r\n",
    "Y dar la tasa de interés anual\r\n"
   ]
  },
  {
   "cell_type": "code",
   "execution_count": null,
   "metadata": {
    "id": "SblAZusweymJ"
   },
   "outputs": [],
   "source": []
  },
  {
   "cell_type": "markdown",
   "metadata": {
    "id": "_89y2QPtrDhC"
   },
   "source": [
    "*10.* Ahora hay que hacer una modificación para poder aceptar un plazo y pago tan pequeño como dos semanas"
   ]
  },
  {
   "cell_type": "code",
   "execution_count": null,
   "metadata": {
    "id": "1w5jNugDezBj"
   },
   "outputs": [],
   "source": []
  },
  {
   "cell_type": "markdown",
   "metadata": {
    "id": "DlbEj8yvrDoZ"
   },
   "source": [
    "*11.* Finalmente, vamos a obtener la tasa de referencia y decidir si debería tomar el crédito. En la página de Banxico busca \"TIIE de Fondeo a Un Día Hábil Bancario\" y haz un query con el valor. El código debería indicar si la tasa de interés anual del préstamo es menor a la tasa de referencia."
   ]
  },
  {
   "cell_type": "code",
   "execution_count": null,
   "metadata": {
    "id": "9dhhmLN8ezbT"
   },
   "outputs": [],
   "source": []
  },
  {
   "cell_type": "markdown",
   "metadata": {
    "id": "PBTW-gWIca4c"
   },
   "source": [
    "## Opcionales: Ejercicios en HakerRank"
   ]
  },
  {
   "cell_type": "markdown",
   "metadata": {
    "id": "pltALB-ccg7C"
   },
   "source": [
    "HackerRank es un sitio web con ejercicios para resolver que te ayudaran a entender mejor los conceptos de la clase. \n",
    "Vamos a resolver uno en clase y los restantes serán de tarea\n",
    "\n",
    "1. https://www.hackerrank.com/challenges/python-arithmetic-operators/problem\n",
    "2. https://www.hackerrank.com/challenges/python-division/problem\n",
    "3. https://www.hackerrank.com/challenges/py-if-else/problem  \n",
    "4. https://www.hackerrank.com/challenges/swap-case/problem"
   ]
  }
 ],
 "metadata": {
  "colab": {
   "collapsed_sections": [],
   "name": "1_intro_lab-est.ipynb",
   "provenance": [],
   "toc_visible": true
  },
  "kernelspec": {
   "display_name": "Python 3",
   "language": "python",
   "name": "python3"
  },
  "language_info": {
   "codemirror_mode": {
    "name": "ipython",
    "version": 3
   },
   "file_extension": ".py",
   "mimetype": "text/x-python",
   "name": "python",
   "nbconvert_exporter": "python",
   "pygments_lexer": "ipython3",
   "version": "3.7.9"
  }
 },
 "nbformat": 4,
 "nbformat_minor": 4
}
