{
 "cells": [
  {
   "cell_type": "markdown",
   "metadata": {},
   "source": [
    "![](https://raw.githubusercontent.com/rafneta/CienciaDatosPythonCIDE/master/imagenes/banner.png)\n",
    "\n",
    "```{contents}\n",
    ":depth: 4\n",
    "```\n",
    "# Estructuras"
   ]
  },
  {
   "cell_type": "markdown",
   "metadata": {},
   "source": [
    "- Tipos númericos, int (> bool) (no mutable), float (no mutable), complex.\n",
    "\n",
    "**iterable.** Un objeto capaz de devolver sus miembros uno a la vez.\n",
    "\n",
    "**secuencia.** Un iterable que logra un acceso eficiente a los elementos usando índices enteros.\n",
    "\n",
    "- Tipos secuencias, list (mutable), tuple (no mutable), range. [Operaciones para secuencias](https://docs.python.org/3/library/stdtypes.html#common-sequence-operations)\n",
    "- Tipo secuencia de texto, str.\n",
    "\n",
    "**contenedor.** Un objeto que hace referencias a otros objetos (ejemplo: tuplas, listas, diccionarios)\n",
    "\n",
    "**hashable.** Un objeto es hashable si tiene un valor de hash (por ejemplo: posición de los elementos de las tuplas) que nunca cambiará durante su tiempo de vida\n",
    "\n",
    "\n",
    "- Tipo conjunto, set (mutable), frozenset. Un objeto de tipo conjunto o set es una colección no ordenada de distintos objetos hashables.\n",
    "- ...\n",
    "- Tipo Mapeo, dict (mutable). Un objeto de tipo mapping relaciona valores (que deben ser hashable) con objetos de cualquier tipo.\n",
    "\n",
    "\n",
    "Para saber más: [Solución de problemas con algoritmos y estructuras de datos usando Python](https://runestone.academy/runestone/static/pythoned/index.html)\n",
    "\n",
    "\n",
    "<div class = \"slide-w\">\n",
    "<iframe width=\"100%\" height=\"630\" frameborder=\"0\" src=\"https://pythontutor.com/iframe-embed.html#code=a%20%3D%20%22hola%22%0Ab%20%3D%20a%0A%0A%23%20a%5B0%5D%20%3D%20%22f%22%20%23%20no%20mutable%0A%0Al%20%3D%20%5B1,%202%5D%0Am%20%3D%20l%0Am%5B0%5D%20%3D%20%22casa%22%0An%20%3D%20l.copy%28%29%0An%5B0%5D%20%3D%20%22oso%22%0A%0Ar%20%3D%20%281,2%29%0As%20%3D%20r%0Aprint%28id%28s%29,%20id%28r%29%29%0A%23s%20%3D%20s%20%2B%20%28'a',%20'b'%29%0As%20%3D%20s%20%2B%20r%0A%0A%23%20r%5B0%5D%20%3D%20%22f%22%20%23%20no%20mutable%0A%0A&codeDivHeight=400&codeDivWidth=350&cumulative=false&curInstr=0&heapPrimitives=nevernest&origin=opt-frontend.js&py=3&rawInputLstJSON=%5B%5D&textReferences=false\"> </iframe>\n",
    "</div>\n",
    "\n",
    "\n",
    "**Tarea moral: ¿Qué es/hace id?, ¿Qué es/hace zip?**\n"
   ]
  },
  {
   "cell_type": "code",
   "execution_count": 14,
   "metadata": {},
   "outputs": [
    {
     "data": {
      "text/plain": [
       "['__add__',\n",
       " '__class__',\n",
       " '__contains__',\n",
       " '__delattr__',\n",
       " '__dir__',\n",
       " '__doc__',\n",
       " '__eq__',\n",
       " '__format__',\n",
       " '__ge__',\n",
       " '__getattribute__',\n",
       " '__getitem__',\n",
       " '__getnewargs__',\n",
       " '__gt__',\n",
       " '__hash__',\n",
       " '__init__',\n",
       " '__init_subclass__',\n",
       " '__iter__',\n",
       " '__le__',\n",
       " '__len__',\n",
       " '__lt__',\n",
       " '__mul__',\n",
       " '__ne__',\n",
       " '__new__',\n",
       " '__reduce__',\n",
       " '__reduce_ex__',\n",
       " '__repr__',\n",
       " '__rmul__',\n",
       " '__setattr__',\n",
       " '__sizeof__',\n",
       " '__str__',\n",
       " '__subclasshook__',\n",
       " 'count',\n",
       " 'index']"
      ]
     },
     "execution_count": 14,
     "metadata": {},
     "output_type": "execute_result"
    }
   ],
   "source": [
    "dir(tuple)"
   ]
  },
  {
   "cell_type": "code",
   "execution_count": 13,
   "metadata": {},
   "outputs": [
    {
     "name": "stdout",
     "output_type": "stream",
     "text": [
      "([1, 2], 3)\n",
      "([1, 'a'], 3)\n"
     ]
    },
    {
     "data": {
      "text/plain": [
       "['__and__',\n",
       " '__class__',\n",
       " '__contains__',\n",
       " '__delattr__',\n",
       " '__dir__',\n",
       " '__doc__',\n",
       " '__eq__',\n",
       " '__format__',\n",
       " '__ge__',\n",
       " '__getattribute__',\n",
       " '__gt__',\n",
       " '__hash__',\n",
       " '__iand__',\n",
       " '__init__',\n",
       " '__init_subclass__',\n",
       " '__ior__',\n",
       " '__isub__',\n",
       " '__iter__',\n",
       " '__ixor__',\n",
       " '__le__',\n",
       " '__len__',\n",
       " '__lt__',\n",
       " '__ne__',\n",
       " '__new__',\n",
       " '__or__',\n",
       " '__rand__',\n",
       " '__reduce__',\n",
       " '__reduce_ex__',\n",
       " '__repr__',\n",
       " '__ror__',\n",
       " '__rsub__',\n",
       " '__rxor__',\n",
       " '__setattr__',\n",
       " '__sizeof__',\n",
       " '__str__',\n",
       " '__sub__',\n",
       " '__subclasshook__',\n",
       " '__xor__',\n",
       " 'add',\n",
       " 'clear',\n",
       " 'copy',\n",
       " 'difference',\n",
       " 'difference_update',\n",
       " 'discard',\n",
       " 'intersection',\n",
       " 'intersection_update',\n",
       " 'isdisjoint',\n",
       " 'issubset',\n",
       " 'issuperset',\n",
       " 'pop',\n",
       " 'remove',\n",
       " 'symmetric_difference',\n",
       " 'symmetric_difference_update',\n",
       " 'union',\n",
       " 'update']"
      ]
     },
     "execution_count": 13,
     "metadata": {},
     "output_type": "execute_result"
    }
   ],
   "source": [
    "L = [1,2]\n",
    "a = (L,3)\n",
    "\n",
    "print(a)\n",
    "L[1]= \"a\"\n",
    "print(a)"
   ]
  },
  {
   "cell_type": "code",
   "execution_count": 15,
   "metadata": {},
   "outputs": [
    {
     "data": {
      "text/plain": [
       "['__and__',\n",
       " '__class__',\n",
       " '__contains__',\n",
       " '__delattr__',\n",
       " '__dir__',\n",
       " '__doc__',\n",
       " '__eq__',\n",
       " '__format__',\n",
       " '__ge__',\n",
       " '__getattribute__',\n",
       " '__gt__',\n",
       " '__hash__',\n",
       " '__iand__',\n",
       " '__init__',\n",
       " '__init_subclass__',\n",
       " '__ior__',\n",
       " '__isub__',\n",
       " '__iter__',\n",
       " '__ixor__',\n",
       " '__le__',\n",
       " '__len__',\n",
       " '__lt__',\n",
       " '__ne__',\n",
       " '__new__',\n",
       " '__or__',\n",
       " '__rand__',\n",
       " '__reduce__',\n",
       " '__reduce_ex__',\n",
       " '__repr__',\n",
       " '__ror__',\n",
       " '__rsub__',\n",
       " '__rxor__',\n",
       " '__setattr__',\n",
       " '__sizeof__',\n",
       " '__str__',\n",
       " '__sub__',\n",
       " '__subclasshook__',\n",
       " '__xor__',\n",
       " 'add',\n",
       " 'clear',\n",
       " 'copy',\n",
       " 'difference',\n",
       " 'difference_update',\n",
       " 'discard',\n",
       " 'intersection',\n",
       " 'intersection_update',\n",
       " 'isdisjoint',\n",
       " 'issubset',\n",
       " 'issuperset',\n",
       " 'pop',\n",
       " 'remove',\n",
       " 'symmetric_difference',\n",
       " 'symmetric_difference_update',\n",
       " 'union',\n",
       " 'update']"
      ]
     },
     "execution_count": 15,
     "metadata": {},
     "output_type": "execute_result"
    }
   ],
   "source": [
    "dir(set)"
   ]
  },
  {
   "cell_type": "code",
   "execution_count": 7,
   "metadata": {},
   "outputs": [
    {
     "name": "stdout",
     "output_type": "stream",
     "text": [
      "Help on method_descriptor:\n",
      "\n",
      "issubset(...)\n",
      "    Report whether another set contains this set.\n",
      "\n"
     ]
    }
   ],
   "source": [
    "help(set.issubset)"
   ]
  },
  {
   "cell_type": "code",
   "execution_count": 2,
   "metadata": {},
   "outputs": [
    {
     "data": {
      "text/plain": [
       "['__class__',\n",
       " '__contains__',\n",
       " '__delattr__',\n",
       " '__delitem__',\n",
       " '__dir__',\n",
       " '__doc__',\n",
       " '__eq__',\n",
       " '__format__',\n",
       " '__ge__',\n",
       " '__getattribute__',\n",
       " '__getitem__',\n",
       " '__gt__',\n",
       " '__hash__',\n",
       " '__init__',\n",
       " '__init_subclass__',\n",
       " '__iter__',\n",
       " '__le__',\n",
       " '__len__',\n",
       " '__lt__',\n",
       " '__ne__',\n",
       " '__new__',\n",
       " '__reduce__',\n",
       " '__reduce_ex__',\n",
       " '__repr__',\n",
       " '__reversed__',\n",
       " '__setattr__',\n",
       " '__setitem__',\n",
       " '__sizeof__',\n",
       " '__str__',\n",
       " '__subclasshook__',\n",
       " 'clear',\n",
       " 'copy',\n",
       " 'fromkeys',\n",
       " 'get',\n",
       " 'items',\n",
       " 'keys',\n",
       " 'pop',\n",
       " 'popitem',\n",
       " 'setdefault',\n",
       " 'update',\n",
       " 'values']"
      ]
     },
     "execution_count": 2,
     "metadata": {},
     "output_type": "execute_result"
    }
   ],
   "source": [
    "dir(dict)"
   ]
  },
  {
   "cell_type": "code",
   "execution_count": 1,
   "metadata": {},
   "outputs": [
    {
     "data": {
      "text/plain": [
       "True"
      ]
     },
     "execution_count": 1,
     "metadata": {},
     "output_type": "execute_result"
    }
   ],
   "source": [
    "a = dict(one=1, two=2, three=3)\n",
    "b = {'one': 1, 'two': 2, 'three': 3}\n",
    "c = dict(zip(['one', 'two', 'three'], [1, 2, 3]))\n",
    "d = dict([('two', 2), ('one', 1), ('three', 3)])\n",
    "e = dict({'three': 3, 'one': 1, 'two': 2})\n",
    "f = dict({'one': 1, 'three': 3}, two=2)\n",
    "a == b == c == d == e == f"
   ]
  },
  {
   "cell_type": "markdown",
   "metadata": {},
   "source": [
    "## Ejemplos\n",
    "\n",
    "Fracciones:\n",
    "\n",
    "Puedes expresar una fracción como una tupla: (numerador, denominador).\n",
    "\n",
    "a). Escribe una función que sume dos fracciones que sus argumentos sean tuplas\n",
    "\n",
    "b). Escribe una función que multiplique dos fracciones que sus argumentos sean tuplas"
   ]
  },
  {
   "cell_type": "markdown",
   "metadata": {},
   "source": [
    "## Apéndice \n",
    "\n",
    "Existe un módulo para realizar operaciones matemáticas simbólicas: [sympy](https://www.sympy.org/en/index.html)\n"
   ]
  },
  {
   "cell_type": "code",
   "execution_count": 16,
   "metadata": {},
   "outputs": [],
   "source": [
    "import sympy"
   ]
  },
  {
   "cell_type": "code",
   "execution_count": 55,
   "metadata": {},
   "outputs": [
    {
     "data": {
      "text/latex": [
       "$\\displaystyle - \\sin{\\left(3 \\right)}$"
      ],
      "text/plain": [
       "-sin(3)"
      ]
     },
     "execution_count": 55,
     "metadata": {},
     "output_type": "execute_result"
    }
   ],
   "source": [
    "# dir(sympy)\n",
    "x = sympy.symbols('x')\n",
    "f = sympy.sin(x)\n",
    "fp = sympy.diff(f, x, 2)\n",
    "fp.subs(x, 3)"
   ]
  },
  {
   "cell_type": "markdown",
   "metadata": {},
   "source": [
    "Si queremos implementar un programa que encuentre el polinomio $n$ de Taylor de la función $f$ en el punto $x_0$\n",
    "\n",
    "$$P_n(x) = \\sum_{i=0}^n  \\frac{f^{(i)}(x_0)}{i!}(x-x_0)^i = f(x_0) + f^{(1)}(x_0)(x-x_0)+ \\frac{f^{(2)}(x_0)}{2!}(x-x_0)^2 + \\dots +\\frac{f^{(n)}(x_0)}{n!}(x-x_0)^n $$"
   ]
  },
  {
   "cell_type": "code",
   "execution_count": 56,
   "metadata": {},
   "outputs": [],
   "source": [
    "def taylor(f,x0,n):\n",
    "    if n == 0:\n",
    "        return f.subs(x, x0)\n",
    "    else:\n",
    "        return sympy.diff(f,x,n).subs(x,x0)/sympy.factorial(n) * (x - x0) ** n + taylor(f,x0,n-1)"
   ]
  },
  {
   "cell_type": "code",
   "execution_count": 74,
   "metadata": {},
   "outputs": [
    {
     "data": {
      "text/latex": [
       "$\\displaystyle \\frac{e \\left(x - 1\\right)^{3}}{6} + \\frac{e \\left(x - 1\\right)^{2}}{2} + e \\left(x - 1\\right) + e$"
      ],
      "text/plain": [
       "E*(x - 1)**3/6 + E*(x - 1)**2/2 + E*(x - 1) + E"
      ]
     },
     "execution_count": 74,
     "metadata": {},
     "output_type": "execute_result"
    }
   ],
   "source": [
    "\n",
    "g = sympy.exp(x)\n",
    "\n",
    "x0 = sympy.symbols('x_0')\n",
    "\n",
    "gt = taylor(g, 1, 3)\n",
    "gt"
   ]
  },
  {
   "cell_type": "code",
   "execution_count": 77,
   "metadata": {},
   "outputs": [
    {
     "data": {
      "image/png": "[encoded data removed]",
      "text/plain": [
       "<Figure size 432x288 with 1 Axes>"
      ]
     },
     "metadata": {
      "needs_background": "light"
     },
     "output_type": "display_data"
    }
   ],
   "source": [
    "p1 = sympy.plot(g, gt, xlim = (-2, 2), ylim = (-1,10), show = False)\n",
    "p1.show()"
   ]
  },
  {
   "cell_type": "markdown",
   "metadata": {},
   "source": [
    " Tambien puede resolver [ecuaciones diferenciales](https://docs.sympy.org/latest/modules/solvers/ode.html) "
   ]
  },
  {
   "cell_type": "code",
   "execution_count": 92,
   "metadata": {},
   "outputs": [
    {
     "data": {
      "text/latex": [
       "$\\displaystyle 9 y{\\left(t \\right)} + \\frac{d^{2}}{d t^{2}} y{\\left(t \\right)} = \\sin{\\left(t \\right)}$"
      ],
      "text/plain": [
       "Eq(9*y(t) + Derivative(y(t), (t, 2)), sin(t))"
      ]
     },
     "execution_count": 92,
     "metadata": {},
     "output_type": "execute_result"
    }
   ],
   "source": [
    "import sympy as sym\n",
    "\n",
    "t = sym.symbols('t')\n",
    "y = sym.Function('y')(t)\n",
    "lie = y.diff(t,2) +  9*y\n",
    "expr = sym.Eq(lie, sym.sin(t))\n",
    "expr"
   ]
  },
  {
   "cell_type": "code",
   "execution_count": 93,
   "metadata": {},
   "outputs": [
    {
     "data": {
      "text/latex": [
       "$\\displaystyle y{\\left(t \\right)} = C_{1} \\sin{\\left(3 t \\right)} + C_{2} \\cos{\\left(3 t \\right)} + \\frac{\\sin{\\left(t \\right)}}{8}$"
      ],
      "text/plain": [
       "Eq(y(t), C1*sin(3*t) + C2*cos(3*t) + sin(t)/8)"
      ]
     },
     "execution_count": 93,
     "metadata": {},
     "output_type": "execute_result"
    }
   ],
   "source": [
    "sym.dsolve(expr)"
   ]
  }
 ],
 "metadata": {
  "kernelspec": {
   "display_name": "Python 3",
   "language": "python",
   "name": "python3"
  },
  "language_info": {
   "codemirror_mode": {
    "name": "ipython",
    "version": 3
   },
   "file_extension": ".py",
   "mimetype": "text/x-python",
   "name": "python",
   "nbconvert_exporter": "python",
   "pygments_lexer": "ipython3",
   "version": "3.8.5"
  }
 },
 "nbformat": 4,
 "nbformat_minor": 4
}
