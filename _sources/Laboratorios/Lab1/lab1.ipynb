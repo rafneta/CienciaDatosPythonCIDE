{
 "cells": [
  {
   "cell_type": "markdown",
   "id": "trying-meditation",
   "metadata": {},
   "source": [
    "# Laboratorio 1\n",
    "\n",
    "En cada Laboratorio esta sección será para introducción. \n",
    "\n",
    "Contesten lo siguientes [preguntas](https://forms.office.com/Pages/ResponsePage.aspx?id=ZpvFnrUooka269vCz0Ebf7_-_jNRUb5MhmIc1_v6XW5URUxBUEw4UkJSM0czVzhVMFNSOVI2Q1dLVC4u)\n",
    "\n",
    "\n",
    "\n",
    "<div class = \"video-w\">\n",
    "<div class = \"video-container\">\n",
    "<iframe src=\"https://slides.com/ra_fa/labcdpcide/embed?style=dark#/1\" width=\"100%\" height=\"650px\" scrolling=\"no\" frameborder=\"0\" webkitallowfullscreen mozallowfullscreen allowfullscreen></iframe>\n",
    "    </div>\n",
    "</div>\n",
    "\n"
   ]
  },
  {
   "cell_type": "code",
   "execution_count": null,
   "id": "perceived-merchandise",
   "metadata": {},
   "outputs": [],
   "source": []
  }
 ],
 "metadata": {
  "kernelspec": {
   "display_name": "Python 3",
   "language": "python",
   "name": "python3"
  },
  "language_info": {
   "codemirror_mode": {
    "name": "ipython",
    "version": 3
   },
   "file_extension": ".py",
   "mimetype": "text/x-python",
   "name": "python",
   "nbconvert_exporter": "python",
   "pygments_lexer": "ipython3",
   "version": "3.7.9"
  }
 },
 "nbformat": 4,
 "nbformat_minor": 5
}
