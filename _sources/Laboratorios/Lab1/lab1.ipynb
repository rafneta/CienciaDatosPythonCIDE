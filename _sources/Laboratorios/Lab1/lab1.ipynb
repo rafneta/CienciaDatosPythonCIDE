{
 "cells": [
  {
   "cell_type": "markdown",
   "id": "medical-madison",
   "metadata": {},
   "source": [
    "# Laboratorio 1\n",
    "\n",
    "En cada Laboratorio esta sección será para introducción. \n",
    "\n",
    "Contesten lo siguiente.\n",
    "\n",
    "<div class = \"video-w\">\n",
    "<iframe width=\"640px\" height= \"480px\" src= \"https://forms.office.com/Pages/ResponsePage.aspx?id=ZpvFnrUooka269vCz0Ebf7_-_jNRUb5MhmIc1_v6XW5URUxBUEw4UkJSM0czVzhVMFNSOVI2Q1dLVC4u&embed=true\" frameborder= \"0\" marginwidth= \"0\" marginheight= \"0\" style= \"border: none; max-width:100%; max-height:100vh\" allowfullscreen webkitallowfullscreen mozallowfullscreen msallowfullscreen> </iframe>\n",
    "</div>\n",
    "\n",
    "\n",
    "\n",
    "<div class = \"video-w\">\n",
    "<div class = \"video-container\">\n",
    "<iframe src=\"https://slides.com/ra_fa/labcdpcide/embed?style=dark#/1\" width=\"100%\" height=\"650px\" scrolling=\"no\" frameborder=\"0\" webkitallowfullscreen mozallowfullscreen allowfullscreen></iframe>\n",
    "    </div>\n",
    "</div>\n",
    "\n"
   ]
  },
  {
   "cell_type": "code",
   "execution_count": null,
   "id": "satisfied-telling",
   "metadata": {},
   "outputs": [],
   "source": []
  }
 ],
 "metadata": {
  "kernelspec": {
   "display_name": "Python 3",
   "language": "python",
   "name": "python3"
  },
  "language_info": {
   "codemirror_mode": {
    "name": "ipython",
    "version": 3
   },
   "file_extension": ".py",
   "mimetype": "text/x-python",
   "name": "python",
   "nbconvert_exporter": "python",
   "pygments_lexer": "ipython3",
   "version": "3.7.9"
  }
 },
 "nbformat": 4,
 "nbformat_minor": 5
}
