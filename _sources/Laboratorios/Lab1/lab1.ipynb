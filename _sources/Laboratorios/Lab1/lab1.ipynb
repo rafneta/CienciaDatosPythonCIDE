{
 "cells": [
  {
   "cell_type": "markdown",
   "id": "pacific-romance",
   "metadata": {},
   "source": [
    "# Laboratorio 1\n",
    "\n",
    "\n",
    "\n",
    "\n",
    "\n",
    "<div class = \"video-w\">\n",
    "<div class = \"video-container\">\n",
    "<iframe src=\"https://slides.com/ra_fa/labcdpcide/embed?style=dark#/1\" width=\"576\" height=\"420\" scrolling=\"no\" frameborder=\"0\" webkitallowfullscreen mozallowfullscreen allowfullscreen></iframe>\n",
    "    </div>\n",
    "</div>\n",
    "\n",
    "\n",
    "\n",
    "\n",
    "<embed src=\"http://stackoverflow.com\" width=200 height=200 />\n"
   ]
  },
  {
   "cell_type": "code",
   "execution_count": null,
   "id": "identified-piano",
   "metadata": {},
   "outputs": [],
   "source": []
  }
 ],
 "metadata": {
  "kernelspec": {
   "display_name": "Python 3",
   "language": "python",
   "name": "python3"
  },
  "language_info": {
   "codemirror_mode": {
    "name": "ipython",
    "version": 3
   },
   "file_extension": ".py",
   "mimetype": "text/x-python",
   "name": "python",
   "nbconvert_exporter": "python",
   "pygments_lexer": "ipython3",
   "version": "3.7.9"
  }
 },
 "nbformat": 4,
 "nbformat_minor": 5
}
