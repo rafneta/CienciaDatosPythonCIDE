{
 "cells": [
  {
   "cell_type": "markdown",
   "id": "elegant-rates",
   "metadata": {},
   "source": [
    "# Laboratorio 1\n",
    "\n",
    "En cada Laboratorio esta sección será para introducción. \n",
    "\n",
    "Contesten las siguientes [preguntas](https://forms.office.com/Pages/ResponsePage.aspx?id=ZpvFnrUooka269vCz0Ebf7_-_jNRUb5MhmIc1_v6XW5URUxBUEw4UkJSM0czVzhVMFNSOVI2Q1dLVC4u)\n",
    "\n",
    "\n",
    "Para elegir una IDE (integrated development environment) de Python existen diferentes criterios\n",
    "\n",
    "- [Spyder](https://www.spyder-ide.org)\n",
    "- [Visual Studio Code](https://code.visualstudio.com/)\n",
    "- [Atom](https://atom.io/)\n",
    "- [PyCharm Community Edition](https://www.jetbrains.com/pycharm/). Es necesario enlazar con Anaconda \n",
    "- [RStudio](https://rstudio.com/products/rstudio/download/). Es necesaria la configuración de la biblioteca _reticulate_ para enlazar con Anaconda\n",
    "- [Jupyter](https://jupyter.org/install)\n",
    "\n",
    "\n",
    "## Para ejecución en la nube\n",
    "\n",
    "- [Google Colab](https://colab.research.google.com)\n",
    "- [Binder](https://mybinder.org)\n",
    "- [Kaggle notebooks](https://www.kaggle.com/kernels)\n",
    "- [DataLore](https://datalore.io)\n",
    "- [Microsoft Azure ML](https://docs.microsoft.com/en-us/azure/machine-learning/how-to-manage-workspace?tabs=python) \n",
    "\n",
    "\n",
    "### Google Colab\n",
    "\n",
    "[Google Colab](https://colab.research.google.com) (Colaboratory) servicio en línea gratuito, conectado con tu cuenta de Google\n",
    "\n",
    "En el siguente enlace hay más información al respecto [![Open In Colab](https://colab.research.google.com/assets/colab-badge.svg)](https://colab.research.google.com/notebooks/intro.ipynb)\n",
    "\n",
    "\n",
    "### Binder\n",
    "\n",
    "[Binder](https://mybinder.org) es un servicio gratuito que ejecuta Jupyter Notebooks en línea de.  \n",
    "\n",
    "El siguiente es un ejemplo de un Binder, puede tardar algunos minutos la construcción el ambiente [![Binder](https://mybinder.org/badge_logo.svg)](https://mybinder.org/v2/gh/rafneta/IntroduccionProbabilidad/master)\n",
    "\n",
    "\n",
    "<div class = \"slide-w\">\n",
    "<div class = \"video-container\">\n",
    "<iframe src=\"https://slides.com/ra_fa/labcdpcide/fullscreen#/1\" width=\"100%\" height=\"650px\" scrolling=\"no\" frameborder=\"0\" webkitallowfullscreen mozallowfullscreen allowfullscreen></iframe>\n",
    "    </div>\n",
    "</div>\n",
    "\n"
   ]
  },
  {
   "cell_type": "code",
   "execution_count": null,
   "id": "postal-murder",
   "metadata": {},
   "outputs": [],
   "source": []
  }
 ],
 "metadata": {
  "kernelspec": {
   "display_name": "Python 3",
   "language": "python",
   "name": "python3"
  },
  "language_info": {
   "codemirror_mode": {
    "name": "ipython",
    "version": 3
   },
   "file_extension": ".py",
   "mimetype": "text/x-python",
   "name": "python",
   "nbconvert_exporter": "python",
   "pygments_lexer": "ipython3",
   "version": "3.7.9"
  }
 },
 "nbformat": 4,
 "nbformat_minor": 5
}
