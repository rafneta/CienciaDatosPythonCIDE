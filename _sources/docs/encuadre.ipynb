{
 "cells": [
  {
   "cell_type": "markdown",
   "id": "double-elevation",
   "metadata": {},
   "source": [
    "![](banner.png)\n",
    "\n",
    "\n",
    "\n",
    "\n",
    "\n",
    "# Encuadre\n",
    "\n",
    "Los lineamientos e información del laboratorio están descritos en las sigeuintes secciones \n",
    "\n",
    "## Material\n",
    "\n",
    "- Los laboratorios serán grabados y estarán disponibles (es necesario el correo institucional) en el siguiente enlace\n",
    "- El material de los laboratorios se puede descargar, y también se puede ejecutar en línea\n",
    "- Pueden encontrar el material de los laboratorios organizado en la barra de navegación lateral de izquierda\n",
    "\n",
    "\n",
    "## Cuestionario diagnostico\n",
    "\n",
    "\n",
    "## Tareas\n",
    "Las tareas tendrán que ser entregadas como link a una página Github personal en los tiempos y formas especificadas por el profesor durante la clase. La tareas entregadas tarde recibirán una penalización. \n",
    "\n",
    "El sistema de calificación de las tareas será el siguiente:\n",
    "| | Sobresaliente [100]   | Bueno [85-95] |Regular [80-70]| Pobre [50-60]| No aceptable [0-40]| \n",
    "|:--:|:--------------:|:-----:|:-----:|:---:|:--:|\n",
    "|`Funcionalidad`  | El programa funciona correctamente y todas las variables de entrada están validadas. | En algunos casos particulares no funciona el programa las variables de entrada están validadas.   |Sólo funciona en casos específicos las variables no están validadas y las condiciones no son correctas. |En algunos casos no funciona el programa y no hay validación de datos. | No funciona ningún caso.|\n",
    "| `Razonamiento` |Es un código compacto muy depurado.|El programa contempla todas las condiciones no es compacto.|El programa contempla algunas de las condiciones y no es compacto.|El programa no es depurado repite partes de código y no contempla todas la partes de las condiciones.|No hay razonamiento lógico.|\n",
    "|`Documentación`|La presentación incluye el nombre, los apellidos, la carrera, nombre del profesor especialidad, nombre de la institución y matrícula, objetivos bien definidos documentados y partes del código bien documentado.|Le faltan algunos datos presentación, nombre del profesor especialidad, y nombre de la institución, matrícula los objetivos no están completos define bien el código en la documentación.|La presentación está incompleta, la carrera, nombre del profesor especialidad, y nombre de la institución, matrícula objetivos no define bien el código en la documentación.|No tiene presentación no tiene objetivos no define bien el código en la documentación.|No es aceptable la documentación.|\n",
    "\n",
    "Rúbrica base [enlace](http://200.57.56.254/Siretea/Carruseles/CarruselIO/R%C3%BAbrica/rbrica_para_evaluar_un_programa_en_c.html)\n",
    "\n",
    "## Calendario laboratorio\n",
    "\n",
    "## Calendario general de actividades\n",
    "\n",
    "\n",
    "![Calendario][]\n",
    "\n",
    "[Calendario]: Calendario_cdp_2021.png"
   ]
  }
 ],
 "metadata": {
  "jupytext": {
   "formats": "ipynb,md:myst",
   "notebook_metadata_filter": "toc",
   "text_representation": {
    "extension": ".md",
    "format_name": "myst",
    "format_version": 0.12,
    "jupytext_version": "1.6.0"
   }
  },
  "kernelspec": {
   "display_name": "Python 3",
   "language": "python",
   "name": "python3"
  },
  "language_info": {
   "codemirror_mode": {
    "name": "ipython",
    "version": 3
   },
   "file_extension": ".py",
   "mimetype": "text/x-python",
   "name": "python",
   "nbconvert_exporter": "python",
   "pygments_lexer": "ipython3",
   "version": "3.7.9"
  },
  "source_map": [
   26
  ],
  "toc": {
   "base_numbering": 1,
   "nav_menu": {},
   "number_sections": true,
   "sideBar": true,
   "skip_h1_title": true,
   "title_cell": "Table of Contents",
   "title_sidebar": "Contents",
   "toc_cell": true,
   "toc_position": {},
   "toc_section_display": true,
   "toc_window_display": false
  }
 },
 "nbformat": 4,
 "nbformat_minor": 5
}