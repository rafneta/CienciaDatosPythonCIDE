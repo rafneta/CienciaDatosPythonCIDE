{
  "nbformat": 4,
  "nbformat_minor": 0,
  "metadata": {
    "kernelspec": {
      "display_name": "Python 3",
      "language": "python",
      "name": "python3"
    },
    "language_info": {
      "codemirror_mode": {
        "name": "ipython",
        "version": 3
      },
      "file_extension": ".py",
      "mimetype": "text/x-python",
      "name": "python",
      "nbconvert_exporter": "python",
      "pygments_lexer": "ipython3",
      "version": "3.7.4"
    },
    "colab": {
      "name": "2_funciones.ipynb",
      "provenance": [],
      "collapsed_sections": []
    }
  },
  "cells": [
    {
      "cell_type": "markdown",
      "metadata": {
        "id": "N8CguNn7IHKp"
      },
      "source": [
        "# INTRODUCCIÓN A LA PROGRAMACIÓN CON PYTHON I\n",
        "\n",
        "## Módulo 2 - Funciones"
      ]
    },
    {
      "cell_type": "markdown",
      "metadata": {
        "id": "eK3TA7boIHKz"
      },
      "source": [
        "¿Recuerdas el ejercicio de la máquina tragamonedas? \n",
        "\n",
        "    Una máquina tragamonedas tiene la siguiente fórmula para determinar si alguien gana premio:\n",
        "    - La apuesta inicial siempre tiene que ser un número mayor a 0\n",
        "    - La apuesta inicial se divide entre 15\n",
        "    - Se toma la parte entera de la división y si es mayor a 0, se multiplica por (3 + el residuo); si es igual a 0, se le agrega 1.5 y se multiplica por el residuo del paso anterior \n",
        "\n",
        "    Ejemplo del paso anterior\n",
        "        - si la apuesta era 2, dividir 2 entre 15 da un cociente entero de 0 y un residuo de 2. Entonces el resultado del paso anterior es 1.5 * 2\n",
        "        - si la apuesta era 34, dividir 34 entre 15 da un cociente entero de 2 y un residuo de 4. Entonces el resultado del paso anterior es 2 * (3+4)\n",
        "\n",
        "\n",
        "    - Finalmente, si el resultado es divisible entre 7, el jugador gana.\n",
        "\n",
        "    Ejemplo, apuesta inicial: 24.\n",
        "    Apuesta inicial entre 15: 1, residuo 9.\n",
        "    1 * (3 + 9) = 10\n",
        "    El residuo de dividir 10 / 7 no es igual a 0.\n",
        "    El jugador no gana.\n",
        "\n",
        "\n",
        "Imagínate que trabajas para una compañía que diseña el software de estas máquinas. Claramente no quisieras que todas las máquinas tuvieran el mismo mecanismo para que un juego resulte exitoso, sino que estos mecanismos fuesen ligeramente diferentes en cada juego. De lo contrario, alguien podría identificar una estrategia ganadora y dejarnos en la bancarrota.\n",
        "\n",
        "¿Cómo podemos crear algo que nos permita replicar esto con diferentes configuraciones y sin la necesidad de repetir código?"
      ]
    },
    {
      "cell_type": "markdown",
      "metadata": {
        "id": "vaP98zuyIHK1"
      },
      "source": [
        "### Funciones\n",
        "\n",
        "Una función es un mapeo que toma ciertos valores `input`, hace algunas operaciones, y produce un `output`. Hay múltiples razones para hacer funciones:\n",
        "- Permiten reciclar código\n",
        "- Permiten ejecutar instrucciones muy similares pero con la libertad de cambiar solo algunos parámetros\n",
        "- Dan legibilidad al código al abstraer ciertos conceptos\n",
        "\n",
        "Hasta ahora, hemos usado ya varias funciones:\n",
        "- `print` toma texto o números y los imprime en pantalla \n",
        "- `range` toma un número o par de números y devuelve una secuencia de valores ordenados\n",
        "- `zip` toma un par de listas y devuelve, en orden, pares de valores de cada una de ellas\n",
        "- `int` toma un texto o float y devuelve un entero\n",
        "- `str` toma un número y devuelve un string\n",
        "- `math.log` toma un número y devuelve su logaritmo natural\n",
        "\n",
        "Pero hay múltiples ocasiones en las que queremos definir nuestras propias funciones. Python hace esto muy fácil y a continuación explicaremos cómo hacer una función.\n",
        "\n",
        "```\n",
        "def my_function(argument_one, argument_two):\n",
        "    '''\n",
        "    Do something interesting with my function.\n",
        "\n",
        "    Inputs:\n",
        "      argument_one: this is a very important value.\n",
        "      argument_two: this is also an extremely important value\n",
        "\n",
        "    Returns: something magical and mysterious\n",
        "    '''\n",
        "    <do magic here>\n",
        "    <also write some>\n",
        "    <statements>\n",
        "    \n",
        "    return <return_value>\n",
        "```\n",
        "\n",
        "\n",
        "Nota que para definir una función, necesitamos:\n",
        "- `def`, sintaxis esencial en Python para iniciar una función\n",
        "- `my_function`, nombre de una función que debe ser descriptiva de lo que hace\n",
        "- `argument_one/two`, los argumentos de una función, que serán aquellos valores que podrían cambiar cada vez que querramos evaluar nuestra función\n",
        "- `docstring`, documentación de nuestra función. Es muy importante que para funciones no triviales, describamos qué hace la función, para qué, cuáles son los inputs y cuáles son los outputs. Recuerda que hoy sabemos qué estamos haciendo, pero en una semana lo habremos olvidado y es mejor decirle a nuestro yo del futuro para qué sirve cada cosa.\n",
        "- `return`, cuando una función ejecuta código, normalmente obtenemos un valor como resultado. Con `return` declaramos la variable o expresión que queremos que la función regrese al ejecutarse.\n",
        "\n",
        "\n",
        "A continuación un ejemplo de todo esto junto:"
      ]
    },
    {
      "cell_type": "code",
      "metadata": {
        "id": "ZKbB93EKIHK2"
      },
      "source": [
        "def divide(dividendo, divisor):\n",
        "    '''\n",
        "    Esta función regresa el cociente de una división\n",
        "    \n",
        "    Inputs:\n",
        "        dividendo, número a dividir\n",
        "        divisor, número entre el cual el dividendo se dividirá\n",
        "    \n",
        "    Output:\n",
        "        cociente de la división\n",
        "    '''\n",
        "    c = dividendo // divisor\n",
        "    return c"
      ],
      "execution_count": null,
      "outputs": []
    },
    {
      "cell_type": "code",
      "metadata": {
        "id": "z_C6zeySIHK2",
        "colab": {
          "base_uri": "https://localhost:8080/"
        },
        "outputId": "79a9f327-67d0-44be-bfac-40732c7ad39c"
      },
      "source": [
        "divide(1, 2)"
      ],
      "execution_count": null,
      "outputs": [
        {
          "output_type": "execute_result",
          "data": {
            "text/plain": [
              "0"
            ]
          },
          "metadata": {
            "tags": []
          },
          "execution_count": 2
        }
      ]
    },
    {
      "cell_type": "code",
      "metadata": {
        "id": "OHHrJuz-IHK4",
        "colab": {
          "base_uri": "https://localhost:8080/"
        },
        "outputId": "dfab27f7-3090-4705-edd6-699e4ba852f8"
      },
      "source": [
        "divide(2, 1)"
      ],
      "execution_count": null,
      "outputs": [
        {
          "output_type": "execute_result",
          "data": {
            "text/plain": [
              "2"
            ]
          },
          "metadata": {
            "tags": []
          },
          "execution_count": 3
        }
      ]
    },
    {
      "cell_type": "code",
      "metadata": {
        "id": "77Lafr2SIHK7",
        "colab": {
          "base_uri": "https://localhost:8080/"
        },
        "outputId": "7644a616-a9f7-4b9e-c6fe-988fb4445065"
      },
      "source": [
        "divide(10, 2)"
      ],
      "execution_count": null,
      "outputs": [
        {
          "output_type": "execute_result",
          "data": {
            "text/plain": [
              "5"
            ]
          },
          "metadata": {
            "tags": []
          },
          "execution_count": 4
        }
      ]
    },
    {
      "cell_type": "markdown",
      "metadata": {
        "id": "w8YKi5GkIHK8"
      },
      "source": [
        "Hagamos algo más interesante. Con el ejemplo de las máquinas tragamonedas, haz una función que tome como input la apuesta y arroje como resultado un booleano que sea verdadero si la apuesta es ganadora.\n",
        "\n",
        "\n",
        "    Una máquina tragamonedas tiene la siguiente fórmula para determinar si alguien gana premio:\n",
        "    - La apuesta inicial siempre tiene que ser un número mayor a 0\n",
        "    - La apuesta inicial se divide entre 15\n",
        "    - Se toma la parte entera de la división y si es mayor a 0, se multiplica por (3 + el residuo); si es igual a 0, se le agrega 1.5 y se multiplica por el residuo del paso anterior \n",
        "\n",
        "    Ejemplo del paso anterior\n",
        "        - si la apuesta era 2, dividir 2 entre 15 da un cociente entero de 0 y un residuo de 2. Entonces el resultado del paso anterior es 1.5 * 2\n",
        "        - si la apuesta era 34, dividir 34 entre 15 da un cociente entero de 2 y un residuo de 4. Entonces el resultado del paso anterior es 2 * (3+4)\n",
        "\n",
        "\n",
        "    - Finalmente, si el resultado es divisible entre 7, el jugador gana.\n",
        "\n",
        "    Ejemplo, apuesta inicial: 24.\n",
        "    Apuesta inicial entre 15: 1, residuo 9.\n",
        "    1 * (3 + 9) = 10\n",
        "    El residuo de dividir 10 / 7 no es igual a 0.\n",
        "    El jugador no gana."
      ]
    },
    {
      "cell_type": "code",
      "metadata": {
        "id": "gElxRjEtIHK9"
      },
      "source": [
        "def apuesta_ganadora(apuesta):\n",
        "    '''\n",
        "    Tu descripción de la función\n",
        "    '''\n",
        "    pass    ## implementa aquí tu función\n",
        "\n",
        "    return True"
      ],
      "execution_count": null,
      "outputs": []
    },
    {
      "cell_type": "code",
      "metadata": {
        "id": "arwBwgZZIHK-",
        "colab": {
          "base_uri": "https://localhost:8080/"
        },
        "outputId": "ba3af75f-872a-4cb2-a3b5-22e9b0871134"
      },
      "source": [
        "apuesta_ganadora(1)"
      ],
      "execution_count": null,
      "outputs": [
        {
          "output_type": "execute_result",
          "data": {
            "text/plain": [
              "False"
            ]
          },
          "metadata": {
            "tags": []
          },
          "execution_count": 7
        }
      ]
    },
    {
      "cell_type": "code",
      "metadata": {
        "id": "SxcIedqGIHK-",
        "colab": {
          "base_uri": "https://localhost:8080/"
        },
        "outputId": "aab3e6b0-0e08-4cd6-8d69-59a17c36b994"
      },
      "source": [
        "apuesta_ganadora(18)"
      ],
      "execution_count": null,
      "outputs": [
        {
          "output_type": "execute_result",
          "data": {
            "text/plain": [
              "False"
            ]
          },
          "metadata": {
            "tags": []
          },
          "execution_count": 8
        }
      ]
    },
    {
      "cell_type": "code",
      "metadata": {
        "id": "LtFOMItMIHK_",
        "colab": {
          "base_uri": "https://localhost:8080/"
        },
        "outputId": "db3db2d2-5c17-49e7-a96d-a041443541ec"
      },
      "source": [
        "apuesta_ganadora(19)"
      ],
      "execution_count": null,
      "outputs": [
        {
          "output_type": "execute_result",
          "data": {
            "text/plain": [
              "True"
            ]
          },
          "metadata": {
            "tags": []
          },
          "execution_count": 9
        }
      ]
    },
    {
      "cell_type": "markdown",
      "metadata": {
        "id": "HCsiQLkKIHLA"
      },
      "source": [
        "Algo bien importante que debemos notar es que los nombres de las variables que definamos adentro de una función sólo existen dentro de la misma función. A éstas se les llama variables locales, en contraste con variables globales que existen fuera de una función en particular.\n",
        "\n",
        "Por ejemplo, si trato de escribir `apuesta`, `cociente` o `rv` en las siguientes líneas, tendré un error diciendo que no existen tales variables."
      ]
    },
    {
      "cell_type": "code",
      "metadata": {
        "id": "zatZYs4uIHLA",
        "colab": {
          "base_uri": "https://localhost:8080/",
          "height": 167
        },
        "outputId": "6f897e7d-06a5-43bd-d1f5-ccc267f17242"
      },
      "source": [
        "apuesta"
      ],
      "execution_count": null,
      "outputs": [
        {
          "output_type": "error",
          "ename": "NameError",
          "evalue": "ignored",
          "traceback": [
            "\u001b[0;31m---------------------------------------------------------------------------\u001b[0m",
            "\u001b[0;31mNameError\u001b[0m                                 Traceback (most recent call last)",
            "\u001b[0;32m<ipython-input-11-467c1114da90>\u001b[0m in \u001b[0;36m<module>\u001b[0;34m()\u001b[0m\n\u001b[0;32m----> 1\u001b[0;31m \u001b[0mapuesta\u001b[0m\u001b[0;34m\u001b[0m\u001b[0;34m\u001b[0m\u001b[0m\n\u001b[0m",
            "\u001b[0;31mNameError\u001b[0m: name 'apuesta' is not defined"
          ]
        }
      ]
    },
    {
      "cell_type": "code",
      "metadata": {
        "id": "Ptut37q1IHLB",
        "colab": {
          "base_uri": "https://localhost:8080/",
          "height": 167
        },
        "outputId": "f1f1abad-dd53-4afa-8631-fe9dd3d408c4"
      },
      "source": [
        "cociente"
      ],
      "execution_count": null,
      "outputs": [
        {
          "output_type": "error",
          "ename": "NameError",
          "evalue": "ignored",
          "traceback": [
            "\u001b[0;31m---------------------------------------------------------------------------\u001b[0m",
            "\u001b[0;31mNameError\u001b[0m                                 Traceback (most recent call last)",
            "\u001b[0;32m<ipython-input-12-3b5fafb4476a>\u001b[0m in \u001b[0;36m<module>\u001b[0;34m()\u001b[0m\n\u001b[0;32m----> 1\u001b[0;31m \u001b[0mcociente\u001b[0m\u001b[0;34m\u001b[0m\u001b[0;34m\u001b[0m\u001b[0m\n\u001b[0m",
            "\u001b[0;31mNameError\u001b[0m: name 'cociente' is not defined"
          ]
        }
      ]
    },
    {
      "cell_type": "code",
      "metadata": {
        "id": "7ofRfVMqIHLB"
      },
      "source": [
        "rv"
      ],
      "execution_count": null,
      "outputs": []
    },
    {
      "cell_type": "markdown",
      "metadata": {
        "id": "ouY0kq7HIHLC"
      },
      "source": [
        "Al escribir funciones, tenemos la flexibilidad de usar cualquier término para argumentos o variables locales. Sin embargo, un error común es querer reciclar esas variables locales fuera de la función. Dichas variables no existen fuera de la función, así que tenemos dos opciones: o las definimos fuera de la misma o las declaramos como un `output` de nuestra función. "
      ]
    },
    {
      "cell_type": "markdown",
      "metadata": {
        "id": "cYJvXXnJIHLC"
      },
      "source": [
        "¿Qué pasa si llamamos una función sin argumentos? Python entenderá que hay una función definida, pero no sabrá qué hacer ya que no le estamos dando ningún argumento a la función."
      ]
    },
    {
      "cell_type": "code",
      "metadata": {
        "id": "yk2Y_zCZIHLC",
        "colab": {
          "base_uri": "https://localhost:8080/"
        },
        "outputId": "9ebdf3c1-eb58-42d1-d114-6115027e8b66"
      },
      "source": [
        "apuesta_ganadora"
      ],
      "execution_count": null,
      "outputs": [
        {
          "output_type": "execute_result",
          "data": {
            "text/plain": [
              "<function __main__.apuesta_ganadora>"
            ]
          },
          "metadata": {
            "tags": []
          },
          "execution_count": 13
        }
      ]
    },
    {
      "cell_type": "code",
      "metadata": {
        "id": "gPHJ0PmPIHLD",
        "colab": {
          "base_uri": "https://localhost:8080/",
          "height": 167
        },
        "outputId": "7e4e70d5-2e1c-4040-f0c7-95a653ce9ec7"
      },
      "source": [
        "apuesta_ganadora()"
      ],
      "execution_count": null,
      "outputs": [
        {
          "output_type": "error",
          "ename": "TypeError",
          "evalue": "ignored",
          "traceback": [
            "\u001b[0;31m---------------------------------------------------------------------------\u001b[0m",
            "\u001b[0;31mTypeError\u001b[0m                                 Traceback (most recent call last)",
            "\u001b[0;32m<ipython-input-14-e248cf025144>\u001b[0m in \u001b[0;36m<module>\u001b[0;34m()\u001b[0m\n\u001b[0;32m----> 1\u001b[0;31m \u001b[0mapuesta_ganadora\u001b[0m\u001b[0;34m(\u001b[0m\u001b[0;34m)\u001b[0m\u001b[0;34m\u001b[0m\u001b[0;34m\u001b[0m\u001b[0m\n\u001b[0m",
            "\u001b[0;31mTypeError\u001b[0m: apuesta_ganadora() missing 1 required positional argument: 'apuesta'"
          ]
        }
      ]
    },
    {
      "cell_type": "markdown",
      "metadata": {
        "id": "TQ2AtWxCIHLD"
      },
      "source": [
        "Traducción: al definir una función con ciertos argumentos, si queremos evaluar dicha función hay que declarar argumentos.\n",
        "\n",
        "Ahora, de qué nos sirve el resultado de esta función? Dependerá de la aplicación o del problema. Supongamos que cuando una apuesta es ganadora, se paga el doble. Si es perdedora, no hay pago."
      ]
    },
    {
      "cell_type": "code",
      "metadata": {
        "id": "1fA72Ej0IHLE",
        "colab": {
          "base_uri": "https://localhost:8080/"
        },
        "outputId": "65999756-a15a-4916-d48c-3953ac9ad830"
      },
      "source": [
        "apuesta = 19     # ojo, ahora sí estamos definiendo una variable externa llamada apuesta\n",
        "if apuesta_ganadora(apuesta):\n",
        "    pago = apuesta*2   ## qué tal que en el futuro queremos cambiar el pago?\n",
        "else:\n",
        "    pago = 0\n",
        "    \n",
        "print(pago)"
      ],
      "execution_count": null,
      "outputs": [
        {
          "output_type": "stream",
          "text": [
            "38\n"
          ],
          "name": "stdout"
        }
      ]
    },
    {
      "cell_type": "markdown",
      "metadata": {
        "id": "1jJt_bfAIHLE"
      },
      "source": [
        "¿Podríamos hacer ahora una función que tome como `input` la apuesta y nos regrese el valor a pagar (si es que hay algo por pagar)?"
      ]
    },
    {
      "cell_type": "code",
      "metadata": {
        "id": "Z6VZcGxtIHLE",
        "colab": {
          "base_uri": "https://localhost:8080/"
        },
        "outputId": "d81282a5-f3d2-48d3-cac1-80f235ca82b7"
      },
      "source": [
        "def pago_apuesta(apuesta):\n",
        "    if apuesta_ganadora(apuesta):\n",
        "        pago = apuesta*2\n",
        "    else:\n",
        "        pago = 0\n",
        "    return pago\n",
        "\n",
        "pago_apuesta(19)"
      ],
      "execution_count": null,
      "outputs": [
        {
          "output_type": "execute_result",
          "data": {
            "text/plain": [
              "38"
            ]
          },
          "metadata": {
            "tags": []
          },
          "execution_count": 16
        }
      ]
    },
    {
      "cell_type": "markdown",
      "metadata": {
        "id": "K07Co4MsIHLF"
      },
      "source": [
        "Wow, ¿qué tal? Estamos haciendo ya funciones más complejas que aprovechan código que hemos escrito. \n",
        "\n",
        "#### Ejercicio\n",
        "Modifica la función anterior para que tome como argumento un factor que multiplique el pago de la apuesta en caso ganador. Por ejemplo, si el factor es 10, la apuesta incial se pagará 10 veces."
      ]
    },
    {
      "cell_type": "code",
      "metadata": {
        "id": "ZMD5B4X1IHLF",
        "colab": {
          "base_uri": "https://localhost:8080/",
          "height": 327
        },
        "outputId": "9c9a8c03-29a7-4601-c0bd-f124eaf54d04"
      },
      "source": [
        "def pago_apuesta(apuesta):\n",
        "    if apuesta_ganadora(apuesta):\n",
        "        pago = apuesta*factor\n",
        "    else:\n",
        "        pago = 0\n",
        "    return pago\n",
        "\n",
        "pago_apuesta(19)"
      ],
      "execution_count": null,
      "outputs": [
        {
          "output_type": "error",
          "ename": "NameError",
          "evalue": "ignored",
          "traceback": [
            "\u001b[0;31m---------------------------------------------------------------------------\u001b[0m",
            "\u001b[0;31mNameError\u001b[0m                                 Traceback (most recent call last)",
            "\u001b[0;32m<ipython-input-17-0695e0d8e7ae>\u001b[0m in \u001b[0;36m<module>\u001b[0;34m()\u001b[0m\n\u001b[1;32m      6\u001b[0m     \u001b[0;32mreturn\u001b[0m \u001b[0mpago\u001b[0m\u001b[0;34m\u001b[0m\u001b[0;34m\u001b[0m\u001b[0m\n\u001b[1;32m      7\u001b[0m \u001b[0;34m\u001b[0m\u001b[0m\n\u001b[0;32m----> 8\u001b[0;31m \u001b[0mpago_apuesta\u001b[0m\u001b[0;34m(\u001b[0m\u001b[0;36m19\u001b[0m\u001b[0;34m)\u001b[0m\u001b[0;34m\u001b[0m\u001b[0;34m\u001b[0m\u001b[0m\n\u001b[0m",
            "\u001b[0;32m<ipython-input-17-0695e0d8e7ae>\u001b[0m in \u001b[0;36mpago_apuesta\u001b[0;34m(apuesta)\u001b[0m\n\u001b[1;32m      1\u001b[0m \u001b[0;32mdef\u001b[0m \u001b[0mpago_apuesta\u001b[0m\u001b[0;34m(\u001b[0m\u001b[0mapuesta\u001b[0m\u001b[0;34m)\u001b[0m\u001b[0;34m:\u001b[0m\u001b[0;34m\u001b[0m\u001b[0;34m\u001b[0m\u001b[0m\n\u001b[1;32m      2\u001b[0m     \u001b[0;32mif\u001b[0m \u001b[0mapuesta_ganadora\u001b[0m\u001b[0;34m(\u001b[0m\u001b[0mapuesta\u001b[0m\u001b[0;34m)\u001b[0m\u001b[0;34m:\u001b[0m\u001b[0;34m\u001b[0m\u001b[0;34m\u001b[0m\u001b[0m\n\u001b[0;32m----> 3\u001b[0;31m         \u001b[0mpago\u001b[0m \u001b[0;34m=\u001b[0m \u001b[0mapuesta\u001b[0m\u001b[0;34m*\u001b[0m\u001b[0mfactor\u001b[0m\u001b[0;34m\u001b[0m\u001b[0;34m\u001b[0m\u001b[0m\n\u001b[0m\u001b[1;32m      4\u001b[0m     \u001b[0;32melse\u001b[0m\u001b[0;34m:\u001b[0m\u001b[0;34m\u001b[0m\u001b[0;34m\u001b[0m\u001b[0m\n\u001b[1;32m      5\u001b[0m         \u001b[0mpago\u001b[0m \u001b[0;34m=\u001b[0m \u001b[0;36m0\u001b[0m\u001b[0;34m\u001b[0m\u001b[0;34m\u001b[0m\u001b[0m\n",
            "\u001b[0;31mNameError\u001b[0m: name 'factor' is not defined"
          ]
        }
      ]
    },
    {
      "cell_type": "markdown",
      "metadata": {
        "id": "KDYcAVHTIHLG"
      },
      "source": [
        "Woops, ¿qué se nos olvidó ahora? El error es bastante descriptivo, se nos olvidó agregar a la llamada de la función el nuevo argumento `factor`."
      ]
    },
    {
      "cell_type": "code",
      "metadata": {
        "id": "vJBEIcoKIHLG",
        "colab": {
          "base_uri": "https://localhost:8080/"
        },
        "outputId": "470c3178-3e21-456a-d4e4-422a18bebb29"
      },
      "source": [
        "pago_apuesta(19, 2)"
      ],
      "execution_count": null,
      "outputs": [
        {
          "output_type": "execute_result",
          "data": {
            "text/plain": [
              "38"
            ]
          },
          "metadata": {
            "tags": []
          },
          "execution_count": 19
        }
      ]
    },
    {
      "cell_type": "code",
      "metadata": {
        "id": "MEpEyFvlIHLG",
        "colab": {
          "base_uri": "https://localhost:8080/"
        },
        "outputId": "a2f0454c-2286-455e-af95-2d0211bbbc38"
      },
      "source": [
        "pago_apuesta(19, 1)"
      ],
      "execution_count": null,
      "outputs": [
        {
          "output_type": "execute_result",
          "data": {
            "text/plain": [
              "19"
            ]
          },
          "metadata": {
            "tags": []
          },
          "execution_count": 20
        }
      ]
    },
    {
      "cell_type": "markdown",
      "metadata": {
        "id": "CCNlz0_hIHLH"
      },
      "source": [
        "#### Argumentos\n",
        "\n",
        "¿Siempre son necesarios? No, hay muchas funciones que no necesitan argumentos y harán su trabajo. Dependiendo de la aplicación, habrá veces que querramos escribir funciones con o sin argumentos. Por ejemplo, simplifiquemos el cálculo de arriba y digamos que queremos una función que regrese si alguien ganó de manera aleatoria pero sólo el 1% de las ocasiones."
      ]
    },
    {
      "cell_type": "code",
      "metadata": {
        "id": "g6o8bX__IHLH",
        "colab": {
          "base_uri": "https://localhost:8080/"
        },
        "outputId": "4b7674cb-bb5d-42a9-e9ec-0e74a042491c"
      },
      "source": [
        "# Antes del ejemplo, una función que usaremos:\n",
        "import random\n",
        "random.uniform(0,1)  # genera un valor aleatorio entre 0 y 1"
      ],
      "execution_count": null,
      "outputs": [
        {
          "output_type": "execute_result",
          "data": {
            "text/plain": [
              "0.0988241047448174"
            ]
          },
          "metadata": {
            "tags": []
          },
          "execution_count": 21
        }
      ]
    },
    {
      "cell_type": "code",
      "metadata": {
        "id": "IZdPwgq4IHLH"
      },
      "source": [
        "import random\n",
        "\n",
        "def apuesta_ganadora():\n",
        "    rand_val = random.uniform(0,1)\n",
        "    win_rate = 0.01\n",
        "    if rand_val < win_rate:\n",
        "        return True\n",
        "    else:\n",
        "        return False"
      ],
      "execution_count": null,
      "outputs": []
    },
    {
      "cell_type": "markdown",
      "metadata": {
        "id": "PwlxqZx-IHLH"
      },
      "source": [
        "Si generamos 1000 ejemplos con esta función, veremos que en promedio, tenemos una apuesta ganadora por cada 10."
      ]
    },
    {
      "cell_type": "code",
      "metadata": {
        "id": "Yz75BIbcIHLI",
        "colab": {
          "base_uri": "https://localhost:8080/"
        },
        "outputId": "7c0c5939-c032-42bf-f3e8-805919a77604"
      },
      "source": [
        "wins = 0\n",
        "bets = 1000\n",
        "\n",
        "for i in range(bets):\n",
        "    if apuesta_ganadora():\n",
        "        wins += 1\n",
        "\n",
        "print(wins)\n",
        "print(wins/bets)"
      ],
      "execution_count": null,
      "outputs": [
        {
          "output_type": "stream",
          "text": [
            "10\n",
            "0.01\n"
          ],
          "name": "stdout"
        }
      ]
    },
    {
      "cell_type": "markdown",
      "metadata": {
        "id": "n1ixbKAnIHLI"
      },
      "source": [
        "Inténtalo con 100,000 o 1M!\n",
        "\n",
        "Como vimos, esta función no necesita argumentos. Sin embargo, ¿qué tal que queremos cambiar la tasa de éxito de las apuestas? Muy fácilmente podríamos añadir un argumento para cambiar esa tasa de éxito.\n",
        "\n",
        "#### Ejercicio\n",
        "Modifica la función anterior añadiendo un argumento que sea la tasa de éxito."
      ]
    },
    {
      "cell_type": "code",
      "metadata": {
        "id": "t_9L-owfIHLI"
      },
      "source": [
        "def apuesta_ganadora(rate):\n"
      ],
      "execution_count": null,
      "outputs": []
    },
    {
      "cell_type": "markdown",
      "metadata": {
        "id": "kgsG4EF-IHLJ"
      },
      "source": [
        "#### Ejercicio \n",
        "\n",
        "Modifica la función `pago_apuesta`, para que dada una apuesta, la función regrese el pago. La función `pago_apuesta` deberá tener dos argumentos:\n",
        "- apuesta, el valor apostado\n",
        "- multiplicador, cuántas veces se pagará la apuesta si ésta es exitosa\n",
        "\n",
        "P.ej. si alguien apuesta 5 y el multiplicador es 7, el valor que función debe regresar es $5*7=35$\n",
        "\n",
        "El valor a regresar debe ser un string con un signo de pesos `$` delante de la cifra y dos valores decimales. Usando el ejemplo anterior, el valor a regresar debe verse como: `$35.00`"
      ]
    },
    {
      "cell_type": "code",
      "metadata": {
        "id": "fAnbBk4eIHLJ",
        "colab": {
          "base_uri": "https://localhost:8080/",
          "height": 35
        },
        "outputId": "89464d36-343a-4b59-c7b6-68db85d0fe68"
      },
      "source": [
        "# Hint, usa esta función para strings llamada format()\n",
        "# https://docs.python.org/3/library/string.html#formatstrings\n",
        "\n",
        "x = 27.755410\n",
        "'${:.2f}'.format(x)"
      ],
      "execution_count": null,
      "outputs": [
        {
          "output_type": "execute_result",
          "data": {
            "application/vnd.google.colaboratory.intrinsic+json": {
              "type": "string"
            },
            "text/plain": [
              "'$27.76'"
            ]
          },
          "metadata": {
            "tags": []
          },
          "execution_count": 25
        }
      ]
    },
    {
      "cell_type": "code",
      "metadata": {
        "id": "EAUDwiTeIHLJ"
      },
      "source": [
        "def pago_apuesta(apuesta, multiplicador, rate):\n",
        "    \"\"\"\n",
        "    \"\"\"\n",
        "    # evaluar si una apuesta es ganadora\n",
        "    \n",
        "    # si es ganadora, multiplica por el multiplicador\n",
        "    # si no, pago es cero\n",
        "    \n",
        "    # poner el return_value en el formato deseado\n",
        "    pass \n",
        "\n",
        "    return True"
      ],
      "execution_count": null,
      "outputs": []
    },
    {
      "cell_type": "markdown",
      "metadata": {
        "id": "x0uJUpBfIHLL"
      },
      "source": [
        "¿Cómo sabemos que está haciendo lo que queremos si todas las respuestas fueron 0? Por eso corrimos 1M de veces la función apuesta_ganadora, para verificar que hacía lo que queríamos. Si queremos probar esta función, podríamos cambiar la función de apuesta_ganadora para que siempre gane la apuesta y ver el resultado. También podríamos imprimir varias veces el valor de pago_apuesta como está ahora."
      ]
    },
    {
      "cell_type": "code",
      "metadata": {
        "id": "GO7SjMeFIHLL",
        "colab": {
          "base_uri": "https://localhost:8080/"
        },
        "outputId": "48d32372-5908-4b8b-dc0b-e5f3a9a10181"
      },
      "source": [
        "def apuesta_ganadora(win_rate):\n",
        "    rand_val = random.uniform(0,1)\n",
        "    if rand_val < win_rate:\n",
        "        return True\n",
        "    else:\n",
        "        return False\n",
        "    \n",
        "def pago_apuesta(apuesta, multiplicador, win_rate):\n",
        "    \"\"\"\n",
        "    apuesta, float/int, valor a apostar\n",
        "    multiplicador, float/int, multiplicador de las apuestas \n",
        "    \"\"\"\n",
        "    pmt = 0\n",
        "    if apuesta_ganadora(win_rate):\n",
        "        pmt = apuesta*multiplicador\n",
        "    rv = '${:.2f}'.format(pmt)\n",
        "\n",
        "    return rv\n",
        "\n",
        "print(pago_apuesta(25, 2, 1))\n",
        "print(pago_apuesta(25, 3, 1))\n",
        "print(pago_apuesta(25, 5, 1))"
      ],
      "execution_count": null,
      "outputs": [
        {
          "output_type": "stream",
          "text": [
            "$50.00\n",
            "$75.00\n",
            "$125.00\n"
          ],
          "name": "stdout"
        }
      ]
    },
    {
      "cell_type": "code",
      "metadata": {
        "scrolled": true,
        "id": "rjoO1WmnIHLM",
        "colab": {
          "base_uri": "https://localhost:8080/"
        },
        "outputId": "78126d5a-5618-4c58-a95d-86e150adbe3c"
      },
      "source": [
        "for i in range(20):\n",
        "    print(pago_apuesta(10, 5, 0.85))"
      ],
      "execution_count": null,
      "outputs": [
        {
          "output_type": "stream",
          "text": [
            "$50.00\n",
            "$50.00\n",
            "$50.00\n",
            "$50.00\n",
            "$0.00\n",
            "$50.00\n",
            "$50.00\n",
            "$50.00\n",
            "$50.00\n",
            "$50.00\n",
            "$50.00\n",
            "$0.00\n",
            "$50.00\n",
            "$50.00\n",
            "$50.00\n",
            "$50.00\n",
            "$0.00\n",
            "$50.00\n",
            "$50.00\n",
            "$50.00\n"
          ],
          "name": "stdout"
        }
      ]
    },
    {
      "cell_type": "markdown",
      "metadata": {
        "id": "tsluXOznIHLN"
      },
      "source": [
        "#### Ejercicio: `print` y `return` no son lo mismo\n",
        "\n",
        "Una confusión común al empezar a programar es mezclar los conceptos de `print` y `return`. La función `print` tiene como objetivo imprimir en pantalla/línea de comando el valor de una variable. Este valor, si no fue guardado en algún lugar, se pierde en nuestro código de manera intrascendental. En una función, `return` tiene como objetivo devolver y preservar un valor, que no necesariamente se tiene que imprimir, pero que sí esperamos guardar en algún lugar.\n",
        "\n",
        "1) Modifica `pago_apuesta` para que imprima `True` sólo si una apuesta fue exitosa. \n",
        "\n",
        "2) Modifica `pago_apuesta` para que devuelva un número en vez del string con el pago de la apuesta.\n",
        "\n",
        "3) Ejecuta pago_apuestas 1 millón de veces con:\n",
        "    - apuestas aleatorias entre 0 y 100 (usa la función `random.uniform` que vimos para hacer esto) \n",
        "    - tasa de éxito del 0.01% (o sea, 1 de cada 10000 apuestas será ganadora)\n",
        "    - multiplicador de 100 (si alguien apuesta 1 y gana, se le paga 100)\n",
        "    \n",
        "4) Guarda cuánto dinero se ha apostado y cuánto dinero se ha pagado en dos variables respectivamente\n",
        "\n",
        "5) Calcula cuánto estamos ganando (o perdiendo) con esta estructura de apuestas"
      ]
    },
    {
      "cell_type": "code",
      "metadata": {
        "id": "BN8j1MH7IHLO",
        "colab": {
          "base_uri": "https://localhost:8080/"
        },
        "outputId": "dfb99800-ccd4-4b8e-a1cc-f402ba59b8de"
      },
      "source": [
        "def apuesta_ganadora(win_rate):\n",
        "    rand_val = random.uniform(0,1)\n",
        "    if rand_val < win_rate:\n",
        "        print(True)\n",
        "        return True\n",
        "    else:\n",
        "        return False\n",
        "    \n",
        "def pago_apuesta(apuesta, multiplicador, win_rate):\n",
        "    \"\"\"\n",
        "    apuesta, float/int, valor a apostar\n",
        "    multiplicador, float/int, multiplicador de las apuestas \n",
        "    \"\"\"\n",
        "    pmt = 0\n",
        "    if apuesta_ganadora(win_rate):\n",
        "        pmt = apuesta*multiplicador\n",
        "\n",
        "    return pmt\n",
        "\n",
        "def simula_apuestas(num_apuestas, multiplicador, win_rate):\n",
        "    total_apuestas = 0\n",
        "    total_pagos = 0\n",
        "    \n",
        "    for a in range(num_apuestas):\n",
        "        apuesta = random.uniform(0,1)*100\n",
        "        pago = pago_apuesta(apuesta, multiplicador, win_rate)\n",
        "        total_apuestas += apuesta\n",
        "        total_pagos += pago\n",
        "    \n",
        "    ganancias = total_apuestas - total_pagos\n",
        "    return ganancias\n",
        "\n",
        "simula_apuestas(1000000, 10, 0.0001)"
      ],
      "execution_count": null,
      "outputs": [
        {
          "output_type": "stream",
          "text": [
            "True\n",
            "True\n",
            "True\n",
            "True\n",
            "True\n",
            "True\n",
            "True\n",
            "True\n",
            "True\n",
            "True\n",
            "True\n",
            "True\n",
            "True\n",
            "True\n",
            "True\n",
            "True\n",
            "True\n",
            "True\n",
            "True\n",
            "True\n",
            "True\n",
            "True\n",
            "True\n",
            "True\n",
            "True\n",
            "True\n",
            "True\n",
            "True\n",
            "True\n",
            "True\n",
            "True\n",
            "True\n",
            "True\n",
            "True\n",
            "True\n",
            "True\n",
            "True\n",
            "True\n",
            "True\n",
            "True\n",
            "True\n",
            "True\n",
            "True\n",
            "True\n",
            "True\n",
            "True\n",
            "True\n",
            "True\n",
            "True\n",
            "True\n",
            "True\n",
            "True\n",
            "True\n",
            "True\n",
            "True\n",
            "True\n",
            "True\n",
            "True\n",
            "True\n",
            "True\n",
            "True\n",
            "True\n",
            "True\n",
            "True\n",
            "True\n",
            "True\n",
            "True\n",
            "True\n",
            "True\n",
            "True\n",
            "True\n",
            "True\n",
            "True\n",
            "True\n",
            "True\n",
            "True\n",
            "True\n",
            "True\n",
            "True\n",
            "True\n",
            "True\n",
            "True\n",
            "True\n",
            "True\n",
            "True\n",
            "True\n",
            "True\n",
            "True\n",
            "True\n",
            "True\n",
            "True\n",
            "True\n",
            "True\n",
            "True\n",
            "True\n",
            "True\n",
            "True\n",
            "True\n",
            "True\n",
            "True\n",
            "True\n",
            "True\n",
            "True\n",
            "True\n",
            "True\n",
            "True\n",
            "True\n",
            "True\n",
            "True\n",
            "True\n",
            "True\n",
            "True\n",
            "True\n",
            "True\n",
            "True\n",
            "True\n",
            "True\n",
            "True\n",
            "True\n",
            "True\n",
            "True\n",
            "True\n",
            "True\n"
          ],
          "name": "stdout"
        },
        {
          "output_type": "execute_result",
          "data": {
            "text/plain": [
              "49962407.31609513"
            ]
          },
          "metadata": {
            "tags": []
          },
          "execution_count": 35
        }
      ]
    },
    {
      "cell_type": "markdown",
      "metadata": {
        "id": "XK_y0l1kIHLQ"
      },
      "source": [
        "¿Queremos tener tantos prints? Usualmente no. La función `print` es muy útil al momento de estar escribiendo pruebas y verificar que lo que escribimos funciona. Pero si es una función que será llamada muchas veces, es probable que querramos omitir tantos `prints`."
      ]
    },
    {
      "cell_type": "markdown",
      "metadata": {
        "id": "40arWtKHIHLR"
      },
      "source": [
        "## Errores\n",
        "\n",
        "Ya hemos visto varios errores en situaciones anteriores. No es posible ennumerar todos los tipos de errores que hay, pero ya hemos visto que los errores suelen tener buanes descripciones de por qué suceden. Repasemos algunas de estas situaciones."
      ]
    },
    {
      "cell_type": "code",
      "metadata": {
        "id": "Tm6rDssgIHLR",
        "colab": {
          "base_uri": "https://localhost:8080/",
          "height": 292
        },
        "outputId": "7bcec0f7-456a-4e49-e843-e6c67d46e017"
      },
      "source": [
        "simula_apuestas(0.5,0,1)"
      ],
      "execution_count": null,
      "outputs": [
        {
          "output_type": "error",
          "ename": "TypeError",
          "evalue": "ignored",
          "traceback": [
            "\u001b[0;31m---------------------------------------------------------------------------\u001b[0m",
            "\u001b[0;31mTypeError\u001b[0m                                 Traceback (most recent call last)",
            "\u001b[0;32m<ipython-input-36-078819425987>\u001b[0m in \u001b[0;36m<module>\u001b[0;34m()\u001b[0m\n\u001b[0;32m----> 1\u001b[0;31m \u001b[0msimula_apuestas\u001b[0m\u001b[0;34m(\u001b[0m\u001b[0;36m0.5\u001b[0m\u001b[0;34m,\u001b[0m\u001b[0;36m0\u001b[0m\u001b[0;34m,\u001b[0m\u001b[0;36m1\u001b[0m\u001b[0;34m)\u001b[0m\u001b[0;34m\u001b[0m\u001b[0;34m\u001b[0m\u001b[0m\n\u001b[0m",
            "\u001b[0;32m<ipython-input-35-ab296fa155ac>\u001b[0m in \u001b[0;36msimula_apuestas\u001b[0;34m(num_apuestas, multiplicador, win_rate)\u001b[0m\n\u001b[1;32m     22\u001b[0m     \u001b[0mtotal_pagos\u001b[0m \u001b[0;34m=\u001b[0m \u001b[0;36m0\u001b[0m\u001b[0;34m\u001b[0m\u001b[0;34m\u001b[0m\u001b[0m\n\u001b[1;32m     23\u001b[0m \u001b[0;34m\u001b[0m\u001b[0m\n\u001b[0;32m---> 24\u001b[0;31m     \u001b[0;32mfor\u001b[0m \u001b[0ma\u001b[0m \u001b[0;32min\u001b[0m \u001b[0mrange\u001b[0m\u001b[0;34m(\u001b[0m\u001b[0mnum_apuestas\u001b[0m\u001b[0;34m)\u001b[0m\u001b[0;34m:\u001b[0m\u001b[0;34m\u001b[0m\u001b[0;34m\u001b[0m\u001b[0m\n\u001b[0m\u001b[1;32m     25\u001b[0m         \u001b[0mapuesta\u001b[0m \u001b[0;34m=\u001b[0m \u001b[0mrandom\u001b[0m\u001b[0;34m.\u001b[0m\u001b[0muniform\u001b[0m\u001b[0;34m(\u001b[0m\u001b[0;36m0\u001b[0m\u001b[0;34m,\u001b[0m\u001b[0;36m1\u001b[0m\u001b[0;34m)\u001b[0m\u001b[0;34m*\u001b[0m\u001b[0;36m100\u001b[0m\u001b[0;34m\u001b[0m\u001b[0;34m\u001b[0m\u001b[0m\n\u001b[1;32m     26\u001b[0m         \u001b[0mpago\u001b[0m \u001b[0;34m=\u001b[0m \u001b[0mpago_apuesta\u001b[0m\u001b[0;34m(\u001b[0m\u001b[0mapuesta\u001b[0m\u001b[0;34m,\u001b[0m \u001b[0mmultiplicador\u001b[0m\u001b[0;34m,\u001b[0m \u001b[0mwin_rate\u001b[0m\u001b[0;34m)\u001b[0m\u001b[0;34m\u001b[0m\u001b[0;34m\u001b[0m\u001b[0m\n",
            "\u001b[0;31mTypeError\u001b[0m: 'float' object cannot be interpreted as an integer"
          ]
        }
      ]
    },
    {
      "cell_type": "markdown",
      "metadata": {
        "id": "PVYX0_ayIHLR"
      },
      "source": [
        "¿Qué dice el error? Uno de los argumentos debería ser un número entero, pero como proporcionamos un número real, la función `range` no sabe qué hacer. Nos devuelve entonces un error diciendo \"no puedo interpretar esto como un entero\" y se detiene la ejecución.\n",
        "\n",
        "¿Cómo solucionamos esto? Lo correcto sería escribir algo para cubrir este tipo de casos. Si sabemos que nuestro programa SIEMPRE recibirá enteros, podemos ignorarlo. ¿Pero si no estamos seguros, cómo garantizamos que siempre se usará un entero?\n",
        "\n",
        "Podemos primero verificar que el tipo de valor recibido en ese argumento siempre es un entero: "
      ]
    },
    {
      "cell_type": "code",
      "metadata": {
        "id": "eAZADeu7IHLS"
      },
      "source": [
        "def simula_apuestas(num_apuestas, multiplicador, win_rate):\n",
        "    \n",
        "    assert type(num_apuestas) is int, \"num_apuestas no es un entero\"\n",
        "    total_apuestas = 0\n",
        "    total_pagos = 0\n",
        "    \n",
        "    for a in range(num_apuestas):\n",
        "        apuesta = random.uniform(0,1)*100\n",
        "        pago = pago_apuesta(apuesta, multiplicador, win_rate)\n",
        "        total_apuestas += apuesta\n",
        "        total_pagos += pago\n",
        "    \n",
        "    ganancias = total_apuestas - total_pagos\n",
        "    return ganancias"
      ],
      "execution_count": null,
      "outputs": []
    },
    {
      "cell_type": "code",
      "metadata": {
        "id": "V5hTdZBHIHLS",
        "colab": {
          "base_uri": "https://localhost:8080/",
          "height": 292
        },
        "outputId": "905c9aa8-f474-4ee7-8b9c-faf7288aeb12"
      },
      "source": [
        "simula_apuestas(0.5, 1, 0.5)"
      ],
      "execution_count": null,
      "outputs": [
        {
          "output_type": "error",
          "ename": "AssertionError",
          "evalue": "ignored",
          "traceback": [
            "\u001b[0;31m---------------------------------------------------------------------------\u001b[0m",
            "\u001b[0;31mAssertionError\u001b[0m                            Traceback (most recent call last)",
            "\u001b[0;32m<ipython-input-38-ce39fca05be3>\u001b[0m in \u001b[0;36m<module>\u001b[0;34m()\u001b[0m\n\u001b[0;32m----> 1\u001b[0;31m \u001b[0msimula_apuestas\u001b[0m\u001b[0;34m(\u001b[0m\u001b[0;36m0.5\u001b[0m\u001b[0;34m,\u001b[0m \u001b[0;36m1\u001b[0m\u001b[0;34m,\u001b[0m \u001b[0;36m0.5\u001b[0m\u001b[0;34m)\u001b[0m\u001b[0;34m\u001b[0m\u001b[0;34m\u001b[0m\u001b[0m\n\u001b[0m",
            "\u001b[0;32m<ipython-input-37-bc0638e61fc9>\u001b[0m in \u001b[0;36msimula_apuestas\u001b[0;34m(num_apuestas, multiplicador, win_rate)\u001b[0m\n\u001b[1;32m      1\u001b[0m \u001b[0;32mdef\u001b[0m \u001b[0msimula_apuestas\u001b[0m\u001b[0;34m(\u001b[0m\u001b[0mnum_apuestas\u001b[0m\u001b[0;34m,\u001b[0m \u001b[0mmultiplicador\u001b[0m\u001b[0;34m,\u001b[0m \u001b[0mwin_rate\u001b[0m\u001b[0;34m)\u001b[0m\u001b[0;34m:\u001b[0m\u001b[0;34m\u001b[0m\u001b[0;34m\u001b[0m\u001b[0m\n\u001b[1;32m      2\u001b[0m \u001b[0;34m\u001b[0m\u001b[0m\n\u001b[0;32m----> 3\u001b[0;31m     \u001b[0;32massert\u001b[0m \u001b[0mtype\u001b[0m\u001b[0;34m(\u001b[0m\u001b[0mnum_apuestas\u001b[0m\u001b[0;34m)\u001b[0m \u001b[0;32mis\u001b[0m \u001b[0mint\u001b[0m\u001b[0;34m,\u001b[0m \u001b[0;34m\"num_apuestas no es un entero\"\u001b[0m\u001b[0;34m\u001b[0m\u001b[0;34m\u001b[0m\u001b[0m\n\u001b[0m\u001b[1;32m      4\u001b[0m     \u001b[0mtotal_apuestas\u001b[0m \u001b[0;34m=\u001b[0m \u001b[0;36m0\u001b[0m\u001b[0;34m\u001b[0m\u001b[0;34m\u001b[0m\u001b[0m\n\u001b[1;32m      5\u001b[0m     \u001b[0mtotal_pagos\u001b[0m \u001b[0;34m=\u001b[0m \u001b[0;36m0\u001b[0m\u001b[0;34m\u001b[0m\u001b[0;34m\u001b[0m\u001b[0m\n",
            "\u001b[0;31mAssertionError\u001b[0m: num_apuestas no es un entero"
          ]
        }
      ]
    },
    {
      "cell_type": "markdown",
      "metadata": {
        "id": "FN2D3vHIIHLT"
      },
      "source": [
        "`assert` nos ayuda a verificar condiciones sencillas, como tipos de variables o booleanos. Si `assert` no se cumple, detendrá la ejecución del código en esa línea. \n",
        "\n",
        "¿Qué hacemos si quisiéramos que el código siguiera ejecutándose a pesar de que no es un entero, pero sí es un número? Por ejemplo, si quisiéramos que el número se redondeara al entero más cercano:"
      ]
    },
    {
      "cell_type": "code",
      "metadata": {
        "id": "ue6xpQiAIHLT"
      },
      "source": [
        "def simula_apuestas(num_apuestas, multiplicador, win_rate):\n",
        "    \n",
        "    assert type(num_apuestas) is int or type(num_apuestas) is float, \"num_apuestas no es un número\"\n",
        "    num_apuestas = int(round(num_apuestas, 0))\n",
        "    print(num_apuestas)\n",
        "    \n",
        "    total_apuestas = 0\n",
        "    total_pagos = 0\n",
        "    \n",
        "    for a in range(num_apuestas):\n",
        "        apuesta = random.uniform(0,1)*100\n",
        "        pago = pago_apuesta(apuesta, multiplicador, win_rate)\n",
        "        total_apuestas += apuesta\n",
        "        total_pagos += pago\n",
        "    \n",
        "    ganancias = total_apuestas - total_pagos\n",
        "    return ganancias"
      ],
      "execution_count": null,
      "outputs": []
    },
    {
      "cell_type": "code",
      "metadata": {
        "id": "2Wg5b9bKIHLU",
        "colab": {
          "base_uri": "https://localhost:8080/"
        },
        "outputId": "d7b72342-806f-4e9b-f01a-796a7487679e"
      },
      "source": [
        "simula_apuestas(0.6, 1, 0.5)"
      ],
      "execution_count": null,
      "outputs": [
        {
          "output_type": "stream",
          "text": [
            "1\n",
            "True\n"
          ],
          "name": "stdout"
        },
        {
          "output_type": "execute_result",
          "data": {
            "text/plain": [
              "0.0"
            ]
          },
          "metadata": {
            "tags": []
          },
          "execution_count": 59
        }
      ]
    },
    {
      "cell_type": "markdown",
      "metadata": {
        "id": "iW0UGDRXIHLU"
      },
      "source": [
        "¿Qué hicimos? Verificamos que el número siempre sea un número entero o float, y luego, redondeamos y convertimos a un entero para que `range` funcione como esperamos.\n",
        "\n",
        "Es muy común que nosotros no tengamos control absoluto sobre la información que manejamos. Por ejemplo, si estuvieras creando simulaciones para ver si las apuestas del casino en el que trabajas coinciden con las ganancias teóricas, podrías ejecutar la función anterior con el número de apuestas diarias en los tragamonedas. Sin embargo, imagina que el becario escribe algunos días el número de apuestas como string `'2,575'` y otros días como entero `13450` en incluso a veces como un float `13590.0`. ¿Cómo arreglamos esto?"
      ]
    },
    {
      "cell_type": "code",
      "metadata": {
        "id": "KY3pbMuXIHLU"
      },
      "source": [
        "apuestas_diarias = ['2,575', 13450, 13590.0, '1720.0']"
      ],
      "execution_count": null,
      "outputs": []
    },
    {
      "cell_type": "code",
      "metadata": {
        "id": "efVFiZ12IHLV",
        "colab": {
          "base_uri": "https://localhost:8080/"
        },
        "outputId": "3e2975fa-f57a-49c5-a0aa-6754e3eb3976"
      },
      "source": [
        "for ap in apuestas_diarias:\n",
        "    print(ap)"
      ],
      "execution_count": null,
      "outputs": [
        {
          "output_type": "stream",
          "text": [
            "2,575\n",
            "13450\n",
            "13590.0\n",
            "1720.0\n"
          ],
          "name": "stdout"
        }
      ]
    },
    {
      "cell_type": "code",
      "metadata": {
        "id": "20AG16gaIHLV",
        "colab": {
          "base_uri": "https://localhost:8080/",
          "height": 167
        },
        "outputId": "5fc04962-0144-43ff-b830-b7a9c0a76f91"
      },
      "source": [
        "int('2,575')"
      ],
      "execution_count": null,
      "outputs": [
        {
          "output_type": "error",
          "ename": "ValueError",
          "evalue": "ignored",
          "traceback": [
            "\u001b[0;31m---------------------------------------------------------------------------\u001b[0m",
            "\u001b[0;31mValueError\u001b[0m                                Traceback (most recent call last)",
            "\u001b[0;32m<ipython-input-63-9361ae71a984>\u001b[0m in \u001b[0;36m<module>\u001b[0;34m()\u001b[0m\n\u001b[0;32m----> 1\u001b[0;31m \u001b[0mint\u001b[0m\u001b[0;34m(\u001b[0m\u001b[0;34m'2,575'\u001b[0m\u001b[0;34m)\u001b[0m\u001b[0;34m\u001b[0m\u001b[0;34m\u001b[0m\u001b[0m\n\u001b[0m",
            "\u001b[0;31mValueError\u001b[0m: invalid literal for int() with base 10: '2,575'"
          ]
        }
      ]
    },
    {
      "cell_type": "code",
      "metadata": {
        "id": "M82g7ISRIHLW",
        "colab": {
          "base_uri": "https://localhost:8080/"
        },
        "outputId": "d6490f65-0e26-4f7e-894c-6f3b40a5ea4e"
      },
      "source": [
        "int(13590.0)"
      ],
      "execution_count": null,
      "outputs": [
        {
          "output_type": "execute_result",
          "data": {
            "text/plain": [
              "13590"
            ]
          },
          "metadata": {
            "tags": []
          },
          "execution_count": 64
        }
      ]
    },
    {
      "cell_type": "code",
      "metadata": {
        "id": "rfmhbjknIHLW",
        "colab": {
          "base_uri": "https://localhost:8080/",
          "height": 167
        },
        "outputId": "b084e12c-8a33-416a-ee3e-52cdf7efa909"
      },
      "source": [
        "int('1720.0')"
      ],
      "execution_count": null,
      "outputs": [
        {
          "output_type": "error",
          "ename": "ValueError",
          "evalue": "ignored",
          "traceback": [
            "\u001b[0;31m---------------------------------------------------------------------------\u001b[0m",
            "\u001b[0;31mValueError\u001b[0m                                Traceback (most recent call last)",
            "\u001b[0;32m<ipython-input-65-f1408f4db024>\u001b[0m in \u001b[0;36m<module>\u001b[0;34m()\u001b[0m\n\u001b[0;32m----> 1\u001b[0;31m \u001b[0mint\u001b[0m\u001b[0;34m(\u001b[0m\u001b[0;34m'1720.0'\u001b[0m\u001b[0;34m)\u001b[0m\u001b[0;34m\u001b[0m\u001b[0;34m\u001b[0m\u001b[0m\n\u001b[0m",
            "\u001b[0;31mValueError\u001b[0m: invalid literal for int() with base 10: '1720.0'"
          ]
        }
      ]
    },
    {
      "cell_type": "code",
      "metadata": {
        "id": "G6_cMJbZIHLX"
      },
      "source": [
        "for ap in apuestas_diarias:\n",
        "    print(ap)\n",
        "    try:\n",
        "        int(ap)\n",
        "    except ValueError:\n",
        "        print(\"Not a valid number or has invalid number characters\")"
      ],
      "execution_count": null,
      "outputs": []
    },
    {
      "cell_type": "code",
      "metadata": {
        "id": "yhnKdKnCIHLX"
      },
      "source": [
        "for ap in apuestas_diarias:\n",
        "    print(ap)\n",
        "    try:\n",
        "        int(float(ap))\n",
        "    except ValueError:\n",
        "        print(\"Not a valid number format. Remove invalid number characters.\")"
      ],
      "execution_count": null,
      "outputs": []
    },
    {
      "cell_type": "markdown",
      "metadata": {
        "id": "DjlCaqm1IHLY"
      },
      "source": [
        "Esta combinación de `try` y `except` nos ayudaría a correr nuestro código y después volver a esos errores para una revisión manual. En general, este tipo de errores deben corregirse desde el origen de la captura de información, ya que de lo contrario será muy complicado identificar todas las posibles combinaciones de errores."
      ]
    },
    {
      "cell_type": "code",
      "metadata": {
        "id": "znztBxxUIHLY"
      },
      "source": [
        ""
      ],
      "execution_count": null,
      "outputs": []
    }
  ]
}