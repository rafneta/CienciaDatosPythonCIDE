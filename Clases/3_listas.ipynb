{
  "nbformat": 4,
  "nbformat_minor": 0,
  "metadata": {
    "colab": {
      "name": "3_listas.ipynb",
      "provenance": []
    },
    "kernelspec": {
      "display_name": "Python 3",
      "language": "python",
      "name": "python3"
    },
    "language_info": {
      "codemirror_mode": {
        "name": "ipython",
        "version": 3
      },
      "file_extension": ".py",
      "mimetype": "text/x-python",
      "name": "python",
      "nbconvert_exporter": "python",
      "pygments_lexer": "ipython3",
      "version": "3.7.6"
    }
  },
  "cells": [
    {
      "cell_type": "markdown",
      "metadata": {
        "id": "TBG_klSi-xNe"
      },
      "source": [
        "# Listas"
      ]
    },
    {
      "cell_type": "markdown",
      "metadata": {
        "id": "KR4M8Eu--xNg"
      },
      "source": [
        "Una lista es una colección de objetos, estos objetos pueden ser de diferentes tipos. El objetivo es tener una especie de contenedor donde se pueden guardar y acceder facilmente a los objetos"
      ]
    },
    {
      "cell_type": "code",
      "metadata": {
        "id": "hWNW_HQu-xNj"
      },
      "source": [
        "students = ['monica', 'edgar', 'ana']\n",
        "\n",
        "for student in students:\n",
        "    print(\"Hello, \" + student.title() + \"!\")"
      ],
      "execution_count": null,
      "outputs": []
    },
    {
      "cell_type": "markdown",
      "metadata": {
        "id": "p8czRHXX-xNp"
      },
      "source": [
        "### Crear una lista\n",
        "---\n",
        "Para crear una lista se deben poner los objetos dentro de unos corchetes []\n",
        "\n",
        "**Tip de estilo: intenten dar a listas nombres plurales para distinguirlos de una unidad de esa misma lista**"
      ]
    },
    {
      "cell_type": "code",
      "metadata": {
        "id": "TCd-8QiL-xNq"
      },
      "source": [
        "dogs = ['border collie', \n",
        "        'australian cattle dog', \n",
        "        'labrador retriever']"
      ],
      "execution_count": null,
      "outputs": []
    },
    {
      "cell_type": "markdown",
      "metadata": {
        "id": "qSuAIKs--xNw"
      },
      "source": [
        "### Obtener un valor dentro una lista\n",
        "\n",
        "Los objetos en una lista se identifican por su posicion en la lista, **empezando con cero**. Para acceder al primer objeto solo pon 0 entre corchetes. El número entre paréntesis, se le conoce como el **índice** del objeto\n",
        "\n",
        "A **Python** se le conoce como un lenguaje [*zero-indexed*](http://en.wikipedia.org/wiki/Zero-based_numbering) \n",
        "(igual que `C`o `Java`)\n"
      ]
    },
    {
      "cell_type": "code",
      "metadata": {
        "id": "gxxwMqpE-xNy"
      },
      "source": [
        "dogs = ['border collie', \n",
        "        'australian cattle dog', \n",
        "        'labrador retriever']\n",
        "\n",
        "dog = dogs[0]\n",
        "print(dog)"
      ],
      "execution_count": null,
      "outputs": []
    },
    {
      "cell_type": "markdown",
      "metadata": {
        "id": "PF9Xshv4-xN2"
      },
      "source": [
        "Para obtener el segundo objeto, pon el número 1"
      ]
    },
    {
      "cell_type": "code",
      "metadata": {
        "id": "Cw3Bw_j7-xN3"
      },
      "source": [
        "dog = dogs[1]\n",
        "print(dog.title())"
      ],
      "execution_count": null,
      "outputs": []
    },
    {
      "cell_type": "markdown",
      "metadata": {
        "id": "WiCOkUJd-xN8"
      },
      "source": [
        "Si quieren acceder al último valor, pon un -1"
      ]
    },
    {
      "cell_type": "code",
      "metadata": {
        "id": "AKLWAx9s-xN9"
      },
      "source": [
        "dog = dogs[-1]\n",
        "print(dog.title())"
      ],
      "execution_count": null,
      "outputs": []
    },
    {
      "cell_type": "markdown",
      "metadata": {
        "id": "fcV7IbAb-xOA"
      },
      "source": [
        "El penultimo es -2 y así sucesivamente"
      ]
    },
    {
      "cell_type": "code",
      "metadata": {
        "id": "Rv5ZPpdQ-xOA"
      },
      "source": [
        "dog = dogs[-2]\n",
        "print(dog.title())"
      ],
      "execution_count": null,
      "outputs": []
    },
    {
      "cell_type": "markdown",
      "metadata": {
        "id": "WOgTPeQd-xOF"
      },
      "source": [
        "Pero no puedes ir por encima del índice de la lista"
      ]
    },
    {
      "cell_type": "code",
      "metadata": {
        "id": "gZs2aSXT-xOG"
      },
      "source": [
        "dog = dogs[-4]\n",
        "print(dog.title())"
      ],
      "execution_count": null,
      "outputs": []
    },
    {
      "cell_type": "markdown",
      "metadata": {
        "id": "USMDU1KE-xOJ"
      },
      "source": [
        "Si quieres acceder a un rango de valores"
      ]
    },
    {
      "cell_type": "code",
      "metadata": {
        "id": "6atGOCOn-xOJ",
        "outputId": "0e4dab97-c66b-4c87-fbc9-5fc843e62086"
      },
      "source": [
        "dogs[0:2]"
      ],
      "execution_count": null,
      "outputs": [
        {
          "output_type": "execute_result",
          "data": {
            "text/plain": [
              "['australian cattle dog', 'labrador retriever']"
            ]
          },
          "metadata": {
            "tags": []
          },
          "execution_count": 25
        }
      ]
    },
    {
      "cell_type": "markdown",
      "metadata": {
        "id": "Pc8BMHDx-xOO"
      },
      "source": [
        "## Ejercicios\n",
        "#### Primera lista\n",
        "- Guarda los strings 'python', 'c', and 'java' en una lista. Imprime cada uno de estos valores usando su índice\n",
        "\n",
        "#### Tu primera lista\n",
        "- Piensa en algo que quieras guardar en una lista, escribe un mensaje que incluya cada objeto de la lista. Por ejemplo, \"Un objeto de la lista es ____.\""
      ]
    },
    {
      "cell_type": "code",
      "metadata": {
        "id": "YuQVVFVT-xOO"
      },
      "source": [
        "# Ex 1 : Primera lista\n",
        "\n",
        "# pon tu código aquí"
      ],
      "execution_count": null,
      "outputs": []
    },
    {
      "cell_type": "code",
      "metadata": {
        "id": "xkwIf4wT-xOR"
      },
      "source": [
        "# Ex 2 : Tu primera lista\n",
        "\n",
        "# pon tu código aquí"
      ],
      "execution_count": null,
      "outputs": []
    },
    {
      "cell_type": "markdown",
      "metadata": {
        "id": "Ygd7bURv-xOX"
      },
      "source": [
        "## Listas y loops"
      ]
    },
    {
      "cell_type": "markdown",
      "metadata": {
        "id": "MVMinPSp-xOX"
      },
      "source": [
        "Las listas y los loops van de la mano todo el tiempo, te pueden ayudar a hacer procesos más eficientes"
      ]
    },
    {
      "cell_type": "markdown",
      "metadata": {
        "id": "9QlfHl3c-xOY"
      },
      "source": [
        "¿Qué creen que está pasando aquí?"
      ]
    },
    {
      "cell_type": "code",
      "metadata": {
        "id": "tsrst2YU-xOY"
      },
      "source": [
        "dogs = ['border collie', 'australian cattle dog', 'labrador retriever']\n",
        "\n",
        "for dog in dogs:\n",
        "    print(dog)"
      ],
      "execution_count": null,
      "outputs": []
    },
    {
      "cell_type": "markdown",
      "metadata": {
        "id": "hH_brn3N-xOd"
      },
      "source": [
        "\n",
        "\n",
        "    for dog in dogs:\n",
        "\n",
        "- \"For\" nos dice que va a ser un loop \n",
        "-  La variable dog es un variable temporal que cambia de valor cada vez que el loop se invoca de nuevo\n",
        "-  El primer valor es 'border collie', y sucesivamente\n",
        "-  Cuando no hay más valores, el loop acaba"
      ]
    },
    {
      "cell_type": "code",
      "metadata": {
        "id": "_tZL2fNs-xOe",
        "outputId": "79d33758-215a-4e6f-92ee-3f6c3d176d2a"
      },
      "source": [
        "dogs = ['border collie', 'australian cattle dog', 'labrador retriever']\n",
        "\n",
        "for dog in dogs:\n",
        "    print(dog)"
      ],
      "execution_count": null,
      "outputs": [
        {
          "output_type": "stream",
          "text": [
            "border collie\n",
            "australian cattle dog\n",
            "labrador retriever\n"
          ],
          "name": "stdout"
        }
      ]
    },
    {
      "cell_type": "markdown",
      "metadata": {
        "id": "aKDZoXDH-xOi"
      },
      "source": [
        "### Dentro y fuera del loop\n",
        "\n",
        "Python utiliza espacios para decidir que va dentro y fuera de un loop. El código dentro del loop se corre dentro del loop, lo que está afuera se corre afuera del loop"
      ]
    },
    {
      "cell_type": "code",
      "metadata": {
        "id": "xaRNdzhR-xOi"
      },
      "source": [
        "dogs = ['border collie', 'australian cattle dog', 'labrador retriever']\n",
        "\n",
        "for dog in dogs:\n",
        "    print('I like ' + dog + 's.')\n",
        "    print('No, I really really like ' + dog +'s!\\n')\n",
        "    \n",
        "print(\"\\nThat's just how I feel about dogs.\")"
      ],
      "execution_count": null,
      "outputs": []
    },
    {
      "cell_type": "markdown",
      "metadata": {
        "id": "pt6wSxcc-xOm"
      },
      "source": [
        "Notice that the last line only runs once, after the loop is completed. Also notice the use of newlines (\"\\n\") to make the output easier to read."
      ]
    },
    {
      "cell_type": "markdown",
      "metadata": {
        "id": "jvB4hifA-xOn"
      },
      "source": [
        "<a name='enumerating_list'></a>Enumerando una lista\n",
        "---\n",
        "Hay veces que durante un loop te interesa saber cuál es el índice y valor de una lista. Para lograr esto se puede hacer lo siguiente. "
      ]
    },
    {
      "cell_type": "code",
      "metadata": {
        "id": "4Y-gmSep-xOo"
      },
      "source": [
        "dogs = ['border collie', 'australian cattle dog', 'labrador retriever']\n",
        "\n",
        "print(\"Results for the dog show are as follows:\\n\")\n",
        "for index, dog in enumerate(dogs):\n",
        "    place = str(index)\n",
        "    print(\"Place: \" + place + \" Dog: \" + dog.title())"
      ],
      "execution_count": null,
      "outputs": []
    },
    {
      "cell_type": "markdown",
      "metadata": {
        "id": "K-NZj3C--xOq"
      },
      "source": [
        "¿Cómo el índice empieza en 0, en este caso se debe agregar un 1"
      ]
    },
    {
      "cell_type": "code",
      "metadata": {
        "id": "aarIhk7u-xOr"
      },
      "source": [
        "dogs = ['border collie', 'australian cattle dog', 'labrador retriever']\n",
        "\n",
        "print(\"Results for the dog show are as follows:\\n\")\n",
        "for index, dog in enumerate(dogs):\n",
        "    place = str(index + 1)\n",
        "    print(\"Place: \" + place + \" Dog: \" + dog.title())"
      ],
      "execution_count": null,
      "outputs": []
    },
    {
      "cell_type": "markdown",
      "metadata": {
        "id": "_wCkprF5-xOu"
      },
      "source": [
        "### Errores comunes en loops\n",
        "Un error comun es utilizar el nombre de la lista en lugar del objeto dentro de la lista"
      ]
    },
    {
      "cell_type": "code",
      "metadata": {
        "id": "DmoWudAm-xOv"
      },
      "source": [
        "dogs = ['border collie', 'australian cattle dog', 'labrador retriever']\n",
        "\n",
        "for dog in dogs:\n",
        "    print(dogs)"
      ],
      "execution_count": null,
      "outputs": []
    },
    {
      "cell_type": "markdown",
      "metadata": {
        "id": "DkGbPd85-xOx"
      },
      "source": [
        "<a name='exercises_list_loop'></a>Ejercicios\n",
        "---\n",
        "#### Tu primer loop\n",
        "Usa tu primera lista para hacer un loop e imprimir el nombre de cada objeto"
      ]
    },
    {
      "cell_type": "code",
      "metadata": {
        "id": "xu78vLaI-xOx"
      },
      "source": [
        "# Ex 3 : Tu primer loop \n",
        "# pon código aquí"
      ],
      "execution_count": null,
      "outputs": []
    },
    {
      "cell_type": "markdown",
      "metadata": {
        "id": "_pJqmJ-r-xOz"
      },
      "source": [
        "<a name='common_operations'></a>Operaciones cómunes en listas\n",
        "==="
      ]
    },
    {
      "cell_type": "markdown",
      "metadata": {
        "id": "eOkrWC7j-xO0"
      },
      "source": [
        "<a name='modifying_elements'></a>Modificar los valores de una lista\n"
      ]
    },
    {
      "cell_type": "code",
      "metadata": {
        "id": "F6Ge4r3l-xO0"
      },
      "source": [
        "dogs = ['border collie', 'australian cattle dog', 'labrador retriever']\n",
        "\n",
        "dogs[0] = 'australian shepherd'\n",
        "print(dogs)"
      ],
      "execution_count": null,
      "outputs": []
    },
    {
      "cell_type": "markdown",
      "metadata": {
        "id": "vuO2FYuW-xO3"
      },
      "source": [
        "<a name='finding_elements'></a>Encontrar los elementos de una lista"
      ]
    },
    {
      "cell_type": "code",
      "metadata": {
        "id": "X8Qvxfxu-xO4"
      },
      "source": [
        "dogs = ['border collie', 'australian cattle dog', 'labrador retriever']\n",
        "\n",
        "print(dogs.index('australian cattle dog'))"
      ],
      "execution_count": null,
      "outputs": []
    },
    {
      "cell_type": "markdown",
      "metadata": {
        "id": "xMoVFv0m-xO6"
      },
      "source": [
        "Si el nombre no existe, arrojará un error"
      ]
    },
    {
      "cell_type": "code",
      "metadata": {
        "id": "SLhBrGo4-xO7"
      },
      "source": [
        "dogs = ['border collie', 'australian cattle dog', 'labrador retriever']\n",
        "\n",
        "print(dogs.index('poodle'))"
      ],
      "execution_count": null,
      "outputs": []
    },
    {
      "cell_type": "markdown",
      "metadata": {
        "id": "SJzsJlo2-xO8"
      },
      "source": [
        "<a name='testing_elements'></a>Probar si un objeto se encuentra dentro de una lista"
      ]
    },
    {
      "cell_type": "code",
      "metadata": {
        "id": "NT-erwdF-xO-"
      },
      "source": [
        "dogs = ['border collie', 'australian cattle dog', 'labrador retriever']\n",
        "\n",
        "print('australian cattle dog' in dogs)\n",
        "print('poodle' in dogs)"
      ],
      "execution_count": null,
      "outputs": []
    },
    {
      "cell_type": "markdown",
      "metadata": {
        "id": "nddmutxZ-xPB"
      },
      "source": [
        "Agregar valores a una lista"
      ]
    },
    {
      "cell_type": "code",
      "metadata": {
        "id": "0WWuWndq-xPB"
      },
      "source": [
        "dogs = ['border collie', 'australian cattle dog', 'labrador retriever']\n",
        "dogs.append('poodle')\n",
        "\n",
        "for dog in dogs:\n",
        "    print(dog.title() + \"s are cool.\")"
      ],
      "execution_count": null,
      "outputs": []
    },
    {
      "cell_type": "markdown",
      "metadata": {
        "id": "p5YOHM0s-xPE"
      },
      "source": [
        "Quitar valores con índice"
      ]
    },
    {
      "cell_type": "code",
      "metadata": {
        "id": "-ctN4g6Y-xPE",
        "outputId": "7eda2565-3cb4-42de-d858-bd9f26cf8464"
      },
      "source": [
        "dogs = ['border collie', 'australian cattle dog', 'labrador retriever']\n",
        "# Remove the first dog from the list.\n",
        "del dogs[0]\n",
        "\n",
        "print(dogs)"
      ],
      "execution_count": null,
      "outputs": [
        {
          "output_type": "stream",
          "text": [
            "['australian cattle dog', 'labrador retriever']\n"
          ],
          "name": "stdout"
        }
      ]
    },
    {
      "cell_type": "markdown",
      "metadata": {
        "id": "Re0PUPXr-xPG"
      },
      "source": [
        "Quitar valores con valor"
      ]
    },
    {
      "cell_type": "code",
      "metadata": {
        "id": "jj-rr7RA-xPH"
      },
      "source": [
        "dogs = ['border collie', 'australian cattle dog', 'labrador retriever']\n",
        "# Remove australian cattle dog from the list.\n",
        "dogs.remove('australian cattle dog')\n",
        "\n",
        "print(dogs)"
      ],
      "execution_count": null,
      "outputs": []
    },
    {
      "cell_type": "markdown",
      "metadata": {
        "id": "svxe4CDq-xPJ"
      },
      "source": [
        "Sólo se quitar el primer valor "
      ]
    },
    {
      "cell_type": "code",
      "metadata": {
        "id": "nr0xOfhX-xPK",
        "outputId": "c956ed2d-cda9-4440-e5f9-18da3fbf1f78"
      },
      "source": [
        "letters = ['a', 'b', 'c', 'a', 'b', 'c']\n",
        "# Remove the letter a from the list.\n",
        "letters.remove('a')\n",
        "\n",
        "print(letters)"
      ],
      "execution_count": null,
      "outputs": [
        {
          "output_type": "stream",
          "text": [
            "['b', 'c', 'a', 'b', 'c']\n"
          ],
          "name": "stdout"
        }
      ]
    },
    {
      "cell_type": "markdown",
      "metadata": {
        "id": "0908Vm6n-xPf"
      },
      "source": [
        "<a name='length'></a>Encontrar el tamaño de una lista\n",
        "---\n",
        "You can find the length of a list using the *len()* function."
      ]
    },
    {
      "cell_type": "code",
      "metadata": {
        "id": "yXDbHSvm-xPg"
      },
      "source": [
        "usernames = ['bruno', 'alberto', 'corina']\n",
        "user_count = len(usernames)\n",
        "\n",
        "print(user_count)"
      ],
      "execution_count": null,
      "outputs": []
    },
    {
      "cell_type": "markdown",
      "metadata": {
        "id": "6L27yTQ4-xPl"
      },
      "source": [
        "Un ejemplo de cuando quisieras saber el tamaño"
      ]
    },
    {
      "cell_type": "code",
      "metadata": {
        "id": "5OQ7EfaI-xPm",
        "outputId": "25a615df-bc92-438b-ee1f-da46b99a07e8"
      },
      "source": [
        "# Crear una lista vacia\n",
        "usernames = []\n",
        "\n",
        "# Agrega valores\n",
        "usernames.append('bruno')\n",
        "user_count = len(usernames)\n",
        "\n",
        "print(\"Tenemos\" + str(user_count) + \" usuarios!\")\n",
        "\n",
        "usernames.append('alberto')\n",
        "usernames.append('corina')\n",
        "user_count = len(usernames)\n",
        "\n",
        "print(\"Tenemos\" + str(user_count) + \" usuarios!\")"
      ],
      "execution_count": null,
      "outputs": [
        {
          "output_type": "stream",
          "text": [
            "Tenemos1 usuarios!\n",
            "Tenemos3 usuarios!\n"
          ],
          "name": "stdout"
        }
      ]
    },
    {
      "cell_type": "markdown",
      "metadata": {
        "id": "LoTwXgEH-xPu"
      },
      "source": [
        "<a name='range_function'></a>La función *range()* \n",
        "---\n",
        "Un modo de crear rapidamente una lista es usando la función range"
      ]
    },
    {
      "cell_type": "code",
      "metadata": {
        "id": "E_Xo6TFU-xPv",
        "outputId": "433b3aa2-78bb-456b-c3ce-390a58115ee5"
      },
      "source": [
        "# Imprime los primeros 10 números\n",
        "for number in range(1,11):\n",
        "    print(number)"
      ],
      "execution_count": null,
      "outputs": [
        {
          "output_type": "stream",
          "text": [
            "1\n",
            "2\n",
            "3\n",
            "4\n",
            "5\n",
            "6\n",
            "7\n",
            "8\n",
            "9\n",
            "10\n"
          ],
          "name": "stdout"
        }
      ]
    },
    {
      "cell_type": "markdown",
      "metadata": {
        "id": "zOe4h5YD-xPz"
      },
      "source": [
        "La funcion toma como primer valor el inicial, como segundo valor n - 1 y como tercel valor el intervalo"
      ]
    },
    {
      "cell_type": "code",
      "metadata": {
        "id": "nrSCZ2Sj-xP0"
      },
      "source": [
        "# Print the first ten odd numbers.\n",
        "for number in range(1,21,2):\n",
        "    print(number)"
      ],
      "execution_count": null,
      "outputs": []
    },
    {
      "cell_type": "markdown",
      "metadata": {
        "id": "vA7mUcgj-xP3"
      },
      "source": [
        "Esto nos permite crear rapidamente una lista de millones de números"
      ]
    },
    {
      "cell_type": "code",
      "metadata": {
        "id": "pC_ZirtV-xP4",
        "outputId": "aa12a57f-b59c-4d8e-b858-aa4fe3adda74"
      },
      "source": [
        "#Guarda los primeros números de una lista\n",
        "numbers = list(range(1,1000001))\n",
        "\n",
        "# -muestra cuánto mide\n",
        "print(\"The list 'numbers' has \" + str(len(numbers)) + \" numbers in it.\")\n",
        "\n",
        "#  muestra los último diez números\n",
        "print(\"\\nThe last ten numbers in the list are:\")\n",
        "for number in numbers[-10:]:\n",
        "    print(number)"
      ],
      "execution_count": null,
      "outputs": [
        {
          "output_type": "stream",
          "text": [
            "The list 'numbers' has 1000000 numbers in it.\n",
            "\n",
            "The last ten numbers in the list are:\n",
            "999991\n",
            "999992\n",
            "999993\n",
            "999994\n",
            "999995\n",
            "999996\n",
            "999997\n",
            "999998\n",
            "999999\n",
            "1000000\n"
          ],
          "name": "stdout"
        }
      ]
    },
    {
      "cell_type": "markdown",
      "metadata": {
        "id": "OsEjdLQeCax6"
      },
      "source": [
        "## EJERCICIO HACKER RANK\r\n",
        "\r\n",
        "Resolvamos este ejercicio\r\n",
        "\r\n",
        "https://www.hackerrank.com/challenges/swap-case/problem"
      ]
    },
    {
      "cell_type": "code",
      "metadata": {
        "id": "K6_dG3e1CbyW"
      },
      "source": [
        "valor = \"CarLos\""
      ],
      "execution_count": null,
      "outputs": []
    },
    {
      "cell_type": "markdown",
      "metadata": {
        "id": "FuZc2lChDeVJ"
      },
      "source": [
        "¿Cuál será la lógica?"
      ]
    },
    {
      "cell_type": "code",
      "metadata": {
        "id": "RX2bR46fDIew"
      },
      "source": [
        "valor_nuevo = \"\"\r\n",
        "if valor[0] == valor[0].upper():\r\n",
        "    valor_nuevo = valor_nuevo + valor[0].lower()\r\n",
        "elif valor[0] == valor[0].lower():\r\n",
        "    valor_nuevo = valor_nuevo + valor[0].upper()\r\n",
        "    \r\n",
        "if valor[1] == valor[1].upper():\r\n",
        "    valor_nuevo = valor_nuevo + valor[1].lower()\r\n",
        "elif valor[1] == valor[1].lower():\r\n",
        "    valor_nuevo = valor_nuevo + valor[1].upper()\r\n",
        "    \r\n",
        "if valor[2] == valor[2].upper():\r\n",
        "    valor_nuevo = valor_nuevo + valor[2].lower()\r\n",
        "elif valor[2] == valor[2].lower():\r\n",
        "    valor_nuevo = valor_nuevo + valor[2].upper()\r\n",
        "    \r\n",
        "if valor[3] == valor[3].upper():\r\n",
        "    valor_nuevo = valor_nuevo + valor[3].lower()\r\n",
        "elif valor[3] == valor[3].lower():\r\n",
        "    valor_nuevo = valor_nuevo + valor[3].upper()\r\n",
        "    \r\n",
        "if valor[4] == valor[4].upper():\r\n",
        "    valor_nuevo = valor_nuevo + valor[4].lower()\r\n",
        "elif valor[4] == valor[4].lower():\r\n",
        "    valor_nuevo = valor_nuevo + valor[4].upper()\r\n",
        "\r\n",
        "if valor[5] == valor[5].upper():\r\n",
        "    valor_nuevo = valor_nuevo + valor[3].lower()\r\n",
        "elif valor[5] == valor[5].lower():\r\n",
        "    valor_nuevo = valor_nuevo + valor[5].upper()"
      ],
      "execution_count": null,
      "outputs": []
    },
    {
      "cell_type": "code",
      "metadata": {
        "id": "KOxyrLKcDKvl"
      },
      "source": [
        "valor, valor_nuevo"
      ],
      "execution_count": null,
      "outputs": []
    },
    {
      "cell_type": "markdown",
      "metadata": {
        "id": "XtZgpGGYDdTW"
      },
      "source": [
        "¿Qué pasa cuándo la variable *valor_nuevo* está dentro del loop?"
      ]
    },
    {
      "cell_type": "code",
      "metadata": {
        "id": "06THg5DDDZjD"
      },
      "source": [
        "for i in range(len(valor)):\r\n",
        "    valor_nuevo = \"\"\r\n",
        "    if valor[i] == valor[i].upper():\r\n",
        "        valor_nuevo = valor_nuevo + valor[i].lower()\r\n",
        "    elif valor[i] == valor[i].lower():\r\n",
        "        valor_nuevo = valor_nuevo + valor[i].upper()"
      ],
      "execution_count": null,
      "outputs": []
    },
    {
      "cell_type": "markdown",
      "metadata": {
        "id": "xM28jWsqDi7p"
      },
      "source": [
        "Ahora sacamos la variable"
      ]
    },
    {
      "cell_type": "code",
      "metadata": {
        "id": "LDORHPtKDaP5"
      },
      "source": [
        "valor_nuevo = \"\"\r\n",
        "for i in range(len(valor)):\r\n",
        "    if valor[i] == valor[i].upper():\r\n",
        "        valor_nuevo = valor_nuevo + valor[i].lower()\r\n",
        "    elif valor[i] == valor[i].lower():\r\n",
        "        valor_nuevo = valor_nuevo + valor[i].upper()"
      ],
      "execution_count": null,
      "outputs": []
    },
    {
      "cell_type": "markdown",
      "metadata": {
        "id": "zTt2SE64Dnoc"
      },
      "source": [
        "¿Cómo lo harias sin usar la funcion *range* ni *len* string?"
      ]
    },
    {
      "cell_type": "code",
      "metadata": {
        "id": "Ef7b1ZzJDoc9"
      },
      "source": [
        ""
      ],
      "execution_count": null,
      "outputs": []
    },
    {
      "cell_type": "markdown",
      "metadata": {
        "id": "oCUQxp4RDq2g"
      },
      "source": [
        "¿Cómo lo harias reduciendo el codigo?"
      ]
    },
    {
      "cell_type": "code",
      "metadata": {
        "id": "vanHKNggDrYJ"
      },
      "source": [
        ""
      ],
      "execution_count": null,
      "outputs": []
    },
    {
      "cell_type": "markdown",
      "metadata": {
        "id": "qj9EO3JwDrnV"
      },
      "source": [
        "Ahora, crea una funcion"
      ]
    },
    {
      "cell_type": "code",
      "metadata": {
        "id": "_lMg2OHzDtr6"
      },
      "source": [
        ""
      ],
      "execution_count": null,
      "outputs": []
    },
    {
      "cell_type": "markdown",
      "metadata": {
        "id": "C6W6w9Op-xPN"
      },
      "source": [
        "<a name='empty_list'></a>Crear una lista vacia\n",
        "---\n",
        "No siempre es necesario definir una lista de antemano. A veces necesitas definir una lista en blanco y agregar valores conforme se van necesitando. \n"
      ]
    },
    {
      "cell_type": "code",
      "metadata": {
        "id": "zQD8S8T--xPN"
      },
      "source": [
        "# Create an empty list to hold our users.\n",
        "usernames = []\n",
        "\n",
        "# Add some users.\n",
        "usernames.append('hector')\n",
        "usernames.append('isabel')\n",
        "usernames.append('magda')\n",
        "\n",
        "# Greet all of our users.\n",
        "for username in usernames:\n",
        "    print(\"Bienvenidos, \" + username.title() + '!')"
      ],
      "execution_count": null,
      "outputs": []
    },
    {
      "cell_type": "markdown",
      "metadata": {
        "id": "1W4n-QA6-xPR"
      },
      "source": [
        "### Función de python para ordenar"
      ]
    },
    {
      "cell_type": "code",
      "metadata": {
        "id": "Nr5r8nzD-xPS"
      },
      "source": [
        "students = ['bruno', 'alberto', 'corina']\n",
        "\n",
        "# Ordénalo alfabeticamente\n",
        "students.sort()\n",
        "\n",
        "# Muestra el orden actual\n",
        "print(\"Our students are currently in alphabetical order.\")\n",
        "for student in students:\n",
        "    print(student.title())\n",
        "\n",
        "#Put students in reverse alphabetical order.\n",
        "students.sort(reverse=True)\n",
        "\n",
        "# Display the list in its current order.\n",
        "print(\"\\nOur students are now in reverse alphabetical order.\")\n",
        "for student in students:\n",
        "    print(student.title())"
      ],
      "execution_count": null,
      "outputs": []
    },
    {
      "cell_type": "markdown",
      "metadata": {
        "id": "9adxON4X-xPW"
      },
      "source": [
        "### *sorted()* vs. *sort()*\n",
        "Mientras sort() cambiará permantemente el valor de la lista, sorted() no lo hará"
      ]
    },
    {
      "cell_type": "code",
      "metadata": {
        "id": "SK8fxKu7-xPX"
      },
      "source": [
        "students = ['bruno', 'alberto', 'corina']\n",
        "\n",
        "# Ordénalo alfabeticamente, pero manten la lista original\n",
        "print(\"Here is the list in alphabetical order:\")\n",
        "for student in sorted(students):\n",
        "    print(student.title())\n",
        "\n",
        "# Reversa la lista,\n",
        "print(\"\\nHere is the list in reverse alphabetical order:\")\n",
        "for student in sorted(students, reverse=True):\n",
        "    print(student.title())\n",
        "\n",
        "print(\"\\nHere is the list in its original order:\")\n",
        "# La lista no se ha alterado\n",
        "for student in students:\n",
        "    print(student.title())"
      ],
      "execution_count": null,
      "outputs": []
    },
    {
      "cell_type": "markdown",
      "metadata": {
        "id": "qJfHo0eV-xPa"
      },
      "source": [
        "### Diferencia entre () y []\n",
        "\n",
        "Los parentesís sirven para invocar una función o metodo, los corchetes para crear una lista o indexear"
      ]
    },
    {
      "cell_type": "markdown",
      "metadata": {
        "id": "FMnsr_9b-xPb"
      },
      "source": [
        "### Reversar permanentemente una lista"
      ]
    },
    {
      "cell_type": "code",
      "metadata": {
        "id": "GbCznE9d-xPc"
      },
      "source": [
        "students = ['bruno', 'alberto', 'corina']\n",
        "students.reverse()\n",
        "\n",
        "print(students)"
      ],
      "execution_count": null,
      "outputs": []
    },
    {
      "cell_type": "markdown",
      "metadata": {
        "id": "OsPDYPbj-xPe"
      },
      "source": [
        "Note that reverse is permanent, although you could follow up with another call to *reverse()* and get back the original order of the list."
      ]
    },
    {
      "cell_type": "markdown",
      "metadata": {
        "id": "b7llpKpLCL6P"
      },
      "source": [
        ""
      ]
    },
    {
      "cell_type": "code",
      "metadata": {
        "id": "No9GiivWCPrQ"
      },
      "source": [
        ""
      ],
      "execution_count": null,
      "outputs": []
    },
    {
      "cell_type": "markdown",
      "metadata": {
        "id": "lbWs4ryV-xPp"
      },
      "source": [
        "Ejercicio\n",
        "---\n",
        "#### Números sorteados\n",
        "- Haz una lista de 5 números aleatorios\n",
        "- Vas a imprimir la lista con diferentes modos\n",
        "- Cada vez que imprimes una lista, haz un for loop\n",
        "    - Imprime los números en el orden original\n",
        "    - Imprime los números en orden ascendente\n",
        "    - Imprime los números en orden original\n",
        "    - Imprime los números en orden descendente.\n",
        "    - Imprime los números en orden original\n",
        "    - Imprime los números en el orden reverso\n",
        "    - Imprime los números en orden original\n",
        "    - Imprime permamentemente los números en orden ascendente e imprimelos\n",
        "\n",
        "#### Similitudes\n",
        "- Escribir un programa que tome dos listas y devuelva `True` si tienen elementos comunes."
      ]
    },
    {
      "cell_type": "code",
      "metadata": {
        "id": "XJ6o2_MS-xPp"
      },
      "source": [
        "# Ex 4: Numeros sorteados\n",
        "\n",
        "# pon el código "
      ],
      "execution_count": null,
      "outputs": []
    },
    {
      "cell_type": "code",
      "metadata": {
        "id": "2Sp0aZxR-xPr"
      },
      "source": [
        "# Ex 5: Similitudes\n",
        "\n",
        "# pon el código "
      ],
      "execution_count": null,
      "outputs": []
    },
    {
      "cell_type": "markdown",
      "metadata": {
        "id": "sSx0T-HO-xP7"
      },
      "source": [
        "<a name='min_max_sum'></a>Funciones min(), max() y sum()\n",
        "---\n"
      ]
    },
    {
      "cell_type": "code",
      "metadata": {
        "id": "qDBY6r_V-xP8",
        "outputId": "46b70b16-9757-488d-b282-f88cf10d9917"
      },
      "source": [
        "ages = [23, 16, 14, 28, 19, 11, 38]\n",
        "\n",
        "youngest = min(ages)\n",
        "oldest = max(ages)\n",
        "total_years = sum(ages)\n",
        "\n",
        "print(\"Nuestro lector más joven tiene \" + str(youngest) + \" años de edad.\")\n",
        "print(\"Nuestro lector más viejo tiene \" + str(oldest) + \" años de edad.\")\n",
        "print(\"Juntos hay \" + str(total_years) + \n",
        "      \" años de experiencia.\")"
      ],
      "execution_count": null,
      "outputs": [
        {
          "output_type": "stream",
          "text": [
            "Nuestro lector más joven tiene 11 años de edad.\n",
            "Nuestro lector más viejo tiene 38 años de edad.\n",
            "Juntos hay 149 años de experiencia.\n"
          ],
          "name": "stdout"
        }
      ]
    },
    {
      "cell_type": "code",
      "metadata": {
        "id": "TsMMMV6H-xP_"
      },
      "source": [
        ""
      ],
      "execution_count": null,
      "outputs": []
    }
  ]
}